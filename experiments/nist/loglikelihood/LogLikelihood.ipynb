{
 "cells": [
  {
   "cell_type": "code",
   "execution_count": 1,
   "metadata": {},
   "outputs": [
    {
     "name": "stderr",
     "output_type": "stream",
     "text": [
      "/home/df630/.conda/envs/conditional_rate_matching/lib/python3.10/site-packages/tqdm-4.66.1-py3.10.egg/tqdm/auto.py:21: TqdmWarning: IProgress not found. Please update jupyter and ipywidgets. See https://ipywidgets.readthedocs.io/en/stable/user_install.html\n",
      "  from .autonotebook import tqdm as notebook_tqdm\n"
     ]
    }
   ],
   "source": [
    "import os\n",
    "import torch\n",
    "from conditional_rate_matching.models.generative_models.crm import CRM\n",
    "from conditional_rate_matching.models.metrics.crm_loglikelihood import get_log_likelihood\n"
   ]
  },
  {
   "cell_type": "code",
   "execution_count": 2,
   "metadata": {},
   "outputs": [
    {
     "data": {
      "text/plain": [
       "PosixPath('/home/df630/conditional_rate_matching/results')"
      ]
     },
     "execution_count": 2,
     "metadata": {},
     "output_type": "execute_result"
    }
   ],
   "source": [
    "from conditional_rate_matching import results_path\n",
    "results_path"
   ]
  },
  {
   "cell_type": "code",
   "execution_count": 3,
   "metadata": {},
   "outputs": [],
   "source": [
    "from conditional_rate_matching import results_path\n",
    "\n",
    "device = \"cuda:3\"\n",
    "\n",
    "fwd_dir = os.path.join(results_path, \"crm\", \"images\", \"noise_to_mnist_unet_att_hiddim_145_Swish_PolynomialThermostat_gamma_1.0_max_1.0\", \"run\")\n",
    "bck_dir = os.path.join(results_path, \"crm\", \"images\", \"fashion_to_mnist_unet_att_hiddim_145_Swish_PolynomialThermostat_gamma_1.0_max_1.0\", \"run\")\n",
    "\n",
    "crm_fwd = CRM(experiment_dir=fwd_dir, device=device)\n",
    "crm_bck = CRM(experiment_dir=bck_dir, device=device)"
   ]
  },
  {
   "cell_type": "code",
   "execution_count": 4,
   "metadata": {},
   "outputs": [
    {
     "name": "stderr",
     "output_type": "stream",
     "text": [
      "100it [00:16,  6.08it/s]\n",
      "100it [00:16,  5.95it/s]\n",
      "100it [00:16,  5.96it/s]\n",
      "100it [00:16,  5.97it/s]\n",
      "100it [00:16,  5.92it/s]\n",
      "100it [00:16,  5.93it/s]\n",
      "100it [00:16,  5.95it/s]\n",
      "100it [00:16,  5.91it/s]\n",
      "100it [00:16,  5.92it/s]\n",
      "100it [00:16,  5.92it/s]\n",
      "100it [00:16,  5.91it/s]\n",
      "100it [00:16,  5.91it/s]\n",
      "100it [00:16,  5.89it/s]\n",
      "100it [00:17,  5.87it/s]\n",
      "100it [00:16,  5.90it/s]\n",
      "100it [00:17,  5.86it/s]\n",
      "100it [00:17,  5.86it/s]\n",
      "100it [00:17,  5.85it/s]\n",
      "100it [00:17,  5.83it/s]\n",
      "100it [00:17,  5.86it/s]\n",
      "100it [00:17,  5.84it/s]\n",
      "100it [00:17,  5.83it/s]\n",
      "100it [00:17,  5.85it/s]\n",
      "100it [00:17,  5.82it/s]\n",
      "100it [00:17,  5.84it/s]\n",
      "100it [00:17,  5.83it/s]\n",
      "100it [00:17,  5.82it/s]\n",
      "100it [00:17,  5.82it/s]\n",
      "100it [00:17,  5.84it/s]\n",
      "100it [00:17,  5.85it/s]\n",
      "100it [00:17,  5.82it/s]\n",
      "100it [00:17,  5.83it/s]\n",
      "100it [00:17,  5.83it/s]\n",
      "100it [00:17,  5.82it/s]\n",
      "100it [00:17,  5.81it/s]\n",
      "100it [00:17,  5.84it/s]\n",
      "100it [00:17,  5.81it/s]\n",
      "100it [00:17,  5.81it/s]\n",
      "100it [00:17,  5.81it/s]\n",
      "100it [00:01, 62.95it/s]\n"
     ]
    },
    {
     "data": {
      "text/plain": [
       "tensor(-0.8695, device='cuda:3')"
      ]
     },
     "execution_count": 4,
     "metadata": {},
     "output_type": "execute_result"
    }
   ],
   "source": [
    "crm_fwd.config.pipeline.number_of_steps = 100\n",
    "crm_bck.config.pipeline.number_of_steps = 100\n",
    "get_log_likelihood(crm_fwd, crm_bck, ignore_=0, in_batches=True, device=device)"
   ]
  },
  {
   "cell_type": "code",
   "execution_count": null,
   "metadata": {},
   "outputs": [],
   "source": []
  }
 ],
 "metadata": {
  "kernelspec": {
   "display_name": "rate_matching",
   "language": "python",
   "name": "python3"
  },
  "language_info": {
   "codemirror_mode": {
    "name": "ipython",
    "version": 3
   },
   "file_extension": ".py",
   "mimetype": "text/x-python",
   "name": "python",
   "nbconvert_exporter": "python",
   "pygments_lexer": "ipython3",
   "version": "3.10.9"
  }
 },
 "nbformat": 4,
 "nbformat_minor": 2
}

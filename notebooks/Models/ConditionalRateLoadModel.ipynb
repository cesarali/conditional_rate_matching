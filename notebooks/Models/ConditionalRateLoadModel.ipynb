{
 "cells": [
  {
   "cell_type": "code",
   "execution_count": 1,
   "id": "ed9d4512-2e97-4705-875d-7de03e415360",
   "metadata": {},
   "outputs": [],
   "source": [
    "import os\n",
    "import sys\n",
    "import torch\n",
    "from torch import nn\n",
    "\n",
    "from conditional_rate_matching.models.metrics.crm_metrics_utils import log_metrics\n",
    "from conditional_rate_matching.configs.config_crm import Config as ConditionalRateMatchingConfig\n",
    "\n",
    "from conditional_rate_matching.models.generative_models.crm import uniform_pair_x0_x1\n",
    "from conditional_rate_matching.models.generative_models.crm import conditional_probability\n",
    "from conditional_rate_matching.models.generative_models.crm import telegram_bridge_probability\n",
    "from conditional_rate_matching.data.dataloaders_utils import get_dataloaders\n",
    "from torch.utils.data import DataLoader, TensorDataset\n",
    "\n",
    "from conditional_rate_matching.models.generative_models.crm import (\n",
    "    CRM,\n",
    "    ConditionalBackwardRate,\n",
    "    ClassificationBackwardRate\n",
    ")\n",
    "\n",
    "from conditional_rate_matching.configs.config_files import create_experiment_dir"
   ]
  },
  {
   "cell_type": "code",
   "execution_count": 4,
   "id": "2f33e8fe-7057-4f64-80a5-2c44f91f892c",
   "metadata": {},
   "outputs": [
    {
     "name": "stderr",
     "output_type": "stream",
     "text": [
      "20it [00:01, 12.72it/s]\n",
      "100%|██████████████████████████████████████████████████████████████████████████████████████| 10/10 [00:00<00:00, 138.91it/s]\n"
     ]
    },
    {
     "data": {
      "image/png": "[encoded data removed]",
      "text/plain": [
       "<Figure size 1600x200 with 10 Axes>"
      ]
     },
     "metadata": {},
     "output_type": "display_data"
    },
    {
     "data": {
      "text/plain": [
       "{}"
      ]
     },
     "execution_count": 4,
     "metadata": {},
     "output_type": "execute_result"
    }
   ],
   "source": [
    "device = torch.device(\"cpu\")\n",
    "experiment_dir = create_experiment_dir(experiment_name=\"crm\",\n",
    "                                       experiment_type=\"mnist\",\n",
    "                                       experiment_indentifier=\"save_n_loads3\")\n",
    "\n",
    "crm = CRM(experiment_dir=experiment_dir,device=device)\n",
    "log_metrics(crm,\n",
    "            epoch=None,\n",
    "            metrics_to_log=[\"binary_paths_histograms\"],\n",
    "            where_to_log={\"binary_paths_histograms\":None})"
   ]
  },
  {
   "cell_type": "code",
   "execution_count": 5,
   "id": "5eba91c7-0412-474b-a94b-eaedeffbbd95",
   "metadata": {},
   "outputs": [],
   "source": [
    "batch_1, batch_0 = next(zip(crm.dataloader_1, crm.dataloader_0).__iter__())\n",
    "x_0 = batch_0[0].to(device)\n",
    "x_1 = batch_1[0].to(device)\n",
    "time = torch.rand((x_0.size(0))).to(device)"
   ]
  },
  {
   "cell_type": "code",
   "execution_count": 13,
   "id": "d202d971-2182-4ef3-8cad-33a93595ab71",
   "metadata": {},
   "outputs": [
    {
     "data": {
      "text/plain": [
       "torch.Size([128, 784])"
      ]
     },
     "execution_count": 13,
     "metadata": {},
     "output_type": "execute_result"
    }
   ],
   "source": [
    "x_0.shape"
   ]
  },
  {
   "cell_type": "code",
   "execution_count": 20,
   "id": "7a72cec5-34dd-4f0b-b834-b47568816925",
   "metadata": {},
   "outputs": [],
   "source": []
  },
  {
   "cell_type": "code",
   "execution_count": 19,
   "id": "6c45d579-2f6f-4780-b999-7ec2eef740f1",
   "metadata": {},
   "outputs": [],
   "source": []
  },
  {
   "cell_type": "code",
   "execution_count": 11,
   "id": "86c7eff5-0f68-4102-a4b2-d0636d5edcd7",
   "metadata": {},
   "outputs": [],
   "source": [
    "import torch\n",
    "import torch.nn as nn\n",
    "import torch.nn.functional as F\n",
    "\n",
    "class UNet(nn.Module):\n",
    "    def __init__(self):\n",
    "        super(UNet, self).__init__()\n",
    "        \n",
    "        # Contracting Path\n",
    "        self.enc_conv1 = nn.Conv2d(1, 64, kernel_size=3, padding=1)\n",
    "        self.enc_conv2 = nn.Conv2d(64, 128, kernel_size=3, padding=1)\n",
    "        self.pool = nn.MaxPool2d(kernel_size=2, stride=2)\n",
    "        \n",
    "        # Expanding Path\n",
    "        self.up = nn.ConvTranspose2d(128, 64, kernel_size=2, stride=2)\n",
    "        self.dec_conv1 = nn.Conv2d(128, 64, kernel_size=3, padding=1)\n",
    "        \n",
    "        # Final Layer\n",
    "        self.final = nn.Conv2d(64, 10, kernel_size=1)\n",
    "    \n",
    "    def forward(self, x):\n",
    "        # Contracting Path\n",
    "        x1 = F.relu(self.enc_conv1(x))\n",
    "        x2 = self.pool(x1)\n",
    "        x3 = F.relu(self.enc_conv2(x2))\n",
    "        \n",
    "        # Expanding Path\n",
    "        x4 = self.up(x3)\n",
    "        x5 = torch.cat([x4, x1], dim=1)  # Skip connection\n",
    "        x6 = F.relu(self.dec_conv1(x5))\n",
    "        \n",
    "        # Final Layer (classification layer)\n",
    "        out = self.final(x6)\n",
    "        \n",
    "        # If you're doing segmentation you would upsample to the original MNIST image size\n",
    "        # If you're classifying, an average pooling could be applied followed by a softmax\n",
    "        out = F.adaptive_avg_pool2d(out, (1, 1))\n",
    "        out = out.view(out.size(0), -1)  # Flatten the tensor\n",
    "        return F.log_softmax(out, dim=1)"
   ]
  },
  {
   "cell_type": "code",
   "execution_count": null,
   "id": "798be0ef-85a0-4480-9799-425856346232",
   "metadata": {},
   "outputs": [],
   "source": []
  },
  {
   "cell_type": "code",
   "execution_count": null,
   "id": "05f25ad2-e58a-40f9-8a31-d560c3616f14",
   "metadata": {},
   "outputs": [],
   "source": []
  },
  {
   "cell_type": "code",
   "execution_count": null,
   "id": "e9921e22-42f3-4e4c-87f1-89f5a3fd1abe",
   "metadata": {},
   "outputs": [],
   "source": []
  },
  {
   "cell_type": "code",
   "execution_count": null,
   "id": "f579d10b-9fbb-45e1-bd51-c79b06791d2d",
   "metadata": {},
   "outputs": [],
   "source": []
  }
 ],
 "metadata": {
  "kernelspec": {
   "display_name": "Python 3 (ipykernel)",
   "language": "python",
   "name": "python3"
  },
  "language_info": {
   "codemirror_mode": {
    "name": "ipython",
    "version": 3
   },
   "file_extension": ".py",
   "mimetype": "text/x-python",
   "name": "python",
   "nbconvert_exporter": "python",
   "pygments_lexer": "ipython3",
   "version": "3.10.9"
  }
 },
 "nbformat": 4,
 "nbformat_minor": 5
}

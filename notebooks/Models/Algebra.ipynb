{
 "cells": [
  {
   "cell_type": "code",
   "execution_count": 1,
   "id": "2e3657f0",
   "metadata": {},
   "outputs": [],
   "source": [
    "from sympy import symbols, exp, DiracDelta, expand\n",
    "\n",
    "# Define variables\n",
    "gamma, t, x_t, x_0, x_1, x = symbols('gamma t x_t x_0 x_1 x')\n",
    "\n",
    "# Define the new polynomials with Dirac delta\n",
    "poly1 = exp(-2*gamma * (1 - t)) * (DiracDelta(x_1 - x) -1/2)+ 1/2\n",
    "poly2 =   exp(-2*gamma * t) * (DiracDelta(x - x_0) -1/2)+ 1/2\n",
    "\n",
    "# Multiply and expand the polynomials\n",
    "result = expand(poly1 * poly2)"
   ]
  },
  {
   "cell_type": "code",
   "execution_count": 2,
   "id": "db7d3d99",
   "metadata": {},
   "outputs": [
    {
     "data": {
      "text/latex": [
       "$\\displaystyle \\left(\\delta\\left(- x + x_{1}\\right) - 0.5\\right) e^{- 2 \\gamma \\left(1 - t\\right)} + 0.5$"
      ],
      "text/plain": [
       "(DiracDelta(-x + x_1) - 0.5)*exp(-2*gamma*(1 - t)) + 0.5"
      ]
     },
     "execution_count": 2,
     "metadata": {},
     "output_type": "execute_result"
    }
   ],
   "source": [
    "poly1"
   ]
  },
  {
   "cell_type": "code",
   "execution_count": 3,
   "id": "a9c1a9e3",
   "metadata": {},
   "outputs": [
    {
     "data": {
      "text/latex": [
       "$\\displaystyle \\left(\\delta\\left(x - x_{0}\\right) - 0.5\\right) e^{- 2 \\gamma t} + 0.5$"
      ],
      "text/plain": [
       "(DiracDelta(x - x_0) - 0.5)*exp(-2*gamma*t) + 0.5"
      ]
     },
     "execution_count": 3,
     "metadata": {},
     "output_type": "execute_result"
    }
   ],
   "source": [
    "poly2"
   ]
  },
  {
   "cell_type": "code",
   "execution_count": 4,
   "id": "6e4afcf2",
   "metadata": {},
   "outputs": [
    {
     "data": {
      "text/latex": [
       "$\\displaystyle 0.25 + 0.5 e^{- 2 \\gamma t} \\delta\\left(x - x_{0}\\right) - 0.25 e^{- 2 \\gamma t} + 0.5 e^{- 2 \\gamma} e^{2 \\gamma t} \\delta\\left(- x + x_{1}\\right) - 0.25 e^{- 2 \\gamma} e^{2 \\gamma t} + e^{- 2 \\gamma} \\delta\\left(- x + x_{1}\\right) \\delta\\left(x - x_{0}\\right) - 0.5 e^{- 2 \\gamma} \\delta\\left(- x + x_{1}\\right) - 0.5 e^{- 2 \\gamma} \\delta\\left(x - x_{0}\\right) + 0.25 e^{- 2 \\gamma}$"
      ],
      "text/plain": [
       "0.25 + 0.5*exp(-2*gamma*t)*DiracDelta(x - x_0) - 0.25*exp(-2*gamma*t) + 0.5*exp(-2*gamma)*exp(2*gamma*t)*DiracDelta(-x + x_1) - 0.25*exp(-2*gamma)*exp(2*gamma*t) + exp(-2*gamma)*DiracDelta(-x + x_1)*DiracDelta(x - x_0) - 0.5*exp(-2*gamma)*DiracDelta(-x + x_1) - 0.5*exp(-2*gamma)*DiracDelta(x - x_0) + 0.25*exp(-2*gamma)"
      ]
     },
     "execution_count": 4,
     "metadata": {},
     "output_type": "execute_result"
    }
   ],
   "source": [
    "result"
   ]
  },
  {
   "cell_type": "code",
   "execution_count": 5,
   "id": "eb52c00c",
   "metadata": {},
   "outputs": [
    {
     "data": {
      "text/latex": [
       "$\\displaystyle 0.25 + 0.5 e^{- 2 \\gamma t} \\delta\\left(x - x_{0}\\right) - 0.25 e^{- 2 \\gamma t} + 0.5 e^{- 2 \\gamma} e^{2 \\gamma t} \\delta\\left(- x + x_{1}\\right) - 0.25 e^{- 2 \\gamma} e^{2 \\gamma t} + e^{- 2 \\gamma} \\delta\\left(- x + x_{1}\\right) \\delta\\left(x - x_{0}\\right) - 0.5 e^{- 2 \\gamma} \\delta\\left(- x + x_{1}\\right) - 0.5 e^{- 2 \\gamma} \\delta\\left(x - x_{0}\\right) + 0.25 e^{- 2 \\gamma}$"
      ],
      "text/plain": [
       "0.25 + 0.5*exp(-2*gamma*t)*DiracDelta(x - x_0) - 0.25*exp(-2*gamma*t) + 0.5*exp(-2*gamma)*exp(2*gamma*t)*DiracDelta(-x + x_1) - 0.25*exp(-2*gamma)*exp(2*gamma*t) + exp(-2*gamma)*DiracDelta(-x + x_1)*DiracDelta(x - x_0) - 0.5*exp(-2*gamma)*DiracDelta(-x + x_1) - 0.5*exp(-2*gamma)*DiracDelta(x - x_0) + 0.25*exp(-2*gamma)"
      ]
     },
     "execution_count": 5,
     "metadata": {},
     "output_type": "execute_result"
    }
   ],
   "source": [
    "A = poly1*poly2\n",
    "A.expand()"
   ]
  },
  {
   "cell_type": "code",
   "execution_count": null,
   "id": "6c2f0250",
   "metadata": {},
   "outputs": [],
   "source": []
  }
 ],
 "metadata": {
  "kernelspec": {
   "display_name": "Python 3 (ipykernel)",
   "language": "python",
   "name": "python3"
  },
  "language_info": {
   "codemirror_mode": {
    "name": "ipython",
    "version": 3
   },
   "file_extension": ".py",
   "mimetype": "text/x-python",
   "name": "python",
   "nbconvert_exporter": "python",
   "pygments_lexer": "ipython3",
   "version": "3.10.9"
  }
 },
 "nbformat": 4,
 "nbformat_minor": 5
}

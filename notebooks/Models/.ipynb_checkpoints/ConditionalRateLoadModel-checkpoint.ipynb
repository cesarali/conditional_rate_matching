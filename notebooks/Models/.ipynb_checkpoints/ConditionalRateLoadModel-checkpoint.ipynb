{
 "cells": [
  {
   "cell_type": "code",
   "execution_count": null,
   "id": "ed9d4512-2e97-4705-875d-7de03e415360",
   "metadata": {},
   "outputs": [],
   "source": [
    "import os\n",
    "import sys\n",
    "import torch\n",
    "\n",
    "from conditional_rate_matching.models.metrics.crm_metrics_utils import log_metrics\n"
   ]
  },
  {
   "cell_type": "code",
   "execution_count": null,
   "id": "2f33e8fe-7057-4f64-80a5-2c44f91f892c",
   "metadata": {},
   "outputs": [],
   "source": [
    "\n",
    "experiment_dir = create_experiment_dir(experiment_name=\"crm\",\n",
    "                                       experiment_type=\"mnist\",\n",
    "                                       experiment_indentifier=\"save_n_loads3\")\n",
    "\n",
    "crm = CRM(experiment_dir=experiment_dir,device=torch.device(\"cpu\"))\n",
    "log_metrics(crm,\n",
    "            epoch=None,\n",
    "            metrics_to_log=[\"binary_paths_histograms\"],\n",
    "            where_to_log={\"binary_paths_histograms\":None})"
   ]
  },
  {
   "cell_type": "code",
   "execution_count": null,
   "id": "5eba91c7-0412-474b-a94b-eaedeffbbd95",
   "metadata": {},
   "outputs": [],
   "source": [
    "import os"
   ]
  },
  {
   "cell_type": "code",
   "execution_count": null,
   "id": "7a72cec5-34dd-4f0b-b834-b47568816925",
   "metadata": {},
   "outputs": [],
   "source": []
  }
 ],
 "metadata": {
  "kernelspec": {
   "display_name": "Python 3 (ipykernel)",
   "language": "python",
   "name": "python3"
  },
  "language_info": {
   "codemirror_mode": {
    "name": "ipython",
    "version": 3
   },
   "file_extension": ".py",
   "mimetype": "text/x-python",
   "name": "python",
   "nbconvert_exporter": "python",
   "pygments_lexer": "ipython3",
   "version": "3.10.9"
  }
 },
 "nbformat": 4,
 "nbformat_minor": 5
}

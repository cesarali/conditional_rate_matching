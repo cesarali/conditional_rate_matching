{
 "cells": [
  {
   "cell_type": "code",
   "execution_count": 2,
   "id": "97377d7a-ba34-4566-a7e2-4e313553b8fe",
   "metadata": {},
   "outputs": [],
   "source": [
    "import os \n",
    "import sys\n",
    "\n",
    "import torch\n",
    "from torch import nn\n",
    "from torch.optim.adam import Adam\n",
    "from matplotlib import pyplot as plt\n",
    "from torch.utils.tensorboard import SummaryWriter\n",
    "\n",
    "from tqdm import tqdm\n",
    "\n",
    "from conditional_rate_matching.configs.config_crm import Config,NistConfig\n",
    "from conditional_rate_matching.configs.config_files import ExperimentFiles\n",
    "from conditional_rate_matching.data.dataloaders_utils import get_dataloaders\n",
    "from conditional_rate_matching.models.metrics.crm_metrics_utils import log_metrics\n",
    "\n",
    "from conditional_rate_matching.models.generative_models.crm import (\n",
    "    CRM,\n",
    "    ConditionalBackwardRate,\n",
    "    ClassificationBackwardRate,\n",
    "    sample_x,\n",
    "    conditional_transition_rate,\n",
    "    uniform_pair_x0_x1\n",
    ")"
   ]
  },
  {
   "cell_type": "code",
   "execution_count": 9,
   "id": "de11ebc8-26d6-4446-8d18-fbe22ba1f8a7",
   "metadata": {},
   "outputs": [],
   "source": [
    "from conditional_rate_matching.models.trainers.crm_trainer import train_step,save_results"
   ]
  },
  {
   "cell_type": "code",
   "execution_count": 12,
   "id": "1eb7d43e-2379-4f8c-bb7f-7dac8a21e351",
   "metadata": {},
   "outputs": [],
   "source": [
    "# Files to save the experiments\n",
    "experiment_files = ExperimentFiles(experiment_name=\"crm\",\n",
    "                                   experiment_type=\"dirichlet_K\",\n",
    "                                   experiment_indentifier=\"save_and_load\",\n",
    "                                   delete=True)\n",
    "experiment_files.create_directories()\n",
    "\n",
    "# Configuration\n",
    "config = Config(number_of_epochs=10,number_of_states=2)\n",
    "#config = NistConfig(number_of_epochs=10,hidden_dim=300,batch_size=128,sample_size=2000)\n",
    "\n",
    "#=====================================================\n",
    "# DATA STUFF\n",
    "#=====================================================\n",
    "\n",
    "dataloader_0, dataloader_1 = get_dataloaders(config)\n",
    "\n",
    "#=========================================================\n",
    "# Initialize\n",
    "#=========================================================\n",
    "\n",
    "device = torch.device(\"cuda:0\") if torch.cuda.is_available() else torch.device(\"cpu\")\n",
    "config.loss = \"classifier\"\n",
    "\n",
    "if config.loss == \"naive\":\n",
    "    model = ConditionalBackwardRate(config, device)\n",
    "    loss_fn = nn.MSELoss()\n",
    "elif config.loss == \"classifier\":\n",
    "    model = ClassificationBackwardRate(config, device).to(device)\n",
    "    loss_fn = nn.CrossEntropyLoss()\n",
    "\n",
    "# all model\n",
    "crm = CRM(config,experiment_files,dataloader_0,dataloader_1,model)"
   ]
  },
  {
   "cell_type": "code",
   "execution_count": 13,
   "id": "c2369197-f2a3-474d-976f-690adf911898",
   "metadata": {},
   "outputs": [
    {
     "name": "stderr",
     "output_type": "stream",
     "text": [
      "Epoch 5, Loss: 0.5906:  40%|████████████████████████▊                                     | 4/10 [00:11<00:17,  2.96s/it]\n"
     ]
    },
    {
     "ename": "AssertionError",
     "evalue": "",
     "output_type": "error",
     "traceback": [
      "\u001b[1;31m---------------------------------------------------------------------------\u001b[0m",
      "\u001b[1;31mAssertionError\u001b[0m                            Traceback (most recent call last)",
      "Cell \u001b[1;32mIn[13], line 24\u001b[0m\n\u001b[0;32m     21\u001b[0m         results \u001b[38;5;241m=\u001b[39m save_results(crm, experiment_files, epoch \u001b[38;5;241m+\u001b[39m \u001b[38;5;241m1\u001b[39m, checkpoint\u001b[38;5;241m=\u001b[39m\u001b[38;5;28;01mTrue\u001b[39;00m)\n\u001b[0;32m     23\u001b[0m     \u001b[38;5;28;01mif\u001b[39;00m (epoch \u001b[38;5;241m+\u001b[39m \u001b[38;5;241m1\u001b[39m) \u001b[38;5;241m%\u001b[39m config\u001b[38;5;241m.\u001b[39msave_metric_epochs \u001b[38;5;241m==\u001b[39m \u001b[38;5;241m0\u001b[39m:\n\u001b[1;32m---> 24\u001b[0m         all_metrics \u001b[38;5;241m=\u001b[39m \u001b[43mlog_metrics\u001b[49m\u001b[43m(\u001b[49m\u001b[43mcrm\u001b[49m\u001b[38;5;241;43m=\u001b[39;49m\u001b[43mcrm\u001b[49m\u001b[43m,\u001b[49m\u001b[43m \u001b[49m\u001b[43mepoch\u001b[49m\u001b[38;5;241;43m=\u001b[39;49m\u001b[43mepoch\u001b[49m\u001b[43m \u001b[49m\u001b[38;5;241;43m+\u001b[39;49m\u001b[43m \u001b[49m\u001b[38;5;241;43m1\u001b[39;49m\u001b[43m,\u001b[49m\u001b[43m \u001b[49m\u001b[43mwriter\u001b[49m\u001b[38;5;241;43m=\u001b[39;49m\u001b[43mwriter\u001b[49m\u001b[43m)\u001b[49m\n\u001b[0;32m     26\u001b[0m writer\u001b[38;5;241m.\u001b[39mclose()\n",
      "File \u001b[1;32mc:\\users\\cesar\\desktop\\projects\\diffusivegenerativemodelling\\codes\\conditional_rate_matching\\src\\conditional_rate_matching\\models\\metrics\\crm_metrics_utils.py:28\u001b[0m, in \u001b[0;36mlog_metrics\u001b[1;34m(crm, epoch, metrics_to_log, where_to_log, writer)\u001b[0m\n\u001b[0;32m     25\u001b[0m     dataloader \u001b[38;5;241m=\u001b[39m crm\u001b[38;5;241m.\u001b[39mdataloader_1\n\u001b[0;32m     27\u001b[0m test_sample \u001b[38;5;241m=\u001b[39m torch\u001b[38;5;241m.\u001b[39mvstack([databatch[\u001b[38;5;241m0\u001b[39m] \u001b[38;5;28;01mfor\u001b[39;00m databatch \u001b[38;5;129;01min\u001b[39;00m dataloader])\n\u001b[1;32m---> 28\u001b[0m generative_sample \u001b[38;5;241m=\u001b[39m \u001b[43mcrm\u001b[49m\u001b[38;5;241;43m.\u001b[39;49m\u001b[43mpipeline\u001b[49m\u001b[43m(\u001b[49m\u001b[43msample_size\u001b[49m\u001b[38;5;241;43m=\u001b[39;49m\u001b[43mtest_sample\u001b[49m\u001b[38;5;241;43m.\u001b[39;49m\u001b[43mshape\u001b[49m\u001b[43m[\u001b[49m\u001b[38;5;241;43m0\u001b[39;49m\u001b[43m]\u001b[49m\u001b[43m)\u001b[49m\n\u001b[0;32m     30\u001b[0m \u001b[38;5;66;03m# HISTOGRAMS\u001b[39;00m\n\u001b[0;32m     31\u001b[0m metric_string_name \u001b[38;5;241m=\u001b[39m \u001b[38;5;124m\"\u001b[39m\u001b[38;5;124mmse_histograms\u001b[39m\u001b[38;5;124m\"\u001b[39m\n",
      "File \u001b[1;32mc:\\users\\cesar\\desktop\\projects\\diffusivegenerativemodelling\\codes\\conditional_rate_matching\\src\\conditional_rate_matching\\models\\pipelines\\pipeline_crm.py:50\u001b[0m, in \u001b[0;36mCRMPipeline.__call__\u001b[1;34m(self, sample_size, train)\u001b[0m\n\u001b[0;32m     42\u001b[0m \u001b[38;5;28;01mdef\u001b[39;00m \u001b[38;5;21m__call__\u001b[39m(\u001b[38;5;28mself\u001b[39m,sample_size,train\u001b[38;5;241m=\u001b[39m\u001b[38;5;28;01mTrue\u001b[39;00m):\n\u001b[0;32m     43\u001b[0m \u001b[38;5;250m    \u001b[39m\u001b[38;5;124;03m\"\"\"\u001b[39;00m\n\u001b[0;32m     44\u001b[0m \u001b[38;5;124;03m    For Conditional Rate Matching We Move Forward in Time\u001b[39;00m\n\u001b[0;32m     45\u001b[0m \n\u001b[1;32m   (...)\u001b[0m\n\u001b[0;32m     48\u001b[0m \u001b[38;5;124;03m    :return:\u001b[39;00m\n\u001b[0;32m     49\u001b[0m \u001b[38;5;124;03m    \"\"\"\u001b[39;00m\n\u001b[1;32m---> 50\u001b[0m     x_0 \u001b[38;5;241m=\u001b[39m \u001b[38;5;28;43mself\u001b[39;49m\u001b[38;5;241;43m.\u001b[39;49m\u001b[43mget_x0_sample\u001b[49m\u001b[43m(\u001b[49m\u001b[43msample_size\u001b[49m\u001b[38;5;241;43m=\u001b[39;49m\u001b[43msample_size\u001b[49m\u001b[43m,\u001b[49m\u001b[43mtrain\u001b[49m\u001b[38;5;241;43m=\u001b[39;49m\u001b[43mtrain\u001b[49m\u001b[43m)\u001b[49m\u001b[38;5;241m.\u001b[39mto(\u001b[38;5;28mself\u001b[39m\u001b[38;5;241m.\u001b[39mdevice)\n\u001b[0;32m     51\u001b[0m     rate_model \u001b[38;5;241m=\u001b[39m \u001b[38;5;28mself\u001b[39m\u001b[38;5;241m.\u001b[39mmodel\n\u001b[0;32m     52\u001b[0m     x_f, x_hist, x0_hist,ts \u001b[38;5;241m=\u001b[39m TauLeaping(\u001b[38;5;28mself\u001b[39m\u001b[38;5;241m.\u001b[39mconfig, rate_model, x_0, forward\u001b[38;5;241m=\u001b[39m\u001b[38;5;28;01mTrue\u001b[39;00m)\n",
      "File \u001b[1;32mc:\\users\\cesar\\desktop\\projects\\diffusivegenerativemodelling\\codes\\conditional_rate_matching\\src\\conditional_rate_matching\\models\\pipelines\\pipeline_crm.py:38\u001b[0m, in \u001b[0;36mCRMPipeline.get_x0_sample\u001b[1;34m(self, sample_size, train)\u001b[0m\n\u001b[0;32m     35\u001b[0m         \u001b[38;5;28;01mbreak\u001b[39;00m\n\u001b[0;32m     37\u001b[0m x_0 \u001b[38;5;241m=\u001b[39m torch\u001b[38;5;241m.\u001b[39mvstack(x_0)\n\u001b[1;32m---> 38\u001b[0m \u001b[38;5;28;01massert\u001b[39;00m x_0\u001b[38;5;241m.\u001b[39msize(\u001b[38;5;241m0\u001b[39m) \u001b[38;5;241m==\u001b[39m sample_size\n\u001b[0;32m     40\u001b[0m \u001b[38;5;28;01mreturn\u001b[39;00m x_0\n",
      "\u001b[1;31mAssertionError\u001b[0m: "
     ]
    }
   ],
   "source": [
    "#=========================================================\n",
    "# Training\n",
    "#=========================================================\n",
    "writer = SummaryWriter(experiment_files.tensorboard_path)\n",
    "optimizer = Adam(model.parameters(), lr=config.learning_rate)\n",
    "tqdm_object = tqdm(range(config.number_of_epochs))\n",
    "\n",
    "number_of_training_steps = 0\n",
    "for epoch in tqdm_object:\n",
    "    for batch_1, batch_0 in zip(dataloader_1, dataloader_0):\n",
    "\n",
    "        loss = train_step(config,model,loss_fn,batch_1,batch_0,optimizer,device)\n",
    "        number_of_training_steps += 1\n",
    "\n",
    "        writer.add_scalar('training loss', loss.item(), number_of_training_steps)\n",
    "\n",
    "        tqdm_object.set_description(f\"Epoch {epoch + 1}, Loss: {loss.item():.4f}\")\n",
    "        tqdm_object.refresh()  # to show immediately the update\n",
    "\n",
    "    if (epoch + 1) % config.save_model_epochs == 0:\n",
    "        results = save_results(crm, experiment_files, epoch + 1, checkpoint=True)\n",
    "\n",
    "    if (epoch + 1) % config.save_metric_epochs == 0:\n",
    "        all_metrics = log_metrics(crm=crm, epoch=epoch + 1, writer=writer)\n",
    "\n",
    "writer.close()"
   ]
  },
  {
   "cell_type": "code",
   "execution_count": null,
   "id": "a59abac7-052f-43da-8b46-4287326267ad",
   "metadata": {},
   "outputs": [],
   "source": []
  },
  {
   "cell_type": "code",
   "execution_count": null,
   "id": "e61a00f1-4052-4ea7-8f4d-bf3b680c515e",
   "metadata": {},
   "outputs": [],
   "source": []
  },
  {
   "cell_type": "code",
   "execution_count": null,
   "id": "85cd447c-997e-43f4-b224-73c3d47f0757",
   "metadata": {},
   "outputs": [],
   "source": []
  },
  {
   "cell_type": "code",
   "execution_count": null,
   "id": "5133693d-af5a-477c-9d16-eb06387a7d40",
   "metadata": {},
   "outputs": [],
   "source": []
  }
 ],
 "metadata": {
  "kernelspec": {
   "display_name": "Python 3 (ipykernel)",
   "language": "python",
   "name": "python3"
  },
  "language_info": {
   "codemirror_mode": {
    "name": "ipython",
    "version": 3
   },
   "file_extension": ".py",
   "mimetype": "text/x-python",
   "name": "python",
   "nbconvert_exporter": "python",
   "pygments_lexer": "ipython3",
   "version": "3.10.9"
  }
 },
 "nbformat": 4,
 "nbformat_minor": 5
}

{
 "cells": [
  {
   "cell_type": "code",
   "execution_count": 8,
   "id": "6dc0dbda-0e12-4025-8084-a2730604f9bc",
   "metadata": {},
   "outputs": [],
   "source": [
    "import os\n",
    "import torch\n",
    "import numpy as np\n",
    "import torch.nn.functional as F\n",
    "\n",
    "from conditional_rate_matching.data.dataloaders_utils import get_dataloaders_crm\n",
    "from conditional_rate_matching.models.generative_models.crm import uniform_pair_x0_x1\n",
    "from conditional_rate_matching.configs.configs_classes.config_crm import CRMConfig as ConditionalRateMatchingConfig\n",
    "\n",
    "from conditional_rate_matching.models.generative_models.crm import (\n",
    "    CRM\n",
    ")\n",
    "\n",
    "from conditional_rate_matching.configs.config_files import ExperimentFiles\n",
    "from conditional_rate_matching.models.trainers.crm_trainer import CRMTrainer\n",
    "from conditional_rate_matching.configs.config_files import get_experiment_dir\n",
    "from conditional_rate_matching.configs.configs_classes.config_crm import CRMConfig\n",
    "\n",
    "from conditional_rate_matching.utils.plots.images_plots import plot_sample\n",
    "from conditional_rate_matching.models.pipelines.sdes_samplers.samplers import TauLeaping\n",
    "from conditional_rate_matching.configs.experiments_configs.crm.crm_experiments_nist import experiment_nist\n",
    "\n",
    "import pytest\n",
    "from conditional_rate_matching.models.metrics.crm_path_metrics import conditional_bridge_marginal_probabilities_and_rates_path,conditional_bridge_images\n",
    "from conditional_rate_matching.utils.plots.images_plots import mnist_grid,mnist_noise_bridge\n",
    "from conditional_rate_matching import results_path\n",
    "from conditional_rate_matching import plots_path\n",
    "from conditional_rate_matching.models.metrics.fid_metrics import load_classifier\n",
    "from matplotlib import pyplot as plt"
   ]
  },
  {
   "cell_type": "code",
   "execution_count": 28,
   "id": "6a38e2cd-4876-4d18-9173-9f17833b9d47",
   "metadata": {},
   "outputs": [
    {
     "name": "stderr",
     "output_type": "stream",
     "text": [
      "1000it [00:38, 26.13it/s]\n"
     ]
    },
    {
     "ename": "TypeError",
     "evalue": "'dict' object cannot be interpreted as an integer",
     "output_type": "error",
     "traceback": [
      "\u001b[1;31m---------------------------------------------------------------------------\u001b[0m",
      "\u001b[1;31mTypeError\u001b[0m                                 Traceback (most recent call last)",
      "Cell \u001b[1;32mIn[28], line 37\u001b[0m\n\u001b[0;32m     34\u001b[0m crm\u001b[38;5;241m.\u001b[39mconfig\u001b[38;5;241m.\u001b[39mpipeline\u001b[38;5;241m.\u001b[39mnum_intermediates \u001b[38;5;241m=\u001b[39m steps_of_noise_to_see\n\u001b[0;32m     35\u001b[0m x_f, x_hist, ts \u001b[38;5;241m=\u001b[39m crm\u001b[38;5;241m.\u001b[39mpipeline(\u001b[38;5;241m100\u001b[39m,return_intermediaries\u001b[38;5;241m=\u001b[39m\u001b[38;5;28;01mTrue\u001b[39;00m,train\u001b[38;5;241m=\u001b[39m\u001b[38;5;28;01mFalse\u001b[39;00m,x_0\u001b[38;5;241m=\u001b[39mimages_)\n\u001b[1;32m---> 37\u001b[0m \u001b[38;5;28;01mfor\u001b[39;00m label_to_see \u001b[38;5;129;01min\u001b[39;00m \u001b[38;5;28;43mrange\u001b[39;49m\u001b[43m(\u001b[49m\u001b[43msource_label_numbers\u001b[49m\u001b[43m)\u001b[49m:\n\u001b[0;32m     38\u001b[0m     selected_index \u001b[38;5;241m=\u001b[39m labels_ \u001b[38;5;241m==\u001b[39m label_to_see\n\u001b[0;32m     39\u001b[0m     selected_images \u001b[38;5;241m=\u001b[39m images_[selected_index]\n",
      "\u001b[1;31mTypeError\u001b[0m: 'dict' object cannot be interpreted as an integer"
     ]
    }
   ],
   "source": [
    "##experiment_dir = os.path.join(results_path,\"emnist_2_mnist_lenet5\",\"emnist_2_mnist_lenet5\",\"run\")\n",
    "#experiment_dir = os.path.join(results_path,\"emnist_2_mnist_lenet5_OTPlanSampler\",\"emnist_2_mnist_lenet5_OTPlanSampler\",\"run\")\n",
    "#experiment_dir = os.path.join(results_path,\"emnist_2_mnist_lenet5_UniformCoupling\",\"emnist_2_mnist_lenet5_UniformCoupling\",\"run\")\n",
    "experiment_dir = os.path.join(results_path,\"emnist_2_mnist_lenet5_OTPlanSampler_1\",\"emnist_2_mnist_lenet5_OTPlanSampler_1\",\"run\")\n",
    "\n",
    "#experiment_dir = get_experiment_dir(experiment_name=\"prenzlauer_experiment\",\n",
    "#                                    experiment_type=\"crm\",\n",
    "#                                    experiment_indentifier=\"bridge_plot_mlp_mu_001\")\n",
    "\n",
    "label_to_see = 20\n",
    "number_of_images_to_see = 20\n",
    "steps_of_noise_to_see = 19\n",
    "\n",
    "save_path = os.path.join(plots_path,\"emnist_to_mnist_lenet5_Uniform_01.png\")\n",
    "device = torch.device(\"cpu\")\n",
    "crm = CRM(experiment_dir=experiment_dir, device=device)\n",
    "\n",
    "\n",
    "number_of_source_labels = crm.config.data0.number_of_labels\n",
    "number_of_target_labels = crm.config.data1.number_of_labels\n",
    "classifier = load_classifier(crm.config.data1.dataset_name,device) #CLASSIFIES TARGET AT TIME 1\n",
    "\n",
    "label_to_label_histograms = {label_source:torch.zeros(number_of_target_labels) for label_source in range(number_of_source_labels)}\n",
    "source_label_numbers = {label_source:0. for label_source in range(number_of_source_labels)}\n",
    "\n",
    "max_number_of_batches = 3\n",
    "number_of_batches = 0\n",
    "\n",
    "for databatch_0 in crm.dataloader_0.test():\n",
    "    images_ = databatch_0[0]\n",
    "    labels_ = databatch_0[1]\n",
    "\n",
    "    #evolves from the whole batch then performs statistics\n",
    "    crm.config.pipeline.num_intermediates = steps_of_noise_to_see\n",
    "    x_f, x_hist, ts = crm.pipeline(100,train=False,x_0=images_)\n",
    "\n",
    "    for label_to_see in range(number_of_source_labels):\n",
    "        selected_index = labels_ == label_to_see\n",
    "        selected_images = images_[selected_index]\n",
    "        selected_target = x_f[selected_index]\n",
    "        num_images_encountered = selected_images.size(0)\n",
    "        \n",
    "        if num_images_encountered > 0:\n",
    "            source_label_numbers[label_to_see] += num_images_encountered # how many images of that label in source\n",
    "            y = classifier(selected_target.view(-1,1,28,28))\n",
    "            y = torch.argmax(y,dim=1)\n",
    "            label_to_label_histograms[label_to_see] += F.one_hot(y,number_of_labels).sum(axis=0) # how many of the target images are encountered from that source\n",
    "\n",
    "        number_of_batches+=1\n",
    "        \n",
    "        if number_of_batches > max_number_of_batches:\n",
    "            break"
   ]
  },
  {
   "cell_type": "code",
   "execution_count": 26,
   "id": "a5417713-855d-459e-993b-12a8b5537b9c",
   "metadata": {},
   "outputs": [],
   "source": []
  },
  {
   "cell_type": "code",
   "execution_count": 18,
   "id": "44db3dd9-f2c6-49f5-a708-2492128a9ed5",
   "metadata": {},
   "outputs": [
    {
     "name": "stderr",
     "output_type": "stream",
     "text": [
      "1000it [00:39, 25.12it/s]\n"
     ]
    }
   ],
   "source": []
  },
  {
   "cell_type": "code",
   "execution_count": 27,
   "id": "aec46949-fe76-497d-8656-07bd90bdc850",
   "metadata": {},
   "outputs": [],
   "source": []
  },
  {
   "cell_type": "code",
   "execution_count": null,
   "id": "bc99d70c-f1f5-4930-8952-b517131f653e",
   "metadata": {},
   "outputs": [],
   "source": [
    "x_f, x_hist, ts = crm.pipeline(100,return_intermediaries=True,train=False,x_0=selected_images)\n",
    "\n",
    "print(x_f.shape)\n",
    "\n",
    "histograms_of_labels = torch.zeros(number_of_labels)\n"
   ]
  },
  {
   "cell_type": "code",
   "execution_count": 16,
   "id": "4641a0ac-9e3c-4eaf-be9d-7e1faec7c007",
   "metadata": {},
   "outputs": [],
   "source": []
  },
  {
   "cell_type": "code",
   "execution_count": 3,
   "id": "5d8a4ce3-2d3a-4f15-8da1-0735da167deb",
   "metadata": {},
   "outputs": [
    {
     "data": {
      "text/plain": [
       "10"
      ]
     },
     "execution_count": 3,
     "metadata": {},
     "output_type": "execute_result"
    }
   ],
   "source": [
    "toch.nn.on crm.config.data1.number_of_labels"
   ]
  },
  {
   "cell_type": "code",
   "execution_count": 10,
   "id": "297f5356-2809-4775-8826-1e99911b6f8e",
   "metadata": {},
   "outputs": [
    {
     "data": {
      "text/plain": [
       "<matplotlib.image.AxesImage at 0x1f3bfff2200>"
      ]
     },
     "execution_count": 10,
     "metadata": {},
     "output_type": "execute_result"
    },
    {
     "data": {
      "image/png": "[encoded data removed]",
      "text/plain": [
       "<Figure size 640x480 with 1 Axes>"
      ]
     },
     "metadata": {},
     "output_type": "display_data"
    }
   ],
   "source": [
    "plt.imshow(x_f[0].view(1,28,28).detach().numpy().squeeze(),cmap=\"gray\")"
   ]
  },
  {
   "cell_type": "code",
   "execution_count": 11,
   "id": "f117e853-84c9-45fb-afb8-0a731c161157",
   "metadata": {},
   "outputs": [
    {
     "data": {
      "text/plain": [
       "tensor([9, 6, 7, 2, 3, 6, 1, 0, 2, 9, 1, 2, 8, 9, 3, 9, 1, 4, 3, 7, 9])"
      ]
     },
     "execution_count": 11,
     "metadata": {},
     "output_type": "execute_result"
    }
   ],
   "source": [
    "torch.argmax(classifier(x_f.view(-1,1,28,28)),dim=1)"
   ]
  }
 ],
 "metadata": {
  "kernelspec": {
   "display_name": "Python 3 (ipykernel)",
   "language": "python",
   "name": "python3"
  },
  "language_info": {
   "codemirror_mode": {
    "name": "ipython",
    "version": 3
   },
   "file_extension": ".py",
   "mimetype": "text/x-python",
   "name": "python",
   "nbconvert_exporter": "python",
   "pygments_lexer": "ipython3",
   "version": "3.10.9"
  }
 },
 "nbformat": 4,
 "nbformat_minor": 5
}

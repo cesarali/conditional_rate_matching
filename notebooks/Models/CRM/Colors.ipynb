{
 "cells": [
  {
   "cell_type": "code",
   "execution_count": 1,
   "metadata": {},
   "outputs": [],
   "source": [
    "import os\n",
    "import torch\n",
    "import numpy as np\n",
    "from pprint import pprint\n",
    "from dataclasses import dataclass, asdict\n",
    "from matplotlib import pyplot as plt\n",
    "from matplotlib.gridspec import GridSpec\n",
    "\n",
    "import torch.nn.functional as F\n",
    "\n",
    "from conditional_rate_matching.models.generative_models.crm import CRM\n",
    "from conditional_rate_matching.configs.configs_classes.config_crm import CRMConfig,BasicPipelineConfig\n",
    "from conditional_rate_matching.data.states_dataloaders_config import StatesDataloaderConfig\n",
    "from conditional_rate_matching.data.dataloaders_utils import get_dataloaders_crm\n",
    "from conditional_rate_matching.models.trainers.call_all_trainers import call_trainer\n",
    "\n",
    "from conditional_rate_matching.configs.config_files import ExperimentFiles\n",
    "\n",
    "from conditional_rate_matching.configs.configs_classes.config_crm import CRMConfig\n",
    "from conditional_rate_matching.configs.configs_classes.config_crm import CRMTrainerConfig\n",
    "\n",
    "from conditional_rate_matching.models.trainers.crm_trainer import CRMTrainer\n",
    "\n",
    "from conditional_rate_matching.models.trainers.crm_trainer import CRMDataloder\n",
    "from conditional_rate_matching.models.pipelines.thermostat.crm_thermostat_config import ConstantThermostatConfig,LogThermostatConfig\n"
   ]
  },
  {
   "cell_type": "markdown",
   "metadata": {},
   "source": [
    "## Histograms Plots / Paths Samples"
   ]
  },
  {
   "cell_type": "code",
   "execution_count": 2,
   "metadata": {},
   "outputs": [],
   "source": [
    "def categorical_counts_per_path(x_path,dimensions=3,vocab_size=3,normalize=True):\n",
    "    \"\"\"\n",
    "    parameters\n",
    "    ----------\n",
    "    x_path: torch.Tensor\n",
    "\n",
    "    return\n",
    "    ------\n",
    "    sample_size,paths_counts\n",
    "    \"\"\"\n",
    "    sample_size = x_path.shape[0]\n",
    "    number_of_steps = x_path.shape[1]\n",
    "    dimensions = x_path.shape[2]\n",
    "\n",
    "    paths_counts = F.one_hot(x_path.long(),num_classes=vocab_size).sum(axis=0)\n",
    "    if normalize:\n",
    "        paths_counts = paths_counts/sample_size\n",
    "    return paths_counts\n",
    "\n",
    "def get_conditional_histograms_paths(crm,t_path,num_timesteps_to_plot=10):\n",
    "    vocab_size = crm.config.data1.vocab_size\n",
    "    dimensions = crm.config.data1.dimensions\n",
    "    number_of_steps = t_path.shape[0]\n",
    "    # Generate indices for the timesteps to plot\n",
    "    num_timesteps_to_plot = 10\n",
    "\n",
    "    if num_timesteps_to_plot >= number_of_steps:\n",
    "        indices = range(number_of_steps)\n",
    "    else:\n",
    "        indices = np.linspace(0, number_of_steps - 1, num=num_timesteps_to_plot, dtype=int)\n",
    "        \n",
    "    times_to_plot = t_path[indices]\n",
    "    conditional_histograms_paths = torch.zeros((num_timesteps_to_plot,dimensions,vocab_size))\n",
    "\n",
    "    sample_size = 0\n",
    "    crm_dataloader = CRMDataloder(crm.dataloader_0,crm.dataloader_1)\n",
    "    for databatch in crm_dataloader.train():\n",
    "        batch_0, batch_1 = databatch    \n",
    "        # data pair and time sample\n",
    "        x_1, x_0 = crm.sample_pair(batch_1,batch_0,crm.device)\n",
    "        batch_size = x_1.shape[0]\n",
    "\n",
    "        for time_index, time in enumerate(times_to_plot.detach().numpy()):\n",
    "            time = torch.full((batch_size,),time)\n",
    "            sampled_x = crm.forward_rate.sample_x(x_1, x_0, time)\n",
    "            counts_in_sample = F.one_hot(sampled_x,num_classes=vocab_size).sum(axis=0)\n",
    "            conditional_histograms_paths[time_index] += counts_in_sample\n",
    "        sample_size += batch_size\n",
    "        \n",
    "    conditional_histograms_paths = conditional_histograms_paths/sample_size\n",
    "    return conditional_histograms_paths"
   ]
  },
  {
   "cell_type": "code",
   "execution_count": 3,
   "metadata": {},
   "outputs": [],
   "source": [
    "def categorical_histogram_dataloader(dataloader_0, dimensions, number_of_classes, train=True,maximum_test_sample_size = 2000):\n",
    "    \"\"\"\n",
    "    Just the marginal per dimension\n",
    "\n",
    "    :param dataloader_0:\n",
    "    :param dimensions:\n",
    "    :param number_of_classes:\n",
    "    :param train:\n",
    "    :return:\n",
    "    \"\"\"\n",
    "    if hasattr(dataloader_0, \"train\"):\n",
    "        if train:\n",
    "            dataloader = dataloader_0.train()\n",
    "        else:\n",
    "            dataloader = dataloader_0.test()\n",
    "    else:\n",
    "        dataloader = dataloader_0\n",
    "\n",
    "    histogram = torch.zeros(dimensions,number_of_classes)\n",
    "    if dataloader is None:\n",
    "        return histogram\n",
    "\n",
    "    sample_size = 0.\n",
    "    for databatch in dataloader:\n",
    "        x_0 = databatch[0]\n",
    "        if len(x_0.shape) > 2:\n",
    "            batch_size = x_0.size(0)\n",
    "            x_0 = x_0.reshape(batch_size,-1)\n",
    "        sample_size += x_0.size(0)\n",
    "        histogram += F.one_hot(x_0.long(),num_classes=number_of_classes).sum(axis=0)\n",
    "        if sample_size > maximum_test_sample_size:\n",
    "            break\n",
    "    histogram = histogram / sample_size\n",
    "    return histogram"
   ]
  },
  {
   "cell_type": "code",
   "execution_count": 4,
   "metadata": {},
   "outputs": [],
   "source": [
    "def plot_time_series_histograms(data, data2=None,num_timesteps_to_plot=10):\n",
    "    \"\"\"\n",
    "    Plots a series of histograms from a 3D PyTorch tensor, ensuring the first\n",
    "    and last timesteps are always included in the plot.\n",
    "\n",
    "    Parameters:\n",
    "    data (torch.Tensor): A tensor of shape (number_of_steps, dimensions, vocab_size)\n",
    "    num_timesteps_to_plot (int): Number of timesteps to plot, including the first and last timesteps\n",
    "\n",
    "    \"\"\"\n",
    "    number_of_steps, dimensions, vocab_size = data.shape\n",
    "    \n",
    "    # Generate indices for the timesteps to plot\n",
    "    if num_timesteps_to_plot >= number_of_steps:\n",
    "        indices = range(number_of_steps)\n",
    "    else:\n",
    "        indices = np.linspace(0, number_of_steps - 1, num=num_timesteps_to_plot, dtype=int)\n",
    "    \n",
    "    # Set up the matplotlib figure and axes\n",
    "    fig, axes = plt.subplots(nrows=dimensions, ncols=len(indices), figsize=(20, 6))\n",
    "    \n",
    "    # Make sure axes is always 2D\n",
    "    if dimensions == 1:\n",
    "        axes = axes.reshape((1, -1))\n",
    "    if len(indices) == 1:\n",
    "        axes = axes.reshape((-1, 1))\n",
    "    \n",
    "    # Plot each dimension and timestep\n",
    "    for i in range(dimensions):\n",
    "        for j, idx in enumerate(indices):\n",
    "            ax = axes[i, j]\n",
    "            ax.bar(range(vocab_size), data[idx, i].numpy(), color='blue',alpha=0.4)\n",
    "            if data2 is not None:\n",
    "                ax.bar(range(vocab_size), data2[j, i].numpy(), color='red',alpha=0.4)\n",
    "            ax.set_title(f\"t = {idx+1}\")\n",
    "            ax.set_xticks([])  # Remove x-axis ticks\n",
    "            ax.set_yticks([])  # Remove y-axis ticks\n",
    "            ax.set_ylim(0,1)\n",
    "\n",
    "    \n",
    "    plt.tight_layout()\n",
    "    plt.show()\n",
    "    return indices"
   ]
  },
  {
   "cell_type": "markdown",
   "metadata": {},
   "source": [
    "## Simulation and Plots"
   ]
  },
  {
   "cell_type": "code",
   "execution_count": 35,
   "metadata": {},
   "outputs": [],
   "source": [
    "config = CRMConfig()\n",
    "vocab_size = 6\n",
    "config.data0 = StatesDataloaderConfig(dimensions=1,vocab_size=vocab_size)\n",
    "config.data1 = StatesDataloaderConfig(dirichlet_alpha=0.025,total_data_size=1000,dimensions=1,vocab_size=vocab_size,test_size=0.1)\n",
    "\n",
    "config.pipeline = BasicPipelineConfig(number_of_steps=100)\n",
    "config.thermostat = ConstantThermostatConfig(gamma=0.1)\n",
    "config.trainer = CRMTrainerConfig(number_of_epochs=100,learning_rate=1e-3)\n",
    "\n",
    "crm = CRM(config=config)"
   ]
  },
  {
   "cell_type": "code",
   "execution_count": 36,
   "metadata": {},
   "outputs": [
    {
     "name": "stderr",
     "output_type": "stream",
     "text": [
      "46it [00:00, 110.16it/s]"
     ]
    },
    {
     "name": "stderr",
     "output_type": "stream",
     "text": [
      "100it [00:00, 115.33it/s]\n",
      "100it [00:00, 109.04it/s]\n",
      "100it [00:00, 110.87it/s]\n",
      "100it [00:01, 87.25it/s]\n"
     ]
    }
   ],
   "source": [
    "dimensions = config.data1.dimensions\n",
    "vocab_size = config.data1.vocab_size\n",
    "\n",
    "x_f, x_path, t_path = crm.pipeline(sample_size=500,return_path=True)\n",
    "histogram_0 = categorical_histogram_dataloader(crm.dataloader_0,dimensions=dimensions,number_of_classes=vocab_size)\n",
    "histogram_1 = categorical_histogram_dataloader(crm.dataloader_1,dimensions=dimensions,number_of_classes=vocab_size)\n",
    "histograms_paths = categorical_counts_per_path(x_path,dimensions=3,vocab_size=vocab_size,normalize=True)\n",
    "conditional_histograms_paths = get_conditional_histograms_paths(crm,t_path,num_timesteps_to_plot=10)"
   ]
  },
  {
   "cell_type": "code",
   "execution_count": 37,
   "metadata": {},
   "outputs": [
    {
     "data": {
      "image/png": "[encoded data removed]",
      "text/plain": [
       "<Figure size 2000x600 with 10 Axes>"
      ]
     },
     "metadata": {},
     "output_type": "display_data"
    }
   ],
   "source": [
    "indices = plot_time_series_histograms(histograms_paths, conditional_histograms_paths, 10)"
   ]
  },
  {
   "cell_type": "markdown",
   "metadata": {},
   "source": [
    "## Train"
   ]
  },
  {
   "cell_type": "code",
   "execution_count": 19,
   "metadata": {},
   "outputs": [],
   "source": [
    "experiment_files = ExperimentFiles(experiment_name=\"prenzlauer_experiment\",\n",
    "                                   experiment_type=\"colors_1\",\n",
    "                                   experiment_indentifier=None)\n",
    "crm.experiment_files = experiment_files"
   ]
  },
  {
   "cell_type": "code",
   "execution_count": 20,
   "metadata": {},
   "outputs": [
    {
     "name": "stdout",
     "output_type": "stream",
     "text": [
      "# ==================================================\n",
      "# START OF TRAINING \n",
      "# ==================================================\n",
      "# Current Model ************************************\n",
      "colors_1\n",
      "prenzlauer_experiment\n",
      "None\n",
      "# ==================================================\n",
      "# Number of Epochs 100\n",
      "# ==================================================\n"
     ]
    },
    {
     "name": "stderr",
     "output_type": "stream",
     "text": [
      "Epoch 100, Loss: 0.0001: 100%|██████████| 100/100 [02:58<00:00,  1.78s/it]\n",
      "100it [00:00, 100.00it/s]\n",
      "100it [00:00, 135.51it/s]\n"
     ]
    },
    {
     "data": {
      "image/png": "[encoded data removed]",
      "text/plain": [
       "<Figure size 1200x600 with 7 Axes>"
      ]
     },
     "metadata": {},
     "output_type": "display_data"
    }
   ],
   "source": [
    "crm_trainer = CRMTrainer(config, experiment_files=experiment_files,crm=crm)\n",
    "results_, all_metrics = crm_trainer.train()"
   ]
  },
  {
   "cell_type": "code",
   "execution_count": null,
   "metadata": {},
   "outputs": [],
   "source": []
  }
 ],
 "metadata": {
  "kernelspec": {
   "display_name": "rate_matching",
   "language": "python",
   "name": "python3"
  },
  "language_info": {
   "codemirror_mode": {
    "name": "ipython",
    "version": 3
   },
   "file_extension": ".py",
   "mimetype": "text/x-python",
   "name": "python",
   "nbconvert_exporter": "python",
   "pygments_lexer": "ipython3",
   "version": "3.10.9"
  }
 },
 "nbformat": 4,
 "nbformat_minor": 2
}

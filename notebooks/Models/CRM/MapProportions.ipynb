{
 "cells": [
  {
   "cell_type": "code",
   "execution_count": 8,
   "id": "6dc0dbda-0e12-4025-8084-a2730604f9bc",
   "metadata": {},
   "outputs": [],
   "source": [
    "import os\n",
    "import torch\n",
    "import numpy as np\n",
    "import torch.nn.functional as F\n",
    "\n",
    "from conditional_rate_matching.data.dataloaders_utils import get_dataloaders_crm\n",
    "from conditional_rate_matching.models.generative_models.crm import uniform_pair_x0_x1\n",
    "from conditional_rate_matching.configs.configs_classes.config_crm import CRMConfig as ConditionalRateMatchingConfig\n",
    "\n",
    "from conditional_rate_matching.models.generative_models.crm import (\n",
    "    CRM\n",
    ")\n",
    "\n",
    "from conditional_rate_matching.configs.config_files import ExperimentFiles\n",
    "from conditional_rate_matching.models.trainers.crm_trainer import CRMTrainer\n",
    "from conditional_rate_matching.configs.config_files import get_experiment_dir\n",
    "from conditional_rate_matching.configs.configs_classes.config_crm import CRMConfig\n",
    "\n",
    "from conditional_rate_matching.utils.plots.images_plots import plot_sample\n",
    "from conditional_rate_matching.models.pipelines.sdes_samplers.samplers import TauLeaping\n",
    "from conditional_rate_matching.configs.experiments_configs.crm.crm_experiments_nist import experiment_nist\n",
    "\n",
    "import pytest\n",
    "from conditional_rate_matching.models.metrics.crm_path_metrics import conditional_bridge_marginal_probabilities_and_rates_path,conditional_bridge_images\n",
    "from conditional_rate_matching.utils.plots.images_plots import mnist_grid,mnist_noise_bridge\n",
    "from conditional_rate_matching import results_path\n",
    "from conditional_rate_matching import plots_path\n",
    "from conditional_rate_matching.models.metrics.fid_metrics import load_classifier\n",
    "from matplotlib import pyplot as plt"
   ]
  },
  {
   "cell_type": "code",
   "execution_count": 39,
   "id": "6a38e2cd-4876-4d18-9173-9f17833b9d47",
   "metadata": {},
   "outputs": [
    {
     "name": "stderr",
     "output_type": "stream",
     "text": [
      "1000it [00:43, 22.81it/s]\n"
     ]
    }
   ],
   "source": [
    "##experiment_dir = os.path.join(results_path,\"emnist_2_mnist_lenet5\",\"emnist_2_mnist_lenet5\",\"run\")\n",
    "#experiment_dir = os.path.join(results_path,\"emnist_2_mnist_lenet5_OTPlanSampler\",\"emnist_2_mnist_lenet5_OTPlanSampler\",\"run\")\n",
    "#experiment_dir = os.path.join(results_path,\"emnist_2_mnist_lenet5_UniformCoupling\",\"emnist_2_mnist_lenet5_UniformCoupling\",\"run\")\n",
    "experiment_dir = os.path.join(results_path,\"emnist_2_mnist_lenet5_OTPlanSampler_1\",\"emnist_2_mnist_lenet5_OTPlanSampler_1\",\"run\")\n",
    "\n",
    "#experiment_dir = get_experiment_dir(experiment_name=\"prenzlauer_experiment\",\n",
    "#                                    experiment_type=\"crm\",\n",
    "#                                    experiment_indentifier=\"bridge_plot_mlp_mu_001\")\n",
    "\n",
    "label_to_see = 20\n",
    "number_of_images_to_see = 20\n",
    "steps_of_noise_to_see = 19\n",
    "\n",
    "save_path = os.path.join(plots_path,\"emnist_to_mnist_lenet5_Uniform_01.png\")\n",
    "device = torch.device(\"cpu\")\n",
    "crm = CRM(experiment_dir=experiment_dir, device=device)\n",
    "\n",
    "\n",
    "number_of_source_labels = crm.config.data0.number_of_labels\n",
    "number_of_target_labels = crm.config.data1.number_of_labels\n",
    "classifier = load_classifier(crm.config.data1.dataset_name,device) #CLASSIFIES TARGET AT TIME 1\n",
    "\n",
    "label_to_label_histograms = {label_source:torch.zeros(number_of_target_labels) for label_source in range(number_of_source_labels)}\n",
    "source_label_numbers = {label_source:0. for label_source in range(number_of_source_labels)}\n",
    "\n",
    "max_number_of_batches = 1\n",
    "number_of_batches = 0\n",
    "\n",
    "for databatch_0 in crm.dataloader_0.test():\n",
    "    images_ = databatch_0[0]\n",
    "    labels_ = databatch_0[1]\n",
    "\n",
    "    #evolves from the whole batch then performs statistics\n",
    "    crm.config.pipeline.num_intermediates = steps_of_noise_to_see\n",
    "    x_f = crm.pipeline(100,train=True,x_0=images_)\n",
    "\n",
    "    for label_to_see in range(number_of_source_labels):\n",
    "        selected_index = labels_ == label_to_see\n",
    "        selected_images = images_[selected_index]\n",
    "        selected_target = x_f[selected_index]\n",
    "        num_images_encountered = selected_images.size(0)\n",
    "        \n",
    "        if num_images_encountered > 0:\n",
    "            source_label_numbers[label_to_see] += num_images_encountered # how many images of that label in source\n",
    "            y = classifier(selected_target.view(-1,1,28,28))\n",
    "            y = torch.argmax(y,dim=1)\n",
    "            label_to_label_histograms[label_to_see] += F.one_hot(y,number_of_labels).sum(axis=0) # how many of the target images are encountered from that source\n",
    "\n",
    "    number_of_batches+=1\n",
    "    \n",
    "    if number_of_batches >= max_number_of_batches:\n",
    "        break\n",
    "y y\n",
    "    for source_label in range(number_of_source_labels):\n",
    "        label_to_label_histograms[source_label] =  label_to_label_histograms[source_label]/source_label_numbers[source_label]"
   ]
  },
  {
   "cell_type": "code",
   "execution_count": null,
   "id": "bc99d70c-f1f5-4930-8952-b517131f653e",
   "metadata": {},
   "outputs": [],
   "source": [
    "x_f, x_hist, ts = crm.pipeline(100,return_intermediaries=True,train=False,x_0=selected_images)\n",
    "print(x_f.shape)\n",
    "histograms_of_labels = torch.zeros(number_of_labels)"
   ]
  },
  {
   "cell_type": "code",
   "execution_count": 11,
   "id": "f117e853-84c9-45fb-afb8-0a731c161157",
   "metadata": {},
   "outputs": [
    {
     "data": {
      "text/plain": [
       "tensor([9, 6, 7, 2, 3, 6, 1, 0, 2, 9, 1, 2, 8, 9, 3, 9, 1, 4, 3, 7, 9])"
      ]
     },
     "execution_count": 11,
     "metadata": {},
     "output_type": "execute_result"
    }
   ],
   "source": [
    "torch.argmax(classifier(x_f.view(-1,1,28,28)),dim=1)"
   ]
  },
  {
   "cell_type": "code",
   "execution_count": null,
   "id": "271832ad-c1fc-4652-b03c-6cc4ed18452c",
   "metadata": {},
   "outputs": [],
   "source": []
  }
 ],
 "metadata": {
  "kernelspec": {
   "display_name": "Python 3 (ipykernel)",
   "language": "python",
   "name": "python3"
  },
  "language_info": {
   "codemirror_mode": {
    "name": "ipython",
    "version": 3
   },
   "file_extension": ".py",
   "mimetype": "text/x-python",
   "name": "python",
   "nbconvert_exporter": "python",
   "pygments_lexer": "ipython3",
   "version": "3.10.9"
  }
 },
 "nbformat": 4,
 "nbformat_minor": 5
}

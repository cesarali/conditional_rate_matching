{
 "cells": [
  {
   "cell_type": "code",
   "execution_count": 1,
   "metadata": {},
   "outputs": [
    {
     "name": "stderr",
     "output_type": "stream",
     "text": [
      "/home/df630/.conda/envs/conditional_rate_matching/lib/python3.10/site-packages/tqdm-4.66.1-py3.10.egg/tqdm/auto.py:21: TqdmWarning: IProgress not found. Please update jupyter and ipywidgets. See https://ipywidgets.readthedocs.io/en/stable/user_install.html\n",
      "  from .autonotebook import tqdm as notebook_tqdm\n"
     ]
    }
   ],
   "source": [
    "import os\n",
    "import torch\n",
    "\n",
    "from conditional_rate_matching.models.generative_models.crm import CRM\n",
    "from conditional_rate_matching.configs.configs_classes.config_crm import CRMConfig\n",
    "\n",
    "from conditional_rate_matching import data_path\n",
    "image_data_path = os.path.join(data_path,\"raw\")\n",
    "\n",
    "from conditional_rate_matching.models.metrics.metrics_utils import log_metrics, MetricsAvaliable\n",
    "metrics_avaliable = MetricsAvaliable()\n",
    "\n",
    "experiment_dir = \"/home/df630/conditional_rate_matching/results/test_piano_roll_transformer_1/crm_music/dario\"\n"
   ]
  },
  {
   "cell_type": "code",
   "execution_count": 2,
   "metadata": {},
   "outputs": [],
   "source": [
    "device ='cuda:2'\n",
    "crm = CRM(experiment_dir=experiment_dir, image_data_path=image_data_path, device=device)\n",
    "crm.config.pipeline.number_of_steps = 10\n",
    "crm.config.trainer.device = device\n",
    "crm.config.pipeline.device = device"
   ]
  },
  {
   "cell_type": "code",
   "execution_count": 3,
   "metadata": {},
   "outputs": [
    {
     "name": "stderr",
     "output_type": "stream",
     "text": [
      "0it [00:00, ?it/s]\n"
     ]
    },
    {
     "ename": "RuntimeError",
     "evalue": "Expected all tensors to be on the same device, but found at least two devices, cuda:2 and cpu!",
     "output_type": "error",
     "traceback": [
      "\u001b[0;31m---------------------------------------------------------------------------\u001b[0m",
      "\u001b[0;31mRuntimeError\u001b[0m                              Traceback (most recent call last)",
      "Cell \u001b[0;32mIn[3], line 1\u001b[0m\n\u001b[0;32m----> 1\u001b[0m log_metrics(crm, epoch\u001b[39m=\u001b[39;49m\u001b[39mNone\u001b[39;49;00m, all_metrics \u001b[39m=\u001b[39;49m {}, metrics_to_log\u001b[39m=\u001b[39;49m{metrics_avaliable\u001b[39m.\u001b[39;49mmse_histograms})\n",
      "File \u001b[0;32m~/conditional_rate_matching/src/conditional_rate_matching/models/metrics/metrics_utils.py:136\u001b[0m, in \u001b[0;36mlog_metrics\u001b[0;34m(generative_model, epoch, all_metrics, metrics_to_log, where_to_log, writer)\u001b[0m\n\u001b[1;32m    134\u001b[0m \u001b[39m#OBTAIN SAMPLES\u001b[39;00m\n\u001b[1;32m    135\u001b[0m \u001b[39mif\u001b[39;00m \u001b[39misinstance\u001b[39m(generative_model, CRM):\n\u001b[0;32m--> 136\u001b[0m     sizes, source_dataloader,data_dataloader,generative_sample, origin_sample, generative_path,ts,test_sample \u001b[39m=\u001b[39m sample_crm(generative_model, config)\n\u001b[1;32m    137\u001b[0m \u001b[39melif\u001b[39;00m \u001b[39misinstance\u001b[39m(generative_model, CTDD):\n\u001b[1;32m    138\u001b[0m     sizes, source_dataloader, data_dataloader, generative_sample,test_sample \u001b[39m=\u001b[39m sample_ctdd(generative_model,config)\n",
      "File \u001b[0;32m~/conditional_rate_matching/src/conditional_rate_matching/models/metrics/metrics_utils.py:85\u001b[0m, in \u001b[0;36msample_crm\u001b[0;34m(crm, config)\u001b[0m\n\u001b[1;32m     83\u001b[0m \u001b[39mif\u001b[39;00m \u001b[39mhasattr\u001b[39m(config\u001b[39m.\u001b[39mdata1,\u001b[39m\"\u001b[39m\u001b[39mconditional_model\u001b[39m\u001b[39m\"\u001b[39m):\n\u001b[1;32m     84\u001b[0m     \u001b[39mif\u001b[39;00m config\u001b[39m.\u001b[39mdata1\u001b[39m.\u001b[39mconditional_model:\n\u001b[0;32m---> 85\u001b[0m         generative_sample, original_sample, generative_path, ts \u001b[39m=\u001b[39m crm\u001b[39m.\u001b[39;49mpipeline(sample_size\u001b[39m=\u001b[39;49mtest_sample\u001b[39m.\u001b[39;49mshape[\u001b[39m0\u001b[39;49m],\n\u001b[1;32m     86\u001b[0m                                                                                return_intermediaries\u001b[39m=\u001b[39;49m\u001b[39mTrue\u001b[39;49;00m,\n\u001b[1;32m     87\u001b[0m                                                                                train\u001b[39m=\u001b[39;49m\u001b[39mFalse\u001b[39;49;00m,\n\u001b[1;32m     88\u001b[0m                                                                                origin\u001b[39m=\u001b[39;49m\u001b[39mTrue\u001b[39;49;00m)\n\u001b[1;32m     89\u001b[0m \u001b[39melse\u001b[39;00m:\n\u001b[1;32m     90\u001b[0m     generative_sample, generative_path, ts \u001b[39m=\u001b[39m crm\u001b[39m.\u001b[39mpipeline(sample_size\u001b[39m=\u001b[39mtest_sample\u001b[39m.\u001b[39mshape[\u001b[39m0\u001b[39m],return_intermediaries\u001b[39m=\u001b[39m\u001b[39mTrue\u001b[39;00m, train\u001b[39m=\u001b[39m\u001b[39mFalse\u001b[39;00m)\n",
      "File \u001b[0;32m~/conditional_rate_matching/src/conditional_rate_matching/models/pipelines/pipeline_crm.py:102\u001b[0m, in \u001b[0;36mCRMPipeline.__call__\u001b[0;34m(self, sample_size, train, return_path, return_intermediaries, batch_size, x_0, origin)\u001b[0m\n\u001b[1;32m    100\u001b[0m \u001b[39m# Slice the data into a batch\u001b[39;00m\n\u001b[1;32m    101\u001b[0m x_0_batch \u001b[39m=\u001b[39m x_0[:batch_size]\n\u001b[0;32m--> 102\u001b[0m x_f_batch, x_hist_batch, x0_hist_batch, ts \u001b[39m=\u001b[39m TauLeaping(\u001b[39mself\u001b[39;49m\u001b[39m.\u001b[39;49mconfig, \u001b[39mself\u001b[39;49m\u001b[39m.\u001b[39;49mmodel, x_0_batch,\n\u001b[1;32m    103\u001b[0m                                                               forward\u001b[39m=\u001b[39;49m\u001b[39mTrue\u001b[39;49;00m, return_path\u001b[39m=\u001b[39;49mreturn_path)\n\u001b[1;32m    105\u001b[0m \u001b[39m# Append the results from the batch\u001b[39;00m\n\u001b[1;32m    106\u001b[0m x_f_batches\u001b[39m.\u001b[39mappend(x_f_batch)\n",
      "File \u001b[0;32m~/conditional_rate_matching/src/conditional_rate_matching/models/pipelines/sdes_samplers/samplers.py:100\u001b[0m, in \u001b[0;36mTauLeaping\u001b[0;34m(config, rate_model, x_0, forward, return_path)\u001b[0m\n\u001b[1;32m     98\u001b[0m h \u001b[39m=\u001b[39m min_t\n\u001b[1;32m     99\u001b[0m times \u001b[39m=\u001b[39m t \u001b[39m*\u001b[39m torch\u001b[39m.\u001b[39mones(number_of_paths,)\u001b[39m.\u001b[39mto(device)\n\u001b[0;32m--> 100\u001b[0m rates \u001b[39m=\u001b[39m rate_model(x,times) \u001b[39m# (N, D, S)\u001b[39;00m\n\u001b[1;32m    101\u001b[0m x_0max \u001b[39m=\u001b[39m torch\u001b[39m.\u001b[39mmax(rates, dim\u001b[39m=\u001b[39m\u001b[39m2\u001b[39m)[\u001b[39m1\u001b[39m]\n\u001b[1;32m    103\u001b[0m \u001b[39mif\u001b[39;00m t \u001b[39min\u001b[39;00m save_ts:\n",
      "File \u001b[0;32m~/.conda/envs/conditional_rate_matching/lib/python3.10/site-packages/torch/nn/modules/module.py:1518\u001b[0m, in \u001b[0;36mModule._wrapped_call_impl\u001b[0;34m(self, *args, **kwargs)\u001b[0m\n\u001b[1;32m   1516\u001b[0m     \u001b[39mreturn\u001b[39;00m \u001b[39mself\u001b[39m\u001b[39m.\u001b[39m_compiled_call_impl(\u001b[39m*\u001b[39margs, \u001b[39m*\u001b[39m\u001b[39m*\u001b[39mkwargs)  \u001b[39m# type: ignore[misc]\u001b[39;00m\n\u001b[1;32m   1517\u001b[0m \u001b[39melse\u001b[39;00m:\n\u001b[0;32m-> 1518\u001b[0m     \u001b[39mreturn\u001b[39;00m \u001b[39mself\u001b[39;49m\u001b[39m.\u001b[39;49m_call_impl(\u001b[39m*\u001b[39;49margs, \u001b[39m*\u001b[39;49m\u001b[39m*\u001b[39;49mkwargs)\n",
      "File \u001b[0;32m~/.conda/envs/conditional_rate_matching/lib/python3.10/site-packages/torch/nn/modules/module.py:1527\u001b[0m, in \u001b[0;36mModule._call_impl\u001b[0;34m(self, *args, **kwargs)\u001b[0m\n\u001b[1;32m   1522\u001b[0m \u001b[39m# If we don't have any hooks, we want to skip the rest of the logic in\u001b[39;00m\n\u001b[1;32m   1523\u001b[0m \u001b[39m# this function, and just call forward.\u001b[39;00m\n\u001b[1;32m   1524\u001b[0m \u001b[39mif\u001b[39;00m \u001b[39mnot\u001b[39;00m (\u001b[39mself\u001b[39m\u001b[39m.\u001b[39m_backward_hooks \u001b[39mor\u001b[39;00m \u001b[39mself\u001b[39m\u001b[39m.\u001b[39m_backward_pre_hooks \u001b[39mor\u001b[39;00m \u001b[39mself\u001b[39m\u001b[39m.\u001b[39m_forward_hooks \u001b[39mor\u001b[39;00m \u001b[39mself\u001b[39m\u001b[39m.\u001b[39m_forward_pre_hooks\n\u001b[1;32m   1525\u001b[0m         \u001b[39mor\u001b[39;00m _global_backward_pre_hooks \u001b[39mor\u001b[39;00m _global_backward_hooks\n\u001b[1;32m   1526\u001b[0m         \u001b[39mor\u001b[39;00m _global_forward_hooks \u001b[39mor\u001b[39;00m _global_forward_pre_hooks):\n\u001b[0;32m-> 1527\u001b[0m     \u001b[39mreturn\u001b[39;00m forward_call(\u001b[39m*\u001b[39;49margs, \u001b[39m*\u001b[39;49m\u001b[39m*\u001b[39;49mkwargs)\n\u001b[1;32m   1529\u001b[0m \u001b[39mtry\u001b[39;00m:\n\u001b[1;32m   1530\u001b[0m     result \u001b[39m=\u001b[39m \u001b[39mNone\u001b[39;00m\n",
      "File \u001b[0;32m~/conditional_rate_matching/src/conditional_rate_matching/models/temporal_networks/rates/crm_rates.py:240\u001b[0m, in \u001b[0;36mClassificationForwardRate.forward\u001b[0;34m(self, x, time, conditional)\u001b[0m\n\u001b[1;32m    237\u001b[0m B \u001b[39m=\u001b[39m (w_1t \u001b[39m*\u001b[39m \u001b[39mself\u001b[39m\u001b[39m.\u001b[39mvocab_size) \u001b[39m/\u001b[39m (\u001b[39m1.\u001b[39m \u001b[39m-\u001b[39m w_1t)\n\u001b[1;32m    238\u001b[0m C \u001b[39m=\u001b[39m w_1t\n\u001b[0;32m--> 240\u001b[0m change_logits \u001b[39m=\u001b[39m \u001b[39mself\u001b[39;49m\u001b[39m.\u001b[39;49mclassify(x, time)\n\u001b[1;32m    241\u001b[0m change_classifier \u001b[39m=\u001b[39m softmax(change_logits, dim\u001b[39m=\u001b[39m\u001b[39m2\u001b[39m)\n\u001b[1;32m    243\u001b[0m \u001b[39m#x = x.reshape(batch_size,self.dimensions)\u001b[39;00m\n",
      "File \u001b[0;32m~/conditional_rate_matching/src/conditional_rate_matching/models/temporal_networks/rates/crm_rates.py:213\u001b[0m, in \u001b[0;36mClassificationForwardRate.classify\u001b[0;34m(self, x, times)\u001b[0m\n\u001b[1;32m    211\u001b[0m \u001b[39mif\u001b[39;00m current_shape \u001b[39m!=\u001b[39m expected_shape_for_temporal:\n\u001b[1;32m    212\u001b[0m     x \u001b[39m=\u001b[39m x\u001b[39m.\u001b[39mreshape(expected_shape_for_temporal)\n\u001b[0;32m--> 213\u001b[0m change_logits \u001b[39m=\u001b[39m \u001b[39mself\u001b[39;49m\u001b[39m.\u001b[39;49mtemporal_network(x,times)\n\u001b[1;32m    215\u001b[0m \u001b[39mif\u001b[39;00m \u001b[39mself\u001b[39m\u001b[39m.\u001b[39mtemporal_network\u001b[39m.\u001b[39mexpected_output_shape \u001b[39m!=\u001b[39m [\u001b[39mself\u001b[39m\u001b[39m.\u001b[39mdimensions,\u001b[39mself\u001b[39m\u001b[39m.\u001b[39mvocab_size]:\n\u001b[1;32m    216\u001b[0m     change_logits \u001b[39m=\u001b[39m change_logits\u001b[39m.\u001b[39mreshape(batch_size, \u001b[39m-\u001b[39m\u001b[39m1\u001b[39m)\n",
      "File \u001b[0;32m~/.conda/envs/conditional_rate_matching/lib/python3.10/site-packages/torch/nn/modules/module.py:1518\u001b[0m, in \u001b[0;36mModule._wrapped_call_impl\u001b[0;34m(self, *args, **kwargs)\u001b[0m\n\u001b[1;32m   1516\u001b[0m     \u001b[39mreturn\u001b[39;00m \u001b[39mself\u001b[39m\u001b[39m.\u001b[39m_compiled_call_impl(\u001b[39m*\u001b[39margs, \u001b[39m*\u001b[39m\u001b[39m*\u001b[39mkwargs)  \u001b[39m# type: ignore[misc]\u001b[39;00m\n\u001b[1;32m   1517\u001b[0m \u001b[39melse\u001b[39;00m:\n\u001b[0;32m-> 1518\u001b[0m     \u001b[39mreturn\u001b[39;00m \u001b[39mself\u001b[39;49m\u001b[39m.\u001b[39;49m_call_impl(\u001b[39m*\u001b[39;49margs, \u001b[39m*\u001b[39;49m\u001b[39m*\u001b[39;49mkwargs)\n",
      "File \u001b[0;32m~/.conda/envs/conditional_rate_matching/lib/python3.10/site-packages/torch/nn/modules/module.py:1527\u001b[0m, in \u001b[0;36mModule._call_impl\u001b[0;34m(self, *args, **kwargs)\u001b[0m\n\u001b[1;32m   1522\u001b[0m \u001b[39m# If we don't have any hooks, we want to skip the rest of the logic in\u001b[39;00m\n\u001b[1;32m   1523\u001b[0m \u001b[39m# this function, and just call forward.\u001b[39;00m\n\u001b[1;32m   1524\u001b[0m \u001b[39mif\u001b[39;00m \u001b[39mnot\u001b[39;00m (\u001b[39mself\u001b[39m\u001b[39m.\u001b[39m_backward_hooks \u001b[39mor\u001b[39;00m \u001b[39mself\u001b[39m\u001b[39m.\u001b[39m_backward_pre_hooks \u001b[39mor\u001b[39;00m \u001b[39mself\u001b[39m\u001b[39m.\u001b[39m_forward_hooks \u001b[39mor\u001b[39;00m \u001b[39mself\u001b[39m\u001b[39m.\u001b[39m_forward_pre_hooks\n\u001b[1;32m   1525\u001b[0m         \u001b[39mor\u001b[39;00m _global_backward_pre_hooks \u001b[39mor\u001b[39;00m _global_backward_hooks\n\u001b[1;32m   1526\u001b[0m         \u001b[39mor\u001b[39;00m _global_forward_hooks \u001b[39mor\u001b[39;00m _global_forward_pre_hooks):\n\u001b[0;32m-> 1527\u001b[0m     \u001b[39mreturn\u001b[39;00m forward_call(\u001b[39m*\u001b[39;49margs, \u001b[39m*\u001b[39;49m\u001b[39m*\u001b[39;49mkwargs)\n\u001b[1;32m   1529\u001b[0m \u001b[39mtry\u001b[39;00m:\n\u001b[1;32m   1530\u001b[0m     result \u001b[39m=\u001b[39m \u001b[39mNone\u001b[39;00m\n",
      "File \u001b[0;32m~/conditional_rate_matching/src/conditional_rate_matching/models/temporal_networks/temporal_transformers.py:295\u001b[0m, in \u001b[0;36mSequenceTransformer.forward\u001b[0;34m(self, x, times)\u001b[0m\n\u001b[1;32m    293\u001b[0m B, D \u001b[39m=\u001b[39m x\u001b[39m.\u001b[39mshape\n\u001b[1;32m    294\u001b[0m S \u001b[39m=\u001b[39m \u001b[39mself\u001b[39m\u001b[39m.\u001b[39mS\n\u001b[0;32m--> 295\u001b[0m logits \u001b[39m=\u001b[39m \u001b[39mself\u001b[39;49m\u001b[39m.\u001b[39;49mnet(x\u001b[39m.\u001b[39;49mlong(), times\u001b[39m.\u001b[39;49mlong()) \u001b[39m# (B, D, S)\u001b[39;00m\n\u001b[1;32m    297\u001b[0m \u001b[39mreturn\u001b[39;00m logits\u001b[39m.\u001b[39mto(x\u001b[39m.\u001b[39mdevice)\n",
      "File \u001b[0;32m~/.conda/envs/conditional_rate_matching/lib/python3.10/site-packages/torch/nn/modules/module.py:1518\u001b[0m, in \u001b[0;36mModule._wrapped_call_impl\u001b[0;34m(self, *args, **kwargs)\u001b[0m\n\u001b[1;32m   1516\u001b[0m     \u001b[39mreturn\u001b[39;00m \u001b[39mself\u001b[39m\u001b[39m.\u001b[39m_compiled_call_impl(\u001b[39m*\u001b[39margs, \u001b[39m*\u001b[39m\u001b[39m*\u001b[39mkwargs)  \u001b[39m# type: ignore[misc]\u001b[39;00m\n\u001b[1;32m   1517\u001b[0m \u001b[39melse\u001b[39;00m:\n\u001b[0;32m-> 1518\u001b[0m     \u001b[39mreturn\u001b[39;00m \u001b[39mself\u001b[39;49m\u001b[39m.\u001b[39;49m_call_impl(\u001b[39m*\u001b[39;49margs, \u001b[39m*\u001b[39;49m\u001b[39m*\u001b[39;49mkwargs)\n",
      "File \u001b[0;32m~/.conda/envs/conditional_rate_matching/lib/python3.10/site-packages/torch/nn/modules/module.py:1527\u001b[0m, in \u001b[0;36mModule._call_impl\u001b[0;34m(self, *args, **kwargs)\u001b[0m\n\u001b[1;32m   1522\u001b[0m \u001b[39m# If we don't have any hooks, we want to skip the rest of the logic in\u001b[39;00m\n\u001b[1;32m   1523\u001b[0m \u001b[39m# this function, and just call forward.\u001b[39;00m\n\u001b[1;32m   1524\u001b[0m \u001b[39mif\u001b[39;00m \u001b[39mnot\u001b[39;00m (\u001b[39mself\u001b[39m\u001b[39m.\u001b[39m_backward_hooks \u001b[39mor\u001b[39;00m \u001b[39mself\u001b[39m\u001b[39m.\u001b[39m_backward_pre_hooks \u001b[39mor\u001b[39;00m \u001b[39mself\u001b[39m\u001b[39m.\u001b[39m_forward_hooks \u001b[39mor\u001b[39;00m \u001b[39mself\u001b[39m\u001b[39m.\u001b[39m_forward_pre_hooks\n\u001b[1;32m   1525\u001b[0m         \u001b[39mor\u001b[39;00m _global_backward_pre_hooks \u001b[39mor\u001b[39;00m _global_backward_hooks\n\u001b[1;32m   1526\u001b[0m         \u001b[39mor\u001b[39;00m _global_forward_hooks \u001b[39mor\u001b[39;00m _global_forward_pre_hooks):\n\u001b[0;32m-> 1527\u001b[0m     \u001b[39mreturn\u001b[39;00m forward_call(\u001b[39m*\u001b[39;49margs, \u001b[39m*\u001b[39;49m\u001b[39m*\u001b[39;49mkwargs)\n\u001b[1;32m   1529\u001b[0m \u001b[39mtry\u001b[39;00m:\n\u001b[1;32m   1530\u001b[0m     result \u001b[39m=\u001b[39m \u001b[39mNone\u001b[39;00m\n",
      "File \u001b[0;32m~/conditional_rate_matching/src/conditional_rate_matching/models/temporal_networks/temporal_transformers.py:236\u001b[0m, in \u001b[0;36mTransformerEncoder.forward\u001b[0;34m(self, x, times)\u001b[0m\n\u001b[1;32m    233\u001b[0m     x \u001b[39m=\u001b[39m x\u001b[39m.\u001b[39mview(B, L, \u001b[39m1\u001b[39m)\n\u001b[1;32m    234\u001b[0m     x \u001b[39m=\u001b[39m \u001b[39mself\u001b[39m\u001b[39m.\u001b[39minput_embedding(x)  \u001b[39m# (B, L, K)\u001b[39;00m\n\u001b[0;32m--> 236\u001b[0m x \u001b[39m=\u001b[39m \u001b[39mself\u001b[39;49m\u001b[39m.\u001b[39;49mpos_embed(x)\n\u001b[1;32m    238\u001b[0m \u001b[39mfor\u001b[39;00m encoder_layer \u001b[39min\u001b[39;00m \u001b[39mself\u001b[39m\u001b[39m.\u001b[39mencoder_layers:\n\u001b[1;32m    239\u001b[0m     x \u001b[39m=\u001b[39m encoder_layer(x, temb)\n",
      "File \u001b[0;32m~/.conda/envs/conditional_rate_matching/lib/python3.10/site-packages/torch/nn/modules/module.py:1518\u001b[0m, in \u001b[0;36mModule._wrapped_call_impl\u001b[0;34m(self, *args, **kwargs)\u001b[0m\n\u001b[1;32m   1516\u001b[0m     \u001b[39mreturn\u001b[39;00m \u001b[39mself\u001b[39m\u001b[39m.\u001b[39m_compiled_call_impl(\u001b[39m*\u001b[39margs, \u001b[39m*\u001b[39m\u001b[39m*\u001b[39mkwargs)  \u001b[39m# type: ignore[misc]\u001b[39;00m\n\u001b[1;32m   1517\u001b[0m \u001b[39melse\u001b[39;00m:\n\u001b[0;32m-> 1518\u001b[0m     \u001b[39mreturn\u001b[39;00m \u001b[39mself\u001b[39;49m\u001b[39m.\u001b[39;49m_call_impl(\u001b[39m*\u001b[39;49margs, \u001b[39m*\u001b[39;49m\u001b[39m*\u001b[39;49mkwargs)\n",
      "File \u001b[0;32m~/.conda/envs/conditional_rate_matching/lib/python3.10/site-packages/torch/nn/modules/module.py:1527\u001b[0m, in \u001b[0;36mModule._call_impl\u001b[0;34m(self, *args, **kwargs)\u001b[0m\n\u001b[1;32m   1522\u001b[0m \u001b[39m# If we don't have any hooks, we want to skip the rest of the logic in\u001b[39;00m\n\u001b[1;32m   1523\u001b[0m \u001b[39m# this function, and just call forward.\u001b[39;00m\n\u001b[1;32m   1524\u001b[0m \u001b[39mif\u001b[39;00m \u001b[39mnot\u001b[39;00m (\u001b[39mself\u001b[39m\u001b[39m.\u001b[39m_backward_hooks \u001b[39mor\u001b[39;00m \u001b[39mself\u001b[39m\u001b[39m.\u001b[39m_backward_pre_hooks \u001b[39mor\u001b[39;00m \u001b[39mself\u001b[39m\u001b[39m.\u001b[39m_forward_hooks \u001b[39mor\u001b[39;00m \u001b[39mself\u001b[39m\u001b[39m.\u001b[39m_forward_pre_hooks\n\u001b[1;32m   1525\u001b[0m         \u001b[39mor\u001b[39;00m _global_backward_pre_hooks \u001b[39mor\u001b[39;00m _global_backward_hooks\n\u001b[1;32m   1526\u001b[0m         \u001b[39mor\u001b[39;00m _global_forward_hooks \u001b[39mor\u001b[39;00m _global_forward_pre_hooks):\n\u001b[0;32m-> 1527\u001b[0m     \u001b[39mreturn\u001b[39;00m forward_call(\u001b[39m*\u001b[39;49margs, \u001b[39m*\u001b[39;49m\u001b[39m*\u001b[39;49mkwargs)\n\u001b[1;32m   1529\u001b[0m \u001b[39mtry\u001b[39;00m:\n\u001b[1;32m   1530\u001b[0m     result \u001b[39m=\u001b[39m \u001b[39mNone\u001b[39;00m\n",
      "File \u001b[0;32m~/conditional_rate_matching/src/conditional_rate_matching/models/temporal_networks/temporal_transformers.py:108\u001b[0m, in \u001b[0;36mPositionalEncoding.forward\u001b[0;34m(self, x)\u001b[0m\n\u001b[1;32m    102\u001b[0m \u001b[39mdef\u001b[39;00m \u001b[39mforward\u001b[39m(\u001b[39mself\u001b[39m, x: TensorType[\u001b[39m\"\u001b[39m\u001b[39mB\u001b[39m\u001b[39m\"\u001b[39m, \u001b[39m\"\u001b[39m\u001b[39mL\u001b[39m\u001b[39m\"\u001b[39m, \u001b[39m\"\u001b[39m\u001b[39mK\u001b[39m\u001b[39m\"\u001b[39m]\n\u001b[1;32m    103\u001b[0m             ) \u001b[39m-\u001b[39m\u001b[39m>\u001b[39m TensorType[\u001b[39m\"\u001b[39m\u001b[39mB\u001b[39m\u001b[39m\"\u001b[39m, \u001b[39m\"\u001b[39m\u001b[39mL\u001b[39m\u001b[39m\"\u001b[39m, \u001b[39m\"\u001b[39m\u001b[39mK\u001b[39m\u001b[39m\"\u001b[39m]:\n\u001b[1;32m    104\u001b[0m \u001b[39m    \u001b[39m\u001b[39m\"\"\"\u001b[39;00m\n\u001b[1;32m    105\u001b[0m \u001b[39m    Args:\u001b[39;00m\n\u001b[1;32m    106\u001b[0m \u001b[39m        x: Tensor, shape [batch_size, seq_len, embedding_dim]\u001b[39;00m\n\u001b[1;32m    107\u001b[0m \u001b[39m    \"\"\"\u001b[39;00m\n\u001b[0;32m--> 108\u001b[0m     x \u001b[39m=\u001b[39m x \u001b[39m+\u001b[39;49m \u001b[39mself\u001b[39;49m\u001b[39m.\u001b[39;49mpe[:, \u001b[39m0\u001b[39;49m:x\u001b[39m.\u001b[39;49msize(\u001b[39m1\u001b[39;49m), :]\n\u001b[1;32m    109\u001b[0m     \u001b[39mreturn\u001b[39;00m \u001b[39mself\u001b[39m\u001b[39m.\u001b[39mdropout(x)\n",
      "\u001b[0;31mRuntimeError\u001b[0m: Expected all tensors to be on the same device, but found at least two devices, cuda:2 and cpu!"
     ]
    }
   ],
   "source": [
    "log_metrics(crm, epoch=None, all_metrics = {}, metrics_to_log={metrics_avaliable.mse_histograms})"
   ]
  },
  {
   "cell_type": "code",
   "execution_count": null,
   "metadata": {},
   "outputs": [],
   "source": []
  }
 ],
 "metadata": {
  "kernelspec": {
   "display_name": "conditional_rate_matching",
   "language": "python",
   "name": "python3"
  },
  "language_info": {
   "codemirror_mode": {
    "name": "ipython",
    "version": 3
   },
   "file_extension": ".py",
   "mimetype": "text/x-python",
   "name": "python",
   "nbconvert_exporter": "python",
   "pygments_lexer": "ipython3",
   "version": "3.10.9"
  },
  "orig_nbformat": 4
 },
 "nbformat": 4,
 "nbformat_minor": 2
}

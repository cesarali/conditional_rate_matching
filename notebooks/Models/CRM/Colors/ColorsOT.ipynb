{
 "cells": [
  {
   "cell_type": "code",
   "execution_count": 1,
   "metadata": {},
   "outputs": [
    {
     "name": "stderr",
     "output_type": "stream",
     "text": [
      "/home/df630/.conda/envs/conditional_rate_matching/lib/python3.10/site-packages/tqdm-4.66.1-py3.10.egg/tqdm/auto.py:21: TqdmWarning: IProgress not found. Please update jupyter and ipywidgets. See https://ipywidgets.readthedocs.io/en/stable/user_install.html\n",
      "  from .autonotebook import tqdm as notebook_tqdm\n"
     ]
    }
   ],
   "source": [
    "import os\n",
    "import torch\n",
    "import numpy as np\n",
    "from pprint import pprint\n",
    "from dataclasses import dataclass, asdict\n",
    "from matplotlib import pyplot as plt\n",
    "from matplotlib.gridspec import GridSpec\n",
    "\n",
    "import torch.nn.functional as F\n",
    "\n",
    "from conditional_rate_matching.models.generative_models.crm import CRM\n",
    "from conditional_rate_matching.configs.configs_classes.config_crm import CRMConfig,BasicPipelineConfig\n",
    "from conditional_rate_matching.data.states_dataloaders_config import StatesDataloaderConfig\n",
    "from conditional_rate_matching.data.dataloaders_utils import get_dataloaders_crm\n",
    "from conditional_rate_matching.models.trainers.call_all_trainers import call_trainer\n",
    "\n",
    "from conditional_rate_matching.configs.config_files import ExperimentFiles\n",
    "\n",
    "from conditional_rate_matching.configs.configs_classes.config_crm import CRMConfig\n",
    "from conditional_rate_matching.configs.configs_classes.config_crm import CRMTrainerConfig\n",
    "from conditional_rate_matching.configs.configs_classes.config_crm import OptimalTransportSamplerConfig\n",
    "\n",
    "from conditional_rate_matching.models.trainers.crm_trainer import CRMTrainer\n",
    "from conditional_rate_matching.utils.histograms import (\n",
    "    categorical_histogram_dataloader,\n",
    "    categorical_counts_per_path,\n",
    "    get_conditional_histograms_paths,\n",
    "    plot_time_series_histograms\n",
    ")\n",
    "from conditional_rate_matching.models.trainers.crm_trainer import CRMDataloder\n",
    "from conditional_rate_matching.models.pipelines.thermostat.crm_thermostat_config import ConstantThermostatConfig,LogThermostatConfig\n"
   ]
  },
  {
   "cell_type": "code",
   "execution_count": 3,
   "metadata": {},
   "outputs": [],
   "source": [
    "config = CRMConfig()\n",
    "device = 'cpu'\n",
    "vocab_size = 6\n",
    "dimensions = 2\n",
    "gamma=1./vocab_size\n",
    "config.data0 = StatesDataloaderConfig(dimensions=1,vocab_size=vocab_size)\n",
    "config.data1 = StatesDataloaderConfig(dirichlet_alpha=0.025,\n",
    "                                      total_data_size=500,\n",
    "                                      dimensions=dimensions,\n",
    "                                      vocab_size=vocab_size,\n",
    "                                      test_size=0.1)\n",
    "\n",
    "config.pipeline = BasicPipelineConfig(number_of_steps=100)\n",
    "config.thermostat = ConstantThermostatConfig(gamma=gamma)\n",
    "config.trainer = CRMTrainerConfig(number_of_epochs=100,learning_rate=1e-3, device=device)\n",
    "config.optimal_transport = OptimalTransportSamplerConfig(name=\"uniform\",cost=\"log\")\n",
    "\n",
    "crm = CRM(config=config)"
   ]
  },
  {
   "cell_type": "markdown",
   "metadata": {},
   "source": [
    "# Train Model"
   ]
  },
  {
   "cell_type": "code",
   "execution_count": 4,
   "metadata": {},
   "outputs": [
    {
     "name": "stdout",
     "output_type": "stream",
     "text": [
      "# ==================================================\n",
      "# START OF TRAINING \n",
      "# ==================================================\n",
      "# Current Model ************************************\n",
      "tutorial\n",
      "crm\n",
      "None\n",
      "# ==================================================\n",
      "# Number of Epochs 100\n",
      "# ==================================================\n"
     ]
    },
    {
     "name": "stderr",
     "output_type": "stream",
     "text": [
      "Epoch 100, Loss: 0.0011: 100%|██████████| 100/100 [00:13<00:00,  7.62it/s]\n"
     ]
    }
   ],
   "source": [
    "experiment_files = ExperimentFiles(experiment_name=\"crm\",\n",
    "                                   experiment_type=\"tutorial\",\n",
    "                                   experiment_indentifier=None)\n",
    "crm_trainer = CRMTrainer(config, experiment_files) # TRAINER CREATES MODEL FROM CONFIG FILE\n",
    "results_, all_metrics = crm_trainer.train()"
   ]
  },
  {
   "cell_type": "code",
   "execution_count": 5,
   "metadata": {},
   "outputs": [
    {
     "name": "stderr",
     "output_type": "stream",
     "text": [
      "0it [00:00, ?it/s]"
     ]
    },
    {
     "name": "stderr",
     "output_type": "stream",
     "text": [
      "200it [00:01, 174.55it/s]\n"
     ]
    }
   ],
   "source": [
    "crm = CRM(experiment_dir=experiment_files.experiment_dir)\n",
    "crm.config.pipeline.number_of_steps = 200\n",
    "sample_x = crm.pipeline(sample_size=10,train=False)\n"
   ]
  },
  {
   "cell_type": "code",
   "execution_count": 8,
   "metadata": {},
   "outputs": [
    {
     "name": "stderr",
     "output_type": "stream",
     "text": [
      "200it [00:01, 170.26it/s]\n",
      "200it [00:01, 167.92it/s]\n",
      "200it [00:01, 168.15it/s]\n",
      "200it [00:00, 206.97it/s]\n"
     ]
    },
    {
     "ename": "RuntimeError",
     "evalue": "Expected all tensors to be on the same device, but found at least two devices, cuda:0 and cpu!",
     "output_type": "error",
     "traceback": [
      "\u001b[0;31m---------------------------------------------------------------------------\u001b[0m",
      "\u001b[0;31mRuntimeError\u001b[0m                              Traceback (most recent call last)",
      "Cell \u001b[0;32mIn[8], line 8\u001b[0m\n\u001b[1;32m      6\u001b[0m histogram_1 \u001b[39m=\u001b[39m categorical_histogram_dataloader(crm\u001b[39m.\u001b[39mdataloader_1,dimensions\u001b[39m=\u001b[39mdimensions,number_of_classes\u001b[39m=\u001b[39mvocab_size)\n\u001b[1;32m      7\u001b[0m histograms_paths \u001b[39m=\u001b[39m categorical_counts_per_path(x_path\u001b[39m.\u001b[39mcpu(),dimensions\u001b[39m=\u001b[39m\u001b[39m3\u001b[39m,vocab_size\u001b[39m=\u001b[39mvocab_size,normalize\u001b[39m=\u001b[39m\u001b[39mTrue\u001b[39;00m)\n\u001b[0;32m----> 8\u001b[0m conditional_histograms_paths \u001b[39m=\u001b[39m get_conditional_histograms_paths(crm,t_path\u001b[39m.\u001b[39;49mcpu(),num_timesteps_to_plot\u001b[39m=\u001b[39;49m\u001b[39m10\u001b[39;49m)\n",
      "File \u001b[0;32m~/conditional_rate_matching/src/conditional_rate_matching/utils/histograms.py:53\u001b[0m, in \u001b[0;36mget_conditional_histograms_paths\u001b[0;34m(crm, t_path, num_timesteps_to_plot)\u001b[0m\n\u001b[1;32m     51\u001b[0m         sampled_x \u001b[39m=\u001b[39m crm\u001b[39m.\u001b[39mforward_rate\u001b[39m.\u001b[39msample_x(x_1, x_0, time)\n\u001b[1;32m     52\u001b[0m         counts_in_sample \u001b[39m=\u001b[39m F\u001b[39m.\u001b[39mone_hot(sampled_x,num_classes\u001b[39m=\u001b[39mvocab_size)\u001b[39m.\u001b[39msum(axis\u001b[39m=\u001b[39m\u001b[39m0\u001b[39m)\n\u001b[0;32m---> 53\u001b[0m         conditional_histograms_paths[time_index] \u001b[39m+\u001b[39m\u001b[39m=\u001b[39m counts_in_sample\n\u001b[1;32m     54\u001b[0m     sample_size \u001b[39m+\u001b[39m\u001b[39m=\u001b[39m batch_size\n\u001b[1;32m     56\u001b[0m conditional_histograms_paths \u001b[39m=\u001b[39m conditional_histograms_paths\u001b[39m/\u001b[39msample_size\n",
      "\u001b[0;31mRuntimeError\u001b[0m: Expected all tensors to be on the same device, but found at least two devices, cuda:0 and cpu!"
     ]
    }
   ],
   "source": [
    "# dimensions = config.data1.dimensions\n",
    "# vocab_size = config.data1.vocab_size\n",
    "\n",
    "x_f, x_path, t_path = crm.pipeline(sample_size=500,return_path=True)\n",
    "histogram_0 = categorical_histogram_dataloader(crm.dataloader_0,dimensions=dimensions,number_of_classes=vocab_size)\n",
    "histogram_1 = categorical_histogram_dataloader(crm.dataloader_1,dimensions=dimensions,number_of_classes=vocab_size)\n",
    "histograms_paths = categorical_counts_per_path(x_path.cpu(),dimensions=3,vocab_size=vocab_size,normalize=True)\n",
    "conditional_histograms_paths = get_conditional_histograms_paths(crm,t_path.cpu(),num_timesteps_to_plot=10)"
   ]
  },
  {
   "cell_type": "code",
   "execution_count": 7,
   "metadata": {},
   "outputs": [
    {
     "data": {
      "image/png": "[encoded data removed]",
      "text/plain": [
       "<Figure size 2000x600 with 20 Axes>"
      ]
     },
     "metadata": {},
     "output_type": "display_data"
    }
   ],
   "source": [
    "indices = plot_time_series_histograms(histograms_paths, conditional_histograms_paths, 10)"
   ]
  },
  {
   "cell_type": "code",
   "execution_count": 9,
   "metadata": {},
   "outputs": [],
   "source": [
    "databatch0 = next(crm.dataloader_0.train().__iter__())\n",
    "databatch1 = next(crm.dataloader_1.train().__iter__())"
   ]
  },
  {
   "cell_type": "code",
   "execution_count": 11,
   "metadata": {},
   "outputs": [
    {
     "data": {
      "text/plain": [
       "(tensor([[2., 1.],\n",
       "         [2., 2.],\n",
       "         [4., 2.],\n",
       "         [5., 1.],\n",
       "         [1., 1.],\n",
       "         [3., 1.],\n",
       "         [2., 3.],\n",
       "         [1., 2.],\n",
       "         [2., 5.],\n",
       "         [2., 2.],\n",
       "         [5., 4.],\n",
       "         [4., 1.],\n",
       "         [5., 3.],\n",
       "         [2., 0.],\n",
       "         [0., 1.],\n",
       "         [0., 0.],\n",
       "         [3., 2.],\n",
       "         [3., 2.],\n",
       "         [0., 0.],\n",
       "         [3., 3.],\n",
       "         [2., 2.],\n",
       "         [1., 5.],\n",
       "         [2., 2.]]),\n",
       " tensor([[5., 3.],\n",
       "         [5., 3.],\n",
       "         [5., 3.],\n",
       "         [5., 3.],\n",
       "         [5., 3.],\n",
       "         [5., 3.],\n",
       "         [5., 3.],\n",
       "         [5., 3.],\n",
       "         [5., 3.],\n",
       "         [5., 3.],\n",
       "         [5., 3.],\n",
       "         [5., 3.],\n",
       "         [5., 3.],\n",
       "         [5., 3.],\n",
       "         [5., 3.],\n",
       "         [5., 3.],\n",
       "         [5., 3.],\n",
       "         [5., 3.],\n",
       "         [5., 3.],\n",
       "         [5., 3.],\n",
       "         [5., 3.],\n",
       "         [5., 3.],\n",
       "         [5., 3.]]))"
      ]
     },
     "execution_count": 11,
     "metadata": {},
     "output_type": "execute_result"
    }
   ],
   "source": [
    "crm.sample_pair(databatch0,databatch1,torch.device(\"cpu\"))"
   ]
  },
  {
   "cell_type": "markdown",
   "metadata": {},
   "source": [
    "# Calculate Metrics Again"
   ]
  },
  {
   "cell_type": "code",
   "execution_count": null,
   "metadata": {},
   "outputs": [],
   "source": [
    "from conditional_rate_matching.models.metrics.metrics_utils import log_metrics, MetricsAvaliable\n",
    "metrics_avaliable = MetricsAvaliable()"
   ]
  },
  {
   "cell_type": "code",
   "execution_count": null,
   "metadata": {},
   "outputs": [],
   "source": [
    "# number of samples requiered to calculate the test \n",
    "# this number should not be that big as the sample and paths are stored to perform the statistics\n",
    "crm.config.trainer.max_test_size = crm.config.data1.test_size \n",
    "crm.config.pipeline.number_of_steps = 100\n",
    "crm.config.data1.test_size "
   ]
  },
  {
   "cell_type": "code",
   "execution_count": null,
   "metadata": {},
   "outputs": [],
   "source": [
    "metric_string = metrics_avaliable.mse_histograms\n",
    "test_statistics = []\n",
    "for i in range(10):\n",
    "    metrics = log_metrics(crm,all_metrics={},metrics_to_log={metric_string})\n",
    "    print(metrics)\n",
    "    test_statistics.append(metrics[\"mse_marginal_histograms\"])\n",
    "test_statistics = np.asarray(test_statistics)"
   ]
  }
 ],
 "metadata": {
  "kernelspec": {
   "display_name": "rate_matching",
   "language": "python",
   "name": "python3"
  },
  "language_info": {
   "codemirror_mode": {
    "name": "ipython",
    "version": 3
   },
   "file_extension": ".py",
   "mimetype": "text/x-python",
   "name": "python",
   "nbconvert_exporter": "python",
   "pygments_lexer": "ipython3",
   "version": "3.10.9"
  }
 },
 "nbformat": 4,
 "nbformat_minor": 2
}

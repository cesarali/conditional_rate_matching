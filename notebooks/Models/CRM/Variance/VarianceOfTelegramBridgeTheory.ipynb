{
 "cells": [
  {
   "cell_type": "code",
   "execution_count": 1,
   "id": "0a0a41f1-9617-44b3-a98f-952035afdc03",
   "metadata": {},
   "outputs": [],
   "source": [
    "import sympy as sp\n",
    "from sympy import print_latex"
   ]
  },
  {
   "cell_type": "code",
   "execution_count": 2,
   "id": "4f6b43da-1a82-4744-bade-6cdbd2641084",
   "metadata": {},
   "outputs": [],
   "source": [
    "# Define the symbols\n",
    "S, w_1t, w_t0, w_10 = sp.symbols('S w_1t w_t0 w_10', real=True, positive=True)\n",
    "i, j, k = sp.symbols('i j k', integer=True)"
   ]
  },
  {
   "cell_type": "markdown",
   "id": "f7bbf4ff-b550-4634-8a8e-5385cd0e4388",
   "metadata": {},
   "source": [
    "\\begin{align*}\n",
    "    p(x_t=k|x_0=i,x_1=j) = \\frac{p(x_1|x_t=k) p(x_t=k|x_0)}{p(x_1|x_0)}\n",
    "\\end{align*}}"
   ]
  },
  {
   "cell_type": "code",
   "execution_count": 3,
   "id": "83cbb9c0-210c-4eea-aab4-8b6fd2509bec",
   "metadata": {},
   "outputs": [],
   "source": [
    "# Define the probability function\n",
    "x_1 = i\n",
    "x_0 = j\n",
    "x_t = k\n",
    "P_10 = 1/S + w_10 * (-1/S + sp.KroneckerDelta(i, j))\n",
    "P_1t = 1/S + w_1t * (-1/S + sp.KroneckerDelta(i, k))\n",
    "P_t0 = 1/S + w_t0 * (-1/S + sp.KroneckerDelta(k, j))\n",
    "\n",
    "P_bridge = (P_1t*P_t0)/P_10"
   ]
  },
  {
   "cell_type": "code",
   "execution_count": 4,
   "id": "35017f41-c8a4-41a7-97de-10490e5598e2",
   "metadata": {},
   "outputs": [
    {
     "data": {
      "text/latex": [
       "$\\displaystyle \\frac{\\left(w_{1t} \\left(S \\delta_{i k} - 1\\right) + 1\\right) \\left(w_{t0} \\left(S \\delta_{j k} - 1\\right) + 1\\right)}{S \\left(w_{10} \\left(S \\delta_{i j} - 1\\right) + 1\\right)}$"
      ],
      "text/plain": [
       "(w_1t*(S*KroneckerDelta(i, k) - 1) + 1)*(w_t0*(S*KroneckerDelta(j, k) - 1) + 1)/(S*(w_10*(S*KroneckerDelta(i, j) - 1) + 1))"
      ]
     },
     "execution_count": 4,
     "metadata": {},
     "output_type": "execute_result"
    }
   ],
   "source": [
    "P_bridge.simplify()"
   ]
  },
  {
   "cell_type": "code",
   "execution_count": 5,
   "id": "fb5ab040-8acb-4ced-924a-264a65c3aef6",
   "metadata": {},
   "outputs": [
    {
     "data": {
      "text/latex": [
       "$\\displaystyle \\begin{cases} \\frac{i \\left(S w_{1t} w_{t0} \\delta_{i j} - w_{1t} w_{t0} + 1\\right)}{w_{10} \\left(S \\delta_{i j} - 1\\right) + 1} & \\text{for}\\: S \\geq i \\wedge S \\geq j \\wedge i \\geq 1 \\wedge j \\geq 1 \\\\\\frac{i \\left(1 - w_{1t}\\right)}{w_{10} \\left(S \\delta_{i j} - 1\\right) + 1} & \\text{for}\\: S \\geq j \\wedge j \\geq 1 \\\\\\frac{i \\left(S w_{1t} w_{t0} \\delta_{i j} - w_{t0} + 1\\right)}{w_{10} \\left(S \\delta_{i j} - 1\\right) + 1} & \\text{for}\\: S \\geq i \\wedge i \\geq 1 \\\\\\frac{i \\left(w_{1t} w_{t0} - w_{1t} - w_{t0} + 1\\right)}{w_{10} \\left(S \\delta_{i j} - 1\\right) + 1} & \\text{otherwise} \\end{cases}$"
      ],
      "text/plain": [
       "Piecewise((i*(S*w_1t*w_t0*KroneckerDelta(i, j) - w_1t*w_t0 + 1)/(w_10*(S*KroneckerDelta(i, j) - 1) + 1), (S >= i) & (S >= j) & (i >= 1) & (j >= 1)), (i*(1 - w_1t)/(w_10*(S*KroneckerDelta(i, j) - 1) + 1), (S >= j) & (j >= 1)), (i*(S*w_1t*w_t0*KroneckerDelta(i, j) - w_t0 + 1)/(w_10*(S*KroneckerDelta(i, j) - 1) + 1), (S >= i) & (i >= 1)), (i*(w_1t*w_t0 - w_1t - w_t0 + 1)/(w_10*(S*KroneckerDelta(i, j) - 1) + 1), True))"
      ]
     },
     "execution_count": 5,
     "metadata": {},
     "output_type": "execute_result"
    }
   ],
   "source": [
    "# Calculate the expected value (mean)\n",
    "mean_expr = sp.Sum(i * P_bridge, (k, 1, S))\n",
    "mean = mean_expr.doit().simplify()\n",
    "mean"
   ]
  },
  {
   "cell_type": "code",
   "execution_count": 6,
   "id": "6b94da98-b6b0-487e-bf1d-5e3373dcf34f",
   "metadata": {},
   "outputs": [
    {
     "data": {
      "text/latex": [
       "$\\displaystyle \\frac{i \\left(S w_{1t} w_{t0} \\delta_{i j} - w_{1t} w_{t0} + 1\\right)}{w_{10} \\left(S \\delta_{i j} - 1\\right) + 1}$"
      ],
      "text/plain": [
       "i*(S*w_1t*w_t0*KroneckerDelta(i, j) - w_1t*w_t0 + 1)/(w_10*(S*KroneckerDelta(i, j) - 1) + 1)"
      ]
     },
     "execution_count": 6,
     "metadata": {},
     "output_type": "execute_result"
    }
   ],
   "source": [
    "mean_ = mean.args[0].args[0]\n",
    "mean_"
   ]
  },
  {
   "cell_type": "code",
   "execution_count": 30,
   "id": "60886058-be69-4576-91cc-91a2b58281dc",
   "metadata": {},
   "outputs": [
    {
     "name": "stdout",
     "output_type": "stream",
     "text": [
      "\\frac{i \\left(S w_{1t} w_{t0} \\delta_{i j} - w_{1t} w_{t0} + 1\\right)}{w_{10} \\left(S \\delta_{i j} - 1\\right) + 1}\n"
     ]
    }
   ],
   "source": [
    "print_latex(mean_)"
   ]
  },
  {
   "cell_type": "code",
   "execution_count": 27,
   "id": "1448b5a2-3ea2-4523-88fa-d789a72788f2",
   "metadata": {},
   "outputs": [
    {
     "data": {
      "text/latex": [
       "$\\displaystyle \\begin{cases} \\frac{i^{2} \\left(S w_{1t} w_{t0} \\delta_{i j} - w_{1t} w_{t0} + 1\\right)^{2}}{\\left(w_{10} \\left(S \\delta_{i j} - 1\\right) + 1\\right)^{2}} & \\text{for}\\: S \\geq i \\wedge S \\geq j \\wedge i \\geq 1 \\wedge j \\geq 1 \\\\\\frac{i^{2} \\left(1 - w_{1t}\\right)^{2}}{\\left(w_{10} \\left(S \\delta_{i j} - 1\\right) + 1\\right)^{2}} & \\text{for}\\: S \\geq j \\wedge j \\geq 1 \\\\\\frac{i^{2} \\left(S w_{1t} w_{t0} \\delta_{i j} - w_{t0} + 1\\right)^{2}}{\\left(w_{10} \\left(S \\delta_{i j} - 1\\right) + 1\\right)^{2}} & \\text{for}\\: S \\geq i \\wedge i \\geq 1 \\\\\\frac{i^{2} \\left(w_{1t} w_{t0} - w_{1t} - w_{t0} + 1\\right)^{2}}{\\left(w_{10} \\left(S \\delta_{i j} - 1\\right) + 1\\right)^{2}} & \\text{otherwise} \\end{cases}$"
      ],
      "text/plain": [
       "Piecewise((i**2*(S*w_1t*w_t0*KroneckerDelta(i, j) - w_1t*w_t0 + 1)**2/(w_10*(S*KroneckerDelta(i, j) - 1) + 1)**2, (S >= i) & (S >= j) & (i >= 1) & (j >= 1)), (i**2*(1 - w_1t)**2/(w_10*(S*KroneckerDelta(i, j) - 1) + 1)**2, (S >= j) & (j >= 1)), (i**2*(S*w_1t*w_t0*KroneckerDelta(i, j) - w_t0 + 1)**2/(w_10*(S*KroneckerDelta(i, j) - 1) + 1)**2, (S >= i) & (i >= 1)), (i**2*(w_1t*w_t0 - w_1t - w_t0 + 1)**2/(w_10*(S*KroneckerDelta(i, j) - 1) + 1)**2, True))"
      ]
     },
     "execution_count": 27,
     "metadata": {},
     "output_type": "execute_result"
    }
   ],
   "source": [
    "# square the mean\n",
    "mean_squared = mean**2\n",
    "mean_squared.simplify()\n",
    "mean_squared"
   ]
  },
  {
   "cell_type": "code",
   "execution_count": 28,
   "id": "b04e3a65-3970-46e3-850b-3a87b746b87a",
   "metadata": {},
   "outputs": [
    {
     "data": {
      "text/latex": [
       "$\\displaystyle \\frac{i^{2} \\left(S w_{1t} w_{t0} \\delta_{i j} - w_{1t} w_{t0} + 1\\right)^{2}}{\\left(w_{10} \\left(S \\delta_{i j} - 1\\right) + 1\\right)^{2}}$"
      ],
      "text/plain": [
       "i**2*(S*w_1t*w_t0*KroneckerDelta(i, j) - w_1t*w_t0 + 1)**2/(w_10*(S*KroneckerDelta(i, j) - 1) + 1)**2"
      ]
     },
     "execution_count": 28,
     "metadata": {},
     "output_type": "execute_result"
    }
   ],
   "source": [
    "mean_squared_ = mean_squared.args[0].args[0]\n",
    "mean_squared_"
   ]
  },
  {
   "cell_type": "code",
   "execution_count": 29,
   "id": "89867207-9b60-4724-9f9e-24f2daebfd1d",
   "metadata": {},
   "outputs": [
    {
     "name": "stdout",
     "output_type": "stream",
     "text": [
      "\\frac{i^{2} \\left(S w_{1t} w_{t0} \\delta_{i j} - w_{1t} w_{t0} + 1\\right)^{2}}{\\left(w_{10} \\left(S \\delta_{i j} - 1\\right) + 1\\right)^{2}}\n"
     ]
    }
   ],
   "source": [
    "print_latex(mean_squared_)"
   ]
  },
  {
   "cell_type": "code",
   "execution_count": 10,
   "id": "6e0bda62-28c8-43b8-adfc-19bc937c10d7",
   "metadata": {},
   "outputs": [
    {
     "data": {
      "text/latex": [
       "$\\displaystyle \\begin{cases} \\frac{i^{2} w_{1t} w_{t0} \\delta_{i j}}{w_{10} \\left(\\delta_{i j} - \\frac{1}{S}\\right) + \\frac{1}{S}} + \\frac{w_{1t} w_{t0} \\left(\\frac{S^{3}}{3} + \\frac{S^{2}}{2} + \\frac{S}{6}\\right)}{S^{2} w_{10} \\delta_{i j} - S w_{10} + S} - \\frac{w_{1t} \\left(\\frac{S^{3}}{3} + \\frac{S^{2}}{2} + \\frac{S}{6}\\right)}{S^{2} w_{10} \\delta_{i j} - S w_{10} + S} - \\frac{w_{t0} \\left(\\frac{S^{3}}{3} + \\frac{S^{2}}{2} + \\frac{S}{6}\\right)}{S^{2} w_{10} \\delta_{i j} - S w_{10} + S} + \\frac{\\frac{S^{3}}{3} + \\frac{S^{2}}{2} + \\frac{S}{6}}{S^{2} w_{10} \\delta_{i j} - S w_{10} + S} - \\frac{i^{2} w_{1t} w_{t0}}{S \\left(w_{10} \\left(\\delta_{i j} - \\frac{1}{S}\\right) + \\frac{1}{S}\\right)} + \\frac{i^{2} w_{1t}}{S \\left(w_{10} \\left(\\delta_{i j} - \\frac{1}{S}\\right) + \\frac{1}{S}\\right)} - \\frac{j^{2} w_{1t} w_{t0}}{S \\left(w_{10} \\left(\\delta_{i j} - \\frac{1}{S}\\right) + \\frac{1}{S}\\right)} + \\frac{j^{2} w_{t0}}{S \\left(w_{10} \\left(\\delta_{i j} - \\frac{1}{S}\\right) + \\frac{1}{S}\\right)} & \\text{for}\\: S \\geq i \\wedge S \\geq j \\wedge i \\geq 1 \\wedge j \\geq 1 \\\\\\frac{w_{1t} w_{t0} \\left(\\frac{S^{3}}{3} + \\frac{S^{2}}{2} + \\frac{S}{6}\\right)}{S^{2} w_{10} \\delta_{i j} - S w_{10} + S} - \\frac{w_{1t} \\left(\\frac{S^{3}}{3} + \\frac{S^{2}}{2} + \\frac{S}{6}\\right)}{S^{2} w_{10} \\delta_{i j} - S w_{10} + S} - \\frac{w_{t0} \\left(\\frac{S^{3}}{3} + \\frac{S^{2}}{2} + \\frac{S}{6}\\right)}{S^{2} w_{10} \\delta_{i j} - S w_{10} + S} + \\frac{\\frac{S^{3}}{3} + \\frac{S^{2}}{2} + \\frac{S}{6}}{S^{2} w_{10} \\delta_{i j} - S w_{10} + S} - \\frac{j^{2} w_{1t} w_{t0}}{S \\left(w_{10} \\left(\\delta_{i j} - \\frac{1}{S}\\right) + \\frac{1}{S}\\right)} + \\frac{j^{2} w_{t0}}{S \\left(w_{10} \\left(\\delta_{i j} - \\frac{1}{S}\\right) + \\frac{1}{S}\\right)} & \\text{for}\\: S \\geq j \\wedge j \\geq 1 \\\\\\frac{i^{2} w_{1t} w_{t0} \\delta_{i j}}{w_{10} \\left(\\delta_{i j} - \\frac{1}{S}\\right) + \\frac{1}{S}} + \\frac{w_{1t} w_{t0} \\left(\\frac{S^{3}}{3} + \\frac{S^{2}}{2} + \\frac{S}{6}\\right)}{S^{2} w_{10} \\delta_{i j} - S w_{10} + S} - \\frac{w_{1t} \\left(\\frac{S^{3}}{3} + \\frac{S^{2}}{2} + \\frac{S}{6}\\right)}{S^{2} w_{10} \\delta_{i j} - S w_{10} + S} - \\frac{w_{t0} \\left(\\frac{S^{3}}{3} + \\frac{S^{2}}{2} + \\frac{S}{6}\\right)}{S^{2} w_{10} \\delta_{i j} - S w_{10} + S} + \\frac{\\frac{S^{3}}{3} + \\frac{S^{2}}{2} + \\frac{S}{6}}{S^{2} w_{10} \\delta_{i j} - S w_{10} + S} - \\frac{i^{2} w_{1t} w_{t0}}{S \\left(w_{10} \\left(\\delta_{i j} - \\frac{1}{S}\\right) + \\frac{1}{S}\\right)} + \\frac{i^{2} w_{1t}}{S \\left(w_{10} \\left(\\delta_{i j} - \\frac{1}{S}\\right) + \\frac{1}{S}\\right)} & \\text{for}\\: S \\geq i \\wedge i \\geq 1 \\\\\\frac{w_{1t} w_{t0} \\left(\\frac{S^{3}}{3} + \\frac{S^{2}}{2} + \\frac{S}{6}\\right)}{S^{2} w_{10} \\delta_{i j} - S w_{10} + S} - \\frac{w_{1t} \\left(\\frac{S^{3}}{3} + \\frac{S^{2}}{2} + \\frac{S}{6}\\right)}{S^{2} w_{10} \\delta_{i j} - S w_{10} + S} - \\frac{w_{t0} \\left(\\frac{S^{3}}{3} + \\frac{S^{2}}{2} + \\frac{S}{6}\\right)}{S^{2} w_{10} \\delta_{i j} - S w_{10} + S} + \\frac{\\frac{S^{3}}{3} + \\frac{S^{2}}{2} + \\frac{S}{6}}{S^{2} w_{10} \\delta_{i j} - S w_{10} + S} & \\text{otherwise} \\end{cases}$"
      ],
      "text/plain": [
       "Piecewise((i**2*w_1t*w_t0*KroneckerDelta(i, j)/(w_10*(KroneckerDelta(i, j) - 1/S) + 1/S) + w_1t*w_t0*(S**3/3 + S**2/2 + S/6)/(S**2*w_10*KroneckerDelta(i, j) - S*w_10 + S) - w_1t*(S**3/3 + S**2/2 + S/6)/(S**2*w_10*KroneckerDelta(i, j) - S*w_10 + S) - w_t0*(S**3/3 + S**2/2 + S/6)/(S**2*w_10*KroneckerDelta(i, j) - S*w_10 + S) + (S**3/3 + S**2/2 + S/6)/(S**2*w_10*KroneckerDelta(i, j) - S*w_10 + S) - i**2*w_1t*w_t0/(S*(w_10*(KroneckerDelta(i, j) - 1/S) + 1/S)) + i**2*w_1t/(S*(w_10*(KroneckerDelta(i, j) - 1/S) + 1/S)) - j**2*w_1t*w_t0/(S*(w_10*(KroneckerDelta(i, j) - 1/S) + 1/S)) + j**2*w_t0/(S*(w_10*(KroneckerDelta(i, j) - 1/S) + 1/S)), (S >= i) & (S >= j) & (i >= 1) & (j >= 1)), (w_1t*w_t0*(S**3/3 + S**2/2 + S/6)/(S**2*w_10*KroneckerDelta(i, j) - S*w_10 + S) - w_1t*(S**3/3 + S**2/2 + S/6)/(S**2*w_10*KroneckerDelta(i, j) - S*w_10 + S) - w_t0*(S**3/3 + S**2/2 + S/6)/(S**2*w_10*KroneckerDelta(i, j) - S*w_10 + S) + (S**3/3 + S**2/2 + S/6)/(S**2*w_10*KroneckerDelta(i, j) - S*w_10 + S) - j**2*w_1t*w_t0/(S*(w_10*(KroneckerDelta(i, j) - 1/S) + 1/S)) + j**2*w_t0/(S*(w_10*(KroneckerDelta(i, j) - 1/S) + 1/S)), (S >= j) & (j >= 1)), (i**2*w_1t*w_t0*KroneckerDelta(i, j)/(w_10*(KroneckerDelta(i, j) - 1/S) + 1/S) + w_1t*w_t0*(S**3/3 + S**2/2 + S/6)/(S**2*w_10*KroneckerDelta(i, j) - S*w_10 + S) - w_1t*(S**3/3 + S**2/2 + S/6)/(S**2*w_10*KroneckerDelta(i, j) - S*w_10 + S) - w_t0*(S**3/3 + S**2/2 + S/6)/(S**2*w_10*KroneckerDelta(i, j) - S*w_10 + S) + (S**3/3 + S**2/2 + S/6)/(S**2*w_10*KroneckerDelta(i, j) - S*w_10 + S) - i**2*w_1t*w_t0/(S*(w_10*(KroneckerDelta(i, j) - 1/S) + 1/S)) + i**2*w_1t/(S*(w_10*(KroneckerDelta(i, j) - 1/S) + 1/S)), (S >= i) & (i >= 1)), (w_1t*w_t0*(S**3/3 + S**2/2 + S/6)/(S**2*w_10*KroneckerDelta(i, j) - S*w_10 + S) - w_1t*(S**3/3 + S**2/2 + S/6)/(S**2*w_10*KroneckerDelta(i, j) - S*w_10 + S) - w_t0*(S**3/3 + S**2/2 + S/6)/(S**2*w_10*KroneckerDelta(i, j) - S*w_10 + S) + (S**3/3 + S**2/2 + S/6)/(S**2*w_10*KroneckerDelta(i, j) - S*w_10 + S), True))"
      ]
     },
     "execution_count": 10,
     "metadata": {},
     "output_type": "execute_result"
    }
   ],
   "source": [
    "# Calculate the second moment E[X^2]\n",
    "second_moment_expr = sp.Sum(k**2 * P_bridge, (k, 1, S))\n",
    "second_moment = second_moment_expr.doit()\n",
    "second_moment "
   ]
  },
  {
   "cell_type": "code",
   "execution_count": 11,
   "id": "c3c50d86-eae4-432b-9c35-5321b1bf9bc4",
   "metadata": {},
   "outputs": [
    {
     "data": {
      "text/latex": [
       "$\\displaystyle \\frac{i^{2} w_{1t} w_{t0} \\delta_{i j}}{w_{10} \\left(\\delta_{i j} - \\frac{1}{S}\\right) + \\frac{1}{S}} + \\frac{w_{1t} w_{t0} \\left(\\frac{S^{3}}{3} + \\frac{S^{2}}{2} + \\frac{S}{6}\\right)}{S^{2} w_{10} \\delta_{i j} - S w_{10} + S} - \\frac{w_{1t} \\left(\\frac{S^{3}}{3} + \\frac{S^{2}}{2} + \\frac{S}{6}\\right)}{S^{2} w_{10} \\delta_{i j} - S w_{10} + S} - \\frac{w_{t0} \\left(\\frac{S^{3}}{3} + \\frac{S^{2}}{2} + \\frac{S}{6}\\right)}{S^{2} w_{10} \\delta_{i j} - S w_{10} + S} + \\frac{\\frac{S^{3}}{3} + \\frac{S^{2}}{2} + \\frac{S}{6}}{S^{2} w_{10} \\delta_{i j} - S w_{10} + S} - \\frac{i^{2} w_{1t} w_{t0}}{S \\left(w_{10} \\left(\\delta_{i j} - \\frac{1}{S}\\right) + \\frac{1}{S}\\right)} + \\frac{i^{2} w_{1t}}{S \\left(w_{10} \\left(\\delta_{i j} - \\frac{1}{S}\\right) + \\frac{1}{S}\\right)} - \\frac{j^{2} w_{1t} w_{t0}}{S \\left(w_{10} \\left(\\delta_{i j} - \\frac{1}{S}\\right) + \\frac{1}{S}\\right)} + \\frac{j^{2} w_{t0}}{S \\left(w_{10} \\left(\\delta_{i j} - \\frac{1}{S}\\right) + \\frac{1}{S}\\right)}$"
      ],
      "text/plain": [
       "i**2*w_1t*w_t0*KroneckerDelta(i, j)/(w_10*(KroneckerDelta(i, j) - 1/S) + 1/S) + w_1t*w_t0*(S**3/3 + S**2/2 + S/6)/(S**2*w_10*KroneckerDelta(i, j) - S*w_10 + S) - w_1t*(S**3/3 + S**2/2 + S/6)/(S**2*w_10*KroneckerDelta(i, j) - S*w_10 + S) - w_t0*(S**3/3 + S**2/2 + S/6)/(S**2*w_10*KroneckerDelta(i, j) - S*w_10 + S) + (S**3/3 + S**2/2 + S/6)/(S**2*w_10*KroneckerDelta(i, j) - S*w_10 + S) - i**2*w_1t*w_t0/(S*(w_10*(KroneckerDelta(i, j) - 1/S) + 1/S)) + i**2*w_1t/(S*(w_10*(KroneckerDelta(i, j) - 1/S) + 1/S)) - j**2*w_1t*w_t0/(S*(w_10*(KroneckerDelta(i, j) - 1/S) + 1/S)) + j**2*w_t0/(S*(w_10*(KroneckerDelta(i, j) - 1/S) + 1/S))"
      ]
     },
     "execution_count": 11,
     "metadata": {},
     "output_type": "execute_result"
    }
   ],
   "source": [
    "second_moment_ = second_moment.args[0].args[0]\n",
    "second_moment_"
   ]
  },
  {
   "cell_type": "code",
   "execution_count": 14,
   "id": "8e4425b4-35ee-43f5-952e-7031ca171fd6",
   "metadata": {},
   "outputs": [
    {
     "data": {
      "text/latex": [
       "$\\displaystyle \\frac{\\frac{S^{3}}{3} + \\frac{S^{2}}{2} + \\frac{S}{6}}{S^{2} w_{10} \\delta_{i j} - S w_{10} + S}$"
      ],
      "text/plain": [
       "(S**3/3 + S**2/2 + S/6)/(S**2*w_10*KroneckerDelta(i, j) - S*w_10 + S)"
      ]
     },
     "execution_count": 14,
     "metadata": {},
     "output_type": "execute_result"
    }
   ],
   "source": [
    "second_moment_.args[0]"
   ]
  },
  {
   "cell_type": "code",
   "execution_count": 15,
   "id": "cf8c12dd-e3d5-4db3-8000-8c1d80d30bd4",
   "metadata": {},
   "outputs": [
    {
     "data": {
      "text/latex": [
       "$\\displaystyle - \\frac{w_{1t} \\left(\\frac{S^{3}}{3} + \\frac{S^{2}}{2} + \\frac{S}{6}\\right)}{S^{2} w_{10} \\delta_{i j} - S w_{10} + S}$"
      ],
      "text/plain": [
       "-w_1t*(S**3/3 + S**2/2 + S/6)/(S**2*w_10*KroneckerDelta(i, j) - S*w_10 + S)"
      ]
     },
     "execution_count": 15,
     "metadata": {},
     "output_type": "execute_result"
    }
   ],
   "source": [
    "second_moment_.args[1]"
   ]
  },
  {
   "cell_type": "code",
   "execution_count": 16,
   "id": "73a4f37f-cad3-4158-948c-650d38c17626",
   "metadata": {},
   "outputs": [
    {
     "data": {
      "text/latex": [
       "$\\displaystyle - \\frac{w_{t0} \\left(\\frac{S^{3}}{3} + \\frac{S^{2}}{2} + \\frac{S}{6}\\right)}{S^{2} w_{10} \\delta_{i j} - S w_{10} + S}$"
      ],
      "text/plain": [
       "-w_t0*(S**3/3 + S**2/2 + S/6)/(S**2*w_10*KroneckerDelta(i, j) - S*w_10 + S)"
      ]
     },
     "execution_count": 16,
     "metadata": {},
     "output_type": "execute_result"
    }
   ],
   "source": [
    "second_moment_.args[2]"
   ]
  },
  {
   "cell_type": "code",
   "execution_count": 17,
   "id": "20a1bb6e-b523-48cd-a0f8-fe17a5990546",
   "metadata": {},
   "outputs": [
    {
     "data": {
      "text/latex": [
       "$\\displaystyle \\frac{w_{1t} w_{t0} \\left(\\frac{S^{3}}{3} + \\frac{S^{2}}{2} + \\frac{S}{6}\\right)}{S^{2} w_{10} \\delta_{i j} - S w_{10} + S}$"
      ],
      "text/plain": [
       "w_1t*w_t0*(S**3/3 + S**2/2 + S/6)/(S**2*w_10*KroneckerDelta(i, j) - S*w_10 + S)"
      ]
     },
     "execution_count": 17,
     "metadata": {},
     "output_type": "execute_result"
    }
   ],
   "source": [
    "second_moment_.args[3]"
   ]
  },
  {
   "cell_type": "code",
   "execution_count": 18,
   "id": "186d6df6-f409-41ab-ab7c-ce3ece01261f",
   "metadata": {},
   "outputs": [
    {
     "data": {
      "text/latex": [
       "$\\displaystyle \\frac{i^{2} w_{1t}}{S \\left(w_{10} \\left(\\delta_{i j} - \\frac{1}{S}\\right) + \\frac{1}{S}\\right)}$"
      ],
      "text/plain": [
       "i**2*w_1t/(S*(w_10*(KroneckerDelta(i, j) - 1/S) + 1/S))"
      ]
     },
     "execution_count": 18,
     "metadata": {},
     "output_type": "execute_result"
    }
   ],
   "source": [
    "second_moment_.args[4]"
   ]
  },
  {
   "cell_type": "code",
   "execution_count": 19,
   "id": "5994178f-42b6-4acc-b7be-5fe69dd7a402",
   "metadata": {},
   "outputs": [
    {
     "data": {
      "text/latex": [
       "$\\displaystyle \\frac{j^{2} w_{t0}}{S \\left(w_{10} \\left(\\delta_{i j} - \\frac{1}{S}\\right) + \\frac{1}{S}\\right)}$"
      ],
      "text/plain": [
       "j**2*w_t0/(S*(w_10*(KroneckerDelta(i, j) - 1/S) + 1/S))"
      ]
     },
     "execution_count": 19,
     "metadata": {},
     "output_type": "execute_result"
    }
   ],
   "source": [
    "second_moment_.args[5]"
   ]
  },
  {
   "cell_type": "code",
   "execution_count": 20,
   "id": "d24507c1-494e-4ece-bb16-a55c89e70423",
   "metadata": {},
   "outputs": [
    {
     "data": {
      "text/latex": [
       "$\\displaystyle \\frac{i^{2} w_{1t} w_{t0} \\delta_{i j}}{w_{10} \\left(\\delta_{i j} - \\frac{1}{S}\\right) + \\frac{1}{S}}$"
      ],
      "text/plain": [
       "i**2*w_1t*w_t0*KroneckerDelta(i, j)/(w_10*(KroneckerDelta(i, j) - 1/S) + 1/S)"
      ]
     },
     "execution_count": 20,
     "metadata": {},
     "output_type": "execute_result"
    }
   ],
   "source": [
    "second_moment_.args[6]"
   ]
  },
  {
   "cell_type": "code",
   "execution_count": 21,
   "id": "08ea664c-6920-4034-b278-7b6eae59f2d8",
   "metadata": {},
   "outputs": [
    {
     "data": {
      "text/latex": [
       "$\\displaystyle - \\frac{i^{2} w_{1t} w_{t0}}{S \\left(w_{10} \\left(\\delta_{i j} - \\frac{1}{S}\\right) + \\frac{1}{S}\\right)}$"
      ],
      "text/plain": [
       "-i**2*w_1t*w_t0/(S*(w_10*(KroneckerDelta(i, j) - 1/S) + 1/S))"
      ]
     },
     "execution_count": 21,
     "metadata": {},
     "output_type": "execute_result"
    }
   ],
   "source": [
    "second_moment_.args[7]"
   ]
  },
  {
   "cell_type": "code",
   "execution_count": 22,
   "id": "d04b4905-fd29-475e-84b9-e99e36c915f6",
   "metadata": {},
   "outputs": [
    {
     "data": {
      "text/latex": [
       "$\\displaystyle - \\frac{j^{2} w_{1t} w_{t0}}{S \\left(w_{10} \\left(\\delta_{i j} - \\frac{1}{S}\\right) + \\frac{1}{S}\\right)}$"
      ],
      "text/plain": [
       "-j**2*w_1t*w_t0/(S*(w_10*(KroneckerDelta(i, j) - 1/S) + 1/S))"
      ]
     },
     "execution_count": 22,
     "metadata": {},
     "output_type": "execute_result"
    }
   ],
   "source": [
    "second_moment_.args[8]"
   ]
  },
  {
   "cell_type": "code",
   "execution_count": 32,
   "id": "a4994c65-b320-454d-a51b-da6a6b67aeb8",
   "metadata": {},
   "outputs": [
    {
     "data": {
      "text/latex": [
       "$\\displaystyle \\begin{cases} \\frac{- 6 i^{2} \\left(S w_{10} \\delta_{i j} - w_{10} + 1\\right) \\left(S w_{1t} w_{t0} \\delta_{i j} - w_{1t} w_{t0} + 1\\right)^{2} + \\left(w_{10} \\left(S \\delta_{i j} - 1\\right) + 1\\right) \\left(\\left(w_{10} \\left(S \\delta_{i j} - 1\\right) + 1\\right) \\left(2 S^{2} + 3 S + w_{1t} w_{t0} \\cdot \\left(2 S^{2} + 3 S + 1\\right) - w_{1t} \\left(2 S^{2} + 3 S + 1\\right) - w_{t0} \\cdot \\left(2 S^{2} + 3 S + 1\\right) + 1\\right) + 6 \\left(S w_{10} \\delta_{i j} - w_{10} + 1\\right) \\left(S i^{2} w_{1t} w_{t0} \\delta_{i j} - i^{2} w_{1t} w_{t0} + i^{2} w_{1t} - j^{2} w_{1t} w_{t0} + j^{2} w_{t0}\\right)\\right)}{6 \\left(w_{10} \\left(S \\delta_{i j} - 1\\right) + 1\\right)^{2} \\left(S w_{10} \\delta_{i j} - w_{10} + 1\\right)} & \\text{for}\\: S \\geq i \\wedge S \\geq j \\wedge i \\geq 1 \\wedge j \\geq 1 \\\\\\frac{- 6 i^{2} \\left(w_{1t} - 1\\right)^{2} \\left(S w_{10} \\delta_{i j} - w_{10} + 1\\right) + \\left(w_{10} \\left(S \\delta_{i j} - 1\\right) + 1\\right) \\left(- 6 j^{2} w_{t0} \\left(w_{1t} - 1\\right) \\left(S w_{10} \\delta_{i j} - w_{10} + 1\\right) + \\left(w_{10} \\left(S \\delta_{i j} - 1\\right) + 1\\right) \\left(2 S^{2} + 3 S + w_{1t} w_{t0} \\cdot \\left(2 S^{2} + 3 S + 1\\right) - w_{1t} \\left(2 S^{2} + 3 S + 1\\right) - w_{t0} \\cdot \\left(2 S^{2} + 3 S + 1\\right) + 1\\right)\\right)}{6 \\left(w_{10} \\left(S \\delta_{i j} - 1\\right) + 1\\right)^{2} \\left(S w_{10} \\delta_{i j} - w_{10} + 1\\right)} & \\text{for}\\: S \\geq j \\wedge j \\geq 1 \\\\\\frac{- 6 i^{2} \\left(S w_{10} \\delta_{i j} - w_{10} + 1\\right) \\left(S w_{1t} w_{t0} \\delta_{i j} - w_{t0} + 1\\right)^{2} + \\left(w_{10} \\left(S \\delta_{i j} - 1\\right) + 1\\right) \\left(6 i^{2} w_{1t} \\left(S w_{10} \\delta_{i j} - w_{10} + 1\\right) \\left(S w_{t0} \\delta_{i j} - w_{t0} + 1\\right) + \\left(w_{10} \\left(S \\delta_{i j} - 1\\right) + 1\\right) \\left(2 S^{2} + 3 S + w_{1t} w_{t0} \\cdot \\left(2 S^{2} + 3 S + 1\\right) - w_{1t} \\left(2 S^{2} + 3 S + 1\\right) - w_{t0} \\cdot \\left(2 S^{2} + 3 S + 1\\right) + 1\\right)\\right)}{6 \\left(w_{10} \\left(S \\delta_{i j} - 1\\right) + 1\\right)^{2} \\left(S w_{10} \\delta_{i j} - w_{10} + 1\\right)} & \\text{for}\\: S \\geq i \\wedge i \\geq 1 \\\\\\frac{6 i^{2} \\left(- S w_{10} \\delta_{i j} + w_{10} - 1\\right) \\left(w_{1t} w_{t0} - w_{1t} - w_{t0} + 1\\right)^{2} + \\left(w_{10} \\left(S \\delta_{i j} - 1\\right) + 1\\right)^{2} \\cdot \\left(2 S^{2} + 3 S + w_{1t} w_{t0} \\cdot \\left(2 S^{2} + 3 S + 1\\right) - w_{1t} \\left(2 S^{2} + 3 S + 1\\right) - w_{t0} \\cdot \\left(2 S^{2} + 3 S + 1\\right) + 1\\right)}{6 \\left(w_{10} \\left(S \\delta_{i j} - 1\\right) + 1\\right)^{2} \\left(S w_{10} \\delta_{i j} - w_{10} + 1\\right)} & \\text{otherwise} \\end{cases}$"
      ],
      "text/plain": [
       "Piecewise(((-6*i**2*(S*w_10*KroneckerDelta(i, j) - w_10 + 1)*(S*w_1t*w_t0*KroneckerDelta(i, j) - w_1t*w_t0 + 1)**2 + (w_10*(S*KroneckerDelta(i, j) - 1) + 1)*((w_10*(S*KroneckerDelta(i, j) - 1) + 1)*(2*S**2 + 3*S + w_1t*w_t0*(2*S**2 + 3*S + 1) - w_1t*(2*S**2 + 3*S + 1) - w_t0*(2*S**2 + 3*S + 1) + 1) + 6*(S*w_10*KroneckerDelta(i, j) - w_10 + 1)*(S*i**2*w_1t*w_t0*KroneckerDelta(i, j) - i**2*w_1t*w_t0 + i**2*w_1t - j**2*w_1t*w_t0 + j**2*w_t0)))/(6*(w_10*(S*KroneckerDelta(i, j) - 1) + 1)**2*(S*w_10*KroneckerDelta(i, j) - w_10 + 1)), (S >= i) & (S >= j) & (i >= 1) & (j >= 1)), ((-6*i**2*(w_1t - 1)**2*(S*w_10*KroneckerDelta(i, j) - w_10 + 1) + (w_10*(S*KroneckerDelta(i, j) - 1) + 1)*(-6*j**2*w_t0*(w_1t - 1)*(S*w_10*KroneckerDelta(i, j) - w_10 + 1) + (w_10*(S*KroneckerDelta(i, j) - 1) + 1)*(2*S**2 + 3*S + w_1t*w_t0*(2*S**2 + 3*S + 1) - w_1t*(2*S**2 + 3*S + 1) - w_t0*(2*S**2 + 3*S + 1) + 1)))/(6*(w_10*(S*KroneckerDelta(i, j) - 1) + 1)**2*(S*w_10*KroneckerDelta(i, j) - w_10 + 1)), (S >= j) & (j >= 1)), ((-6*i**2*(S*w_10*KroneckerDelta(i, j) - w_10 + 1)*(S*w_1t*w_t0*KroneckerDelta(i, j) - w_t0 + 1)**2 + (w_10*(S*KroneckerDelta(i, j) - 1) + 1)*(6*i**2*w_1t*(S*w_10*KroneckerDelta(i, j) - w_10 + 1)*(S*w_t0*KroneckerDelta(i, j) - w_t0 + 1) + (w_10*(S*KroneckerDelta(i, j) - 1) + 1)*(2*S**2 + 3*S + w_1t*w_t0*(2*S**2 + 3*S + 1) - w_1t*(2*S**2 + 3*S + 1) - w_t0*(2*S**2 + 3*S + 1) + 1)))/(6*(w_10*(S*KroneckerDelta(i, j) - 1) + 1)**2*(S*w_10*KroneckerDelta(i, j) - w_10 + 1)), (S >= i) & (i >= 1)), ((6*i**2*(-S*w_10*KroneckerDelta(i, j) + w_10 - 1)*(w_1t*w_t0 - w_1t - w_t0 + 1)**2 + (w_10*(S*KroneckerDelta(i, j) - 1) + 1)**2*(2*S**2 + 3*S + w_1t*w_t0*(2*S**2 + 3*S + 1) - w_1t*(2*S**2 + 3*S + 1) - w_t0*(2*S**2 + 3*S + 1) + 1))/(6*(w_10*(S*KroneckerDelta(i, j) - 1) + 1)**2*(S*w_10*KroneckerDelta(i, j) - w_10 + 1)), True))"
      ]
     },
     "execution_count": 32,
     "metadata": {},
     "output_type": "execute_result"
    }
   ],
   "source": [
    "# Compute the variance Var(X) = E[X^2] - mean^2\n",
    "variance_expr = second_moment - mean_squared\n",
    "variance = variance_expr.simplify()\n",
    "variance"
   ]
  },
  {
   "cell_type": "code",
   "execution_count": 34,
   "id": "63962c8f-fb14-4f94-8805-678d8e33c374",
   "metadata": {},
   "outputs": [
    {
     "name": "stdout",
     "output_type": "stream",
     "text": [
      "\\frac{- 6 i^{2} \\left(S w_{10} \\delta_{i j} - w_{10} + 1\\right) \\left(S w_{1t} w_{t0} \\delta_{i j} - w_{1t} w_{t0} + 1\\right)^{2} + \\left(w_{10} \\left(S \\delta_{i j} - 1\\right) + 1\\right) \\left(\\left(w_{10} \\left(S \\delta_{i j} - 1\\right) + 1\\right) \\left(2 S^{2} + 3 S + w_{1t} w_{t0} \\cdot \\left(2 S^{2} + 3 S + 1\\right) - w_{1t} \\left(2 S^{2} + 3 S + 1\\right) - w_{t0} \\cdot \\left(2 S^{2} + 3 S + 1\\right) + 1\\right) + 6 \\left(S w_{10} \\delta_{i j} - w_{10} + 1\\right) \\left(S i^{2} w_{1t} w_{t0} \\delta_{i j} - i^{2} w_{1t} w_{t0} + i^{2} w_{1t} - j^{2} w_{1t} w_{t0} + j^{2} w_{t0}\\right)\\right)}{6 \\left(w_{10} \\left(S \\delta_{i j} - 1\\right) + 1\\right)^{2} \\left(S w_{10} \\delta_{i j} - w_{10} + 1\\right)}\n"
     ]
    }
   ],
   "source": [
    "print_latex(variance_)"
   ]
  },
  {
   "cell_type": "code",
   "execution_count": 44,
   "id": "1af435bc-5c0d-400e-8eaf-d7fb82e41232",
   "metadata": {},
   "outputs": [
    {
     "name": "stdout",
     "output_type": "stream",
     "text": [
      "\\frac{i^{2} w_{1t} w_{t0} \\delta_{i j}}{w_{10} \\left(\\delta_{i j} - \\frac{1}{S}\\right) + \\frac{1}{S}} + \\frac{w_{1t} w_{t0} \\left(\\frac{S^{3}}{3} + \\frac{S^{2}}{2} + \\frac{S}{6}\\right)}{S^{2} w_{10} \\delta_{i j} - S w_{10} + S} - \\frac{w_{1t} \\left(\\frac{S^{3}}{3} + \\frac{S^{2}}{2} + \\frac{S}{6}\\right)}{S^{2} w_{10} \\delta_{i j} - S w_{10} + S} - \\frac{w_{t0} \\left(\\frac{S^{3}}{3} + \\frac{S^{2}}{2} + \\frac{S}{6}\\right)}{S^{2} w_{10} \\delta_{i j} - S w_{10} + S} + \\frac{\\frac{S^{3}}{3} + \\frac{S^{2}}{2} + \\frac{S}{6}}{S^{2} w_{10} \\delta_{i j} - S w_{10} + S} - \\frac{i^{2} w_{1t} w_{t0}}{S \\left(w_{10} \\left(\\delta_{i j} - \\frac{1}{S}\\right) + \\frac{1}{S}\\right)} + \\frac{i^{2} w_{1t}}{S \\left(w_{10} \\left(\\delta_{i j} - \\frac{1}{S}\\right) + \\frac{1}{S}\\right)} - \\frac{j^{2} w_{1t} w_{t0}}{S \\left(w_{10} \\left(\\delta_{i j} - \\frac{1}{S}\\right) + \\frac{1}{S}\\right)} + \\frac{j^{2} w_{t0}}{S \\left(w_{10} \\left(\\delta_{i j} - \\frac{1}{S}\\right) + \\frac{1}{S}\\right)}\n"
     ]
    }
   ],
   "source": [
    "print_latex(second_moment_)"
   ]
  },
  {
   "cell_type": "code",
   "execution_count": 39,
   "id": "ff538fb5-4e41-48b1-9632-3237ef443060",
   "metadata": {},
   "outputs": [
    {
     "name": "stdout",
     "output_type": "stream",
     "text": [
      "tensor([[6.2667, 8.3556, 3.1333, 2.0889],\n",
      "        [5.2222, 4.1778, 7.3111, 4.0526],\n",
      "        [8.3556, 3.1333, 1.0444, 7.3111]])\n",
      "tensor([[42.6222, 34.9778, 34.9556, 28.8444],\n",
      "        [28.9111, 26.7111, 38.2444, 24.2421],\n",
      "        [38.1778, 34.9556, 25.1778, 35.8444]])\n",
      "tensor([[  3.3511, -34.8375,  25.1378,  24.4810],\n",
      "        [  1.6395,   9.2573, -15.2079,   7.8183],\n",
      "        [-31.6375,  25.1378,  24.0869, -17.6079]])\n"
     ]
    }
   ],
   "source": [
    "import torch\n",
    "\n",
    "def compute_mean(S, i, j, w_10, w_1t, w_t0):\n",
    "    # Kronecker delta in PyTorch\n",
    "    kronecker_delta_ij = (i == j).float()\n",
    "\n",
    "    # Compute the mean using the provided expression\n",
    "    mean = (i * (S * w_1t * w_t0 * kronecker_delta_ij - w_1t * w_t0 + 1)) / (w_10 * (S * kronecker_delta_ij - 1) + 1)\n",
    "\n",
    "    return mean\n",
    "\n",
    "# Example usage\n",
    "S_value = torch.tensor(10.0)  # State space size\n",
    "i = torch.randint(1,9,(3,4)).float()  # Tensor for i\n",
    "j = torch.randint(1,9,(3,4)).float()  # Tensor for j, must be the same size as i\n",
    "w_10_value = torch.tensor(0.1)  # Weight w_10\n",
    "w_1t_value = torch.tensor(0.2)  # Weight w_1t\n",
    "w_t0_value = torch.tensor(0.3)  # Weight w_t0\n",
    "\n",
    "# Call the function\n",
    "second_moment_value = compute_second_moment(S_value, i, j, w_10_value, w_1t_value, w_t0_value)\n",
    "mean_value = compute_mean(S_value, i, j, w_10_value, w_1t_value, w_t0_value)\n",
    "variance_value = second_moment_value - mean_value**2\n",
    "print(mean)\n",
    "print(second_moment)\n",
    "print(variance)"
   ]
  },
  {
   "cell_type": "code",
   "execution_count": null,
   "id": "62e342f6-2703-4148-8c9c-7027edce989d",
   "metadata": {},
   "outputs": [],
   "source": []
  }
 ],
 "metadata": {
  "kernelspec": {
   "display_name": "Python 3 (ipykernel)",
   "language": "python",
   "name": "python3"
  },
  "language_info": {
   "codemirror_mode": {
    "name": "ipython",
    "version": 3
   },
   "file_extension": ".py",
   "mimetype": "text/x-python",
   "name": "python",
   "nbconvert_exporter": "python",
   "pygments_lexer": "ipython3",
   "version": "3.10.9"
  }
 },
 "nbformat": 4,
 "nbformat_minor": 5
}

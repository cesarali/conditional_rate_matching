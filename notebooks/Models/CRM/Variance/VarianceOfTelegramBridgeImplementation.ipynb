{
 "cells": [
  {
   "cell_type": "code",
   "execution_count": 19,
   "id": "6801eda3-723b-41dd-a87c-187897d3d8e5",
   "metadata": {},
   "outputs": [],
   "source": [
    "import torch\n",
    "\n",
    "def compute_variance_telegram_bridge(S, i, j, w_10, w_1t, w_t0):\n",
    "    # Kronecker delta in PyTorch, resulting in a tensor of 0s and 1s\n",
    "    kronecker_delta_ij = (i == j).float()\n",
    "    \n",
    "    # Calculate each term based on the provided LaTeX expression\n",
    "    term1 = -6 * i**2 * (S * w_10 * kronecker_delta_ij - w_10 + 1)\n",
    "    term2 = (S * w_1t * w_t0 * kronecker_delta_ij - w_1t * w_t0 + 1)**2\n",
    "    term3 = (w_10 * (S * kronecker_delta_ij - 1) + 1)\n",
    "    term4 = term3 * (2 * S**2 + 3 * S + w_1t * w_t0 * (2 * S**2 + 3 * S + 1) - w_1t * (2 * S**2 + 3 * S + 1) - w_t0 * (2 * S**2 + 3 * S + 1) + 1)\n",
    "    term5 = 6 * (S * w_10 * kronecker_delta_ij - w_10 + 1) * (S * i**2 * w_1t * w_t0 * kronecker_delta_ij - i**2 * w_1t * w_t0 + i**2 * w_1t - j**2 * w_1t * w_t0 + j**2 * w_t0)\n",
    "    \n",
    "    # Combine terms to compute the variance\n",
    "    numerator = term1 * term2 + term3 * (term4 + term5)\n",
    "    denominator = 6 * term3**2 * (S * w_10 * kronecker_delta_ij - w_10 + 1)\n",
    "    \n",
    "    variance = numerator / denominator\n",
    "    \n",
    "    return variance"
   ]
  },
  {
   "cell_type": "code",
   "execution_count": 20,
   "id": "3905b42f-aca2-47e2-a4d6-320fe0a6958d",
   "metadata": {},
   "outputs": [],
   "source": [
    "def compute_mean(S, i, j, w_10, w_1t, w_t0):\n",
    "    # Kronecker delta in PyTorch\n",
    "    kronecker_delta_ij = (i == j).float()\n",
    "\n",
    "    # Compute the mean using the provided expression\n",
    "    mean = (i * (S * w_1t * w_t0 * kronecker_delta_ij - w_1t * w_t0 + 1)) / (w_10 * (S * kronecker_delta_ij - 1) + 1)\n",
    "\n",
    "    return mean"
   ]
  },
  {
   "cell_type": "code",
   "execution_count": 27,
   "id": "6d3e880e-2f09-42c4-8b1e-fe6a0eb926ff",
   "metadata": {},
   "outputs": [
    {
     "name": "stdout",
     "output_type": "stream",
     "text": [
      "tensor([[30.6222, 44.3579, 34.9778, 42.4222],\n",
      "        [33.9778, 15.9895, 40.5778, 28.9111],\n",
      "        [42.6222, 29.8222, 46.6222, 35.8444]])\n"
     ]
    }
   ],
   "source": [
    "def compute_second_moment(S, i, j, w_10, w_1t, w_t0):\n",
    "    # Kronecker delta in PyTorch\n",
    "    kronecker_delta_ij = (i == j).float()\n",
    "    \n",
    "    # Precompute term0\n",
    "    term0 = (S**3/3 + S**2/2 + S/6)\n",
    "\n",
    "    # Calculate each term based on the provided LaTeX expression\n",
    "    term1 = (i**2 * w_1t * w_t0 * kronecker_delta_ij) / (w_10 * (kronecker_delta_ij - 1/S) + 1/S)\n",
    "    term2 = (w_1t * w_t0 * term0) / (S**2 * w_10 * kronecker_delta_ij - S * w_10 + S)\n",
    "    term3 = - (w_1t * term0) / (S**2 * w_10 * kronecker_delta_ij - S * w_10 + S)\n",
    "    term4 = - (w_t0 * term0) / (S**2 * w_10 * kronecker_delta_ij - S * w_10 + S)\n",
    "    term5 = term0 / (S**2 * w_10 * kronecker_delta_ij - S * w_10 + S)\n",
    "    term6 = - (i**2 * w_1t * w_t0) / (S * (w_10 * (kronecker_delta_ij - 1/S) + 1/S))\n",
    "    term7 = (i**2 * w_1t) / (S * (w_10 * (kronecker_delta_ij - 1/S) + 1/S))\n",
    "    term8 = - (j**2 * w_1t * w_t0) / (S * (w_10 * (kronecker_delta_ij - 1/S) + 1/S))\n",
    "    term9 = (j**2 * w_t0) / (S * (w_10 * (kronecker_delta_ij - 1/S) + 1/S))\n",
    "    \n",
    "    # Combine terms to compute the second moment\n",
    "    second_moment = term1 + term2 + term3 + term4 + term5 + term6 + term7 + term8 + term9\n",
    "    \n",
    "    return second_moment\n",
    "\n",
    "# Example usage\n",
    "S_value = torch.tensor(10.0)  # State space size\n",
    "i = torch.randint(1,9,(3,4)).float()  # Tensor for i\n",
    "j = torch.randint(1,9,(3,4)).float()  # Tensor for j, must be the same size as i\n",
    "w_10_value = torch.tensor(0.1)  # Weight w_10\n",
    "w_1t_value = torch.tensor(0.2)  # Weight w_1t\n",
    "w_t0_value = torch.tensor(0.3)  # Weight w_t0\n",
    "\n",
    "# Call the function\n",
    "second_moment_value = compute_second_moment(S_value, i, j, w_10_value, w_1t_value, w_t0_value)\n",
    "variance_value = compute_variance_telegram_bridge(S_value, i, j, w_10_value, w_1t_value, w_t0_value)\n",
    "mean_value = compute_mean(S_value, i, j, w_10_value, w_1t_value, w_t0_value)\n",
    "variance_value2 = second_moment_value - mean_value**2\n",
    "\n",
    "print(second_moment_value)"
   ]
  },
  {
   "cell_type": "code",
   "execution_count": 28,
   "id": "e5065876-24db-47e9-9420-3683739ee558",
   "metadata": {},
   "outputs": [
    {
     "data": {
      "text/plain": [
       "tensor([[ -8.6489,   2.3129, -34.8375,  32.6044],\n",
       "        [-19.4746,  10.0769, -29.2375,   1.6395],\n",
       "        [  3.3511,  -9.4489,   7.3511, -17.6079]])"
      ]
     },
     "execution_count": 28,
     "metadata": {},
     "output_type": "execute_result"
    }
   ],
   "source": [
    "variance_value"
   ]
  },
  {
   "cell_type": "code",
   "execution_count": 29,
   "id": "30d441b8-f1e1-4991-9d9b-b15c12044766",
   "metadata": {},
   "outputs": [
    {
     "data": {
      "text/plain": [
       "tensor([[ -8.6489,   2.3129, -34.8375,  32.6044],\n",
       "        [-19.4746,  10.0769, -29.2375,   1.6395],\n",
       "        [  3.3511,  -9.4489,   7.3511, -17.6079]])"
      ]
     },
     "execution_count": 29,
     "metadata": {},
     "output_type": "execute_result"
    }
   ],
   "source": [
    "variance_value2"
   ]
  },
  {
   "cell_type": "code",
   "execution_count": null,
   "id": "a95e6217-114a-4256-a9e0-d27b40e5cdbd",
   "metadata": {},
   "outputs": [],
   "source": []
  },
  {
   "cell_type": "code",
   "execution_count": null,
   "id": "26d55ebb-b91f-412b-9ac3-e622ebb3976a",
   "metadata": {},
   "outputs": [],
   "source": []
  }
 ],
 "metadata": {
  "kernelspec": {
   "display_name": "Python 3 (ipykernel)",
   "language": "python",
   "name": "python3"
  },
  "language_info": {
   "codemirror_mode": {
    "name": "ipython",
    "version": 3
   },
   "file_extension": ".py",
   "mimetype": "text/x-python",
   "name": "python",
   "nbconvert_exporter": "python",
   "pygments_lexer": "ipython3",
   "version": "3.10.9"
  }
 },
 "nbformat": 4,
 "nbformat_minor": 5
}

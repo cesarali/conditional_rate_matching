{
 "cells": [
  {
   "cell_type": "code",
   "execution_count": 2,
   "id": "0a0a41f1-9617-44b3-a98f-952035afdc03",
   "metadata": {},
   "outputs": [],
   "source": [
    "import sympy as sp\n",
    "from sympy import print_latex"
   ]
  },
  {
   "cell_type": "code",
   "execution_count": 3,
   "id": "4f6b43da-1a82-4744-bade-6cdbd2641084",
   "metadata": {},
   "outputs": [],
   "source": [
    "# Define the symbols\n",
    "S, w_1t, w_t0, w_10 = sp.symbols('S w_1t w_t0 w_10', real=True, positive=True)\n",
    "i, j, k = sp.symbols('i j k', integer=True)"
   ]
  },
  {
   "cell_type": "markdown",
   "id": "f7bbf4ff-b550-4634-8a8e-5385cd0e4388",
   "metadata": {},
   "source": [
    "\\begin{align*}\n",
    "    p(x_t=k|x_0=i,x_1=j) = \\frac{p(x_1|x_t=k) p(x_t=k|x_0)}{p(x_1|x_0)}\n",
    "\\end{align*}}"
   ]
  },
  {
   "cell_type": "code",
   "execution_count": 4,
   "id": "83cbb9c0-210c-4eea-aab4-8b6fd2509bec",
   "metadata": {},
   "outputs": [],
   "source": [
    "# Define the probability function\n",
    "x_1 = i\n",
    "x_0 = j\n",
    "x_t = k\n",
    "P_10 = 1/S + w_10 * (-1/S + sp.KroneckerDelta(i, j))\n",
    "P_1t = 1/S + w_1t * (-1/S + sp.KroneckerDelta(i, k))\n",
    "P_t0 = 1/S + w_t0 * (-1/S + sp.KroneckerDelta(k, j))\n",
    "\n",
    "P_bridge = (P_1t*P_t0)/P_10"
   ]
  },
  {
   "cell_type": "code",
   "execution_count": 5,
   "id": "35017f41-c8a4-41a7-97de-10490e5598e2",
   "metadata": {},
   "outputs": [
    {
     "data": {
      "text/latex": [
       "$\\displaystyle \\frac{\\left(w_{1t} \\left(S \\delta_{i k} - 1\\right) + 1\\right) \\left(w_{t0} \\left(S \\delta_{j k} - 1\\right) + 1\\right)}{S \\left(w_{10} \\left(S \\delta_{i j} - 1\\right) + 1\\right)}$"
      ],
      "text/plain": [
       "(w_1t*(S*KroneckerDelta(i, k) - 1) + 1)*(w_t0*(S*KroneckerDelta(j, k) - 1) + 1)/(S*(w_10*(S*KroneckerDelta(i, j) - 1) + 1))"
      ]
     },
     "execution_count": 5,
     "metadata": {},
     "output_type": "execute_result"
    }
   ],
   "source": [
    "P_bridge.simplify()"
   ]
  },
  {
   "cell_type": "code",
   "execution_count": 6,
   "id": "fb5ab040-8acb-4ced-924a-264a65c3aef6",
   "metadata": {},
   "outputs": [
    {
     "data": {
      "text/latex": [
       "$\\displaystyle \\begin{cases} \\frac{\\frac{\\left(w_{10} \\left(S \\delta_{i j} - 1\\right) + 1\\right) \\left(S + w_{1t} w_{t0} \\left(S + 1\\right) - w_{1t} \\left(S + 1\\right) - w_{t0} \\left(S + 1\\right) + 1\\right)}{2} + \\left(S w_{10} \\delta_{i j} - w_{10} + 1\\right) \\left(S i w_{1t} w_{t0} \\delta_{i j} - i w_{1t} w_{t0} + i w_{1t} - j w_{1t} w_{t0} + j w_{t0}\\right)}{\\left(w_{10} \\left(S \\delta_{i j} - 1\\right) + 1\\right) \\left(S w_{10} \\delta_{i j} - w_{10} + 1\\right)} & \\text{for}\\: S \\geq i \\wedge S \\geq j \\wedge i \\geq 1 \\wedge j \\geq 1 \\\\\\frac{j w_{t0} \\cdot \\left(1 - w_{1t}\\right) \\left(S w_{10} \\delta_{i j} - w_{10} + 1\\right) + \\frac{\\left(w_{10} \\left(S \\delta_{i j} - 1\\right) + 1\\right) \\left(S + w_{1t} w_{t0} \\left(S + 1\\right) - w_{1t} \\left(S + 1\\right) - w_{t0} \\left(S + 1\\right) + 1\\right)}{2}}{\\left(w_{10} \\left(S \\delta_{i j} - 1\\right) + 1\\right) \\left(S w_{10} \\delta_{i j} - w_{10} + 1\\right)} & \\text{for}\\: S \\geq j \\wedge j \\geq 1 \\\\\\frac{i w_{1t} \\left(S w_{10} \\delta_{i j} - w_{10} + 1\\right) \\left(S w_{t0} \\delta_{i j} - w_{t0} + 1\\right) + \\frac{\\left(w_{10} \\left(S \\delta_{i j} - 1\\right) + 1\\right) \\left(S + w_{1t} w_{t0} \\left(S + 1\\right) - w_{1t} \\left(S + 1\\right) - w_{t0} \\left(S + 1\\right) + 1\\right)}{2}}{\\left(w_{10} \\left(S \\delta_{i j} - 1\\right) + 1\\right) \\left(S w_{10} \\delta_{i j} - w_{10} + 1\\right)} & \\text{for}\\: S \\geq i \\wedge i \\geq 1 \\\\\\frac{S + w_{1t} w_{t0} \\left(S + 1\\right) - w_{1t} \\left(S + 1\\right) - w_{t0} \\left(S + 1\\right) + 1}{2 \\left(S w_{10} \\delta_{i j} - w_{10} + 1\\right)} & \\text{otherwise} \\end{cases}$"
      ],
      "text/plain": [
       "Piecewise((((w_10*(S*KroneckerDelta(i, j) - 1) + 1)*(S + w_1t*w_t0*(S + 1) - w_1t*(S + 1) - w_t0*(S + 1) + 1)/2 + (S*w_10*KroneckerDelta(i, j) - w_10 + 1)*(S*i*w_1t*w_t0*KroneckerDelta(i, j) - i*w_1t*w_t0 + i*w_1t - j*w_1t*w_t0 + j*w_t0))/((w_10*(S*KroneckerDelta(i, j) - 1) + 1)*(S*w_10*KroneckerDelta(i, j) - w_10 + 1)), (S >= i) & (S >= j) & (i >= 1) & (j >= 1)), ((j*w_t0*(1 - w_1t)*(S*w_10*KroneckerDelta(i, j) - w_10 + 1) + (w_10*(S*KroneckerDelta(i, j) - 1) + 1)*(S + w_1t*w_t0*(S + 1) - w_1t*(S + 1) - w_t0*(S + 1) + 1)/2)/((w_10*(S*KroneckerDelta(i, j) - 1) + 1)*(S*w_10*KroneckerDelta(i, j) - w_10 + 1)), (S >= j) & (j >= 1)), ((i*w_1t*(S*w_10*KroneckerDelta(i, j) - w_10 + 1)*(S*w_t0*KroneckerDelta(i, j) - w_t0 + 1) + (w_10*(S*KroneckerDelta(i, j) - 1) + 1)*(S + w_1t*w_t0*(S + 1) - w_1t*(S + 1) - w_t0*(S + 1) + 1)/2)/((w_10*(S*KroneckerDelta(i, j) - 1) + 1)*(S*w_10*KroneckerDelta(i, j) - w_10 + 1)), (S >= i) & (i >= 1)), ((S + w_1t*w_t0*(S + 1) - w_1t*(S + 1) - w_t0*(S + 1) + 1)/(2*(S*w_10*KroneckerDelta(i, j) - w_10 + 1)), True))"
      ]
     },
     "execution_count": 6,
     "metadata": {},
     "output_type": "execute_result"
    }
   ],
   "source": [
    "# Calculate the expected value (mean)\n",
    "mean_expr = sp.Sum(k * P_bridge, (k, 1, S))\n",
    "mean = mean_expr.doit().simplify()\n",
    "mean"
   ]
  },
  {
   "cell_type": "code",
   "execution_count": 7,
   "id": "6b94da98-b6b0-487e-bf1d-5e3373dcf34f",
   "metadata": {},
   "outputs": [
    {
     "data": {
      "text/latex": [
       "$\\displaystyle \\frac{\\frac{\\left(w_{10} \\left(S \\delta_{i j} - 1\\right) + 1\\right) \\left(S + w_{1t} w_{t0} \\left(S + 1\\right) - w_{1t} \\left(S + 1\\right) - w_{t0} \\left(S + 1\\right) + 1\\right)}{2} + \\left(S w_{10} \\delta_{i j} - w_{10} + 1\\right) \\left(S i w_{1t} w_{t0} \\delta_{i j} - i w_{1t} w_{t0} + i w_{1t} - j w_{1t} w_{t0} + j w_{t0}\\right)}{\\left(w_{10} \\left(S \\delta_{i j} - 1\\right) + 1\\right) \\left(S w_{10} \\delta_{i j} - w_{10} + 1\\right)}$"
      ],
      "text/plain": [
       "((w_10*(S*KroneckerDelta(i, j) - 1) + 1)*(S + w_1t*w_t0*(S + 1) - w_1t*(S + 1) - w_t0*(S + 1) + 1)/2 + (S*w_10*KroneckerDelta(i, j) - w_10 + 1)*(S*i*w_1t*w_t0*KroneckerDelta(i, j) - i*w_1t*w_t0 + i*w_1t - j*w_1t*w_t0 + j*w_t0))/((w_10*(S*KroneckerDelta(i, j) - 1) + 1)*(S*w_10*KroneckerDelta(i, j) - w_10 + 1))"
      ]
     },
     "execution_count": 7,
     "metadata": {},
     "output_type": "execute_result"
    }
   ],
   "source": [
    "mean_ = mean.args[0].args[0]\n",
    "mean_"
   ]
  },
  {
   "cell_type": "code",
   "execution_count": 19,
   "id": "106935f7-52a7-4abb-a51f-24579e242a5a",
   "metadata": {},
   "outputs": [
    {
     "name": "stdout",
     "output_type": "stream",
     "text": [
      "\\frac{\\frac{\\left(w_{10} \\left(S \\delta_{i j} - 1\\right) + 1\\right) \\left(S + w_{1t} w_{t0} \\left(S + 1\\right) - w_{1t} \\left(S + 1\\right) - w_{t0} \\left(S + 1\\right) + 1\\right)}{2} + \\left(S w_{10} \\delta_{i j} - w_{10} + 1\\right) \\left(S i w_{1t} w_{t0} \\delta_{i j} - i w_{1t} w_{t0} + i w_{1t} - j w_{1t} w_{t0} + j w_{t0}\\right)}{\\left(w_{10} \\left(S \\delta_{i j} - 1\\right) + 1\\right) \\left(S w_{10} \\delta_{i j} - w_{10} + 1\\right)}\n"
     ]
    }
   ],
   "source": [
    "print_latex(mean_)"
   ]
  },
  {
   "cell_type": "code",
   "execution_count": 15,
   "id": "62e342f6-2703-4148-8c9c-7027edce989d",
   "metadata": {},
   "outputs": [
    {
     "data": {
      "text/latex": [
       "$\\displaystyle \\begin{cases} \\frac{\\frac{\\left(w_{10} \\left(S \\delta_{i j} - 1\\right) + 1\\right) \\left(2 S^{2} + 3 S + w_{1t} w_{t0} \\cdot \\left(2 S^{2} + 3 S + 1\\right) - w_{1t} \\left(2 S^{2} + 3 S + 1\\right) - w_{t0} \\cdot \\left(2 S^{2} + 3 S + 1\\right) + 1\\right)}{6} + \\left(S w_{10} \\delta_{i j} - w_{10} + 1\\right) \\left(S i^{2} w_{1t} w_{t0} \\delta_{i j} - i^{2} w_{1t} w_{t0} + i^{2} w_{1t} - j^{2} w_{1t} w_{t0} + j^{2} w_{t0}\\right)}{\\left(w_{10} \\left(S \\delta_{i j} - 1\\right) + 1\\right) \\left(S w_{10} \\delta_{i j} - w_{10} + 1\\right)} & \\text{for}\\: S \\geq i \\wedge S \\geq j \\wedge i \\geq 1 \\wedge j \\geq 1 \\\\\\frac{j^{2} w_{t0} \\cdot \\left(1 - w_{1t}\\right) \\left(S w_{10} \\delta_{i j} - w_{10} + 1\\right) + \\frac{\\left(w_{10} \\left(S \\delta_{i j} - 1\\right) + 1\\right) \\left(2 S^{2} + 3 S + w_{1t} w_{t0} \\cdot \\left(2 S^{2} + 3 S + 1\\right) - w_{1t} \\left(2 S^{2} + 3 S + 1\\right) - w_{t0} \\cdot \\left(2 S^{2} + 3 S + 1\\right) + 1\\right)}{6}}{\\left(w_{10} \\left(S \\delta_{i j} - 1\\right) + 1\\right) \\left(S w_{10} \\delta_{i j} - w_{10} + 1\\right)} & \\text{for}\\: S \\geq j \\wedge j \\geq 1 \\\\\\frac{i^{2} w_{1t} \\left(S w_{10} \\delta_{i j} - w_{10} + 1\\right) \\left(S w_{t0} \\delta_{i j} - w_{t0} + 1\\right) + \\frac{\\left(w_{10} \\left(S \\delta_{i j} - 1\\right) + 1\\right) \\left(2 S^{2} + 3 S + w_{1t} w_{t0} \\cdot \\left(2 S^{2} + 3 S + 1\\right) - w_{1t} \\left(2 S^{2} + 3 S + 1\\right) - w_{t0} \\cdot \\left(2 S^{2} + 3 S + 1\\right) + 1\\right)}{6}}{\\left(w_{10} \\left(S \\delta_{i j} - 1\\right) + 1\\right) \\left(S w_{10} \\delta_{i j} - w_{10} + 1\\right)} & \\text{for}\\: S \\geq i \\wedge i \\geq 1 \\\\\\frac{2 S^{2} + 3 S + w_{1t} w_{t0} \\cdot \\left(2 S^{2} + 3 S + 1\\right) - w_{1t} \\left(2 S^{2} + 3 S + 1\\right) - w_{t0} \\cdot \\left(2 S^{2} + 3 S + 1\\right) + 1}{6 \\left(S w_{10} \\delta_{i j} - w_{10} + 1\\right)} & \\text{otherwise} \\end{cases}$"
      ],
      "text/plain": [
       "Piecewise((((w_10*(S*KroneckerDelta(i, j) - 1) + 1)*(2*S**2 + 3*S + w_1t*w_t0*(2*S**2 + 3*S + 1) - w_1t*(2*S**2 + 3*S + 1) - w_t0*(2*S**2 + 3*S + 1) + 1)/6 + (S*w_10*KroneckerDelta(i, j) - w_10 + 1)*(S*i**2*w_1t*w_t0*KroneckerDelta(i, j) - i**2*w_1t*w_t0 + i**2*w_1t - j**2*w_1t*w_t0 + j**2*w_t0))/((w_10*(S*KroneckerDelta(i, j) - 1) + 1)*(S*w_10*KroneckerDelta(i, j) - w_10 + 1)), (S >= i) & (S >= j) & (i >= 1) & (j >= 1)), ((j**2*w_t0*(1 - w_1t)*(S*w_10*KroneckerDelta(i, j) - w_10 + 1) + (w_10*(S*KroneckerDelta(i, j) - 1) + 1)*(2*S**2 + 3*S + w_1t*w_t0*(2*S**2 + 3*S + 1) - w_1t*(2*S**2 + 3*S + 1) - w_t0*(2*S**2 + 3*S + 1) + 1)/6)/((w_10*(S*KroneckerDelta(i, j) - 1) + 1)*(S*w_10*KroneckerDelta(i, j) - w_10 + 1)), (S >= j) & (j >= 1)), ((i**2*w_1t*(S*w_10*KroneckerDelta(i, j) - w_10 + 1)*(S*w_t0*KroneckerDelta(i, j) - w_t0 + 1) + (w_10*(S*KroneckerDelta(i, j) - 1) + 1)*(2*S**2 + 3*S + w_1t*w_t0*(2*S**2 + 3*S + 1) - w_1t*(2*S**2 + 3*S + 1) - w_t0*(2*S**2 + 3*S + 1) + 1)/6)/((w_10*(S*KroneckerDelta(i, j) - 1) + 1)*(S*w_10*KroneckerDelta(i, j) - w_10 + 1)), (S >= i) & (i >= 1)), ((2*S**2 + 3*S + w_1t*w_t0*(2*S**2 + 3*S + 1) - w_1t*(2*S**2 + 3*S + 1) - w_t0*(2*S**2 + 3*S + 1) + 1)/(6*(S*w_10*KroneckerDelta(i, j) - w_10 + 1)), True))"
      ]
     },
     "execution_count": 15,
     "metadata": {},
     "output_type": "execute_result"
    }
   ],
   "source": [
    "second_moment_expr = sp.Sum(k**2 * P_bridge, (k, 1, S))\n",
    "second_moment_expr = second_moment_expr.doit().simplify()\n",
    "second_moment_expr"
   ]
  },
  {
   "cell_type": "code",
   "execution_count": 17,
   "id": "c9d90f7d-1f81-4852-9e49-b57f22de13f9",
   "metadata": {},
   "outputs": [
    {
     "data": {
      "text/latex": [
       "$\\displaystyle \\frac{\\frac{\\left(w_{10} \\left(S \\delta_{i j} - 1\\right) + 1\\right) \\left(2 S^{2} + 3 S + w_{1t} w_{t0} \\cdot \\left(2 S^{2} + 3 S + 1\\right) - w_{1t} \\left(2 S^{2} + 3 S + 1\\right) - w_{t0} \\cdot \\left(2 S^{2} + 3 S + 1\\right) + 1\\right)}{6} + \\left(S w_{10} \\delta_{i j} - w_{10} + 1\\right) \\left(S i^{2} w_{1t} w_{t0} \\delta_{i j} - i^{2} w_{1t} w_{t0} + i^{2} w_{1t} - j^{2} w_{1t} w_{t0} + j^{2} w_{t0}\\right)}{\\left(w_{10} \\left(S \\delta_{i j} - 1\\right) + 1\\right) \\left(S w_{10} \\delta_{i j} - w_{10} + 1\\right)}$"
      ],
      "text/plain": [
       "((w_10*(S*KroneckerDelta(i, j) - 1) + 1)*(2*S**2 + 3*S + w_1t*w_t0*(2*S**2 + 3*S + 1) - w_1t*(2*S**2 + 3*S + 1) - w_t0*(2*S**2 + 3*S + 1) + 1)/6 + (S*w_10*KroneckerDelta(i, j) - w_10 + 1)*(S*i**2*w_1t*w_t0*KroneckerDelta(i, j) - i**2*w_1t*w_t0 + i**2*w_1t - j**2*w_1t*w_t0 + j**2*w_t0))/((w_10*(S*KroneckerDelta(i, j) - 1) + 1)*(S*w_10*KroneckerDelta(i, j) - w_10 + 1))"
      ]
     },
     "execution_count": 17,
     "metadata": {},
     "output_type": "execute_result"
    }
   ],
   "source": [
    "second_moment_expr_ = second_moment_expr.args[0].args[0]\n",
    "second_moment_expr_"
   ]
  },
  {
   "cell_type": "code",
   "execution_count": 18,
   "id": "3094bdc8-e406-4995-a857-cba9e0e8ab65",
   "metadata": {},
   "outputs": [
    {
     "name": "stdout",
     "output_type": "stream",
     "text": [
      "\\frac{\\frac{\\left(w_{10} \\left(S \\delta_{i j} - 1\\right) + 1\\right) \\left(2 S^{2} + 3 S + w_{1t} w_{t0} \\cdot \\left(2 S^{2} + 3 S + 1\\right) - w_{1t} \\left(2 S^{2} + 3 S + 1\\right) - w_{t0} \\cdot \\left(2 S^{2} + 3 S + 1\\right) + 1\\right)}{6} + \\left(S w_{10} \\delta_{i j} - w_{10} + 1\\right) \\left(S i^{2} w_{1t} w_{t0} \\delta_{i j} - i^{2} w_{1t} w_{t0} + i^{2} w_{1t} - j^{2} w_{1t} w_{t0} + j^{2} w_{t0}\\right)}{\\left(w_{10} \\left(S \\delta_{i j} - 1\\right) + 1\\right) \\left(S w_{10} \\delta_{i j} - w_{10} + 1\\right)}\n"
     ]
    }
   ],
   "source": [
    "print_latex(second_moment_expr_)"
   ]
  },
  {
   "cell_type": "code",
   "execution_count": null,
   "id": "beea7bf4-1079-4183-a43b-2dfc4708ae52",
   "metadata": {},
   "outputs": [],
   "source": []
  }
 ],
 "metadata": {
  "kernelspec": {
   "display_name": "Python 3 (ipykernel)",
   "language": "python",
   "name": "python3"
  },
  "language_info": {
   "codemirror_mode": {
    "name": "ipython",
    "version": 3
   },
   "file_extension": ".py",
   "mimetype": "text/x-python",
   "name": "python",
   "nbconvert_exporter": "python",
   "pygments_lexer": "ipython3",
   "version": "3.10.9"
  }
 },
 "nbformat": 4,
 "nbformat_minor": 5
}

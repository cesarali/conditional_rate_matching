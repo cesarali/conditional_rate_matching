{
 "cells": [
  {
   "cell_type": "code",
   "execution_count": 3,
   "id": "4f606e78-6a89-4665-a6ba-f88c4404c1a7",
   "metadata": {},
   "outputs": [],
   "source": [
    "import torch\n",
    "\n",
    "import torch\n",
    "\n",
    "def compute_first_moment(S, i, j, w_10, w_1t, w_t0):\n",
    "    # Kronecker delta in PyTorch\n",
    "    kronecker_delta_ij = (i == j).float()\n",
    "\n",
    "    # Precompute common terms to simplify the expression\n",
    "    term_S1 = S + 1  # Term involving S\n",
    "    part1 = w_10 * (S * kronecker_delta_ij - 1) + 1\n",
    "    part2 = S * w_10 * kronecker_delta_ij - w_10 + 1\n",
    "\n",
    "    # Calculate each term of the first moment expression\n",
    "    term1 = part1 * (S + w_1t * w_t0 * term_S1 - w_1t * term_S1 - w_t0 * term_S1 + 1) / 2\n",
    "    term2 = part2 * (S * i * w_1t * w_t0 * kronecker_delta_ij - i * w_1t * w_t0 + i * w_1t - j * w_1t * w_t0 + j * w_t0)\n",
    "\n",
    "    # Combine terms to compute the first moment\n",
    "    first_moment = (term1 + term2) / (part1 * part2)\n",
    "\n",
    "    return first_moment\n",
    "\n",
    "\n",
    "def compute_second_moment_complex(S, i, j, w_10, w_1t, w_t0):\n",
    "    # Kronecker delta in PyTorch\n",
    "    kronecker_delta_ij = (i == j).float()\n",
    "\n",
    "    # Precompute common terms to simplify the expression\n",
    "    term_S0 = 2 * S**2 + 3 * S + 1  # Term involving S\n",
    "    part1 = w_10 * (S * kronecker_delta_ij - 1) + 1\n",
    "    part2 = S * w_10 * kronecker_delta_ij - w_10 + 1\n",
    "\n",
    "    # Calculate each term of the second moment expression\n",
    "    term1 = part1 * (term_S0 + w_1t * w_t0 * term_S0 - w_1t * term_S0 - w_t0 * term_S0 + 1) / 6\n",
    "    term2 = part2 * (S * i**2 * w_1t * w_t0 * kronecker_delta_ij - i**2 * w_1t * w_t0 + i**2 * w_1t - j**2 * w_1t * w_t0 + j**2 * w_t0)\n",
    "\n",
    "    # Combine terms to compute the second moment\n",
    "    second_moment = (term1 + term2) / (part1 * part2)\n",
    "\n",
    "    return second_moment\n"
   ]
  },
  {
   "cell_type": "code",
   "execution_count": 12,
   "id": "8c12943c-b6e9-4bf5-b63d-8e43e88ebe55",
   "metadata": {},
   "outputs": [
    {
     "name": "stdout",
     "output_type": "stream",
     "text": [
      "tensor([[5.0889, 6.4444, 4.0000, 5.2667],\n",
      "        [3.6842, 4.5111, 6.1778, 4.9556],\n",
      "        [4.3556, 6.6000, 6.1333, 5.0667]])\n",
      "tensor([[37.0074, 48.2296, 25.0296, 32.2963],\n",
      "        [19.6877, 31.7630, 43.6963, 29.8074],\n",
      "        [29.7407, 49.6296, 46.3630, 31.4296]])\n"
     ]
    },
    {
     "data": {
      "text/plain": [
       "tensor([[11.1106,  6.6988,  9.0296,  4.5585],\n",
       "        [ 6.1143, 11.4128,  5.5314,  5.2499],\n",
       "        [10.7699,  6.0696,  8.7452,  5.7585]])"
      ]
     },
     "execution_count": 12,
     "metadata": {},
     "output_type": "execute_result"
    }
   ],
   "source": [
    "\n",
    "# Example usage\n",
    "S_value = torch.tensor(10.0)  # State space size\n",
    "i = torch.randint(0,10,(3,4)).float()  # Tensor for i\n",
    "j = torch.randint(0,10,(3,4)).float()  # Tensor for j, must be the same size as i\n",
    "w_10_value = torch.tensor(0.1)  # Weight w_10\n",
    "w_1t_value = torch.tensor(0.2)  # Weight w_1t\n",
    "w_t0_value = torch.tensor(0.3)  # Weight w_t0\n",
    "\n",
    "# Call the function\n",
    "first_moment = compute_first_moment(S_value, i, j, w_10_value, w_1t_value, w_t0_value)\n",
    "print(first_moment)\n",
    "# Call the function\n",
    "second_moment_complex = compute_second_moment_complex(S_value, i, j, w_10_value, w_1t_value, w_t0_value)\n",
    "print(second_moment_complex)\n",
    "\n",
    "variance = second_moment_complex - first_moment**2\n",
    "variance"
   ]
  },
  {
   "cell_type": "code",
   "execution_count": 14,
   "id": "ba7fcbaa-32b3-46b7-a093-e02d55c1502d",
   "metadata": {},
   "outputs": [
    {
     "data": {
      "text/plain": [
       "tensor([-1.1277, -1.4929,  1.0785,  0.2809,  0.9458,  0.3655, -0.3089,  1.3626,\n",
       "        -1.1439, -1.0441])"
      ]
     },
     "execution_count": 14,
     "metadata": {},
     "output_type": "execute_result"
    }
   ],
   "source": [
    "torch.randn(10)"
   ]
  },
  {
   "cell_type": "code",
   "execution_count": null,
   "id": "2c2ba462-70e5-4c2d-9560-576b77f9b67d",
   "metadata": {},
   "outputs": [],
   "source": []
  }
 ],
 "metadata": {
  "kernelspec": {
   "display_name": "Python 3 (ipykernel)",
   "language": "python",
   "name": "python3"
  },
  "language_info": {
   "codemirror_mode": {
    "name": "ipython",
    "version": 3
   },
   "file_extension": ".py",
   "mimetype": "text/x-python",
   "name": "python",
   "nbconvert_exporter": "python",
   "pygments_lexer": "ipython3",
   "version": "3.10.9"
  }
 },
 "nbformat": 4,
 "nbformat_minor": 5
}

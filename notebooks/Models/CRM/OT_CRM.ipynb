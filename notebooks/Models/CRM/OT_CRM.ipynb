{
 "cells": [
  {
   "cell_type": "code",
   "execution_count": 2,
   "metadata": {},
   "outputs": [],
   "source": [
    "import os\n",
    "import sys\n",
    "import torch\n",
    "from conditional_rate_matching.configs.experiments_configs.crm.crm_experiments_graph import experiment_comunity_small\n",
    "from conditional_rate_matching.models.generative_models.crm import CRM\n",
    "\n",
    "from pprint import pprint\n",
    "from dataclasses import asdict\n",
    "import torch.nn.functional as F"
   ]
  },
  {
   "cell_type": "code",
   "execution_count": 3,
   "metadata": {},
   "outputs": [],
   "source": [
    "graph_config = experiment_comunity_small()\n",
    "#pprint(asdict(graph_config))\n",
    "crm:CRM = CRM(config=graph_config)"
   ]
  },
  {
   "cell_type": "code",
   "execution_count": 18,
   "metadata": {},
   "outputs": [],
   "source": [
    "databatch0 = next(crm.dataloader_0.train().__iter__())\n",
    "databatch1 = next(crm.dataloader_1.train().__iter__())\n",
    "x0 = databatch0[0]\n",
    "x1 = databatch1[0]\n",
    "time1 = torch.ones(x0.shape[0])\n",
    "\n",
    "posterior_estimate = F.softmax(crm.forward_rate.classify(x1,time1),dim=1)\n",
    "\n",
    "x0_ = x0.unsqueeze(-1).repeat((1,1,x0.shape[0])).permute(2,1,0).long()\n",
    "posterior_estimate_ = posterior_estimate.unsqueeze(-1).repeat((1,1,1,x0.shape[0]))\n",
    "cost = torch.gather(posterior_estimate_,2,x0_.unsqueeze(2)).squeeze()"
   ]
  },
  {
   "cell_type": "code",
   "execution_count": 5,
   "metadata": {},
   "outputs": [
    {
     "data": {
      "text/plain": [
       "torch.Size([20, 20])"
      ]
     },
     "execution_count": 5,
     "metadata": {},
     "output_type": "execute_result"
    }
   ],
   "source": [
    "posterior_estimate_1d = posterior_estimate[:,0,:]\n",
    "x0_1d = x0[:,0]\n",
    "x1_1d = x1[:,0]\n",
    "\n",
    "x0_1d_ = x0_1d.unsqueeze(-1).repeat((1,x0_1d.shape[0])).permute(1,0).long()\n",
    "posterior_estimate_1d = posterior_estimate_1d.unsqueeze(-1).repeat((1,1,x0_1d.shape[0]))\n",
    "cost_1d = torch.gather(posterior_estimate_1d,1,x0_1d_.unsqueeze(1)).squeeze()\n",
    "cost_1d.shape"
   ]
  },
  {
   "cell_type": "code",
   "execution_count": 6,
   "metadata": {},
   "outputs": [],
   "source": []
  },
  {
   "cell_type": "code",
   "execution_count": 14,
   "metadata": {},
   "outputs": [
    {
     "data": {
      "text/plain": [
       "tensor([0., 1., 1., 0., 1., 1., 0., 1., 1., 1., 0., 1., 1., 0., 0., 1., 1., 0.,\n",
       "        1., 0.])"
      ]
     },
     "execution_count": 14,
     "metadata": {},
     "output_type": "execute_result"
    }
   ],
   "source": [
    "x0[:,9]"
   ]
  },
  {
   "cell_type": "code",
   "execution_count": 17,
   "metadata": {},
   "outputs": [
    {
     "data": {
      "text/plain": [
       "tensor(0.0119, grad_fn=<SelectBackward0>)"
      ]
     },
     "execution_count": 17,
     "metadata": {},
     "output_type": "execute_result"
    }
   ],
   "source": [
    "cost[0,9,3]"
   ]
  },
  {
   "cell_type": "code",
   "execution_count": 11,
   "metadata": {},
   "outputs": [
    {
     "data": {
      "text/plain": [
       "tensor([[0.0119, 0.0066],\n",
       "        [0.0081, 0.0088],\n",
       "        [0.0069, 0.0057],\n",
       "        [0.0119, 0.0066],\n",
       "        [0.0083, 0.0091],\n",
       "        [0.0079, 0.0112],\n",
       "        [0.0070, 0.0038],\n",
       "        [0.0119, 0.0066],\n",
       "        [0.0074, 0.0063],\n",
       "        [0.0116, 0.0075],\n",
       "        [0.0074, 0.0063],\n",
       "        [0.0074, 0.0063],\n",
       "        [0.0125, 0.0075],\n",
       "        [0.0079, 0.0102],\n",
       "        [0.0080, 0.0041],\n",
       "        [0.0078, 0.0036],\n",
       "        [0.0084, 0.0117],\n",
       "        [0.0119, 0.0066],\n",
       "        [0.0120, 0.0085],\n",
       "        [0.0081, 0.0088]], grad_fn=<SliceBackward0>)"
      ]
     },
     "execution_count": 11,
     "metadata": {},
     "output_type": "execute_result"
    }
   ],
   "source": [
    "posterior_estimate[:,9,:]"
   ]
  },
  {
   "cell_type": "code",
   "execution_count": null,
   "metadata": {},
   "outputs": [],
   "source": [
    "posterior_estimate[]"
   ]
  },
  {
   "cell_type": "code",
   "execution_count": 167,
   "metadata": {},
   "outputs": [
    {
     "data": {
      "text/plain": [
       "torch.Size([20, 190, 1, 20])"
      ]
     },
     "execution_count": 167,
     "metadata": {},
     "output_type": "execute_result"
    }
   ],
   "source": [
    "x0_.unsqueeze(2).shape"
   ]
  },
  {
   "cell_type": "code",
   "execution_count": 141,
   "metadata": {},
   "outputs": [
    {
     "data": {
      "text/plain": [
       "tensor([1, 0, 0, 0, 1, 0, 0, 1, 1, 0, 1, 1, 1, 1, 0, 0, 1, 0, 1, 0])"
      ]
     },
     "execution_count": 141,
     "metadata": {},
     "output_type": "execute_result"
    }
   ],
   "source": [
    "x0_1d_[0]"
   ]
  },
  {
   "cell_type": "code",
   "execution_count": 146,
   "metadata": {},
   "outputs": [
    {
     "data": {
      "text/plain": [
       "tensor(0.0038, grad_fn=<SelectBackward0>)"
      ]
     },
     "execution_count": 146,
     "metadata": {},
     "output_type": "execute_result"
    }
   ],
   "source": [
    "cost[0,4]"
   ]
  },
  {
   "cell_type": "code",
   "execution_count": 147,
   "metadata": {},
   "outputs": [],
   "source": [
    "# posterior_estimate_1d[:,:,0]"
   ]
  },
  {
   "cell_type": "code",
   "execution_count": 88,
   "metadata": {},
   "outputs": [],
   "source": [
    "cost = torch.gather(posterior_equal_probability,2,x0_)\n"
   ]
  },
  {
   "cell_type": "code",
   "execution_count": 91,
   "metadata": {},
   "outputs": [
    {
     "data": {
      "text/plain": [
       "tensor([0.0024, 0.0024, 0.0024, 0.0024, 0.0024, 0.0024, 0.0024, 0.0024, 0.0024,\n",
       "        0.0024, 0.0024, 0.0024, 0.0024, 0.0024, 0.0024, 0.0024, 0.0024, 0.0024,\n",
       "        0.0024, 0.0024], grad_fn=<SelectBackward0>)"
      ]
     },
     "execution_count": 91,
     "metadata": {},
     "output_type": "execute_result"
    }
   ],
   "source": [
    "posterior_equal_probability[3,0]"
   ]
  },
  {
   "cell_type": "code",
   "execution_count": 87,
   "metadata": {},
   "outputs": [
    {
     "ename": "IndexError",
     "evalue": "Dimension out of range (expected to be in range of [-1, 0], but got 1)",
     "output_type": "error",
     "traceback": [
      "\u001b[1;31m---------------------------------------------------------------------------\u001b[0m",
      "\u001b[1;31mIndexError\u001b[0m                                Traceback (most recent call last)",
      "Cell \u001b[1;32mIn[87], line 1\u001b[0m\n\u001b[1;32m----> 1\u001b[0m cost \u001b[38;5;241m=\u001b[39m \u001b[43mcost\u001b[49m\u001b[38;5;241;43m.\u001b[39;49m\u001b[43msum\u001b[49m\u001b[43m(\u001b[49m\u001b[43maxis\u001b[49m\u001b[38;5;241;43m=\u001b[39;49m\u001b[38;5;241;43m1\u001b[39;49m\u001b[43m)\u001b[49m\u001b[38;5;241m.\u001b[39mmin()\n",
      "\u001b[1;31mIndexError\u001b[0m: Dimension out of range (expected to be in range of [-1, 0], but got 1)"
     ]
    }
   ],
   "source": [
    "cost = cost.sum(axis=1).min()"
   ]
  }
 ],
 "metadata": {
  "kernelspec": {
   "display_name": "rate_matching",
   "language": "python",
   "name": "python3"
  },
  "language_info": {
   "codemirror_mode": {
    "name": "ipython",
    "version": 3
   },
   "file_extension": ".py",
   "mimetype": "text/x-python",
   "name": "python",
   "nbconvert_exporter": "python",
   "pygments_lexer": "ipython3",
   "version": "3.10.9"
  }
 },
 "nbformat": 4,
 "nbformat_minor": 2
}

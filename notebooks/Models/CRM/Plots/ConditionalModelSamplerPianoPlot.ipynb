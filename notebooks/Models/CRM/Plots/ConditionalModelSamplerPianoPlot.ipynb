{
 "cells": [
  {
   "cell_type": "code",
   "execution_count": 1,
   "id": "d03e7b04-6c54-4094-bb09-1d267ea2af23",
   "metadata": {},
   "outputs": [],
   "source": [
    "import os\n",
    "import torch\n",
    "import pytest\n",
    "from pprint import pprint\n",
    "\n",
    "from conditional_rate_matching.models.generative_models.crm import CRM\n",
    "from conditional_rate_matching.data.music_dataloaders import LankhPianoRollDataloader\n",
    "from conditional_rate_matching.data.music_dataloaders_config import LakhPianoRollConfig\n",
    "from conditional_rate_matching.configs.experiments_configs.crm.crm_experiments_music import experiment_music_conditional_config\n",
    "from conditional_rate_matching.models.temporal_networks.temporal_networks_utils import load_temporal_network"
   ]
  },
  {
   "cell_type": "code",
   "execution_count": 2,
   "id": "46062698-d1b5-48ba-ad86-9f7a96d83593",
   "metadata": {},
   "outputs": [
    {
     "name": "stdout",
     "output_type": "stream",
     "text": [
      "torch.Size([64, 256])\n",
      "torch.Size([64, 256, 129])\n"
     ]
    },
    {
     "name": "stderr",
     "output_type": "stream",
     "text": [
      "5it [00:00, 20.84it/s]"
     ]
    },
    {
     "name": "stdout",
     "output_type": "stream",
     "text": [
      "torch.Size([32, 256])\n"
     ]
    },
    {
     "name": "stderr",
     "output_type": "stream",
     "text": [
      "\n"
     ]
    }
   ],
   "source": [
    "bridge_conditional = False\n",
    "config = experiment_music_conditional_config()\n",
    "config.data0.bridge_conditional = bridge_conditional\n",
    "config.data1.bridge_conditional = bridge_conditional\n",
    "\n",
    "crm = CRM(config)\n",
    "\n",
    "databatch = next(crm.dataloader_0.train().__iter__())\n",
    "x = databatch[0]\n",
    "batch_size = x.size(0)\n",
    "ts = torch.rand((batch_size,))\n",
    "print(x.shape)\n",
    "\n",
    "logits = crm.forward_rate.temporal_network(x,ts)\n",
    "print(logits.shape)\n",
    "\n",
    "generative_sample = crm.pipeline(32)\n",
    "print(generative_sample.shape)"
   ]
  },
  {
   "cell_type": "code",
   "execution_count": null,
   "id": "f4b97940-180a-4c80-8a9c-cb4fb102914c",
   "metadata": {},
   "outputs": [],
   "source": []
  }
 ],
 "metadata": {
  "kernelspec": {
   "display_name": "Python 3 (ipykernel)",
   "language": "python",
   "name": "python3"
  },
  "language_info": {
   "codemirror_mode": {
    "name": "ipython",
    "version": 3
   },
   "file_extension": ".py",
   "mimetype": "text/x-python",
   "name": "python",
   "nbconvert_exporter": "python",
   "pygments_lexer": "ipython3",
   "version": "3.10.9"
  }
 },
 "nbformat": 4,
 "nbformat_minor": 5
}

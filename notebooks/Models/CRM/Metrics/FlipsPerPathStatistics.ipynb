{
 "cells": [
  {
   "cell_type": "code",
   "execution_count": 1,
   "id": "9c6b0856-d1e9-449c-b3da-685083741c71",
   "metadata": {},
   "outputs": [],
   "source": [
    "import os\n",
    "import torch\n",
    "import numpy as np\n",
    "import torch.nn.functional as F\n",
    "\n",
    "from conditional_rate_matching.data.dataloaders_utils import get_dataloaders_crm\n",
    "from conditional_rate_matching.models.generative_models.crm import uniform_pair_x0_x1\n",
    "from conditional_rate_matching.configs.configs_classes.config_crm import CRMConfig as ConditionalRateMatchingConfig\n",
    "\n",
    "from conditional_rate_matching.models.generative_models.crm import (\n",
    "    CRM\n",
    ")\n",
    "\n",
    "from conditional_rate_matching.configs.config_files import ExperimentFiles\n",
    "from conditional_rate_matching.models.trainers.crm_trainer import CRMTrainer\n",
    "from conditional_rate_matching.configs.config_files import get_experiment_dir\n",
    "from conditional_rate_matching.configs.configs_classes.config_crm import CRMConfig\n",
    "\n",
    "from conditional_rate_matching.utils.plots.images_plots import plot_sample\n",
    "from conditional_rate_matching.models.pipelines.sdes_samplers.samplers import TauLeaping\n",
    "from conditional_rate_matching.configs.experiments_configs.crm.crm_experiments_nist import experiment_nist\n",
    "\n",
    "import pytest\n",
    "from matplotlib import pyplot as plt\n",
    "from conditional_rate_matching import plots_path\n",
    "from conditional_rate_matching import results_path\n",
    "from conditional_rate_matching.models.metrics.fid_metrics import load_classifier\n",
    "from conditional_rate_matching.utils.plots.images_plots import mnist_grid,mnist_noise_bridge\n",
    "from conditional_rate_matching.models.metrics.crm_path_metrics import conditional_bridge_marginal_probabilities_and_rates_path,conditional_bridge_images"
   ]
  },
  {
   "cell_type": "code",
   "execution_count": 2,
   "id": "f83341d3-78ef-43c3-9297-7f4ff873f516",
   "metadata": {},
   "outputs": [],
   "source": [
    "from conditional_rate_matching import plots_path"
   ]
  },
  {
   "cell_type": "code",
   "execution_count": 3,
   "id": "12427bcd-45ac-4c4d-98ff-4cfb2f7157b0",
   "metadata": {},
   "outputs": [],
   "source": [
    "##experiment_dir = os.path.join(results_path,\"emnist_2_mnist_lenet5\",\"emnist_2_mnist_lenet5\",\"run\")\n",
    "#experiment_dir = os.path.join(results_path,\"emnist_2_mnist_lenet5_OTPlanSampler\",\"emnist_2_mnist_lenet5_OTPlanSampler\",\"run\")\n",
    "#experiment_dir = os.path.join(results_path,\"emnist_2_mnist_lenet5_UniformCoupling\",\"emnist_2_mnist_lenet5_UniformCoupling\",\"run\")\n",
    "experiment_dir = os.path.join(results_path,\"emnist_2_mnist_lenet5_OTPlanSampler_1\",\"emnist_2_mnist_lenet5_OTPlanSampler_1\",\"run\")\n",
    "\n",
    "#experiment_dir = get_experiment_dir(experiment_name=\"prenzlauer_experiment\",experiment_type=\"crm\",experiment_indentifier=\"bridge_plot_mlp_mu_001\")"
   ]
  },
  {
   "cell_type": "code",
   "execution_count": 4,
   "id": "d2e3c3cc-4957-47ac-9bc2-06dc7b2f0c2f",
   "metadata": {},
   "outputs": [],
   "source": [
    "label_to_see = 20\n",
    "steps_of_noise_to_see = 19\n",
    "number_of_images_to_see = 20\n",
    "\n",
    "save_path = os.path.join(plots_path,\"emnist_to_mnist_lenet5_Uniform_01.png\")\n",
    "device = torch.device(\"cpu\")\n",
    "\n",
    "crm = CRM(experiment_dir=experiment_dir, device=device)\n",
    "crm.config.pipeline.num_intermediates = crm.config.pipeline.number_of_steps"
   ]
  },
  {
   "cell_type": "code",
   "execution_count": 5,
   "id": "3e8b12a8-d48d-4902-bb25-6b6832049aa2",
   "metadata": {},
   "outputs": [],
   "source": [
    "images_,labels_ = next(crm.dataloader_0.train().__iter__())"
   ]
  },
  {
   "cell_type": "code",
   "execution_count": 6,
   "id": "68787ec3-5350-40e4-965c-8da823599d76",
   "metadata": {},
   "outputs": [
    {
     "name": "stderr",
     "output_type": "stream",
     "text": [
      "1000it [00:04, 210.71it/s]\n"
     ]
    }
   ],
   "source": [
    "x_f,x_path,t_path = crm.pipeline(sample_size=10,train=True,return_path=True,batch_size=128,x_0=None)"
   ]
  },
  {
   "cell_type": "code",
   "execution_count": 15,
   "id": "aa579e80-0e95-4d0a-8285-43576e12b60e",
   "metadata": {},
   "outputs": [
    {
     "data": {
      "text/plain": [
       "tensor(0.2552)"
      ]
     },
     "execution_count": 15,
     "metadata": {},
     "output_type": "execute_result"
    }
   ],
   "source": [
    "number_of_flips = np.abs(x_path[:,1:] - x_path[0,:-1,:]).mean()\n",
    "number_of_flips"
   ]
  },
  {
   "cell_type": "code",
   "execution_count": 12,
   "id": "336af7f2-4478-4b65-b3ec-4aad61606b28",
   "metadata": {},
   "outputs": [
    {
     "data": {
      "text/plain": [
       "tensor([  7111., 233614., 228515., 221130., 229232., 206156., 218393., 210588.,\n",
       "        233901., 212041.])"
      ]
     },
     "execution_count": 12,
     "metadata": {},
     "output_type": "execute_result"
    }
   ],
   "source": []
  },
  {
   "cell_type": "code",
   "execution_count": null,
   "id": "04838077-f7c9-49b5-bb53-c99cefbeee6d",
   "metadata": {},
   "outputs": [],
   "source": []
  },
  {
   "cell_type": "code",
   "execution_count": null,
   "id": "1b44893c-7109-4ead-b305-64cfa7e54719",
   "metadata": {},
   "outputs": [],
   "source": []
  },
  {
   "cell_type": "code",
   "execution_count": null,
   "id": "2e348ca8-b843-4ae3-abca-5c0472d8f701",
   "metadata": {},
   "outputs": [],
   "source": []
  },
  {
   "cell_type": "code",
   "execution_count": null,
   "id": "f9908474-bb8b-4688-acff-f85a8ebd8059",
   "metadata": {},
   "outputs": [],
   "source": []
  },
  {
   "cell_type": "code",
   "execution_count": null,
   "id": "cbf7b1c5-7883-403b-8710-09f5c899e7e2",
   "metadata": {},
   "outputs": [],
   "source": [
    "\n"
   ]
  },
  {
   "cell_type": "code",
   "execution_count": null,
   "id": "92e73410-5693-43e0-95c3-dba9426863bc",
   "metadata": {},
   "outputs": [],
   "source": []
  }
 ],
 "metadata": {
  "kernelspec": {
   "display_name": "Python 3 (ipykernel)",
   "language": "python",
   "name": "python3"
  },
  "language_info": {
   "codemirror_mode": {
    "name": "ipython",
    "version": 3
   },
   "file_extension": ".py",
   "mimetype": "text/x-python",
   "name": "python",
   "nbconvert_exporter": "python",
   "pygments_lexer": "ipython3",
   "version": "3.10.9"
  }
 },
 "nbformat": 4,
 "nbformat_minor": 5
}

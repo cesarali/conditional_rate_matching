{
 "cells": [
  {
   "cell_type": "code",
   "execution_count": 1,
   "metadata": {},
   "outputs": [],
   "source": [
    "import torch\n",
    "from torch.distributions import Poisson"
   ]
  },
  {
   "cell_type": "code",
   "execution_count": 10,
   "metadata": {},
   "outputs": [],
   "source": [
    "D = 1\n",
    "S = 3\n",
    "B = 4\n",
    "\n",
    "h = 0.01\n",
    "device = torch.device(\"cpu\")\n",
    "rates = torch.rand((B,D,S))\n",
    "\n",
    "x = torch.randint(0,S,(B,D))"
   ]
  },
  {
   "cell_type": "code",
   "execution_count": 11,
   "metadata": {},
   "outputs": [
    {
     "data": {
      "text/plain": [
       "tensor([[0],\n",
       "        [2],\n",
       "        [1],\n",
       "        [0]])"
      ]
     },
     "execution_count": 11,
     "metadata": {},
     "output_type": "execute_result"
    }
   ],
   "source": [
    "x"
   ]
  },
  {
   "cell_type": "code",
   "execution_count": 14,
   "metadata": {},
   "outputs": [],
   "source": [
    "diffs = torch.arange(S, device=device).view(1,1,S) - x.view(B,D,1)\n",
    "poisson_dist = torch.distributions.poisson.Poisson(rates*h)\n",
    "jump_nums = poisson_dist.sample().to(device)\n",
    "adj_diffs = jump_nums * diffs\n",
    "overall_jump = torch.sum(adj_diffs, dim=2)\n",
    "xp = x + overall_jump\n",
    "x_new = torch.clamp(xp, min=0, max=S-1)"
   ]
  },
  {
   "cell_type": "code",
   "execution_count": 16,
   "metadata": {},
   "outputs": [
    {
     "data": {
      "text/plain": [
       "torch.Size([4, 1])"
      ]
     },
     "execution_count": 16,
     "metadata": {},
     "output_type": "execute_result"
    }
   ],
   "source": [
    "x_new"
   ]
  },
  {
   "cell_type": "code",
   "execution_count": 17,
   "metadata": {},
   "outputs": [
    {
     "data": {
      "text/plain": [
       "tensor([[0],\n",
       "        [2],\n",
       "        [1],\n",
       "        [0]])"
      ]
     },
     "execution_count": 17,
     "metadata": {},
     "output_type": "execute_result"
    }
   ],
   "source": [
    "x"
   ]
  },
  {
   "cell_type": "code",
   "execution_count": 20,
   "metadata": {},
   "outputs": [
    {
     "data": {
      "text/plain": [
       "tensor([[[ 0,  1,  2]],\n",
       "\n",
       "        [[-2, -1,  0]],\n",
       "\n",
       "        [[-1,  0,  1]],\n",
       "\n",
       "        [[ 0,  1,  2]]])"
      ]
     },
     "execution_count": 20,
     "metadata": {},
     "output_type": "execute_result"
    }
   ],
   "source": [
    "diffs"
   ]
  }
 ],
 "metadata": {
  "kernelspec": {
   "display_name": "neural_spectral_sde",
   "language": "python",
   "name": "python3"
  },
  "language_info": {
   "codemirror_mode": {
    "name": "ipython",
    "version": 3
   },
   "file_extension": ".py",
   "mimetype": "text/x-python",
   "name": "python",
   "nbconvert_exporter": "python",
   "pygments_lexer": "ipython3",
   "version": "3.10.9"
  }
 },
 "nbformat": 4,
 "nbformat_minor": 2
}

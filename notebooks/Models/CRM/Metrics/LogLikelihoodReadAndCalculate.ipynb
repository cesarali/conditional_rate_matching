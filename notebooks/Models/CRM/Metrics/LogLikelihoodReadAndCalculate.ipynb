{
 "cells": [
  {
   "cell_type": "code",
   "execution_count": 1,
   "metadata": {},
   "outputs": [
    {
     "name": "stderr",
     "output_type": "stream",
     "text": [
      "/home/df630/.conda/envs/conditional_rate_matching/lib/python3.10/site-packages/tqdm-4.66.1-py3.10.egg/tqdm/auto.py:21: TqdmWarning: IProgress not found. Please update jupyter and ipywidgets. See https://ipywidgets.readthedocs.io/en/stable/user_install.html\n",
      "  from .autonotebook import tqdm as notebook_tqdm\n"
     ]
    }
   ],
   "source": [
    "import os\n",
    "import torch\n",
    "import numpy as np\n",
    "from pprint import pprint\n",
    "from dataclasses import dataclass, asdict\n",
    "from matplotlib import pyplot as plt\n",
    "from matplotlib.gridspec import GridSpec\n",
    "\n",
    "import torch.nn.functional as F\n",
    "\n",
    "from conditional_rate_matching.models.generative_models.crm import CRM\n",
    "from conditional_rate_matching.configs.configs_classes.config_crm import CRMConfig\n",
    "\n",
    "from conditional_rate_matching.models.metrics.crm_loglikelihood import calculate_batch_log_likelihood,rate_to_probabilities\n",
    "from conditional_rate_matching.models.metrics.crm_loglikelihood import get_log_likelihood,get_log_likelihood_states_dataloader,calculate_batch_log_likelihood\n",
    "from conditional_rate_matching.models.metrics.crm_loglikelihood import evaluate_rate_in_batches\n",
    "\n",
    "from torch.distributions import Categorical,Dirichlet\n",
    "\n",
    "from conditional_rate_matching.models.temporal_networks.temporal_networks_config import (\n",
    "    TemporalMLPConfig,\n",
    "    TemporalDeepMLPConfig\n",
    ")"
   ]
  },
  {
   "cell_type": "code",
   "execution_count": 2,
   "metadata": {},
   "outputs": [],
   "source": [
    "from conditional_rate_matching.utils.plots.histogram_colors_plots import (\n",
    "    get_conditional_histograms_paths,\n",
    "    categorical_counts_per_path,\n",
    "    plot_time_series_histograms\n",
    ")"
   ]
  },
  {
   "cell_type": "code",
   "execution_count": 3,
   "metadata": {},
   "outputs": [],
   "source": [
    "from conditional_rate_matching import results_path"
   ]
  },
  {
   "cell_type": "markdown",
   "metadata": {},
   "source": [
    "# Functions"
   ]
  },
  {
   "cell_type": "code",
   "execution_count": 4,
   "metadata": {},
   "outputs": [],
   "source": [
    "import os\n",
    "import torch\n",
    "import numpy as np\n",
    "from dataclasses import dataclass, asdict\n",
    "import torch.nn.functional as F\n",
    "from conditional_rate_matching.models.generative_models.crm import CRM\n",
    "from torch.distributions import Categorical\n",
    "\n",
    "def rate_to_probabilities(rate_f,x_0,x_1,delta_t):\n",
    "    \"\"\"\n",
    "    \"\"\"\n",
    "    # find who is equal\n",
    "    batch_index_equal = torch.where(x_0 == x_1)[0]\n",
    "    dimension_equal = torch.where(x_0 == x_1)[1]\n",
    "    who_equal = x_0[torch.where(x_0 == x_1)].long()\n",
    "\n",
    "    # set diagonal to one\n",
    "    rate_f[batch_index_equal,dimension_equal,who_equal] = 0.\n",
    "    rates_diagonal = rate_f.sum(axis=-1)\n",
    "    rate_f[batch_index_equal,dimension_equal,who_equal] = -rates_diagonal[batch_index_equal,dimension_equal]\n",
    "\n",
    "    #calculate probabilities\n",
    "    rate_f = delta_t*rate_f\n",
    "    rate_f[batch_index_equal,dimension_equal,who_equal] = 1. + rate_f[batch_index_equal,dimension_equal,who_equal]\n",
    "    return rate_f \n",
    "\n",
    "def evaluate_rate_in_batches(crm,crm_b,x_path_b_0,x_path_b_1,time_b_0,time_f_1,batch_size=10,shapes=(32,10,2)):\n",
    "    \"\"\"\n",
    "    \"\"\"\n",
    "    sample_size,number_of_time_steps,dimensions = shapes\n",
    "    total_batches = (sample_size * (number_of_time_steps - 1) + batch_size - 1) // batch_size\n",
    "\n",
    "    # Initialize empty lists to store batch results if necessary\n",
    "    rates_b = []\n",
    "    rates_f = []\n",
    "    for batch_index in range(total_batches):\n",
    "        start_idx = batch_index * batch_size\n",
    "        end_idx = min((batch_index + 1) * batch_size, sample_size * (number_of_time_steps - 1))\n",
    "\n",
    "        # Extracting batches for input to the neural network\n",
    "        x_path_b_0_batch = x_path_b_0[start_idx:end_idx]\n",
    "        x_path_b_1_batch = x_path_b_1[start_idx:end_idx]\n",
    "        time_b_0_batch = time_b_0[start_idx:end_idx]\n",
    "        time_f_1_batch = time_f_1[start_idx:end_idx]\n",
    "\n",
    "        # Evaluating forward and backward rates for each batch\n",
    "        rate_b_batch = crm_b.forward_rate(x_path_b_0_batch, time_b_0_batch)\n",
    "        rate_f_batch = crm.forward_rate(x_path_b_1_batch, time_f_1_batch)\n",
    "\n",
    "        # Storing the batch results if necessary for further processing\n",
    "        rates_b.append(rate_b_batch)\n",
    "        rates_f.append(rate_f_batch)\n",
    "    \n",
    "    # Concatenate all batch results into a single tensor\n",
    "    rates_b = torch.cat(rates_b, dim=0)\n",
    "    rates_f = torch.cat(rates_f, dim=0)\n",
    "\n",
    "    return rates_b,rates_f\n",
    "\n",
    "@torch.no_grad\n",
    "def calculate_batch_log_likelihood(crm:CRM,crm_b:CRM,databatch1,delta_t=None,ignore_=1,in_batches=False,batch_size=100):\n",
    "    \"\"\"\n",
    "    Parameters\n",
    "    ----------\n",
    "    crm: trained crm model in forward time\n",
    "    crm_b: trained crm model in forward time\n",
    "    databatch1: databacth to calculate likelihood with\n",
    "    delta_t: None\n",
    "    ignore_: steps to ignore of the process\n",
    "\n",
    "    y0 corresponds to the variables indexing of the backward process\n",
    "\n",
    "    q(y3|y2)q(y2|y1)q(y1|y0) q(y0) <- q is backward process \n",
    "\n",
    "    numerator    q(x0|x1)q(x1|x2)q(x2|x3)  q(x3)\n",
    "    denominator  p(x1|x0)p(x2|x1)p(x3|x2)\n",
    "\n",
    "    q(3) is sample from target of forward process\n",
    "\n",
    "    y0 corresponds to x3 for the forward process y3 to x0\n",
    "\n",
    "    returns\n",
    "    -------\n",
    "    x_0, log_likelihood_10: \n",
    "        (torch.Tensor) from backward process x_0\n",
    "        (torch.Tensor) log_likelihood per batch (dimensions sum out)\n",
    "    \"\"\"\n",
    "    x_1 = databatch1[0]\n",
    "    batch_size = x_1.shape[0]\n",
    "\n",
    "    # we simulate the path backwards\n",
    "    x_f, x_path_b, t_path_b = crm_b.pipeline(return_path=True,x_0=x_1)\n",
    "    sample_size, number_of_time_steps, dimensions = x_path_b.shape[0],x_path_b.shape[1],x_path_b.shape[2]\n",
    "    t_path_b = t_path_b[None,:].repeat(batch_size,1)\n",
    "\n",
    "    # reshape states and vectors of paths (one step ahead)\n",
    "    # we calculate the inverted time (the backward process was also trained 0. to 1.)\n",
    "\n",
    "    x_0 = x_path_b[:,-(ignore_+1),:] #noise is at the end of backward path\n",
    "\n",
    "    x_path_b_0 = x_path_b[:,:-1,:] #before step in backward\n",
    "    time_b_0 = t_path_b[:,:-1] #before time in backward\n",
    "\n",
    "    x_path_b_1 = x_path_b[:,1:,:] #after step in backward\n",
    "    time_f_1 = 1. - t_path_b[:,1:] #after time in backward\n",
    "\n",
    "    x_path_b_0 = x_path_b_0.reshape(sample_size*(number_of_time_steps-1),dimensions)\n",
    "    x_path_b_1 = x_path_b_1.reshape(sample_size*(number_of_time_steps-1),dimensions)\n",
    "    time_b_0 = time_b_0.reshape(sample_size*(number_of_time_steps-1)) # reshape\n",
    "    time_f_1 = time_f_1.reshape(sample_size*(number_of_time_steps-1)) # reshape\n",
    "\n",
    "    if delta_t is None:\n",
    "        delta_t = (t_path_b[:,1:] -  t_path_b[:,:-1])[0,3]\n",
    "\n",
    "    # we evaluate forward and backward rate in backward process\n",
    "    if in_batches:\n",
    "        shapes = (sample_size,number_of_time_steps,dimensions)\n",
    "        rate_b,rate_f = evaluate_rate_in_batches(crm,crm_b,x_path_b_0,x_path_b_1,time_b_0,time_f_1,\n",
    "                                                 batch_size=batch_size,shapes=shapes)\n",
    "    else:\n",
    "        rate_b = crm_b.forward_rate(x_path_b_0,time_b_0)\n",
    "        rate_f = crm.forward_rate(x_path_b_1,time_f_1)\n",
    "\n",
    "    # we convert to probabilities based on the rule for the rates diagonal\n",
    "    rate_f = rate_to_probabilities(rate_f,x_path_b_0,x_path_b_1,delta_t)\n",
    "    rate_b = rate_to_probabilities(rate_b,x_path_b_0,x_path_b_1,delta_t)\n",
    "\n",
    "    # we take the values of the rates evaluating at the correspondig next step\n",
    "    rate_b = torch.gather(rate_b,2,x_path_b_1[:,:,None].long()).squeeze()\n",
    "    rate_f = torch.gather(rate_f,2,x_path_b_0[:,:,None].long()).squeeze()\n",
    "\n",
    "    # we write everything in the time dimensions\n",
    "    rate_b = rate_b.reshape((batch_size,number_of_time_steps-1,dimensions))\n",
    "    rate_f = rate_f.reshape((batch_size,number_of_time_steps-1,dimensions))\n",
    "    \n",
    "    # calculate log likelihood\n",
    "    log_1_0 = torch.log(rate_b) - torch.log(rate_f)\n",
    "    log_1_0[log_1_0.isnan()] = 0.\n",
    "    if ignore_ > 0:\n",
    "        log_1_0 = log_1_0[:, ignore_:-ignore_, :]\n",
    "    else:\n",
    "        log_1_0 = log_1_0[:, :, :]\n",
    "    log_1_0 = log_1_0.sum(axis=1) # sum over time\n",
    "    log_1_0 = log_1_0.sum(axis=-1) # sum over dimensions\n",
    "\n",
    "    return x_0,log_1_0\n",
    "\n",
    "def get_log_likelihood(crm:CRM,crm_b:CRM,delta_t=None,ignore_=1,in_batches=False,debug=True):\n",
    "    \"\"\"\n",
    "    \"\"\"\n",
    "    dimensions = crm.config.data0.dimensions\n",
    "    vocab_size = crm.config.data0.vocab_size\n",
    "    probabilities_0 = torch.ones((dimensions,vocab_size))/vocab_size\n",
    "    x0_distribution = Categorical(probabilities_0)\n",
    "\n",
    "    if debug:\n",
    "        probabilities_1 = torch.tensor(crm.config.data1.bernoulli_probability).squeeze()\n",
    "        x1_distribution = Categorical(probabilities_1)\n",
    "    \n",
    "    LOG = []\n",
    "    if debug:\n",
    "        LOG_REAL = []\n",
    "    for databatch1 in crm.dataloader_1.test():#<----------------------\n",
    "        x_0, log_10 = calculate_batch_log_likelihood(crm,crm_b,databatch1,delta_t=delta_t,ignore_=ignore_,in_batches=in_batches)\n",
    "        log_0 = x0_distribution.log_prob(x_0).sum(axis=-1)\n",
    "        if debug:\n",
    "            x_1 = databatch1[0]\n",
    "            log_1_real = x1_distribution.log_prob(x_1).sum(axis=-1)\n",
    "        log_1 = log_10 - log_0\n",
    "        LOG.extend(log_1.tolist())\n",
    "        if debug:\n",
    "            LOG_REAL.extend(log_1_real.tolist())\n",
    "    LOG = np.asarray(LOG).mean()\n",
    "    if debug:\n",
    "        LOG_REAL = np.asarray(LOG_REAL).mean()\n",
    "        return -LOG,LOG_REAL\n",
    "    return -LOG\n",
    "\n",
    "def get_log_likelihood_states_dataloader(crm:CRM):\n",
    "    \"\"\"\n",
    "    Log probabilities of known categorical probabilities\n",
    "    \"\"\"\n",
    "    probabilities_1 = torch.tensor(crm.config.data1.bernoulli_probability).squeeze()\n",
    "    x1_distribution = Categorical(probabilities_1)\n",
    "    sample_size = 0\n",
    "    LOG = 0.\n",
    "    for databatch1 in crm.dataloader_1.test():\n",
    "        x1 = databatch1[0]\n",
    "        log_1 = x1_distribution.log_prob(x1).sum(axis=-1)\n",
    "\n",
    "        # average overall data set\n",
    "        batch_size = x1.size(0)\n",
    "        sample_size += batch_size\n",
    "        LOG = log_1.sum()\n",
    "    LOG = LOG/sample_size\n",
    "    return LOG"
   ]
  },
  {
   "cell_type": "markdown",
   "metadata": {},
   "source": [
    "# Calculate"
   ]
  },
  {
   "cell_type": "code",
   "execution_count": 24,
   "metadata": {},
   "outputs": [],
   "source": [
    "experiment_path_forward = results_path / \"prenzlauer_experiment\" / \"colors_log_likelihood\" / \"forward_1\"\n",
    "experiment_path_backward = results_path / \"prenzlauer_experiment\" / \"colors_log_likelihood\" / \"backward_1\""
   ]
  },
  {
   "cell_type": "code",
   "execution_count": 25,
   "metadata": {},
   "outputs": [],
   "source": [
    "crm = CRM(experiment_dir=experiment_path_forward)\n",
    "crm_b = CRM(experiment_dir=experiment_path_backward)\n",
    "dimensions = crm.config.data1.dimensions\n",
    "vocab_size = crm.config.data1.vocab_size\n",
    "crm_b.config.pipeline.number_of_steps = 100\n",
    "crm_b.config.pipeline.number_of_steps = 100\n",
    "crm_b.config.pipeline.time_epsilon = 0.\n",
    "crm.config.pipeline.time_epsilon = 0.\n",
    "crm.config.pipeline.set_diagonal = True\n",
    "crm_b.config.pipeline.set_diagonal = True"
   ]
  },
  {
   "cell_type": "code",
   "execution_count": 26,
   "metadata": {},
   "outputs": [],
   "source": [
    "databatch1 = next(crm.dataloader_1.train().__iter__())\n",
    "x_1 = databatch1[0]\n",
    "databatch0 = next(crm.dataloader_0.train().__iter__())\n",
    "x_0 = databatch1[0]"
   ]
  },
  {
   "cell_type": "code",
   "execution_count": 27,
   "metadata": {},
   "outputs": [
    {
     "name": "stderr",
     "output_type": "stream",
     "text": [
      "100it [00:00, 662.10it/s]\n",
      "100it [00:00, 921.10it/s]\n",
      "100it [00:00, 935.84it/s]\n",
      "100it [00:00, 889.22it/s]\n",
      "100it [00:00, 867.14it/s]\n",
      "100it [00:00, 750.63it/s]\n",
      "100it [00:00, 817.98it/s]\n",
      "100it [00:00, 833.15it/s]\n",
      "100it [00:00, 937.87it/s]\n"
     ]
    },
    {
     "data": {
      "text/plain": [
       "(-19.08574357807636, -2.774543437957764)"
      ]
     },
     "execution_count": 27,
     "metadata": {},
     "output_type": "execute_result"
    }
   ],
   "source": [
    "get_log_likelihood(crm_b,crm,ignore_=0,in_batches=True)"
   ]
  },
  {
   "cell_type": "code",
   "execution_count": 28,
   "metadata": {},
   "outputs": [
    {
     "name": "stderr",
     "output_type": "stream",
     "text": [
      "100it [00:00, 730.49it/s]\n",
      "100it [00:00, 841.47it/s]\n"
     ]
    }
   ],
   "source": [
    "x_f, x_path, t_path = crm.pipeline(sample_size=100,return_path=True)\n",
    "x_f, x_path_b, t_path_b = crm_b.pipeline(sample_size=100,return_path=True)"
   ]
  },
  {
   "cell_type": "code",
   "execution_count": 29,
   "metadata": {},
   "outputs": [],
   "source": [
    "generative_histogram = categorical_counts_per_path(x_path,dimensions=dimensions,vocab_size=vocab_size,normalize=True)\n",
    "generative_histogram_b = categorical_counts_per_path(x_path_b,dimensions=dimensions,vocab_size=vocab_size,normalize=True)\n",
    "conditional_histograms_paths = get_conditional_histograms_paths(crm,t_path)"
   ]
  },
  {
   "cell_type": "code",
   "execution_count": 16,
   "metadata": {},
   "outputs": [],
   "source": [
    "dimensions = crm.config.data0.dimensions\n",
    "vocab_size = crm.config.data0.vocab_size\n",
    "probabilities_0 = torch.ones((dimensions,vocab_size))/vocab_size\n",
    "x0_distribution = Categorical(probabilities_0)\n",
    "\n",
    "probabilities_1 = torch.tensor(crm.config.data1.bernoulli_probability).squeeze()\n",
    "x1_distribution = Categorical(generative_histogram[-1])\n",
    "log_0 = x0_distribution.log_prob(x_0).sum(axis=-1)"
   ]
  },
  {
   "cell_type": "code",
   "execution_count": 17,
   "metadata": {},
   "outputs": [
    {
     "name": "stderr",
     "output_type": "stream",
     "text": [
      "100it [00:00, 918.99it/s]\n",
      "100it [00:00, 953.18it/s]\n",
      "100it [00:00, 936.42it/s]\n",
      "100it [00:00, 904.89it/s]\n",
      "100it [00:00, 970.74it/s]\n",
      "100it [00:00, 827.84it/s]\n",
      "100it [00:00, 946.71it/s]\n",
      "100it [00:00, 694.84it/s]\n",
      "100it [00:00, 851.33it/s]\n",
      "100it [00:00, 831.28it/s]\n"
     ]
    }
   ],
   "source": [
    "log_av= torch.zeros(databatch1[0].shape[0])\n",
    "for i in range(10):\n",
    "    x_0, log_10 = calculate_batch_log_likelihood(crm,crm_b,databatch1,ignore_=0)\n",
    "    log_0 = x0_distribution.log_prob(x_0).sum(axis=-1)\n",
    "    log_10 = log_10 - log_0\n",
    "    log_av += log_10"
   ]
  },
  {
   "cell_type": "code",
   "execution_count": 18,
   "metadata": {},
   "outputs": [
    {
     "data": {
      "text/plain": [
       "tensor([18.4211, 16.9221, 21.4188, 24.4192, 20.3305, 23.4256, 24.4164, 20.6790,\n",
       "        16.0868, 22.7352, 21.0494, 19.9957, 18.9502, 23.3667, 20.5135, 23.2797,\n",
       "        19.2051, 20.3121, 21.1303, 21.3201, 20.0143, 17.4628, 22.3828])"
      ]
     },
     "execution_count": 18,
     "metadata": {},
     "output_type": "execute_result"
    }
   ],
   "source": [
    "log_av/10"
   ]
  },
  {
   "cell_type": "code",
   "execution_count": 19,
   "metadata": {},
   "outputs": [
    {
     "data": {
      "text/plain": [
       "tensor([-2.7359, -2.2371, -2.7359, -1.5634, -2.0621, -2.0621, -1.5634, -1.5634,\n",
       "        -2.7359, -2.2563, -2.7359, -2.0621, -2.0621, -1.7576, -2.2371, -1.5634,\n",
       "        -2.0621, -2.7359, -1.5634, -2.2563, -1.7576, -2.0621, -1.5634])"
      ]
     },
     "execution_count": 19,
     "metadata": {},
     "output_type": "execute_result"
    }
   ],
   "source": [
    "x1_distribution.log_prob(databatch1[0]).sum(axis=1)"
   ]
  },
  {
   "cell_type": "markdown",
   "metadata": {},
   "source": [
    "# Plot paths for sanity check"
   ]
  },
  {
   "cell_type": "code",
   "execution_count": 20,
   "metadata": {},
   "outputs": [
    {
     "name": "stderr",
     "output_type": "stream",
     "text": [
      "100it [00:00, 645.58it/s]\n",
      "100it [00:00, 735.59it/s]\n",
      "100it [00:00, 805.94it/s]\n",
      "100it [00:00, 662.06it/s]\n",
      "100it [00:00, 616.20it/s]\n",
      "100it [00:00, 670.45it/s]\n",
      "100it [00:00, 744.46it/s]\n",
      "100it [00:00, 796.54it/s]\n",
      "100it [00:00, 744.02it/s]\n",
      "100it [00:00, 830.18it/s]\n",
      "100it [00:00, 816.23it/s]\n",
      "100it [00:00, 693.98it/s]\n",
      "100it [00:00, 537.15it/s]\n",
      "100it [00:00, 856.22it/s]\n"
     ]
    }
   ],
   "source": [
    "x_f, x_path, t_path = crm.pipeline(sample_size=1000,return_path=True)\n",
    "x_f, x_path_b, t_path_b = crm_b.pipeline(sample_size=1000,return_path=True)"
   ]
  },
  {
   "cell_type": "code",
   "execution_count": 21,
   "metadata": {},
   "outputs": [],
   "source": [
    "generative_histogram = categorical_counts_per_path(x_path,dimensions=dimensions,vocab_size=vocab_size,normalize=True)\n",
    "generative_histogram_b = categorical_counts_per_path(x_path_b,dimensions=dimensions,vocab_size=vocab_size,normalize=True)\n",
    "conditional_histograms_paths = get_conditional_histograms_paths(crm,t_path)"
   ]
  },
  {
   "cell_type": "code",
   "execution_count": 22,
   "metadata": {},
   "outputs": [
    {
     "data": {
      "image/png": "[encoded data removed]",
      "text/plain": [
       "<Figure size 2000x300 with 20 Axes>"
      ]
     },
     "metadata": {},
     "output_type": "display_data"
    },
    {
     "data": {
      "text/plain": [
       "array([  0,  11,  22,  33,  44,  55,  66,  77,  88, 100])"
      ]
     },
     "execution_count": 22,
     "metadata": {},
     "output_type": "execute_result"
    }
   ],
   "source": [
    "plot_time_series_histograms(conditional_histograms_paths,generative_histogram,num_timesteps_to_plot=10,figsize_tuple=(20, 3),plot_path=None)"
   ]
  },
  {
   "cell_type": "code",
   "execution_count": 23,
   "metadata": {},
   "outputs": [
    {
     "data": {
      "image/png": "[encoded data removed]",
      "text/plain": [
       "<Figure size 2000x300 with 20 Axes>"
      ]
     },
     "metadata": {},
     "output_type": "display_data"
    },
    {
     "data": {
      "text/plain": [
       "array([  0,  11,  22,  33,  44,  55,  66,  77,  88, 100])"
      ]
     },
     "execution_count": 23,
     "metadata": {},
     "output_type": "execute_result"
    }
   ],
   "source": [
    "plot_time_series_histograms(torch.flip(generative_histogram_b,dims=[0]),generative_histogram,num_timesteps_to_plot=10,figsize_tuple=(20, 3),plot_path=None)"
   ]
  },
  {
   "cell_type": "markdown",
   "metadata": {},
   "source": [
    "# Memory friendly"
   ]
  },
  {
   "cell_type": "code",
   "execution_count": null,
   "metadata": {},
   "outputs": [],
   "source": [
    "@torch.no_grad\n",
    "def calculate_batch_log_likelihood(crm:CRM,crm_b:CRM,databatch1,delta_t=None,ignore_=1,in_batches=False,batch_size=100):\n",
    "    \"\"\"\n",
    "    Parameters\n",
    "    ----------\n",
    "    crm: trained crm model in forward time\n",
    "    crm_b: trained crm model in forward time\n",
    "    databatch1: databacth to calculate likelihood with\n",
    "    delta_t: None\n",
    "    ignore_: steps to ignore of the process\n",
    "\n",
    "    y0 corresponds to the variables indexing of the backward process\n",
    "\n",
    "    q(y3|y2)q(y2|y1)q(y1|y0) q(y0) <- q is backward process \n",
    "\n",
    "    numerator    q(x0|x1)q(x1|x2)q(x2|x3)  q(x3)\n",
    "    denominator  p(x1|x0)p(x2|x1)p(x3|x2)\n",
    "\n",
    "    q(3) is sample from target of forward process\n",
    "\n",
    "    y0 corresponds to x3 for the forward process y3 to x0\n",
    "\n",
    "    returns\n",
    "    -------\n",
    "    x_0, log_likelihood_10: \n",
    "        (torch.Tensor) from backward process x_0\n",
    "        (torch.Tensor) log_likelihood per batch (dimensions sum out)\n",
    "    \"\"\"\n",
    "    x_1 = databatch1[0]\n",
    "    batch_size = x_1.shape[0]\n",
    "\n",
    "    # we simulate the path backwards\n",
    "    x_f, x_path_b, t_path_b = crm_b.pipeline(return_path=True,x_0=x_1)\n",
    "    sample_size, number_of_time_steps, dimensions = x_path_b.shape[0],x_path_b.shape[1],x_path_b.shape[2]\n",
    "    t_path_b = t_path_b[None,:].repeat(batch_size,1)\n",
    "\n",
    "    # reshape states and vectors of paths (one step ahead)\n",
    "    # we calculate the inverted time (the backward process was also trained 0. to 1.)\n",
    "    x_0 = x_path_b[:,-(ignore_+1),:]\n",
    "    x_path_b_0 = x_path_b[:,:-1,:]\n",
    "    time_b_0 = t_path_b[:,:-1] \n",
    "\n",
    "    x_path_b_1 = x_path_b[:,1:,:]\n",
    "    time_f_1 = 1. - t_path_b[:,1:]\n",
    "\n",
    "    x_path_b_0 = x_path_b_0.reshape(sample_size*(number_of_time_steps-1),dimensions)\n",
    "    x_path_b_1 = x_path_b_1.reshape(sample_size*(number_of_time_steps-1),dimensions)\n",
    "    time_b_0 = time_b_0.reshape(sample_size*(number_of_time_steps-1)) # reshape\n",
    "    time_f_1 = time_f_1.reshape(sample_size*(number_of_time_steps-1)) # reshape\n",
    "\n",
    "    if delta_t is None:\n",
    "        delta_t = (t_path_b[:,1:] -  t_path_b[:,:-1])[0,3]\n",
    "\n",
    "    # we evaluate forward and backward rate in backward process\n",
    "    if in_batches:\n",
    "        shapes = (sample_size,number_of_time_steps,dimensions)\n",
    "        rate_b,rate_f = evaluate_rate_in_batches(crm,crm_b,x_path_b_0,x_path_b_1,time_b_0,time_f_1,\n",
    "                                                 batch_size=batch_size,shapes=shapes)\n",
    "    else:\n",
    "        rate_b = crm_b.forward_rate(x_path_b_0,time_b_0)\n",
    "        rate_f = crm.forward_rate(x_path_b_1,time_f_1)\n",
    "\n",
    "    # we convert to probabilities based on the rule for the rates diagonal\n",
    "    rate_f = rate_to_probabilities(rate_f,x_path_b_0,x_path_b_1,delta_t)\n",
    "    rate_b = rate_to_probabilities(rate_b,x_path_b_0,x_path_b_1,delta_t)\n",
    "\n",
    "    # we take the values of the rates evaluating at the correspondig next step\n",
    "    rate_b = torch.gather(rate_b,2,x_path_b_1[:,:,None].long()).squeeze()\n",
    "    rate_f = torch.gather(rate_f,2,x_path_b_0[:,:,None].long()).squeeze()\n",
    "\n",
    "    # we write everything in the time dimensions\n",
    "    rate_b = rate_b.reshape((batch_size,number_of_time_steps-1,dimensions))\n",
    "    rate_f = rate_f.reshape((batch_size,number_of_time_steps-1,dimensions))\n",
    "    \n",
    "    # calculate log likelihood\n",
    "    log_1_0 = torch.log(rate_b) - torch.log(rate_f)\n",
    "    log_1_0 = log_1_0[:,ignore_:-ignore_,:]\n",
    "    log_1_0 = log_1_0.sum(axis=1) # sum over time\n",
    "    log_1_0 = log_1_0.sum(axis=-1) # sum over dimensions\n",
    "\n",
    "    return x_0,log_1_0"
   ]
  },
  {
   "cell_type": "code",
   "execution_count": 11,
   "metadata": {},
   "outputs": [],
   "source": [
    "NMC = 10\n",
    "ignore_ = 0\n",
    "in_batches = True\n",
    "\n",
    "databatch1 = next(crm.dataloader_1.train().__iter__())\n",
    "x_1 = databatch1[0]\n",
    "batch_size = x_1.shape[0]"
   ]
  },
  {
   "cell_type": "code",
   "execution_count": 21,
   "metadata": {},
   "outputs": [],
   "source": [
    "batch_size = x_1.shape[0]\n",
    "#x_1.repeat((NMC,1))"
   ]
  },
  {
   "cell_type": "code",
   "execution_count": 137,
   "metadata": {},
   "outputs": [
    {
     "name": "stderr",
     "output_type": "stream",
     "text": [
      "100it [00:00, 940.08it/s]\n"
     ]
    }
   ],
   "source": [
    "# we simulate the path backwards\n",
    "x_f, x_path_b, t_path_b = crm_b.pipeline(return_path=True,x_0=x_1)\n",
    "sample_size, number_of_time_steps, dimensions = x_path_b.shape[0],x_path_b.shape[1],x_path_b.shape[2]\n",
    "t_path_b = t_path_b[None,:].repeat(batch_size,1)"
   ]
  },
  {
   "cell_type": "code",
   "execution_count": 68,
   "metadata": {},
   "outputs": [],
   "source": [
    "# reshape states and vectors of paths (one step ahead)\n",
    "# we calculate the inverted time (the backward process was also trained 0. to 1.)\n",
    "x_0 = x_path_b[:,-(ignore_+1),:]\n",
    "x_path_b_0 = x_path_b[:,:-1,:]\n",
    "time_b_0 = t_path_b[:,:-1] \n",
    "\n",
    "x_path_b_1 = x_path_b[:,1:,:]\n",
    "time_f_1 = 1. - t_path_b[:,1:]\n",
    "\n",
    "x_path_b_0 = x_path_b_0.reshape(sample_size*(number_of_time_steps-1),dimensions)\n",
    "x_path_b_1 = x_path_b_1.reshape(sample_size*(number_of_time_steps-1),dimensions)\n",
    "time_b_0 = time_b_0.reshape(sample_size*(number_of_time_steps-1)) # reshape\n",
    "time_f_1 = time_f_1.reshape(sample_size*(number_of_time_steps-1)) # reshape\n"
   ]
  },
  {
   "cell_type": "code",
   "execution_count": 69,
   "metadata": {},
   "outputs": [],
   "source": [
    "delta_t = None\n",
    "if delta_t is None:\n",
    "    delta_t = (t_path_b[0,1:] -  t_path_b[0,:-1])[3]\n",
    "\n",
    "# we evaluate forward and backward rate in backward process\n",
    "if in_batches:\n",
    "    shapes = (sample_size,number_of_time_steps,dimensions)\n",
    "    rate_b,rate_f = evaluate_rate_in_batches(crm,crm_b,x_path_b_0,x_path_b_1,time_b_0,time_f_1,\n",
    "                                                batch_size=batch_size,shapes=shapes)\n",
    "else:\n",
    "    rate_b = crm_b.forward_rate(x_path_b_0,time_b_0)\n",
    "    rate_f = crm.forward_rate(x_path_b_1,time_f_1)"
   ]
  },
  {
   "cell_type": "code",
   "execution_count": 70,
   "metadata": {},
   "outputs": [
    {
     "data": {
      "text/plain": [
       "tensor(0.0009)"
      ]
     },
     "execution_count": 70,
     "metadata": {},
     "output_type": "execute_result"
    }
   ],
   "source": [
    "delta_t"
   ]
  },
  {
   "cell_type": "code",
   "execution_count": 74,
   "metadata": {},
   "outputs": [],
   "source": [
    "def rate_to_probabilities(rate_f,x_0,x_1,delta_t):\n",
    "    \"\"\"\n",
    "    \"\"\"\n",
    "    # find who is equal\n",
    "    batch_index_equal = torch.where(x_0 == x_1)[0]\n",
    "    dimension_equal = torch.where(x_0 == x_1)[1]\n",
    "    who_equal = x_0[torch.where(x_0 == x_1)].long()\n",
    "\n",
    "    # set diagonal to one\n",
    "    rate_f[batch_index_equal,dimension_equal,who_equal] = 0.\n",
    "    rates_diagonal = rate_f.sum(axis=-1)\n",
    "    rate_f[batch_index_equal,dimension_equal,who_equal] = -rates_diagonal[batch_index_equal,dimension_equal]\n",
    "\n",
    "    #calculate probabilities\n",
    "    rate_f = delta_t*rate_f\n",
    "    rate_f[batch_index_equal,dimension_equal,who_equal] = 1. + rate_f[batch_index_equal,dimension_equal,who_equal]\n",
    "    return rate_f "
   ]
  },
  {
   "cell_type": "code",
   "execution_count": 75,
   "metadata": {},
   "outputs": [],
   "source": [
    "\n",
    "# we convert to probabilities based on the rule for the rates diagonal\n",
    "rate_f = rate_to_probabilities(rate_f,x_path_b_0,x_path_b_1,delta_t)\n",
    "rate_b = rate_to_probabilities(rate_b,x_path_b_0,x_path_b_1,delta_t)\n",
    "\n"
   ]
  },
  {
   "cell_type": "code",
   "execution_count": 76,
   "metadata": {},
   "outputs": [],
   "source": [
    "# we take the values of the rates evaluating at the correspondig next step\n",
    "rate_b = torch.gather(rate_b,2,x_path_b_1[:,:,None].long()).squeeze()\n",
    "rate_f = torch.gather(rate_f,2,x_path_b_0[:,:,None].long()).squeeze()\n"
   ]
  },
  {
   "cell_type": "code",
   "execution_count": 77,
   "metadata": {},
   "outputs": [],
   "source": [
    "# we write everything in the time dimensions\n",
    "rate_b = rate_b.reshape((batch_size,number_of_time_steps-1,dimensions))\n",
    "rate_f = rate_f.reshape((batch_size,number_of_time_steps-1,dimensions))\n"
   ]
  },
  {
   "cell_type": "code",
   "execution_count": 78,
   "metadata": {},
   "outputs": [
    {
     "data": {
      "text/plain": [
       "tensor(0.0011, grad_fn=<MinBackward1>)"
      ]
     },
     "execution_count": 78,
     "metadata": {},
     "output_type": "execute_result"
    }
   ],
   "source": [
    "rate_b.min()"
   ]
  },
  {
   "cell_type": "code",
   "execution_count": 140,
   "metadata": {},
   "outputs": [],
   "source": [
    "ignore_ = 1\n",
    "\n",
    "\n",
    "# calculate log likelihood\n",
    "log_1_0 = torch.log(rate_b) - torch.log(rate_f)\n",
    "where_is_nan = torch.isnan(log_1_0)\n",
    "log_1_0[where_is_nan] = 0."
   ]
  },
  {
   "cell_type": "code",
   "execution_count": 141,
   "metadata": {},
   "outputs": [
    {
     "data": {
      "text/plain": [
       "tensor([12.2998,  3.4075,  7.1999, 13.4026, 17.2627,  4.9115, 13.4395,  6.1670,\n",
       "        15.8743, 19.0508,  6.8823, 15.4443,  8.8836, 13.9402,  9.5731,  9.8809,\n",
       "        17.1612, 12.3343, 10.4748, 11.7813,  6.3161, 11.7294, 11.7541],\n",
       "       grad_fn=<SumBackward1>)"
      ]
     },
     "execution_count": 141,
     "metadata": {},
     "output_type": "execute_result"
    }
   ],
   "source": [
    "\n",
    "log_1_0 = log_1_0[:,1:-1,:]\n",
    "log_1_0 = log_1_0.sum(axis=1) # sum over time\n",
    "log_1_0 = log_1_0.sum(axis=-1) # sum over dimensions\n",
    "log_1_0"
   ]
  },
  {
   "cell_type": "code",
   "execution_count": 124,
   "metadata": {},
   "outputs": [
    {
     "data": {
      "text/plain": [
       "[[0.22952337563037872,\n",
       "  0.5267442464828491,\n",
       "  0.24344582855701447,\n",
       "  0.000286526745185256],\n",
       " [0.5485062599182129,\n",
       "  0.44988977909088135,\n",
       "  9.73582928054384e-07,\n",
       "  0.0016030115075409412]]"
      ]
     },
     "execution_count": 124,
     "metadata": {},
     "output_type": "execute_result"
    }
   ],
   "source": [
    "crm.config.data1.bernoulli_probability"
   ]
  },
  {
   "cell_type": "code",
   "execution_count": null,
   "metadata": {},
   "outputs": [],
   "source": []
  },
  {
   "cell_type": "code",
   "execution_count": 16,
   "metadata": {},
   "outputs": [],
   "source": [
    "probabilities_1 = torch.tensor(crm.config.data1.bernoulli_probability).squeeze()\n",
    "x1_distribution = Categorical(probabilities_1)\n",
    "batch_size = x_1.shape[0]"
   ]
  },
  {
   "cell_type": "code",
   "execution_count": 17,
   "metadata": {},
   "outputs": [
    {
     "data": {
      "text/plain": [
       "tensor([-2.2116, -2.0723, -1.2416, -2.2116, -1.2416, -1.2416, -1.2416, -2.0723,\n",
       "        -1.2416, -1.2416, -2.2116, -2.0723, -2.2116, -2.2705, -2.0723, -2.0134,\n",
       "        -1.4398, -1.4398, -2.2705, -2.2116, -2.0723, -1.2416, -2.2116])"
      ]
     },
     "execution_count": 17,
     "metadata": {},
     "output_type": "execute_result"
    }
   ],
   "source": [
    "x1_distribution.log_prob(x_1).sum(axis=-1)"
   ]
  },
  {
   "cell_type": "code",
   "execution_count": null,
   "metadata": {},
   "outputs": [],
   "source": []
  }
 ],
 "metadata": {
  "kernelspec": {
   "display_name": "rate_matching",
   "language": "python",
   "name": "python3"
  },
  "language_info": {
   "codemirror_mode": {
    "name": "ipython",
    "version": 3
   },
   "file_extension": ".py",
   "mimetype": "text/x-python",
   "name": "python",
   "nbconvert_exporter": "python",
   "pygments_lexer": "ipython3",
   "version": "3.10.9"
  }
 },
 "nbformat": 4,
 "nbformat_minor": 2
}

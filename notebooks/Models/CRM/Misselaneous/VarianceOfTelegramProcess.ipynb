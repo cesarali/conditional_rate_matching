{
 "cells": [
  {
   "cell_type": "code",
   "execution_count": 21,
   "id": "b8022f01-acc4-4229-ba00-c667b1de7cd9",
   "metadata": {},
   "outputs": [],
   "source": [
    "import sympy as sp\n",
    "from sympy import print_latex"
   ]
  },
  {
   "cell_type": "code",
   "execution_count": 13,
   "id": "fda0054d-a19b-4f23-9090-d117e10b12f4",
   "metadata": {},
   "outputs": [
    {
     "data": {
      "text/latex": [
       "$\\displaystyle \\begin{cases} - \\frac{S w_{tt0}}{2} + \\frac{S}{2} + j w_{tt0} - \\frac{w_{tt0}}{2} + \\frac{1}{2} & \\text{for}\\: S \\geq j \\wedge j \\geq 1 \\\\- \\frac{S w_{tt0}}{2} + \\frac{S}{2} - \\frac{w_{tt0}}{2} + \\frac{1}{2} & \\text{otherwise} \\end{cases}$"
      ],
      "text/plain": [
       "Piecewise((-S*w_tt0/2 + S/2 + j*w_tt0 - w_tt0/2 + 1/2, (S >= j) & (j >= 1)), (-S*w_tt0/2 + S/2 - w_tt0/2 + 1/2, True))"
      ]
     },
     "execution_count": 13,
     "metadata": {},
     "output_type": "execute_result"
    }
   ],
   "source": [
    "# Define the symbols\n",
    "S, w_tt0 = sp.symbols('S w_tt0', real=True, positive=True)\n",
    "i, j = sp.symbols('i j', integer=True)\n",
    "\n",
    "# Define the probability function\n",
    "P = 1/S + w_tt0 * (-1/S + sp.KroneckerDelta(i, j))\n",
    "\n",
    "# Calculate the expected value (mean)\n",
    "mean_expr = sp.Sum(i * P, (i, 1, S))\n",
    "mean = mean_expr.doit().simplify()\n",
    "mean"
   ]
  },
  {
   "cell_type": "code",
   "execution_count": 23,
   "id": "8a81c184-51a0-408d-8ffb-b89e417c7e45",
   "metadata": {},
   "outputs": [
    {
     "name": "stdout",
     "output_type": "stream",
     "text": [
      "\\begin{cases} - \\frac{S w_{tt0}}{2} + \\frac{S}{2} + j w_{tt0} - \\frac{w_{tt0}}{2} + \\frac{1}{2} & \\text{for}\\: S \\geq j \\wedge j \\geq 1 \\\\- \\frac{S w_{tt0}}{2} + \\frac{S}{2} - \\frac{w_{tt0}}{2} + \\frac{1}{2} & \\text{otherwise} \\end{cases}\n"
     ]
    }
   ],
   "source": [
    "print_latex(mean)"
   ]
  },
  {
   "cell_type": "code",
   "execution_count": 16,
   "id": "ee955d57-5637-4c07-997c-329d1ddff26b",
   "metadata": {},
   "outputs": [
    {
     "data": {
      "text/latex": [
       "$\\displaystyle \\begin{cases} \\frac{\\left(- S w_{tt0} + S + 2 j w_{tt0} - w_{tt0} + 1\\right)^{2}}{4} & \\text{for}\\: S \\geq j \\wedge j \\geq 1 \\\\\\frac{\\left(S w_{tt0} - S + w_{tt0} - 1\\right)^{2}}{4} & \\text{otherwise} \\end{cases}$"
      ],
      "text/plain": [
       "Piecewise(((-S*w_tt0 + S + 2*j*w_tt0 - w_tt0 + 1)**2/4, (S >= j) & (j >= 1)), ((S*w_tt0 - S + w_tt0 - 1)**2/4, True))"
      ]
     },
     "execution_count": 16,
     "metadata": {},
     "output_type": "execute_result"
    }
   ],
   "source": [
    "# square the mean\n",
    "mean_squared = mean**2\n",
    "mean_squared.simplify()"
   ]
  },
  {
   "cell_type": "code",
   "execution_count": 19,
   "id": "987e225e-6022-4948-8e9d-55be3547f78b",
   "metadata": {},
   "outputs": [
    {
     "data": {
      "text/latex": [
       "$\\displaystyle \\begin{cases} \\frac{S^{2}}{3} + \\frac{S}{2} + j^{2} w_{tt0} - \\frac{w_{tt0} \\cdot \\left(2 S^{2} + 3 S + 1\\right)}{6} + \\frac{1}{6} & \\text{for}\\: S \\geq j \\wedge j \\geq 1 \\\\\\frac{S^{2}}{3} + \\frac{S}{2} - \\frac{w_{tt0} \\cdot \\left(2 S^{2} + 3 S + 1\\right)}{6} + \\frac{1}{6} & \\text{otherwise} \\end{cases}$"
      ],
      "text/plain": [
       "Piecewise((S**2/3 + S/2 + j**2*w_tt0 - w_tt0*(2*S**2 + 3*S + 1)/6 + 1/6, (S >= j) & (j >= 1)), (S**2/3 + S/2 - w_tt0*(2*S**2 + 3*S + 1)/6 + 1/6, True))"
      ]
     },
     "execution_count": 19,
     "metadata": {},
     "output_type": "execute_result"
    }
   ],
   "source": [
    "# Calculate the second moment E[X^2]\n",
    "second_moment_expr = sp.Sum(i**2 * P, (i, 1, S))\n",
    "second_moment = second_moment_expr.doit()\n",
    "\n",
    "second_moment_ = second_moment.simplify()\n",
    "second_moment_ "
   ]
  },
  {
   "cell_type": "code",
   "execution_count": 22,
   "id": "afcf7646-8e16-4033-b5cf-c8387c94ff54",
   "metadata": {},
   "outputs": [
    {
     "name": "stdout",
     "output_type": "stream",
     "text": [
      "\\begin{cases} \\frac{S^{2}}{3} + \\frac{S}{2} + j^{2} w_{tt0} - \\frac{w_{tt0} \\cdot \\left(2 S^{2} + 3 S + 1\\right)}{6} + \\frac{1}{6} & \\text{for}\\: S \\geq j \\wedge j \\geq 1 \\\\\\frac{S^{2}}{3} + \\frac{S}{2} - \\frac{w_{tt0} \\cdot \\left(2 S^{2} + 3 S + 1\\right)}{6} + \\frac{1}{6} & \\text{otherwise} \\end{cases}\n"
     ]
    }
   ],
   "source": [
    "print_latex(second_moment_)"
   ]
  },
  {
   "cell_type": "code",
   "execution_count": 12,
   "id": "d66d53a0-2493-458b-bc40-a5f61756d2be",
   "metadata": {},
   "outputs": [
    {
     "data": {
      "text/latex": [
       "$\\displaystyle \\begin{cases} \\frac{S^{2}}{3} + \\frac{S}{2} + j^{2} w_{tt0} - \\frac{w_{tt0} \\cdot \\left(2 S^{2} + 3 S + 1\\right)}{6} - \\frac{\\left(S + 2 j w_{tt0} - w_{tt0} \\left(S + 1\\right) + 1\\right)^{2}}{4} + \\frac{1}{6} & \\text{for}\\: S \\geq j \\wedge j \\geq 1 \\\\\\frac{S^{2}}{3} + \\frac{S}{2} - \\frac{w_{tt0} \\cdot \\left(2 S^{2} + 3 S + 1\\right)}{6} - \\frac{\\left(S - w_{tt0} \\left(S + 1\\right) + 1\\right)^{2}}{4} + \\frac{1}{6} & \\text{otherwise} \\end{cases}$"
      ],
      "text/plain": [
       "Piecewise((S**2/3 + S/2 + j**2*w_tt0 - w_tt0*(2*S**2 + 3*S + 1)/6 - (S + 2*j*w_tt0 - w_tt0*(S + 1) + 1)**2/4 + 1/6, (S >= j) & (j >= 1)), (S**2/3 + S/2 - w_tt0*(2*S**2 + 3*S + 1)/6 - (S - w_tt0*(S + 1) + 1)**2/4 + 1/6, True))"
      ]
     },
     "execution_count": 12,
     "metadata": {},
     "output_type": "execute_result"
    }
   ],
   "source": [
    "# Compute the variance Var(X) = E[X^2] - mean^2\n",
    "variance_expr = second_moment - mean_squared\n",
    "variance = variance_expr.simplify()\n",
    "variance\n"
   ]
  },
  {
   "cell_type": "code",
   "execution_count": 24,
   "id": "b6bbd0c4-73f3-4467-a0db-9985caf291ab",
   "metadata": {},
   "outputs": [
    {
     "name": "stdout",
     "output_type": "stream",
     "text": [
      "\\begin{cases} \\frac{S^{2}}{3} + \\frac{S}{2} + j^{2} w_{tt0} - \\frac{w_{tt0} \\cdot \\left(2 S^{2} + 3 S + 1\\right)}{6} - \\frac{\\left(S + 2 j w_{tt0} - w_{tt0} \\left(S + 1\\right) + 1\\right)^{2}}{4} + \\frac{1}{6} & \\text{for}\\: S \\geq j \\wedge j \\geq 1 \\\\\\frac{S^{2}}{3} + \\frac{S}{2} - \\frac{w_{tt0} \\cdot \\left(2 S^{2} + 3 S + 1\\right)}{6} - \\frac{\\left(S - w_{tt0} \\left(S + 1\\right) + 1\\right)^{2}}{4} + \\frac{1}{6} & \\text{otherwise} \\end{cases}\n"
     ]
    }
   ],
   "source": [
    "print_latex(variance)"
   ]
  },
  {
   "cell_type": "code",
   "execution_count": null,
   "id": "034067af-a26a-4925-86b4-7d4c5fbb2b36",
   "metadata": {},
   "outputs": [],
   "source": [
    "import torch\n",
    "\n",
    "# Define the variance function\n",
    "def compute_variance_torch(S, x, w_tt0):\n",
    "    # Ensure S, x, and w_tt0 are tensors\n",
    "    S = torch.tensor(S, dtype=torch.float)\n",
    "    x = x.type(torch.float)\n",
    "    w_tt0 = torch.tensor(w_tt0, dtype=torch.float)\n",
    "    \n",
    "    # Calculate each term of the variance expression\n",
    "    term1 = S**2 / 3.\n",
    "    term2 = S / 2.\n",
    "    term3 = (x**2) * w_tt0\n",
    "    term4 = w_tt0 * ( (2.*(S**2)) + 3.*S + 1.) / 6\n",
    "    term5 = ((S + 2 * x * w_tt0 - w_tt0 * (S + 1) + 1)**2) / 4\n",
    "    term6 = 1 / 6\n",
    "    \n",
    "    # Combine the terms to compute the variance\n",
    "    variance = term1 + term2 + term3 - term4 - term5 + term6\n",
    "    \n",
    "    return variance\n",
    "\n",
    "# Example usage:\n",
    "S_value = 10  # Replace with your specific state space size\n",
    "x = torch.tensor([1, 2, 3, 4, 5, 6, 7, 8, 9, 10])  # Example tensor of states\n",
    "w_tt0_value = 0.1  # Replace with your specific weight\n",
    "\n",
    "variance_tensor = compute_variance_torch(S_value, x, w_tt0_value)\n",
    "print(variance_tensor)\n"
   ]
  },
  {
   "cell_type": "code",
   "execution_count": 34,
   "id": "decb0b77-91af-46c5-82e4-dfc3056e9189",
   "metadata": {},
   "outputs": [
    {
     "name": "stdout",
     "output_type": "stream",
     "text": [
      "tensor([[ 7.6275,  8.5275,  7.6275,  8.5275],\n",
      "        [ 7.4475,  9.2475,  8.5275,  8.5275],\n",
      "        [ 9.2475,  7.9875,  8.5275,  7.6275],\n",
      "        [10.1475,  8.5275,  9.2475, 10.1475],\n",
      "        [ 8.5275,  7.4475,  7.4475,  8.5275],\n",
      "        [ 7.9875,  7.9875,  7.9875,  8.5275],\n",
      "        [ 9.2475,  7.9875,  7.6275,  7.4475],\n",
      "        [ 7.9875,  8.5275,  7.4475,  7.6275],\n",
      "        [ 7.9875,  7.4475,  7.6275,  7.9875],\n",
      "        [ 9.2475,  7.9875,  7.4475,  7.6275]])\n"
     ]
    }
   ],
   "source": [
    "import torch\n",
    "\n",
    "# Define the variance function\n",
    "def compute_variance_torch(S, x, w_tt0):\n",
    "    # Ensure S, x, and w_tt0 are tensors\n",
    "    S = torch.tensor(S, dtype=torch.float)\n",
    "    x = x.type(torch.float)\n",
    "    w_tt0 = torch.tensor(w_tt0, dtype=torch.float)\n",
    "    \n",
    "    # Calculate each term of the variance expression\n",
    "    term1 = S**2 / 3\n",
    "    term2 = S / 2\n",
    "    term3 = x**2 * w_tt0\n",
    "    term4 = w_tt0 * (2 * S**2 + 3 * S + 1) / 6\n",
    "    term5 = ((S + (2 * x * w_tt0) - (w_tt0 * (S + 1)) + 1)**2) / 4\n",
    "    term6 = 1 / 6\n",
    "    \n",
    "    # Combine the terms to compute the variance\n",
    "    variance = term1 + term2 + term3 - term4 - term5 + term6\n",
    "    \n",
    "    return variance\n",
    "\n",
    "# Example usage:\n",
    "S_value = 10  # Replace with your specific state space size\n",
    "x = torch.randint(0,S_value,(10,4))  # Example tensor of states\n",
    "w_tt0_value = 0.1  # Replace with your specific weight\n",
    "\n",
    "variance_tensor = compute_variance_torch(S_value, x, w_tt0_value)\n",
    "print(variance_tensor)"
   ]
  },
  {
   "cell_type": "code",
   "execution_count": 25,
   "id": "02104b80-f410-4f88-a130-7aaea44f24ce",
   "metadata": {},
   "outputs": [
    {
     "data": {
      "text/latex": [
       "$\\displaystyle \\begin{cases} \\frac{S^{2}}{3} + \\frac{S}{2} + j^{2} w_{tt0} - \\frac{w_{tt0} \\cdot \\left(2 S^{2} + 3 S + 1\\right)}{6} - \\frac{\\left(S + 2 j w_{tt0} - w_{tt0} \\left(S + 1\\right) + 1\\right)^{2}}{4} + \\frac{1}{6} & \\text{for}\\: S \\geq j \\wedge j \\geq 1 \\\\\\frac{S^{2}}{3} + \\frac{S}{2} - \\frac{w_{tt0} \\cdot \\left(2 S^{2} + 3 S + 1\\right)}{6} - \\frac{\\left(S - w_{tt0} \\left(S + 1\\right) + 1\\right)^{2}}{4} + \\frac{1}{6} & \\text{otherwise} \\end{cases}$"
      ],
      "text/plain": [
       "Piecewise((S**2/3 + S/2 + j**2*w_tt0 - w_tt0*(2*S**2 + 3*S + 1)/6 - (S + 2*j*w_tt0 - w_tt0*(S + 1) + 1)**2/4 + 1/6, (S >= j) & (j >= 1)), (S**2/3 + S/2 - w_tt0*(2*S**2 + 3*S + 1)/6 - (S - w_tt0*(S + 1) + 1)**2/4 + 1/6, True))"
      ]
     },
     "execution_count": 25,
     "metadata": {},
     "output_type": "execute_result"
    }
   ],
   "source": [
    "variance"
   ]
  }
 ],
 "metadata": {
  "kernelspec": {
   "display_name": "Python 3 (ipykernel)",
   "language": "python",
   "name": "python3"
  },
  "language_info": {
   "codemirror_mode": {
    "name": "ipython",
    "version": 3
   },
   "file_extension": ".py",
   "mimetype": "text/x-python",
   "name": "python",
   "nbconvert_exporter": "python",
   "pygments_lexer": "ipython3",
   "version": "3.10.9"
  }
 },
 "nbformat": 4,
 "nbformat_minor": 5
}

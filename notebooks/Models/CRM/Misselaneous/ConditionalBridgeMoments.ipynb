{
 "cells": [
  {
   "cell_type": "code",
   "execution_count": 9,
   "id": "3430e094-b2c4-4140-b984-30026e905a8b",
   "metadata": {},
   "outputs": [],
   "source": [
    "import os\n",
    "import sys\n",
    "import torch\n",
    "import numpy as np\n",
    "from matplotlib import pyplot as plt\n",
    "\n",
    "from matplotlib import pyplot as plt\n",
    "from conditional_rate_matching.utils.plots.images_plots import mnist_grid,mnist_noise_bridge\n",
    "from conditional_rate_matching.configs.experiments_configs.crm.crm_experiments_nist import experiment_nist\n",
    "\n",
    "from conditional_rate_matching.models.generative_models.crm import CRM\n",
    "from conditional_rate_matching.models.pipelines.sdes_samplers.samplers import TauLeaping,TauLeapingRates\n",
    "\n",
    "\n",
    "from conditional_rate_matching.models.generative_models.crm import CRM\n",
    "from conditional_rate_matching.models.pipelines.sdes_samplers.samplers import TauLeaping,TauLeapingRates\n",
    "from conditional_rate_matching.data.image_dataloader_config import NISTLoaderConfig\n",
    "\n",
    "from conditional_rate_matching.models.metrics.crm_path_metrics import conditional_bridge_marginal_probabilities_and_rates_path,conditional_bridge_images\n",
    "\n",
    "# metrics\n",
    "from conditional_rate_matching.models.metrics.histograms import binary_histogram_dataloader\n",
    "from conditional_rate_matching.models.metrics.crm_path_metrics import telegram_bridge_sample_paths\n",
    "\n",
    "# plots\n",
    "from conditional_rate_matching.utils.plots.histograms_plots import plot_marginals_binary_histograms\n",
    "from conditional_rate_matching.utils.plots.paths_plots import rates_plot\n",
    "\n",
    "from pprint import pprint\n",
    "from conditional_rate_matching import plots_path\n",
    "\n",
    "from conditional_rate_matching.models.pipelines.thermostat.crm_thermostat_config import LogThermostatConfig\n",
    "from conditional_rate_matching.models.pipelines.thermostat.crm_thermostat_config import ExponentialThermostatConfig\n",
    "from conditional_rate_matching.models.pipelines.thermostat.crm_thermostat_config import InvertedExponentialThermostatConfig\n"
   ]
  },
  {
   "cell_type": "code",
   "execution_count": 10,
   "id": "172b7a4a-6366-4369-888d-00232cf92b5c",
   "metadata": {},
   "outputs": [],
   "source": [
    "config = experiment_nist(dataset_name=\"mnist\",temporal_network_name=\"mlp\")\n",
    "config.data0 = NISTLoaderConfig(dataset_name=\"emnist\")\n",
    "config.data0.batch_size = config.data1.batch_size\n",
    "config.thermostat.gamma = 0.999\n",
    "\n",
    "crm1 = CRM(config)\n",
    "\n",
    "config2 = experiment_nist(dataset_name=\"mnist\",temporal_network_name=\"mlp\")\n",
    "config2.data0 = NISTLoaderConfig(dataset_name=\"emnist\")\n",
    "config2.data0.batch_size = config2.data1.batch_size\n",
    "config2.thermostat.gamma = 0.001\n",
    "crm2 = CRM(config2)\n",
    "\n",
    "config_log = experiment_nist(dataset_name=\"mnist\",temporal_network_name=\"mlp\")\n",
    "config_log.data0 = NISTLoaderConfig(dataset_name=\"emnist\")\n",
    "config_log.data0.batch_size = config_log.data1.batch_size\n",
    "config_log.thermostat = LogThermostatConfig(time_base=1.,time_exponential=3.)\n",
    "crm_log = CRM(config_log)\n",
    "\n",
    "config_exp = experiment_nist(dataset_name=\"mnist\",temporal_network_name=\"mlp\")\n",
    "config_exp.data0 = NISTLoaderConfig(dataset_name=\"emnist\")\n",
    "config_exp.data0.batch_size = config_exp.data1.batch_size\n",
    "config_exp.thermostat = ExponentialThermostatConfig(max=1.,gamma=1.)\n",
    "crm_exp = CRM(config_exp)\n",
    "\n",
    "config_inv_exp = experiment_nist(dataset_name=\"mnist\",temporal_network_name=\"mlp\")\n",
    "config_inv_exp.data0 = NISTLoaderConfig(dataset_name=\"emnist\")\n",
    "config_inv_exp.data0.batch_size = config_inv_exp.data1.batch_size\n",
    "config_inv_exp.thermostat = InvertedExponentialThermostatConfig(max=1.,gamma=1.)\n",
    "crm_inv_exp = CRM(config_inv_exp)"
   ]
  },
  {
   "cell_type": "code",
   "execution_count": 11,
   "id": "d69d7c0f-5cf9-4e2d-a9bf-8672a7fbd4f0",
   "metadata": {},
   "outputs": [],
   "source": [
    "databatch_0 = next(crm1.dataloader_0.train().__iter__())\n",
    "x_0 = databatch_0[0]\n",
    "\n",
    "databatch_1 = next(crm1.dataloader_1.train().__iter__())\n",
    "x_1 = databatch_1[0]"
   ]
  },
  {
   "cell_type": "code",
   "execution_count": null,
   "id": "ef09c2bf-3128-464c-8447-d9398d16c03a",
   "metadata": {},
   "outputs": [],
   "source": []
  },
  {
   "cell_type": "code",
   "execution_count": null,
   "id": "121f6704-0af2-43d1-8757-57006f7fcf66",
   "metadata": {},
   "outputs": [],
   "source": []
  }
 ],
 "metadata": {
  "kernelspec": {
   "display_name": "Python 3 (ipykernel)",
   "language": "python",
   "name": "python3"
  },
  "language_info": {
   "codemirror_mode": {
    "name": "ipython",
    "version": 3
   },
   "file_extension": ".py",
   "mimetype": "text/x-python",
   "name": "python",
   "nbconvert_exporter": "python",
   "pygments_lexer": "ipython3",
   "version": "3.10.9"
  }
 },
 "nbformat": 4,
 "nbformat_minor": 5
}

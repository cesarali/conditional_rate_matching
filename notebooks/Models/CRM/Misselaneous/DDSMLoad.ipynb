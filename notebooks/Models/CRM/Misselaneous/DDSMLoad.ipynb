{
 "cells": [
  {
   "cell_type": "code",
   "execution_count": null,
   "id": "d9c21a06-57fa-4707-adc0-d3813b5aeb6f",
   "metadata": {},
   "outputs": [],
   "source": [
    "import torch\n",
    "import numpy as np\n",
    "from conditional_rate_matching.configs.configs_classes.config_crm import CRMConfig as ConditionalRateMatchingConfig\n",
    "\n",
    "from conditional_rate_matching.models.generative_models.crm import uniform_pair_x0_x1\n",
    "from conditional_rate_matching.data.dataloaders_utils import get_dataloaders_crm\n",
    "\n",
    "from conditional_rate_matching.models.generative_models.crm import (\n",
    "    CRM\n",
    ")\n",
    "\n",
    "from conditional_rate_matching.configs.config_files import ExperimentFiles\n",
    "from conditional_rate_matching.models.trainers.crm_trainer import CRMTrainer\n",
    "from conditional_rate_matching.configs.config_files import get_experiment_dir\n",
    "from conditional_rate_matching.configs.configs_classes.config_crm import CRMConfig\n",
    "from conditional_rate_matching.models.trainers.ddsm_trainer import ScoreNetMLP\n"
   ]
  },
  {
   "cell_type": "code",
   "execution_count": null,
   "id": "dda2de3c-9590-4f8e-8c27-34663ef6dfa0",
   "metadata": {},
   "outputs": [],
   "source": [
    "from conditional_rate_matching.configs.config_files import ExperimentFiles\n",
    "experiment_files = ExperimentFiles(experiment_name=\"ddsm\", experiment_type=\"test\",experiment_indentifier=\"1705070668\")\n",
    "#RESULTS = torch.load(experiment_files.best_model_path)\n",
    "#score_model = RESULTS[\"model\"]\n",
    "#print(score_model)\n"
   ]
  },
  {
   "cell_type": "code",
   "execution_count": null,
   "id": "87774849-7b20-44ba-802e-caa08a84e036",
   "metadata": {},
   "outputs": [],
   "source": [
    "experiment_files.best_model_path"
   ]
  },
  {
   "cell_type": "code",
   "execution_count": null,
   "id": "f9fedd09-606b-4849-9f45-daf3594a2f9d",
   "metadata": {},
   "outputs": [],
   "source": [
    "from conditional_rate_matching.configs.experiments_configs.crm.crm_experiments_nist import experiment_nist\n",
    "from conditional_rate_matching.models.temporal_networks.temporal_networks_config import TemporalMLPConfig,TemporalDeepMLPConfig\n",
    "\n",
    "experiment_files = ExperimentFiles(experiment_name=\"ddsm\", experiment_type=\"test\")\n",
    "experiment_files.create_directories()\n",
    "\n",
    "configs = experiment_nist(temporal_network_name=\"unet_conv\")\n",
    "configs.data1 = NISTLoaderConfig(flatten= False,as_image=True)\n",
    "training_dl, test_dl = get_data(configs.data1)\n",
    "\n",
    "#==================================\n",
    "# model\n",
    "# ==================================\n",
    "\n",
    "#configs.temporal_network = TemporalMLPConfig()\n",
    "configs.temporal_network = TemporalDeepMLPConfig(num_layers=1)\n",
    "score_model = ScoreNetMLP(configs)"
   ]
  }
 ],
 "metadata": {
  "kernelspec": {
   "display_name": "Python 3 (ipykernel)",
   "language": "python",
   "name": "python3"
  },
  "language_info": {
   "codemirror_mode": {
    "name": "ipython",
    "version": 3
   },
   "file_extension": ".py",
   "mimetype": "text/x-python",
   "name": "python",
   "nbconvert_exporter": "python",
   "pygments_lexer": "ipython3",
   "version": "3.10.9"
  }
 },
 "nbformat": 4,
 "nbformat_minor": 5
}

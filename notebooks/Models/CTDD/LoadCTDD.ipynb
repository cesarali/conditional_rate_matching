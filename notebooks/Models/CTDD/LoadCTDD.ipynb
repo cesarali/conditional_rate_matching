{
 "cells": [
  {
   "cell_type": "code",
   "execution_count": 1,
   "id": "95927d89-895e-4fcc-8d87-0ce2bec78c7d",
   "metadata": {},
   "outputs": [],
   "source": [
    "import os\n",
    "from conditional_rate_matching.models.generative_models.ctdd import CTDD\n",
    "from conditional_rate_matching import results_path\n",
    "from conditional_rate_matching.configs.config_files import get_experiment_dir\n",
    "from dataclasses import asdict\n",
    "from pprint import pprint"
   ]
  },
  {
   "cell_type": "code",
   "execution_count": 2,
   "id": "dfb20782-1f44-473a-be7f-f17f51d97842",
   "metadata": {},
   "outputs": [
    {
     "name": "stdout",
     "output_type": "stream",
     "text": [
      "Scheduler\n"
     ]
    }
   ],
   "source": [
    "experiment_dir = get_experiment_dir(experiment_name=\"harz_experiment\",\n",
    "                                    experiment_type=\"ctdd\",\n",
    "                                    experiment_indentifier=\"1705680385\")\n",
    "ctdd =  CTDD(experiment_dir=experiment_dir)"
   ]
  },
  {
   "cell_type": "code",
   "execution_count": 3,
   "id": "e96fea93-4ee9-439c-90f6-07104ebe6ba1",
   "metadata": {},
   "outputs": [
    {
     "name": "stdout",
     "output_type": "stream",
     "text": [
      "CTDDConfig(data0=GraphDataloaderConfig(name='GraphDataloader',\n",
      "                                       dataset_name='ego_small',\n",
      "                                       batch_size=20,\n",
      "                                       data_dir='C:\\\\Users\\\\cesar\\\\Desktop\\\\Projects\\\\DiffusiveGenerativeModelling\\\\Codes\\\\conditional_rate_matching\\\\data\\\\raw\\\\graph',\n",
      "                                       max_node_num=18,\n",
      "                                       max_feat_num=17,\n",
      "                                       dimensions=153,\n",
      "                                       vocab_size=2,\n",
      "                                       full_adjacency=False,\n",
      "                                       flatten=True,\n",
      "                                       as_image=False,\n",
      "                                       init='deg',\n",
      "                                       total_data_size=200,\n",
      "                                       training_size=160,\n",
      "                                       test_size=40,\n",
      "                                       test_split=0.2,\n",
      "                                       max_training_size=None,\n",
      "                                       max_test_size=None,\n",
      "                                       temporal_net_expected_shape=[153],\n",
      "                                       preprocess_datapath='orca_berlin',\n",
      "                                       data_min_max=[0.0, 1.0]),\n",
      "           temporal_network=TemporalMLPConfig(name='TemporalMLP',\n",
      "                                              time_embed_dim=100,\n",
      "                                              hidden_dim=100,\n",
      "                                              ema_decay=0.9999),\n",
      "           loss=CTDDLossConfig(name='GenericAux',\n",
      "                               eps_ratio=1e-09,\n",
      "                               nll_weight=0.001,\n",
      "                               min_time=0.01,\n",
      "                               one_forward_pass=True),\n",
      "           trainer=BasicTrainerConfig(number_of_epochs=250,\n",
      "                                      log_loss=100,\n",
      "                                      save_model_test_stopping=True,\n",
      "                                      save_model_epochs=125,\n",
      "                                      save_metric_epochs=249,\n",
      "                                      max_test_size=2000,\n",
      "                                      do_ema=True,\n",
      "                                      clip_grad=False,\n",
      "                                      clip_max_norm=1.0,\n",
      "                                      learning_rate=0.0001,\n",
      "                                      weight_decay=0.0001,\n",
      "                                      lr_decay=0.999,\n",
      "                                      device='cuda:0',\n",
      "                                      berlin=True,\n",
      "                                      distributed=False,\n",
      "                                      debug=False,\n",
      "                                      orca_dir='C:\\\\Users\\\\cesar\\\\Desktop\\\\Projects\\\\DiffusiveGenerativeModelling\\\\Codes\\\\conditional_rate_matching\\\\src\\\\conditional_rate_matching\\\\models\\\\metrics\\\\orca',\n",
      "                                      metrics=['mse_histograms',\n",
      "                                               'graphs_plot',\n",
      "                                               'marginal_binary_histograms']),\n",
      "           pipeline=BasicPipelineConfig(name='BasicPipeline',\n",
      "                                        sampler_name='TauLeaping',\n",
      "                                        number_of_steps=100,\n",
      "                                        num_intermediates=10,\n",
      "                                        sample_size=128,\n",
      "                                        min_t=0.01,\n",
      "                                        eps_ratio=1e-09,\n",
      "                                        initial_dist='gaussian',\n",
      "                                        num_corrector_steps=10,\n",
      "                                        corrector_step_size_multiplier=1.5,\n",
      "                                        corrector_entry_time=0.1))\n"
     ]
    }
   ],
   "source": [
    "pprint(ctdd.config)"
   ]
  },
  {
   "cell_type": "code",
   "execution_count": 19,
   "id": "fae3b802-9045-4730-a656-4b5e74ce2cc6",
   "metadata": {},
   "outputs": [
    {
     "data": {
      "text/plain": [
       "BasicPipelineConfig(name='BasicPipeline', sampler_name='TauLeaping', number_of_steps=20, num_intermediates=10, sample_size=128, min_t=0.01, eps_ratio=1e-09, initial_dist='gaussian', num_corrector_steps=10, corrector_step_size_multiplier=1.5, corrector_entry_time=0.1)"
      ]
     },
     "execution_count": 19,
     "metadata": {},
     "output_type": "execute_result"
    }
   ],
   "source": [
    "ctdd.config.pipeline"
   ]
  },
  {
   "cell_type": "code",
   "execution_count": null,
   "id": "968b1eca-af87-432f-b839-07bcf6bbf008",
   "metadata": {},
   "outputs": [],
   "source": []
  },
  {
   "cell_type": "code",
   "execution_count": null,
   "id": "dc38dce8-c47f-43c3-9dc2-4c0d3f4625a8",
   "metadata": {},
   "outputs": [],
   "source": []
  },
  {
   "cell_type": "code",
   "execution_count": null,
   "id": "6619604a-242f-4d5a-b505-b4315f15d80f",
   "metadata": {},
   "outputs": [],
   "source": []
  }
 ],
 "metadata": {
  "kernelspec": {
   "display_name": "Python 3 (ipykernel)",
   "language": "python",
   "name": "python3"
  },
  "language_info": {
   "codemirror_mode": {
    "name": "ipython",
    "version": 3
   },
   "file_extension": ".py",
   "mimetype": "text/x-python",
   "name": "python",
   "nbconvert_exporter": "python",
   "pygments_lexer": "ipython3",
   "version": "3.10.9"
  }
 },
 "nbformat": 4,
 "nbformat_minor": 5
}

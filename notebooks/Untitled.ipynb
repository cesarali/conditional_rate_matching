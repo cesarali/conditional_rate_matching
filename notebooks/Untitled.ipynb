{
 "cells": [
  {
   "cell_type": "code",
   "execution_count": 1,
   "id": "8549f824-c63a-45e7-806d-03d19029147e",
   "metadata": {},
   "outputs": [],
   "source": [
    "import os\n",
    "import sys\n",
    "import torch\n",
    "import pandas as pd\n",
    "import yaml\n"
   ]
  },
  {
   "cell_type": "code",
   "execution_count": 4,
   "id": "23fe4c4a-f140-42e2-b069-37cfce13f1d9",
   "metadata": {},
   "outputs": [],
   "source": [
    "from conditional_rate_matching import config_path\n",
    "from conditional_rate_matching.configs.config_crm import Config"
   ]
  },
  {
   "cell_type": "code",
   "execution_count": 5,
   "id": "a8fee180-d7f6-48a4-a23c-485461f01b06",
   "metadata": {},
   "outputs": [],
   "source": [
    "yml_path = os.path.join(config_path,\"crm\",\"small_community.yml\")\n",
    "\n",
    "with open(yml_path, 'r') as file:\n",
    "    read_data = yaml.load(file, Loader=yaml.FullLoader)\n",
    "config = Config(**read_data)"
   ]
  },
  {
   "cell_type": "code",
   "execution_count": 8,
   "id": "519983fa-227e-4385-bed9-9434b705661d",
   "metadata": {},
   "outputs": [],
   "source": []
  },
  {
   "cell_type": "code",
   "execution_count": 9,
   "id": "68b9c7b2-2b68-41ca-8eec-2e9721577e74",
   "metadata": {},
   "outputs": [
    {
     "data": {
      "text/plain": [
       "Config(data0=StatesDataloaderConfig(name='StatesDataloader', dataset_name='categorical_dirichlet', batch_size=128, data_dir='C:\\\\Users\\\\cesar\\\\Desktop\\\\Projects\\\\DiffusiveGenerativeModelling\\\\Codes\\\\conditional_rate_matching\\\\data\\\\raw', sample_size=1000, dirichlet_alpha=100.0, bernoulli_probability=None, dimensions=190, vocab_size=2, as_image=False, total_data_size=1000, training_size=800, test_size=200, test_split=0.2, temporal_net_expected_shape=[190], data_min_max=[0.0, 1.0]), data1=GraphDataloaderConfig(name='GraphDataloader', dataset_name='community_small', batch_size=128, data_dir='C:\\\\Users\\\\cesar\\\\Desktop\\\\Projects\\\\DiffusiveGenerativeModelling\\\\Codes\\\\conditional_rate_matching\\\\data\\\\raw\\\\graph', max_node_num=20, max_feat_num=10, dimensions=190, vocab_size=2, full_adjacency=False, flatten=True, as_image=False, init='deg', total_data_size=100, training_size=80, test_size=20, test_split=0.2, max_training_size=None, max_test_size=2000, temporal_net_expected_shape=[190], preprocess_datapath='graphs', data_min_max=[0.0, 1.0]), process_name='constant', gamma=0.9, temporal_network=TemporalMLPConfig(name='TemporalMLP', time_embed_dim=250, hidden_dim=500), number_of_epochs=300, save_model_epochs=150, save_metric_epochs=150, data_dir='C:\\\\Users\\\\cesar\\\\Desktop\\\\Projects\\\\DiffusiveGenerativeModelling\\\\Codes\\\\conditional_rate_matching\\\\data\\\\raw', learning_rate=0.0001, device='cuda:0', metrics=['mse_histograms', 'binary_paths_histograms', 'marginal_binary_histograms'], number_of_steps=20, num_intermediates=10)"
      ]
     },
     "execution_count": 9,
     "metadata": {},
     "output_type": "execute_result"
    }
   ],
   "source": [
    "config"
   ]
  },
  {
   "cell_type": "code",
   "execution_count": null,
   "id": "7da939e5-e620-4569-a07c-9ac973b6d8d6",
   "metadata": {},
   "outputs": [],
   "source": []
  }
 ],
 "metadata": {
  "kernelspec": {
   "display_name": "Python 3 (ipykernel)",
   "language": "python",
   "name": "python3"
  },
  "language_info": {
   "codemirror_mode": {
    "name": "ipython",
    "version": 3
   },
   "file_extension": ".py",
   "mimetype": "text/x-python",
   "name": "python",
   "nbconvert_exporter": "python",
   "pygments_lexer": "ipython3",
   "version": "3.10.9"
  }
 },
 "nbformat": 4,
 "nbformat_minor": 5
}

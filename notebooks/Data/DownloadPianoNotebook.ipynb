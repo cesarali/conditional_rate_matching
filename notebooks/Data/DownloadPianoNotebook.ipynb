{
 "cells": [
  {
   "cell_type": "code",
   "execution_count": 3,
   "id": "4e1a596b-1c06-47b8-b551-2cea8fca92d8",
   "metadata": {},
   "outputs": [
    {
     "name": "stdout",
     "output_type": "stream",
     "text": [
      "Download successful.\n"
     ]
    }
   ],
   "source": [
    "import requests\n",
    "\n",
    "# URL of the Jupyter notebook you want to download\n",
    "url = \"https://raw.githubusercontent.com/craffel/midi-dataset/master/Tutorial.ipynb\"\n",
    "#url = \"http://hog.ee.columbia.edu/craffel/lmd/match_scores.json\"\n",
    "\n",
    "file_name = \"Tutorial.ipynb\"\n",
    "#file_name = \"match_scores.json\"\n",
    "\n",
    "# Send a GET request to the URL\n",
    "response = requests.get(url)\n",
    "\n",
    "# Check if the request was successful\n",
    "if response.status_code == 200:\n",
    "    # Write the content of the response to a file\n",
    "    with open(file_name, \"wb\") as file:\n",
    "        file.write(response.content)\n",
    "    print(\"Download successful.\")\n",
    "else:\n",
    "    print(f\"Failed to download. Status code: {response.status_code}\")\n"
   ]
  },
  {
   "cell_type": "code",
   "execution_count": null,
   "id": "6d1343e6-975d-4824-abc6-87ba99bf4378",
   "metadata": {},
   "outputs": [],
   "source": []
  }
 ],
 "metadata": {
  "kernelspec": {
   "display_name": "Python 3 (ipykernel)",
   "language": "python",
   "name": "python3"
  },
  "language_info": {
   "codemirror_mode": {
    "name": "ipython",
    "version": 3
   },
   "file_extension": ".py",
   "mimetype": "text/x-python",
   "name": "python",
   "nbconvert_exporter": "python",
   "pygments_lexer": "ipython3",
   "version": "3.10.9"
  }
 },
 "nbformat": 4,
 "nbformat_minor": 5
}

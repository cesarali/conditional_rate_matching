{
 "cells": [
  {
   "cell_type": "code",
   "execution_count": 2,
   "metadata": {},
   "outputs": [],
   "source": [
    "import torch\n",
    "from conditional_rate_matching.configs.experiments_configs.crm.crm_experiments_graph import experiment_comunity_small\n",
    "from conditional_rate_matching.configs.experiments_configs.crm.crm_experiments_graph import experiment_ego\n",
    "from conditional_rate_matching.configs.experiments_configs.crm.crm_experiments_graph import experiment_enzymes\n",
    "from conditional_rate_matching.configs.configs_classes.config_crm import CRMConfig, CRMTrainerConfig, TemporalNetworkToRateConfig\n",
    "\n",
    "from conditional_rate_matching.configs.config_files import ExperimentFiles\n",
    "from conditional_rate_matching.models.generative_models.crm import CRM\n",
    "from conditional_rate_matching.models.temporal_networks.temporal_networks_config import (\n",
    "    TemporalScoreNetworkAConfig,\n",
    "    SimpleTemporalGCNConfig\n",
    ")\n"
   ]
  },
  {
   "cell_type": "code",
   "execution_count": 9,
   "metadata": {},
   "outputs": [],
   "source": [
    "device = torch.device(\"cuda:0\") if torch.cuda.is_available() else torch.device(\"cpu\")\n",
    "\n",
    "config = experiment_enzymes(number_of_epochs=50,network=\"simple\")\n",
    "#config = experiment_ego(number_of_epochs=50,network=\"gnn\")\n",
    "config.data0.batch_size = 9\n",
    "config.data1.batch_size = 9\n",
    "config.temporal_network = SimpleTemporalGCNConfig()\n",
    "\n",
    "#config.temporal_network_to_rate = None\n",
    "config.temporal_network_to_rate = TemporalNetworkToRateConfig(type_of=\"linear\",linear_reduction=.5)\n",
    "config.temporal_network_to_rate = None\n",
    "generative_model = CRM(config)\n",
    "databatch = next(generative_model.dataloader_1.train().__iter__())\n",
    "\n",
    "x = databatch[0].to(device)\n",
    "x_1 = databatch[1].to(device)\n",
    "time = torch.rand(x.size(0),).to(device)\n"
   ]
  },
  {
   "cell_type": "code",
   "execution_count": 12,
   "metadata": {},
   "outputs": [
    {
     "data": {
      "text/plain": [
       "117"
      ]
     },
     "execution_count": 12,
     "metadata": {},
     "output_type": "execute_result"
    }
   ],
   "source": [
    "sample_size = 0\n",
    "for databatch in generative_model.dataloader_1.test():\n",
    "    x = databatch[0].to(device)\n",
    "    sample_size += x.shape[0]\n",
    "sample_size"
   ]
  },
  {
   "cell_type": "code",
   "execution_count": null,
   "metadata": {},
   "outputs": [],
   "source": []
  }
 ],
 "metadata": {
  "kernelspec": {
   "display_name": "rate_matching",
   "language": "python",
   "name": "python3"
  },
  "language_info": {
   "codemirror_mode": {
    "name": "ipython",
    "version": 3
   },
   "file_extension": ".py",
   "mimetype": "text/x-python",
   "name": "python",
   "nbconvert_exporter": "python",
   "pygments_lexer": "ipython3",
   "version": "3.10.9"
  }
 },
 "nbformat": 4,
 "nbformat_minor": 2
}

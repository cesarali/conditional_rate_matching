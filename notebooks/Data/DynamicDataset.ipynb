{
 "cells": [
  {
   "cell_type": "code",
   "execution_count": 1,
   "id": "5441f7e1-986d-4d62-959d-48a7b543b289",
   "metadata": {},
   "outputs": [],
   "source": [
    "import torch\n",
    "import numpy as np\n",
    "from torch.utils.data import Dataset, DataLoader"
   ]
  },
  {
   "cell_type": "code",
   "execution_count": 6,
   "id": "5eae5cfe-b704-4c50-a9dc-8c8112ef4e20",
   "metadata": {},
   "outputs": [],
   "source": [
    "class GaussianDataset(Dataset):\n",
    "    def __init__(self, sample_size, mean=0, std=1):\n",
    "        \"\"\"\n",
    "        Args:\n",
    "            sample_size (int): Total number of samples to generate.\n",
    "            mean (float): Mean of the Gaussian distribution.\n",
    "            std (float): Standard deviation of the Gaussian distribution.\n",
    "        \"\"\"\n",
    "        self.sample_size = sample_size\n",
    "        self.mean = mean\n",
    "        self.std = std\n",
    "\n",
    "    def __len__(self):\n",
    "        return self.sample_size\n",
    "\n",
    "    def __getitem__(self, idx):\n",
    "        if torch.is_tensor(idx):\n",
    "            idx = idx.tolist()\n",
    "\n",
    "        sample = np.random.normal(self.mean, self.std, 1)\n",
    "        return torch.from_numpy(sample)"
   ]
  },
  {
   "cell_type": "code",
   "execution_count": 11,
   "id": "b81769c5-f2f2-445a-b924-f45bb5f2df8f",
   "metadata": {},
   "outputs": [
    {
     "data": {
      "text/plain": [
       "array([-0.01476007])"
      ]
     },
     "execution_count": 11,
     "metadata": {},
     "output_type": "execute_result"
    }
   ],
   "source": [
    "sample = np.random.normal(0.,1., 1)\n",
    "sample"
   ]
  },
  {
   "cell_type": "code",
   "execution_count": 13,
   "id": "45226f3f-1074-43f9-88c0-a70f0f814d49",
   "metadata": {},
   "outputs": [],
   "source": [
    "# Parameters\n",
    "sample_size = 1000  # total number of samples in the dataset\n",
    "batch_size = 128     # number of samples per batch\n",
    "\n",
    "# Create dataset and dataloader\n",
    "gaussian_dataset = GaussianDataset(sample_size=sample_size)\n",
    "gaussian_dataloader = DataLoader(gaussian_dataset, batch_size=batch_size, shuffle=True)\n",
    "databatch = next(gaussian_dataloader.__iter__())"
   ]
  },
  {
   "cell_type": "code",
   "execution_count": 15,
   "id": "47721d3f-2a45-484a-838e-0d78a52404ba",
   "metadata": {},
   "outputs": [
    {
     "name": "stdout",
     "output_type": "stream",
     "text": [
      "torch.Size([128, 1])\n"
     ]
    }
   ],
   "source": [
    "print(databatch.shape)"
   ]
  },
  {
   "cell_type": "markdown",
   "id": "23e83e49-66e4-42c9-8721-89def1e7b5e7",
   "metadata": {},
   "source": []
  }
 ],
 "metadata": {
  "kernelspec": {
   "display_name": "Python 3 (ipykernel)",
   "language": "python",
   "name": "python3"
  },
  "language_info": {
   "codemirror_mode": {
    "name": "ipython",
    "version": 3
   },
   "file_extension": ".py",
   "mimetype": "text/x-python",
   "name": "python",
   "nbconvert_exporter": "python",
   "pygments_lexer": "ipython3",
   "version": "3.10.9"
  }
 },
 "nbformat": 4,
 "nbformat_minor": 5
}

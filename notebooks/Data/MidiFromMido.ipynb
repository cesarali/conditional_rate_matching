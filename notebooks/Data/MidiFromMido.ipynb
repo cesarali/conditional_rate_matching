{
 "cells": [
  {
   "cell_type": "code",
   "execution_count": 1,
   "id": "0ce92a08-5eb9-4024-87e2-060c698c753b",
   "metadata": {},
   "outputs": [],
   "source": [
    "import os\n",
    "import numpy as np\n",
    "\n",
    "from conditional_rate_matching import data_path"
   ]
  },
  {
   "cell_type": "code",
   "execution_count": 2,
   "id": "edcc43bc-4d8f-43b0-8c9a-f64860eb94f3",
   "metadata": {},
   "outputs": [
    {
     "data": {
      "text/plain": [
       "'C:\\\\Users\\\\cesar\\\\Desktop\\\\Projects\\\\DiffusiveGenerativeModelling\\\\Codes\\\\conditional_rate_matching\\\\data\\\\pianoroll_dataset\\\\pianoroll_dataset\\\\test.npy'"
      ]
     },
     "execution_count": 2,
     "metadata": {},
     "output_type": "execute_result"
    }
   ],
   "source": [
    "os.path.join(data_path,\"pianoroll_dataset\",\"pianoroll_dataset\",\"test.npy\")"
   ]
  },
  {
   "cell_type": "code",
   "execution_count": 14,
   "id": "1915b782-6103-4c16-b1cf-1be3afdc9716",
   "metadata": {},
   "outputs": [],
   "source": [
    "train_datafile = os.path.join(data_path,\"raw\",\"pianoroll_dataset\",\"pianoroll_dataset\",\"train.npy\")\n",
    "test_datafile = os.path.join(data_path,\"raw\",\"pianoroll_dataset\",\"pianoroll_dataset\",\"test.npy\")"
   ]
  },
  {
   "cell_type": "code",
   "execution_count": 15,
   "id": "3bb2fbc5-18c3-4313-a007-d8e8a1643e90",
   "metadata": {},
   "outputs": [],
   "source": [
    "train_data = np.load(train_datafile)\n",
    "test_data = np.load(test_datafile)"
   ]
  },
  {
   "cell_type": "code",
   "execution_count": 16,
   "id": "bd728c52-8b69-453e-95de-59dccc1f4cd0",
   "metadata": {},
   "outputs": [
    {
     "data": {
      "text/plain": [
       "(6000, 256)"
      ]
     },
     "execution_count": 16,
     "metadata": {},
     "output_type": "execute_result"
    }
   ],
   "source": [
    "train_data.shape"
   ]
  },
  {
   "cell_type": "code",
   "execution_count": 17,
   "id": "ebff5c91-b5f5-45b3-acf2-b5fdbba627ff",
   "metadata": {},
   "outputs": [
    {
     "data": {
      "text/plain": [
       "128"
      ]
     },
     "execution_count": 17,
     "metadata": {},
     "output_type": "execute_result"
    }
   ],
   "source": [
    "test_data.max()"
   ]
  },
  {
   "cell_type": "code",
   "execution_count": 18,
   "id": "d470bd82-c0ae-43fb-97da-5b4580c2ae87",
   "metadata": {},
   "outputs": [
    {
     "data": {
      "text/plain": [
       "(973, 256)"
      ]
     },
     "execution_count": 18,
     "metadata": {},
     "output_type": "execute_result"
    }
   ],
   "source": [
    "test_data.shape"
   ]
  },
  {
   "cell_type": "code",
   "execution_count": 21,
   "id": "3ee6d377-c632-4b2c-9e53-2a4132bfea65",
   "metadata": {},
   "outputs": [
    {
     "data": {
      "text/plain": [
       "128"
      ]
     },
     "execution_count": 21,
     "metadata": {},
     "output_type": "execute_result"
    }
   ],
   "source": [
    "train_data.max()"
   ]
  },
  {
   "cell_type": "code",
   "execution_count": 22,
   "id": "ce7ef35a-4731-428a-8be6-c692f794121e",
   "metadata": {},
   "outputs": [
    {
     "data": {
      "text/plain": [
       "0"
      ]
     },
     "execution_count": 22,
     "metadata": {},
     "output_type": "execute_result"
    }
   ],
   "source": [
    "train_data.min()"
   ]
  },
  {
   "cell_type": "code",
   "execution_count": 26,
   "id": "5e8b0546-e017-442b-9d89-9c2c3207ef81",
   "metadata": {},
   "outputs": [],
   "source": [
    "test_size = test_data.shape[0]\n",
    "training_size = train_data.shape[0]\n",
    "total_datasize = training_size + test_size\n",
    "test_proportion = test_size/float(total_datasize)"
   ]
  },
  {
   "cell_type": "code",
   "execution_count": 28,
   "id": "e37b81fc-9006-417a-9727-fdbea820b3a5",
   "metadata": {},
   "outputs": [
    {
     "name": "stdout",
     "output_type": "stream",
     "text": [
      "{'total data size 6973 training size 6000 test size 973 test proportion 0.13953821884411302'}\n"
     ]
    }
   ],
   "source": [
    "print({f\"total data size {total_datasize} training size {training_size} test size {test_size} test proportion {test_proportion}\"})"
   ]
  },
  {
   "cell_type": "code",
   "execution_count": null,
   "id": "3beef8a8-c858-44cf-b2f4-dd5be02f243d",
   "metadata": {},
   "outputs": [],
   "source": []
  },
  {
   "cell_type": "code",
   "execution_count": null,
   "id": "b73a6202-8d88-4547-bee6-ad5d98e6a46e",
   "metadata": {},
   "outputs": [],
   "source": []
  }
 ],
 "metadata": {
  "kernelspec": {
   "display_name": "Python 3 (ipykernel)",
   "language": "python",
   "name": "python3"
  },
  "language_info": {
   "codemirror_mode": {
    "name": "ipython",
    "version": 3
   },
   "file_extension": ".py",
   "mimetype": "text/x-python",
   "name": "python",
   "nbconvert_exporter": "python",
   "pygments_lexer": "ipython3",
   "version": "3.10.9"
  }
 },
 "nbformat": 4,
 "nbformat_minor": 5
}

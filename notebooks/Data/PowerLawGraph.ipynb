{
 "cells": [
  {
   "cell_type": "code",
   "execution_count": 12,
   "id": "9e2161b5-08d1-4c36-8e50-9820909d800d",
   "metadata": {},
   "outputs": [],
   "source": [
    "import torch\n",
    "import numpy as np\n",
    "import networkx as nx\n",
    "import numpy as np\n",
    "from conditional_rate_matching.configs.configs_classes.config_crm import CRMConfig as ConditionalRateMatchingConfig\n",
    "\n",
    "from conditional_rate_matching.models.generative_models.crm import uniform_pair_x0_x1\n",
    "from conditional_rate_matching.data.dataloaders_utils import get_dataloaders_crm\n",
    "\n",
    "from conditional_rate_matching.models.generative_models.crm import (\n",
    "    CRM\n",
    ")\n",
    "\n",
    "from conditional_rate_matching.configs.experiments_configs.crm.crm_experiments_graph import experiment_comunity_small\n",
    "\n",
    "from conditional_rate_matching.configs.config_files import ExperimentFiles\n",
    "from conditional_rate_matching.models.trainers.crm_trainer import CRMTrainer\n",
    "from conditional_rate_matching.configs.config_files import get_experiment_dir\n",
    "from conditional_rate_matching.configs.configs_classes.config_crm import CRMConfig\n",
    "import pytest\n",
    "\n",
    "from conditional_rate_matching.utils.plots.images_plots import plot_sample\n",
    "from conditional_rate_matching.configs.experiments_configs.crm.crm_experiments_nist import experiment_nist\n",
    "from conditional_rate_matching.models.pipelines.sdes_samplers.samplers import TauLeaping"
   ]
  },
  {
   "cell_type": "code",
   "execution_count": 2,
   "id": "0371d88f-774a-4a5b-908c-12fb6275c2f4",
   "metadata": {},
   "outputs": [],
   "source": [
    "from conditional_rate_matching.models.generative_models.crm import CRM\n",
    "from conditional_rate_matching.configs.config_files import ExperimentFiles\n",
    "from conditional_rate_matching.models.temporal_networks.temporal_networks_config import TemporalScoreNetworkAConfig"
   ]
  },
  {
   "cell_type": "code",
   "execution_count": 37,
   "id": "175d682f-ebbc-442c-9471-a2e672a09fca",
   "metadata": {},
   "outputs": [],
   "source": [
    "experiment_files = ExperimentFiles(experiment_name=\"crm\",\n",
    "                                   experiment_type=\"graph_test\")\n",
    "device = torch.device(\"cuda:0\") if torch.cuda.is_available() else torch.device(\"cpu\")\n",
    "\n",
    "config = experiment_comunity_small(number_of_epochs=50,network=\"gnn\")\n",
    "\n",
    "#config.temporal_network = ConvNetAutoencoderConfig()\n",
    "#config.temporal_network = TemporalGraphConvNetConfig()\n",
    "config.temporal_network = TemporalScoreNetworkAConfig()\n",
    "\n",
    "generative_model = CRM(config,experiment_files=experiment_files)\n",
    "databatch = next(generative_model.dataloader_1.train().__iter__())\n"
   ]
  },
  {
   "cell_type": "code",
   "execution_count": 38,
   "id": "0e208579-0660-4513-8862-2baf73908cc5",
   "metadata": {},
   "outputs": [],
   "source": [
    "networkx_batch = generative_model.dataloader_1.sample_to_graph(databatch[0])"
   ]
  },
  {
   "cell_type": "code",
   "execution_count": 44,
   "id": "16f09b52-1154-41e9-9c73-8c5de29e28de",
   "metadata": {},
   "outputs": [],
   "source": []
  },
  {
   "cell_type": "code",
   "execution_count": 45,
   "id": "d5d904de-ccbb-47fe-a81b-5e8290bc6588",
   "metadata": {},
   "outputs": [],
   "source": [
    "\n",
    "new_graph,alpha = obtain_power_law_graph(networkx_graph)"
   ]
  },
  {
   "cell_type": "code",
   "execution_count": 47,
   "id": "73d872d5-fdc5-4360-b7e0-2212be133613",
   "metadata": {},
   "outputs": [
    {
     "data": {
      "image/png": "[encoded data removed]",
      "text/plain": [
       "<Figure size 640x480 with 1 Axes>"
      ]
     },
     "metadata": {},
     "output_type": "display_data"
    }
   ],
   "source": [
    "nx.draw(networkx_graph)"
   ]
  },
  {
   "cell_type": "code",
   "execution_count": null,
   "id": "ffd403c9-2dc4-4b86-a2dc-1e6b5e67c42d",
   "metadata": {},
   "outputs": [],
   "source": []
  }
 ],
 "metadata": {
  "kernelspec": {
   "display_name": "Python 3 (ipykernel)",
   "language": "python",
   "name": "python3"
  },
  "language_info": {
   "codemirror_mode": {
    "name": "ipython",
    "version": 3
   },
   "file_extension": ".py",
   "mimetype": "text/x-python",
   "name": "python",
   "nbconvert_exporter": "python",
   "pygments_lexer": "ipython3",
   "version": "3.10.9"
  }
 },
 "nbformat": 4,
 "nbformat_minor": 5
}

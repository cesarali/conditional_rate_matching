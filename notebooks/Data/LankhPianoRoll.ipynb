{
 "cells": [
  {
   "cell_type": "code",
   "execution_count": 1,
   "id": "81a3c971-4e9d-4ddc-b087-46df5146c4fe",
   "metadata": {},
   "outputs": [],
   "source": [
    "import os\n",
    "import pytest\n",
    "from pprint import pprint\n",
    "from conditional_rate_matching.data.music_dataloaders import LankhPianoRollDataloader\n",
    "from conditional_rate_matching.data.music_dataloaders_config import LakhPianoRollConfig"
   ]
  },
  {
   "cell_type": "code",
   "execution_count": 2,
   "id": "d5377e3d-13b4-4ef2-92b1-f633e6af83cc",
   "metadata": {},
   "outputs": [],
   "source": [
    "config = LakhPianoRollConfig(conditional_model=True)\n",
    "data_loader = LankhPianoRollDataloader(config)\n",
    "databatch_0,databatch_1 = next(data_loader.test().__iter__())"
   ]
  },
  {
   "cell_type": "code",
   "execution_count": 3,
   "id": "8ad23354-17f8-4b26-a623-f6a5b2db03b0",
   "metadata": {},
   "outputs": [
    {
     "data": {
      "text/plain": [
       "[tensor([[ 66.,  66.,  66.,  ...,  53.,  53.,  53.],\n",
       "         [ 75.,  75.,  75.,  ...,  75.,  75.,  75.],\n",
       "         [  7.,   7.,   7.,  ...,  34., 115., 115.],\n",
       "         ...,\n",
       "         [ 96.,  96.,  34.,  ...,  36.,   7.,   7.],\n",
       "         [ 96.,  34.,   7.,  ...,  34.,   7.,  75.],\n",
       "         [ 97.,  97.,  97.,  ...,  34.,  96.,  96.]])]"
      ]
     },
     "execution_count": 3,
     "metadata": {},
     "output_type": "execute_result"
    }
   ],
   "source": [
    "databatch_0"
   ]
  },
  {
   "cell_type": "code",
   "execution_count": 4,
   "id": "d152bdac-8f21-4087-9791-ddfa8574879b",
   "metadata": {},
   "outputs": [
    {
     "data": {
      "text/plain": [
       "[tensor([[ 66.,  66.,  66.,  ..., 104.,  19.,  92.],\n",
       "         [ 75.,  75.,  75.,  ...,   8.,  33.,  58.],\n",
       "         [  7.,   7.,   7.,  ..., 108.,  34.,  52.],\n",
       "         ...,\n",
       "         [ 96.,  96.,  34.,  ...,  11.,  43.,  43.],\n",
       "         [ 96.,  34.,   7.,  ...,   5.,  30., 117.],\n",
       "         [ 97.,  97.,  97.,  ..., 102., 100., 121.]])]"
      ]
     },
     "execution_count": 4,
     "metadata": {},
     "output_type": "execute_result"
    }
   ],
   "source": [
    "databatch_1"
   ]
  }
 ],
 "metadata": {
  "kernelspec": {
   "display_name": "Python 3 (ipykernel)",
   "language": "python",
   "name": "python3"
  },
  "language_info": {
   "codemirror_mode": {
    "name": "ipython",
    "version": 3
   },
   "file_extension": ".py",
   "mimetype": "text/x-python",
   "name": "python",
   "nbconvert_exporter": "python",
   "pygments_lexer": "ipython3",
   "version": "3.10.9"
  }
 },
 "nbformat": 4,
 "nbformat_minor": 5
}

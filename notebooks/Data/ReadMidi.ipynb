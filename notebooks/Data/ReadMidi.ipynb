{
 "cells": [
  {
   "cell_type": "code",
   "execution_count": 1,
   "id": "6fd946fa-4933-4558-9b27-e7779fa87987",
   "metadata": {},
   "outputs": [],
   "source": [
    "import os\n",
    "import json\n",
    "from conditional_rate_matching import data_path\n",
    "import pretty_midi\n",
    "import librosa\n",
    "\n",
    "from matplotlib import pyplot as plt\n",
    "\n",
    "raw_data = os.path.join(data_path,\"raw\")\n",
    "#DATA_PATH = os.path.join(data_path,\"raw\",\"lmd_matched\")"
   ]
  },
  {
   "cell_type": "code",
   "execution_count": 34,
   "id": "3bfb0f13-2eb8-437a-8342-fcde8ad592f5",
   "metadata": {},
   "outputs": [],
   "source": [
    "mid_file_path = os.path.join(raw_data,'lmd_full','lmd_full','0','00000ec8a66b6bd2ef809b0443eeae41.mid')"
   ]
  },
  {
   "cell_type": "code",
   "execution_count": 26,
   "id": "7680401d-373d-4344-abb0-da463663186e",
   "metadata": {},
   "outputs": [],
   "source": [
    "midi_data = pretty_midi.PrettyMIDI(mid_file)"
   ]
  },
  {
   "cell_type": "code",
   "execution_count": 36,
   "id": "4f972918-c545-4a3f-85de-325a6e09eba2",
   "metadata": {},
   "outputs": [
    {
     "data": {
      "text/plain": [
       "(False, 'A note is held for more than the allowed duration.')"
      ]
     },
     "execution_count": 36,
     "metadata": {},
     "output_type": "execute_result"
    }
   ],
   "source": [
    "is_valid_midi(mid_file_path, max_note_duration=50)"
   ]
  },
  {
   "cell_type": "code",
   "execution_count": 33,
   "id": "c47d9830-44b3-4f1a-b0ab-a6f94cb9d258",
   "metadata": {},
   "outputs": [],
   "source": [
    "\n",
    "def is_valid_midi(file_path, max_note_duration=50, total_time_steps=256):\n",
    "    # Load the MIDI file\n",
    "    midi_data = pretty_midi.PrettyMIDI(file_path)\n",
    "\n",
    "    # Assuming we're only dealing with the first instrument\n",
    "    instrument = midi_data.instruments[0]\n",
    "\n",
    "    # Sort notes by start time\n",
    "    notes = sorted(instrument.notes, key=lambda note: note.start)\n",
    "\n",
    "    # Check for monophonic\n",
    "    for i in range(len(notes) - 1):\n",
    "        if notes[i].end > notes[i + 1].start:\n",
    "            return False, \"The track is not monophonic (notes overlap).\"\n",
    "\n",
    "    # Check for more than one type of note\n",
    "    unique_notes = set([note.pitch for note in notes])\n",
    "    if len(unique_notes) <= 1:\n",
    "        return False, \"The track does not have more than one type of note.\"\n",
    "\n",
    "    # Check for note duration\n",
    "    for note in notes:\n",
    "        duration = midi_data.time_to_tick(note.end) - midi_data.time_to_tick(note.start)\n",
    "        if duration > max_note_duration:\n",
    "            return False, \"A note is held for more than the allowed duration.\"\n",
    "\n",
    "    return True, \"The MIDI file meets all criteria.\""
   ]
  },
  {
   "cell_type": "code",
   "execution_count": 113,
   "id": "38cd2df9-04cf-44d6-b576-623f7564e76a",
   "metadata": {},
   "outputs": [
    {
     "data": {
      "text/plain": [
       "90.0"
      ]
     },
     "execution_count": 113,
     "metadata": {},
     "output_type": "execute_result"
    }
   ],
   "source": [
    "piano_roll.max()"
   ]
  },
  {
   "cell_type": "code",
   "execution_count": null,
   "id": "a3440495-454a-409c-8f1e-0f8d5eba418a",
   "metadata": {},
   "outputs": [],
   "source": [
    "import os\n",
    "import pretty_midi\n",
    "\n",
    "def find_midi_files(root_folder, limit=None):\n",
    "    midi_files = []\n",
    "    for subdir, dirs, files in os.walk(root_folder):\n",
    "        for file in files:\n",
    "            if file.lower().endswith(('.mid', '.midi')):\n",
    "                midi_files.append(os.path.join(subdir, file))\n",
    "                if limit is not None and len(midi_files) >= limit:\n",
    "                    return midi_files\n",
    "    return midi_files\n",
    "\n",
    "def process_midi_files(midi_files):\n",
    "    for file_path in midi_files:\n",
    "        # Processing each MIDI file\n",
    "        print(f\"Processing {file_path}\")\n",
    "        valid, message = is_valid_midi(file_path)  # Assuming is_valid_midi is defined\n",
    "        print(message)\n",
    "\n",
    "# Example usage\n",
    "root_folder = 'path_to_your_root_folder'\n",
    "file_limit = 10  # Limit the number of files to process\n",
    "midi_files = find_midi_files(root_folder, limit=file_limit)\n",
    "process_midi_files(midi_files)\n"
   ]
  },
  {
   "cell_type": "code",
   "execution_count": null,
   "id": "06e77841-f7ed-41b1-ac99-9c8be4447342",
   "metadata": {},
   "outputs": [],
   "source": []
  }
 ],
 "metadata": {
  "kernelspec": {
   "display_name": "Python 3 (ipykernel)",
   "language": "python",
   "name": "python3"
  },
  "language_info": {
   "codemirror_mode": {
    "name": "ipython",
    "version": 3
   },
   "file_extension": ".py",
   "mimetype": "text/x-python",
   "name": "python",
   "nbconvert_exporter": "python",
   "pygments_lexer": "ipython3",
   "version": "3.10.9"
  }
 },
 "nbformat": 4,
 "nbformat_minor": 5
}

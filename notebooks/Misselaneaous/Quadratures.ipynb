{
 "cells": [
  {
   "cell_type": "code",
   "execution_count": 6,
   "id": "43b09f99-0bf3-4b5f-ae9f-bdf6b224527a",
   "metadata": {},
   "outputs": [
    {
     "name": "stdout",
     "output_type": "stream",
     "text": [
      "tensor([ 1.9998, -0.1668])\n"
     ]
    }
   ],
   "source": [
    "import torch\n",
    "\n",
    "def integrate_quad_tensor_vec(func, a, b, segments=100):\n",
    "    \"\"\"\n",
    "    Integrate a function using the trapezoidal rule with tensor limits, vectorized.\n",
    "    \n",
    "    Args:\n",
    "    func (callable): The function to integrate. Must accept and return PyTorch tensors.\n",
    "    a (torch.Tensor): The lower limit tensor of integration.\n",
    "    b (torch.Tensor): The upper limit tensor of integration.\n",
    "    segments (int): The number of segments to divide each interval into.\n",
    "\n",
    "    Returns:\n",
    "    torch.Tensor: The result of the integration for each interval.\n",
    "    \"\"\"\n",
    "    # Ensure a and b are tensors and have the same size\n",
    "    a, b = torch.as_tensor(a), torch.as_tensor(b)\n",
    "    if a.size() != b.size():\n",
    "        raise ValueError(\"a and b must have the same size\")\n",
    "\n",
    "    # Create a grid of points for integration\n",
    "    x = torch.linspace(0, 1, steps=segments+1).view(-1, 1)\n",
    "    x = x * (b - a) + a  # Broadcasting to create the grid\n",
    "\n",
    "    # Compute the function values at these points\n",
    "    y = func(x)\n",
    "\n",
    "    # Compute the weights for the trapezoidal rule\n",
    "    h = (b - a) / segments\n",
    "    weights = torch.full((segments + 1, 1), 2.0)  # Adjusted shape for broadcasting\n",
    "    weights[0, 0] = weights[-1, 0] = 1.0\n",
    "\n",
    "    # Perform the integration\n",
    "    results = h/2 * torch.sum(weights * y, dim=0)\n",
    "\n",
    "    return results\n",
    "\n",
    "# Example usage\n",
    "def example_func(x):\n",
    "    return torch.sin(x)\n",
    "\n",
    "# Tensor limits of integration\n",
    "a = torch.tensor([0, 1])\n",
    "b = torch.tensor([torch.pi, torch.pi*.25])\n",
    "\n",
    "result = integrate_quad_tensor_vec(example_func, a, b, 100)\n",
    "print(result)\n"
   ]
  },
  {
   "cell_type": "code",
   "execution_count": 7,
   "id": "7047725c-ee7b-4c16-8ba4-04557059bf0d",
   "metadata": {},
   "outputs": [
    {
     "data": {
      "text/plain": [
       "tensor([ 2.0000, -0.1668])"
      ]
     },
     "execution_count": 7,
     "metadata": {},
     "output_type": "execute_result"
    }
   ],
   "source": [
    "torch.cos(a) - torch.cos(b) "
   ]
  },
  {
   "cell_type": "code",
   "execution_count": null,
   "id": "dac2001d-5171-47f8-9479-55c064ee6bde",
   "metadata": {},
   "outputs": [],
   "source": []
  }
 ],
 "metadata": {
  "kernelspec": {
   "display_name": "Python 3 (ipykernel)",
   "language": "python",
   "name": "python3"
  },
  "language_info": {
   "codemirror_mode": {
    "name": "ipython",
    "version": 3
   },
   "file_extension": ".py",
   "mimetype": "text/x-python",
   "name": "python",
   "nbconvert_exporter": "python",
   "pygments_lexer": "ipython3",
   "version": "3.10.9"
  }
 },
 "nbformat": 4,
 "nbformat_minor": 5
}

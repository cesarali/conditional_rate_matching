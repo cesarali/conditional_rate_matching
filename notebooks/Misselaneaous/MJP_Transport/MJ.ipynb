{
 "cells": [
  {
   "cell_type": "code",
   "execution_count": 113,
   "metadata": {},
   "outputs": [],
   "source": [
    "import os\n",
    "import sys\n",
    "import torch\n",
    "import numpy as np\n",
    "import pandas as pd\n",
    "import torch.nn.functional as F\n",
    "import torch\n",
    "from tqdm import tqdm\n",
    "from typing import Tuple,List\n",
    "\n",
    "import os\n",
    "import imageio\n",
    "from IPython.display import Image\n",
    "import numpy as np\n",
    "\n",
    "from dataclasses import dataclass\n",
    "from matplotlib import pyplot as plt\n",
    "\n",
    "from torch.distributions import (\n",
    "    Exponential,\n",
    "    Categorical, \n",
    "    Dirichlet\n",
    ")"
   ]
  },
  {
   "cell_type": "markdown",
   "metadata": {},
   "source": [
    "# UTILS"
   ]
  },
  {
   "cell_type": "code",
   "execution_count": 50,
   "metadata": {},
   "outputs": [],
   "source": [
    "def states_at_grid(paths_batch, times, time_grid):\n",
    "    \"\"\"\n",
    "    For a simulation of states and times, for each value of the time grid,\n",
    "    assigns the state with the rightmost time to the grid time.\n",
    "\n",
    "    :param times: torch.Tensor(batch_size,number_of_timesteps)\n",
    "    :param paths_batch torch.Tensor(batch_size,number_of_timesteps,number_of_spins):\n",
    "    :param time_grid: torch.Tensor(number_of_timesteps)\n",
    "    :return:\n",
    "    \"\"\"\n",
    "    if len(times.shape) == 3:\n",
    "        times = times.squeeze()\n",
    "\n",
    "    assert torch.all(times[:, 0] == 0.)\n",
    "    assert time_grid[0] == 0.\n",
    "    assert paths_batch.shape[:-1] == times.shape\n",
    "\n",
    "    batch_size = paths_batch.shape[0]\n",
    "    tau = time_grid[1]\n",
    "    time_grid_ = time_grid + tau # arrival is to the left of the box\n",
    "\n",
    "    x = time_grid_[None, None, :] - times[:, :, None]\n",
    "    times_not_allowed = times[:, :, None] > time_grid_[None, None, :]\n",
    "    x[times_not_allowed] = torch.inf\n",
    "    min_indices = torch.argmin(x, axis=1)\n",
    "\n",
    "    arrivals = times[torch.arange(batch_size)[:, None], min_indices]\n",
    "    states_at_arrival = paths_batch[torch.arange(batch_size)[:, None], min_indices, :]\n",
    "\n",
    "    return states_at_arrival,arrivals"
   ]
  },
  {
   "cell_type": "code",
   "execution_count": 51,
   "metadata": {},
   "outputs": [],
   "source": [
    "def count_values_along_time(paths, num_states):\n",
    "    \"\"\"\n",
    "    Count each integer's occurrences at each timestep along the second dimension of a tensor.\n",
    "\n",
    "    Parameters:\n",
    "        paths (torch.Tensor): A 2D tensor of shape (N, T) containing integer values.\n",
    "        num_states (int): The number of distinct states (integer values).\n",
    "\n",
    "    Returns:\n",
    "        torch.Tensor: A 2D tensor of shape (T, num_states) where each row gives the counts\n",
    "                      of each state at that timestep.\n",
    "    \"\"\"\n",
    "    N, T = paths.shape\n",
    "    counts = torch.zeros((T, num_states), dtype=torch.long)\n",
    "\n",
    "    # Process each timestep\n",
    "    for t in range(T):\n",
    "        # Extract the data at timestep t\n",
    "        timestep_data = paths[:, t]\n",
    "        # Count occurrences of each state at this timestep\n",
    "        for state in range(num_states):\n",
    "            counts[t, state] = torch.sum(timestep_data == state)\n",
    "\n",
    "    return counts"
   ]
  },
  {
   "cell_type": "markdown",
   "metadata": {},
   "source": [
    "# Solvers"
   ]
  },
  {
   "cell_type": "code",
   "execution_count": 52,
   "metadata": {},
   "outputs": [],
   "source": [
    "def gillespie(X0,Q,number_of_times=100)->Tuple[torch.Tensor,torch.Tensor]:\n",
    "    \"\"\"\n",
    "    # http://be150.caltech.edu/2019/handouts/12_stochastic_simulation_all_code.html\n",
    "\n",
    "    parameters\n",
    "    ----------\n",
    "\n",
    "    X0: initial conditions\n",
    "    q_rate_function: function -> new_states_available,rates\n",
    "\n",
    "    returns\n",
    "    -------\n",
    "    paths,times\n",
    "    \"\"\"\n",
    "    num_states = Q.size(0)\n",
    "    batch_size = X0.shape[0]\n",
    "\n",
    "    rates_from_Q  = lambda X,Q : Q[X]\n",
    "    Q_r = Q.clone()\n",
    "    Q_r[range(num_states),range(num_states)] = 0\n",
    "\n",
    "    # Initialize process\n",
    "    times = torch.full((batch_size, 1), 0.)\n",
    "    paths = X0.unsqueeze(1)\n",
    "\n",
    "    for time_index in range(number_of_times):\n",
    "        X = paths[:,-1]\n",
    "        current_time = times[:,-1]\n",
    "\n",
    "        # rates and probabilities\n",
    "        rates = rates_from_Q(X, Q_r)\n",
    "        rates_sum = -Q[X,X].squeeze() #diagonal sum to 0\n",
    "        transition_probabilities = rates/rates_sum[:,None]\n",
    "\n",
    "        #times\n",
    "        time_between_events = Exponential(rates_sum).sample()\n",
    "        new_times = current_time + time_between_events\n",
    "\n",
    "        # selects next state\n",
    "        new_states = Categorical(transition_probabilities).sample()\n",
    "\n",
    "        #update paths and times\n",
    "        paths = torch.concatenate([paths,\n",
    "                                   new_states.unsqueeze(1)], dim=1)\n",
    "\n",
    "        times = torch.concatenate([times,\n",
    "                                   new_times.unsqueeze(1)],dim=1)\n",
    "    \n",
    "    return paths,times"
   ]
  },
  {
   "cell_type": "markdown",
   "metadata": {},
   "source": [
    "# Simulation"
   ]
  },
  {
   "cell_type": "code",
   "execution_count": 132,
   "metadata": {},
   "outputs": [],
   "source": [
    "Q1 = torch.Tensor([[-2.,2.,0.],\n",
    "                   [1.,-3.,2.],\n",
    "                   [0.,1.,-1.]])\n",
    "\n",
    "\n",
    "number_of_states = Q1.shape[0]\n",
    "zeros_ = np.zeros(number_of_states)"
   ]
  },
  {
   "cell_type": "code",
   "execution_count": 107,
   "metadata": {},
   "outputs": [
    {
     "data": {
      "text/plain": [
       "array([0.14285714, 0.28571429, 0.57142857])"
      ]
     },
     "execution_count": 107,
     "metadata": {},
     "output_type": "execute_result"
    }
   ],
   "source": [
    "stationary = np.asarray([1./7.,2./7.,4./7.])\n",
    "stationary"
   ]
  },
  {
   "cell_type": "code",
   "execution_count": 141,
   "metadata": {},
   "outputs": [
    {
     "name": "stdout",
     "output_type": "stream",
     "text": [
      "Average final time 1462.34765625\n",
      "Average Interevent 14.6234769821167\n"
     ]
    }
   ],
   "source": [
    "number_of_paths = 3000\n",
    "number_of_times = 100\n",
    "time_scaling = .04\n",
    "\n",
    "Q0 = torch.Tensor([[-2.,2.,0.],\n",
    "                   [1.,-3.,2.],\n",
    "                   [0.,1.,-1.]])\n",
    "Q0 = Q0*time_scaling\n",
    "\n",
    "number_of_states = Q0.shape[0]\n",
    "\n",
    "pi0_prior = Dirichlet(torch.full((number_of_states,),100.))\n",
    "pi_0 = np.asarray([1./3.,1./3.,1./3.])\n",
    "X0 = Categorical(torch.Tensor(pi_0)).sample((number_of_paths,))\n",
    "empirical_histogram_0 = F.one_hot(X0,number_of_states).sum(axis=0)/X0.shape[0]\n",
    "paths0,times0 = gillespie(X0,Q0,number_of_times=number_of_times)\n",
    "\n",
    "av_final_time = (times0[:,1:] - times0[:,:-1]).mean()*number_of_times\n",
    "av_interevent_time = (times0[:,1:] - times0[:,:-1]).mean()\n",
    "\n",
    "print(f\"Average final time {av_final_time}\")\n",
    "print(f\"Average Interevent {av_interevent_time}\")"
   ]
  },
  {
   "cell_type": "code",
   "execution_count": 142,
   "metadata": {},
   "outputs": [],
   "source": [
    "# set everything in a grid\n",
    "time_grid = torch.arange(0,number_of_times,1,dtype=float)\n",
    "paths0_grid,arrivals0 = states_at_grid(paths0.unsqueeze(-1), times0, time_grid)\n",
    "\n",
    "paths0_grid = paths0_grid.squeeze()\n",
    "\n",
    "histograms_on_time_0 = count_values_along_time(paths0_grid, number_of_states)\n",
    "\n",
    "histograms_on_time_0 = histograms_on_time_0/paths0_grid.shape[0]\n",
    "\n",
    "hist_final = histograms_on_time_0[-1]\n",
    "hist_start = histograms_on_time_0[0]"
   ]
  },
  {
   "cell_type": "code",
   "execution_count": 151,
   "metadata": {},
   "outputs": [
    {
     "data": {
      "image/png": "[encoded data removed]",
      "text/plain": [
       "<Figure size 500x300 with 1 Axes>"
      ]
     },
     "metadata": {},
     "output_type": "display_data"
    }
   ],
   "source": [
    "plt.figure(figsize=(5, 3))\n",
    "\n",
    "plt.bar(range(len(stationary)), stationary, color='green',alpha=0.35)\n",
    "#plt.bar(range(len(empirical_histogram_0)), empirical_histogram_0, color='purple',alpha=0.2)\n",
    "#plt.bar(range(len(hist_start)), hist_start, color='orange',alpha=0.2)\n",
    "plt.bar(range(len(hist_final)), hist_final, color='red',alpha=0.2)\n",
    "\n",
    "plt.xlabel('Products')\n",
    "plt.ylabel('Units Sold')\n",
    "plt.title('Sales Data for Products')\n",
    "plt.ylim(0,1)\n",
    "plt.show()"
   ]
  },
  {
   "cell_type": "code",
   "execution_count": null,
   "metadata": {},
   "outputs": [],
   "source": []
  }
 ],
 "metadata": {
  "kernelspec": {
   "display_name": "rate_matching",
   "language": "python",
   "name": "python3"
  },
  "language_info": {
   "codemirror_mode": {
    "name": "ipython",
    "version": 3
   },
   "file_extension": ".py",
   "mimetype": "text/x-python",
   "name": "python",
   "nbconvert_exporter": "python",
   "pygments_lexer": "ipython3",
   "version": "3.10.9"
  }
 },
 "nbformat": 4,
 "nbformat_minor": 2
}

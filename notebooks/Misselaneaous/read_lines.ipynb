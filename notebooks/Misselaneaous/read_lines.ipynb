{
 "cells": [
  {
   "cell_type": "code",
   "execution_count": 1,
   "id": "9f69dc37-e3f0-4305-879b-aade5c8ff923",
   "metadata": {},
   "outputs": [
    {
     "name": "stdout",
     "output_type": "stream",
     "text": [
      "[123, 456, 789]\n"
     ]
    }
   ],
   "source": [
    "import re\n",
    "\n",
    "# Example list of strings\n",
    "strings = [\"checkpoint_4_123.tr\", \"checkpoint_4_456.tr\", \"checkpoint_4_789.tr\", \"other_string.tr\"]\n",
    "\n",
    "# Regular expression pattern to match the strings and capture the numbers\n",
    "pattern = r\"checkpoint_4_(\\d+).tr\"\n",
    "\n",
    "# Extracting numbers from the strings that match the pattern\n",
    "numbers = [int(match.group(1)) for string in strings if (match := re.match(pattern, string))]\n",
    "\n",
    "print(numbers)"
   ]
  },
  {
   "cell_type": "code",
   "execution_count": 14,
   "id": "e9022410-04bd-4b35-ac23-f98eb73f2d09",
   "metadata": {},
   "outputs": [],
   "source": [
    "match = re.match(pattern, strings[0])"
   ]
  },
  {
   "cell_type": "code",
   "execution_count": 15,
   "id": "5380b5d3-6b89-4cec-ba1c-4f74c47465af",
   "metadata": {},
   "outputs": [
    {
     "data": {
      "text/plain": [
       "<re.Match object; span=(0, 19), match='checkpoint_4_123.tr'>"
      ]
     },
     "execution_count": 15,
     "metadata": {},
     "output_type": "execute_result"
    }
   ],
   "source": [
    "match"
   ]
  },
  {
   "cell_type": "code",
   "execution_count": 11,
   "id": "8a4fb8c8-e4e7-4e50-aa16-27c1fb28ec58",
   "metadata": {},
   "outputs": [
    {
     "ename": "AttributeError",
     "evalue": "'NoneType' object has no attribute 'group'",
     "output_type": "error",
     "traceback": [
      "\u001b[1;31m---------------------------------------------------------------------------\u001b[0m",
      "\u001b[1;31mAttributeError\u001b[0m                            Traceback (most recent call last)",
      "Cell \u001b[1;32mIn[11], line 1\u001b[0m\n\u001b[1;32m----> 1\u001b[0m \u001b[38;5;28;43;01mmatch\u001b[39;49;00m\u001b[38;5;241;43m.\u001b[39;49m\u001b[43mgroup\u001b[49m(\u001b[38;5;241m1\u001b[39m)\n",
      "\u001b[1;31mAttributeError\u001b[0m: 'NoneType' object has no attribute 'group'"
     ]
    }
   ],
   "source": [
    "match.group(1)"
   ]
  },
  {
   "cell_type": "code",
   "execution_count": null,
   "id": "a8f9f91c-5fa8-4b18-ad31-2f5c6cfedb0f",
   "metadata": {},
   "outputs": [],
   "source": []
  }
 ],
 "metadata": {
  "kernelspec": {
   "display_name": "Python 3 (ipykernel)",
   "language": "python",
   "name": "python3"
  },
  "language_info": {
   "codemirror_mode": {
    "name": "ipython",
    "version": 3
   },
   "file_extension": ".py",
   "mimetype": "text/x-python",
   "name": "python",
   "nbconvert_exporter": "python",
   "pygments_lexer": "ipython3",
   "version": "3.10.9"
  }
 },
 "nbformat": 4,
 "nbformat_minor": 5
}

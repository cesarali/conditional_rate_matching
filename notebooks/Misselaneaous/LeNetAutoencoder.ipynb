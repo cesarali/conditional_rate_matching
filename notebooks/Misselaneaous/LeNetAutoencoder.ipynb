{
 "cells": [
  {
   "cell_type": "code",
   "execution_count": 12,
   "id": "b9e3ac80-7c99-4e08-86b5-ad8ab617f9df",
   "metadata": {},
   "outputs": [],
   "source": [
    "import torch.nn as nn\n",
    "\n",
    "class LeNet5Autoencoder(nn.Module):\n",
    "    def __init__(self, num_classes):\n",
    "        super(LeNet5Autoencoder, self).__init__()\n",
    "        self.encoder = nn.Sequential(\n",
    "            nn.Conv2d(1, 6, 5, padding=2),\n",
    "            nn.MaxPool2d(2),\n",
    "            nn.ReLU(),\n",
    "            nn.Conv2d(6, 16, 5, padding=2),\n",
    "            nn.MaxPool2d(2),\n",
    "            nn.ReLU()\n",
    "        )\n",
    "\n",
    "        self.decoder = nn.Sequential(\n",
    "            nn.ConvTranspose2d(16, 6, 5, stride=2),\n",
    "            nn.ReLU(),\n",
    "            nn.ConvTranspose2d(6, 1, 5, stride=2),\n",
    "            nn.Sigmoid()\n",
    "        )\n",
    "\n",
    "    def forward(self, x):\n",
    "        x_encoded = self.encoder(x)\n",
    "        x_decoded = self.decoder(x_encoded)\n",
    "        return x_decoded\n",
    "\n",
    "\n"
   ]
  },
  {
   "cell_type": "code",
   "execution_count": 13,
   "id": "2b612e8f-0af4-4eb5-97ed-982448f7456e",
   "metadata": {},
   "outputs": [],
   "source": [
    "autoencoder = LeNet5Autoencoder(10)"
   ]
  },
  {
   "cell_type": "code",
   "execution_count": 14,
   "id": "24cabc22-68a2-49cf-b27e-cd501e91e64c",
   "metadata": {},
   "outputs": [],
   "source": [
    "# Example forward pass with a random tensor\n",
    "input_tensor = torch.randn(128, 1, 28, 28)\n",
    "output = autoencoder(input_tensor)\n"
   ]
  },
  {
   "cell_type": "code",
   "execution_count": 15,
   "id": "b172c6c9-d75e-43c6-b34f-c1c836891a55",
   "metadata": {},
   "outputs": [
    {
     "data": {
      "text/plain": [
       "torch.Size([128, 1, 37, 37])"
      ]
     },
     "execution_count": 15,
     "metadata": {},
     "output_type": "execute_result"
    }
   ],
   "source": [
    "output.shape"
   ]
  },
  {
   "cell_type": "code",
   "execution_count": null,
   "id": "29b00390-0673-447c-a55d-56313725fa82",
   "metadata": {},
   "outputs": [],
   "source": []
  }
 ],
 "metadata": {
  "kernelspec": {
   "display_name": "Python 3 (ipykernel)",
   "language": "python",
   "name": "python3"
  },
  "language_info": {
   "codemirror_mode": {
    "name": "ipython",
    "version": 3
   },
   "file_extension": ".py",
   "mimetype": "text/x-python",
   "name": "python",
   "nbconvert_exporter": "python",
   "pygments_lexer": "ipython3",
   "version": "3.10.9"
  }
 },
 "nbformat": 4,
 "nbformat_minor": 5
}

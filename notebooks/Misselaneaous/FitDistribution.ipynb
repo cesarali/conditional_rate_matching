{
 "cells": [
  {
   "cell_type": "code",
   "execution_count": 1,
   "id": "d995d7e6-0cb2-441a-bdf2-6b1279491fcc",
   "metadata": {},
   "outputs": [
    {
     "name": "stdout",
     "output_type": "stream",
     "text": [
      "Location = 4.790020599878706, Scale = 3.036223811565361\n"
     ]
    }
   ],
   "source": [
    "import numpy as np\n",
    "from scipy.stats import cauchy\n",
    "\n",
    "# Generate some data points\n",
    "np.random.seed(0)\n",
    "data = cauchy.rvs(loc=5, scale=3, size=1000)\n",
    "\n",
    "# Fit the data to a Cauchy distribution\n",
    "params = cauchy.fit(data)\n",
    "\n",
    "print(f\"Location = {params[0]}, Scale = {params[1]}\")\n"
   ]
  }
 ],
 "metadata": {
  "kernelspec": {
   "display_name": "Python 3 (ipykernel)",
   "language": "python",
   "name": "python3"
  },
  "language_info": {
   "codemirror_mode": {
    "name": "ipython",
    "version": 3
   },
   "file_extension": ".py",
   "mimetype": "text/x-python",
   "name": "python",
   "nbconvert_exporter": "python",
   "pygments_lexer": "ipython3",
   "version": "3.10.9"
  }
 },
 "nbformat": 4,
 "nbformat_minor": 5
}

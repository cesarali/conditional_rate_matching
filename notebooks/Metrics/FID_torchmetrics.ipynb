{
 "cells": [
  {
   "cell_type": "code",
   "execution_count": 8,
   "id": "1108fc89-1579-46b2-8c4c-de15dabc3661",
   "metadata": {},
   "outputs": [],
   "source": [
    "import torch\n",
    "_ = torch.manual_seed(123)\n",
    "from torchmetrics.image.fid import FrechetInceptionDistance\n",
    "fid = FrechetInceptionDistance(feature=64)"
   ]
  },
  {
   "cell_type": "code",
   "execution_count": 9,
   "id": "0dccd876-19e5-43f8-ad50-efa8d4d3a9d7",
   "metadata": {},
   "outputs": [],
   "source": [
    "# generate two slightly overlapping image intensity distributions\n",
    "imgs_dist1 = torch.randint(0, 200, (100, 3, 299, 299), dtype=torch.uint8)\n",
    "imgs_dist2 = torch.randint(100, 255, (100, 3, 299, 299), dtype=torch.uint8)"
   ]
  },
  {
   "cell_type": "code",
   "execution_count": 11,
   "id": "9a912303-b2ef-4459-8fca-ba4f11ce2b76",
   "metadata": {},
   "outputs": [
    {
     "data": {
      "text/plain": [
       "torch.Size([100, 3, 299, 299])"
      ]
     },
     "execution_count": 11,
     "metadata": {},
     "output_type": "execute_result"
    }
   ],
   "source": [
    "imgs_dist1.shape"
   ]
  },
  {
   "cell_type": "code",
   "execution_count": 12,
   "id": "353125c2-61f3-49a1-bf39-fc8876690339",
   "metadata": {},
   "outputs": [
    {
     "data": {
      "text/plain": [
       "tensor(12.7202)"
      ]
     },
     "execution_count": 12,
     "metadata": {},
     "output_type": "execute_result"
    }
   ],
   "source": [
    "fid.update(imgs_dist1, real=True)\n",
    "fid.update(imgs_dist2, real=False)\n",
    "fid.compute()"
   ]
  },
  {
   "cell_type": "code",
   "execution_count": 7,
   "id": "51d68e17-5b6a-4a92-bfa0-b31e7c0ee258",
   "metadata": {},
   "outputs": [],
   "source": [
    "from torchvision.transforms import functional as Fv\n",
    "\n",
    "def preprocess_image(image):\n",
    "    image = image.permute(0, 3, 1, 2) / 255.0\n",
    "    return Fv.center_crop(image, (256, 256))"
   ]
  },
  {
   "cell_type": "code",
   "execution_count": null,
   "id": "645a2504-aa08-4f72-a3b2-7666729f7081",
   "metadata": {},
   "outputs": [],
   "source": []
  }
 ],
 "metadata": {
  "kernelspec": {
   "display_name": "Python 3 (ipykernel)",
   "language": "python",
   "name": "python3"
  },
  "language_info": {
   "codemirror_mode": {
    "name": "ipython",
    "version": 3
   },
   "file_extension": ".py",
   "mimetype": "text/x-python",
   "name": "python",
   "nbconvert_exporter": "python",
   "pygments_lexer": "ipython3",
   "version": "3.10.9"
  }
 },
 "nbformat": 4,
 "nbformat_minor": 5
}

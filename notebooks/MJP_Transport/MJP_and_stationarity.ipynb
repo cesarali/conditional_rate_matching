{
 "cells": [
  {
   "cell_type": "markdown",
   "metadata": {},
   "source": [
    "# Simulate MJP"
   ]
  },
  {
   "cell_type": "code",
   "execution_count": 393,
   "metadata": {},
   "outputs": [],
   "source": [
    "import os\n",
    "import sys\n",
    "import torch\n",
    "import numpy as np\n",
    "import pandas as pd\n",
    "\n",
    "import torch\n",
    "import torch.nn.functional as F\n",
    "from tqdm import tqdm\n",
    "from typing import Tuple,List\n",
    "\n",
    "import os\n",
    "import imageio\n",
    "from IPython.display import Image\n",
    "import numpy as np\n",
    "\n",
    "from dataclasses import dataclass\n",
    "from matplotlib import pyplot as plt\n",
    "\n",
    "from torch.distributions import (\n",
    "    Exponential,\n",
    "    Categorical, \n",
    "    Dirichlet\n",
    ")"
   ]
  },
  {
   "cell_type": "markdown",
   "metadata": {},
   "source": [
    "# Utils"
   ]
  },
  {
   "cell_type": "code",
   "execution_count": 136,
   "metadata": {},
   "outputs": [],
   "source": [
    "def create_gif_histograms(histograms0,\n",
    "                          histograms1=None,\n",
    "                          stationary_0=None,\n",
    "                          stationary_1=None,\n",
    "                          filenapath='histogram_animation.gif',\n",
    "                          duration=1.):\n",
    "    \"\"\"\n",
    "    List of histograms\n",
    "\n",
    "    \"\"\"\n",
    "    # Generate the frames for the GIF\n",
    "    if histograms1 is not None:\n",
    "        assert histograms1.shape[1] == histograms0.shape[1]\n",
    "\n",
    "    filenames = []\n",
    "    for i, hist in enumerate(histograms0):\n",
    "        plt.figure(figsize=(8, 6))\n",
    "\n",
    "        # OLD\n",
    "        plt.bar(range(len(hist)), hist, color='blue',alpha=0.3)\n",
    "        if histograms1 is not None:\n",
    "            hist1 = histograms1[i]\n",
    "            plt.bar(range(len(hist1)), hist1, color='red',alpha=0.3)\n",
    "\n",
    "        # NEW\n",
    "        \"\"\"\n",
    "        fig, axs = plt.subplots(nrows=1,ncols=2,figsize=(12, 3))\n",
    "\n",
    "        stationary_0_ = stationary_0.squeeze().detach().numpy()\n",
    "        stationary_1_ = stationary_1.squeeze().detach().numpy()\n",
    "\n",
    "        axs[0].bar(range(len(hist0)), hist0, color='blue',alpha=0.3,label=\"sim\")\n",
    "        axs[0].bar(range(len( stationary_0_)), stationary_0_, color='green',alpha=0.3,label=\"exp\")\n",
    "        axs[0].set_ylim(0,1)\n",
    "        axs[0].legend(loc=\"best\")\n",
    "\n",
    "        axs[1].bar(range(len(hist1)), hist1, color='red',alpha=0.3,label=\"sim\")\n",
    "        axs[1].bar(range(len( stationary_1_)), stationary_1_,color='green',alpha=0.3,label=\"exp\")\n",
    "        axs[1].set_ylim(0,1)\n",
    "        axs[1].legend(loc=\"best\")\n",
    "        plt.show()\n",
    "        \"\"\"\n",
    "\n",
    "        plt.title(f'Normalized Histogram - Frame {i+1}')\n",
    "        plt.ylim(0, 1)  # Ensure consistent scale across all frames\n",
    "\n",
    "        # Save each frame to a file\n",
    "        filename = f'hist_frame_{i}.png'\n",
    "        plt.savefig(filename)\n",
    "        plt.close()\n",
    "        filenames.append(filename)\n",
    "\n",
    "    # Create a GIF from the frames\n",
    "    with imageio.get_writer(filenapath, mode='I', duration=duration) as writer:\n",
    "        for filename in filenames:\n",
    "            image = imageio.imread(filename)\n",
    "            writer.append_data(image)\n",
    "\n",
    "    # Optionally clean up the individual frame files\n",
    "    for filename in filenames:\n",
    "        os.remove(filename)\n",
    "\n",
    "    # Display the GIF in the Jupyter Notebook\n",
    "    Image(filename=filenapath)"
   ]
  },
  {
   "cell_type": "code",
   "execution_count": 3,
   "metadata": {},
   "outputs": [],
   "source": [
    "def states_at_grid(paths_batch, times, time_grid):\n",
    "    \"\"\"\n",
    "    For a simulation of states and times, for each value of the time grid,\n",
    "    assigns the state with the rightmost time to the grid time.\n",
    "\n",
    "    :param times: torch.Tensor(batch_size,number_of_timesteps)\n",
    "    :param paths_batch torch.Tensor(batch_size,number_of_timesteps,number_of_spins):\n",
    "    :param time_grid: torch.Tensor(number_of_timesteps)\n",
    "    :return:\n",
    "    \"\"\"\n",
    "    if len(times.shape) == 3:\n",
    "        times = times.squeeze()\n",
    "\n",
    "    assert torch.all(times[:, 0] == 0.)\n",
    "    assert time_grid[0] == 0.\n",
    "    assert paths_batch.shape[:-1] == times.shape\n",
    "\n",
    "    batch_size = paths_batch.shape[0]\n",
    "    tau = time_grid[1]\n",
    "    time_grid_ = time_grid + tau # arrival is to the left of the box\n",
    "\n",
    "    x = time_grid_[None, None, :] - times[:, :, None]\n",
    "    times_not_allowed = times[:, :, None] > time_grid_[None, None, :]\n",
    "    x[times_not_allowed] = torch.inf\n",
    "    min_indices = torch.argmin(x, axis=1)\n",
    "\n",
    "    arrivals = times[torch.arange(batch_size)[:, None], min_indices]\n",
    "    states_at_arrival = paths_batch[torch.arange(batch_size)[:, None], min_indices, :]\n",
    "\n",
    "    return states_at_arrival,arrivals"
   ]
  },
  {
   "cell_type": "code",
   "execution_count": 4,
   "metadata": {},
   "outputs": [],
   "source": [
    "def choose_new_states(new_states_available,which_state_to_take):\n",
    "    \"\"\"\n",
    "    selects from available according to which_state_to_take \n",
    "\n",
    "    parameters\n",
    "    ----------\n",
    "    new_states_available: (number_of_paths,dimension,number_of_new_possible)\n",
    "    which_state_to_take :(number_of_paths) \\in [0,number_of_new_possible]\n",
    "\n",
    "    returns\n",
    "    -------\n",
    "    new_states: (number_of_paths,dimension)\n",
    "    \"\"\"\n",
    "    # Assuming N, D, and number_of_states are defined\n",
    "    N = new_states_available.size(0)  # example value\n",
    "    D = new_states_available.size(1)   # example value\n",
    "    # To use selected_index to index X, we need to unsqueeze it to make it broadcastable\n",
    "    which_state_to_take = which_state_to_take.unsqueeze(-1).expand(N, D)  # Shape (N, D)\n",
    "    # Now, gather the elements. We want to gather along the last dimension\n",
    "    new_states = torch.gather(new_states_available, 2, which_state_to_take.unsqueeze(2)).squeeze(2)  # Use unsqueeze to match the gather requirement and squeeze to drop the extra dimension\n",
    "    \n",
    "    return new_states"
   ]
  },
  {
   "cell_type": "code",
   "execution_count": 5,
   "metadata": {},
   "outputs": [],
   "source": [
    "def count_values_along_time(paths, num_states):\n",
    "    \"\"\"\n",
    "    Count each integer's occurrences at each timestep along the second dimension of a tensor.\n",
    "\n",
    "    Parameters:\n",
    "        paths (torch.Tensor): A 2D tensor of shape (N, T) containing integer values.\n",
    "        num_states (int): The number of distinct states (integer values).\n",
    "\n",
    "    Returns:\n",
    "        torch.Tensor: A 2D tensor of shape (T, num_states) where each row gives the counts\n",
    "                      of each state at that timestep.\n",
    "    \"\"\"\n",
    "    N, T = paths.shape\n",
    "    counts = torch.zeros((T, num_states), dtype=torch.long)\n",
    "\n",
    "    # Process each timestep\n",
    "    for t in range(T):\n",
    "        # Extract the data at timestep t\n",
    "        timestep_data = paths[:, t]\n",
    "        # Count occurrences of each state at this timestep\n",
    "        for state in range(num_states):\n",
    "            counts[t, state] = torch.sum(timestep_data == state)\n",
    "\n",
    "    return counts"
   ]
  },
  {
   "cell_type": "markdown",
   "metadata": {},
   "source": [
    "# Find Q"
   ]
  },
  {
   "cell_type": "code",
   "execution_count": 306,
   "metadata": {},
   "outputs": [],
   "source": [
    "import torch\n",
    "from torch import nn\n",
    "import torch.optim as optim\n",
    "\n",
    "class TrainableQ(nn.Module):\n",
    "    def __init__(self, size, rate):\n",
    "        super(TrainableQ, self).__init__()\n",
    "        self.size = size\n",
    "        self.rate = rate\n",
    "        \n",
    "        # Compute indices for off-diagonal elements\n",
    "        rows, cols = torch.triu_indices(size, size, offset=1)\n",
    "        indexes = torch.arange(0,size,1)\n",
    "\n",
    "        self.register_buffer('row_indices', rows)\n",
    "        self.register_buffer('col_indices', cols)\n",
    "        self.register_buffer('indexes',indexes)\n",
    "        \n",
    "        # Initialize off-diagonal elements as trainable parameters from an exponential distribution\n",
    "        initial_values = torch.distributions.Exponential(rate).sample((rows.size(0) * 2,))\n",
    "        self.off_diagonal_elements = nn.Parameter(initial_values)\n",
    "\n",
    "    def forward(self):\n",
    "        # Initialize a zero matrix\n",
    "        matrix = torch.zeros(self.size, self.size, device=self.off_diagonal_elements.device)\n",
    "        \n",
    "        # Apply relu to ensure off-diagonal elements are positive\n",
    "        positive_off_diagonals = torch.relu(self.off_diagonal_elements) + 1e-2\n",
    "\n",
    "        # Fill the off-diagonal elements\n",
    "        matrix[self.row_indices, self.col_indices] = positive_off_diagonals[:self.row_indices.size(0)]\n",
    "        matrix[self.col_indices, self.row_indices] = positive_off_diagonals[self.row_indices.size(0):]\n",
    "        \n",
    "        # Fill the diagonal\n",
    "        matrix[self.indexes, self.indexes] = -matrix.sum(axis=1)\n",
    "        return matrix\n",
    "\n",
    "def obtain_Q(pi_0,lambda_ = 1.,num_epochs = 5000,lr=0.05,verbose=False):\n",
    "    pi_0 = pi_0.squeeze()\n",
    "    N = pi_0.shape[0]\n",
    "    pi_0 = pi_0.unsqueeze(0)\n",
    "\n",
    "    Q =  TrainableQ(N,lambda_)\n",
    "    # Setup optimizer\n",
    "    optimizer = optim.Adam(Q.parameters(), lr=lr)\n",
    "    zeros = torch.zeros(N)  # Target is a zero vector\n",
    "    # Training loop\n",
    "    \n",
    "    for epoch in range(num_epochs):\n",
    "        optimizer.zero_grad()\n",
    "        \n",
    "        # Forward pass\n",
    "        matrix = Q()\n",
    "        output = torch.matmul(pi_0,matrix)\n",
    "        \n",
    "        # Compute loss (MSE Loss)\n",
    "        loss = torch.nn.functional.mse_loss(output, zeros)\n",
    "        \n",
    "        # Backward pass and optimize\n",
    "        loss.backward()\n",
    "        optimizer.step()\n",
    "        if verbose:\n",
    "            if epoch % 100 == 0:\n",
    "                print(f'Epoch {epoch}, Loss: {loss.item()}')\n",
    "\n",
    "    return Q().detach()\n",
    "\n",
    "def rescale_time(Q0,times_in_one=100.):\n",
    "    N = Q0.shape[0]\n",
    "    R0 = Q0.clone()\n",
    "    R0[range(N),range(N)] = torch.zeros(N,)\n",
    "    min_r0 = R0.sum(axis=1).min()\n",
    "    scale_0 = times_in_one/min_r0\n",
    "    Q0 = Q0*scale_0\n",
    "    return Q0"
   ]
  },
  {
   "cell_type": "markdown",
   "metadata": {},
   "source": [
    "# SOLVERS"
   ]
  },
  {
   "cell_type": "code",
   "execution_count": 412,
   "metadata": {},
   "outputs": [],
   "source": [
    "def gillespie(X0,Q,T=1.,max_iter=100)->Tuple[torch.Tensor,torch.Tensor]:\n",
    "    \"\"\"\n",
    "    # http://be150.caltech.edu/2019/handouts/12_stochastic_simulation_all_code.html\n",
    "\n",
    "    parameters\n",
    "    ----------\n",
    "\n",
    "    X0: initial conditions\n",
    "    q_rate_function: function -> new_states_available,rates\n",
    "\n",
    "    returns\n",
    "    -------\n",
    "    paths,times\n",
    "    \"\"\"\n",
    "    num_states = Q.size(0)\n",
    "    batch_size = X0.shape[0]\n",
    "\n",
    "    rates_from_Q  = lambda X,Q : Q[X]\n",
    "    Q_r = Q.clone()\n",
    "    Q_r[range(num_states),range(num_states)] = 0\n",
    "\n",
    "    # Initialize process\n",
    "    times = torch.full((batch_size, 1), 0.)\n",
    "    paths = X0.unsqueeze(1)\n",
    "\n",
    "    iter = 0\n",
    "    while torch.any(times[:,-1] < T):\n",
    "        X = paths[:,-1]\n",
    "        current_time = times[:,-1]\n",
    "\n",
    "        # rates and probabilities\n",
    "        rates = rates_from_Q(X, Q_r)\n",
    "        rates_sum = -Q[X,X].squeeze() #diagonal sum to 0\n",
    "        transition_probabilities = rates/rates_sum[:,None]\n",
    "\n",
    "        #times\n",
    "        time_between_events = Exponential(rates_sum).sample()\n",
    "        new_times = current_time + time_between_events\n",
    "\n",
    "        # selects next state\n",
    "        new_states = Categorical(transition_probabilities).sample()\n",
    "\n",
    "        #update paths and times\n",
    "        paths = torch.concatenate([paths,\n",
    "                                   new_states.unsqueeze(1)], dim=1)\n",
    "\n",
    "        times = torch.concatenate([times,\n",
    "                                   new_times.unsqueeze(1)],dim=1)\n",
    "        \n",
    "        iter+=1\n",
    "        if iter > max_iter:\n",
    "            break\n",
    "    return paths,times"
   ]
  },
  {
   "cell_type": "markdown",
   "metadata": {},
   "source": [
    "# Simulate Q"
   ]
  },
  {
   "cell_type": "code",
   "execution_count": 307,
   "metadata": {},
   "outputs": [],
   "source": [
    "N = 3\n",
    "alpha = 0.2\n",
    "dirichlet_alpha = torch.full((N,),alpha)\n",
    "stationary_0 = Dirichlet(dirichlet_alpha).sample((1,)).T\n",
    "stationary_1 = Dirichlet(dirichlet_alpha).sample((1,)).T"
   ]
  },
  {
   "cell_type": "code",
   "execution_count": 387,
   "metadata": {},
   "outputs": [
    {
     "data": {
      "image/png": "[encoded data removed]",
      "text/plain": [
       "<Figure size 1200x300 with 2 Axes>"
      ]
     },
     "metadata": {},
     "output_type": "display_data"
    }
   ],
   "source": [
    "fig, axs = plt.subplots(nrows=1,ncols=2,figsize=(12, 3))\n",
    "\n",
    "#stationary_1 = stationary_0.flip(dims=[0])\n",
    "#stationary_0 = stationary_1.flip(dims=[0])\n",
    "\n",
    "stationary_0_ = stationary_0.squeeze().detach().numpy()\n",
    "stationary_1_ = stationary_1.squeeze().detach().numpy()\n",
    "\n",
    "axs[0].bar(range(len( stationary_0_)), stationary_0_, color='red',alpha=0.3,label=\"exp\")\n",
    "axs[0].set_ylim(0,1)\n",
    "axs[0].legend(loc=\"best\")\n",
    "\n",
    "axs[1].bar(range(len( stationary_1_)), stationary_1_,color='red',alpha=0.3,label=\"exp\")\n",
    "axs[1].set_ylim(0,1)\n",
    "axs[1].legend(loc=\"best\")\n",
    "plt.show()"
   ]
  },
  {
   "cell_type": "code",
   "execution_count": 406,
   "metadata": {},
   "outputs": [
    {
     "name": "stderr",
     "output_type": "stream",
     "text": [
      "C:\\Users\\cesar\\AppData\\Local\\Temp\\ipykernel_7588\\2805406258.py:57: UserWarning: Using a target size (torch.Size([3])) that is different to the input size (torch.Size([1, 3])). This will likely lead to incorrect results due to broadcasting. Please ensure they have the same size.\n",
      "  loss = torch.nn.functional.mse_loss(output, zeros)\n"
     ]
    },
    {
     "name": "stdout",
     "output_type": "stream",
     "text": [
      "tensor([[-2.8143e-09, -1.3923e-09,  5.6940e-09]])\n",
      "tensor([[-2.0923e-10,  8.1165e-10,  1.9931e-10]])\n"
     ]
    }
   ],
   "source": [
    "Q0 = obtain_Q(stationary_0.T,lambda_ = 1.,num_epochs=5000,lr=0.1)\n",
    "Q1 = obtain_Q(stationary_1.T,lambda_ = 1.,num_epochs=5000,lr=0.05)\n",
    "\n",
    "Q0_= Q0\n",
    "Q1_= Q1\n",
    "\n",
    "print(torch.matmul(stationary_0.T,Q0))\n",
    "print(torch.matmul(stationary_1.T,Q1))"
   ]
  },
  {
   "cell_type": "code",
   "execution_count": 355,
   "metadata": {},
   "outputs": [
    {
     "name": "stdout",
     "output_type": "stream",
     "text": [
      "tensor([[ 3.4547e-05,  8.0137e-05, -8.1965e-05]])\n",
      "tensor([[-1.8116e-05,  1.7166e-04, -2.2529e-05]])\n"
     ]
    }
   ],
   "source": [
    "Q0_= rescale_time(Q0,times_in_one=1500.)\n",
    "Q1_= rescale_time(Q1,times_in_one=1500.)\n",
    "\n",
    "print(torch.matmul(stationary_0.T,Q0_))\n",
    "print(torch.matmul(stationary_1.T,Q1_))"
   ]
  },
  {
   "cell_type": "code",
   "execution_count": 408,
   "metadata": {},
   "outputs": [],
   "source": [
    "number_of_paths = 400 \n",
    "number_of_times = 100\n",
    "N = Q0.shape[0]\n",
    "\n",
    "pi_0 = torch.ones((N,))/N\n",
    "alpha_prior = torch.full((N,),0.1)\n",
    "pi_0 = Dirichlet(alpha_prior).sample((1,)).squeeze()\n",
    "\n",
    "X0 = Categorical(torch.Tensor(stationary_0.squeeze())).sample((number_of_paths,))"
   ]
  },
  {
   "cell_type": "code",
   "execution_count": 424,
   "metadata": {},
   "outputs": [],
   "source": [
    "T = 10000.\n",
    "paths0,times0 = gillespie(X0,Q0_,T=T)\n",
    "paths1,times1 = gillespie(X0,Q1_,T=T)"
   ]
  },
  {
   "cell_type": "code",
   "execution_count": 425,
   "metadata": {},
   "outputs": [
    {
     "data": {
      "text/plain": [
       "torch.Size([400, 102])"
      ]
     },
     "execution_count": 425,
     "metadata": {},
     "output_type": "execute_result"
    }
   ],
   "source": [
    "times0.shape"
   ]
  },
  {
   "cell_type": "code",
   "execution_count": 426,
   "metadata": {},
   "outputs": [
    {
     "data": {
      "text/plain": [
       "torch.Size([400, 102])"
      ]
     },
     "execution_count": 426,
     "metadata": {},
     "output_type": "execute_result"
    }
   ],
   "source": [
    "times1.shape"
   ]
  },
  {
   "cell_type": "code",
   "execution_count": 427,
   "metadata": {},
   "outputs": [],
   "source": [
    "# set everything in a grid\n",
    "time_grid = torch.linspace(0.,T,number_of_times)\n",
    "paths0_grid,arrivals0 = states_at_grid(paths0.unsqueeze(-1), times0, time_grid)\n",
    "paths1_grid,arrivals1 = states_at_grid(paths1.unsqueeze(-1), times1, time_grid)\n",
    "\n",
    "paths0_grid = paths0_grid.squeeze()\n",
    "paths1_grid = paths1_grid.squeeze()\n",
    "\n",
    "histograms_on_time_0 = count_values_along_time(paths0_grid, N)\n",
    "histograms_on_time_1 = count_values_along_time(paths1_grid, N)\n",
    "\n",
    "histograms_on_time_0 = histograms_on_time_0/paths0_grid.shape[0]\n",
    "histograms_on_time_1 = histograms_on_time_1/paths1_grid.shape[0]"
   ]
  },
  {
   "cell_type": "code",
   "execution_count": 453,
   "metadata": {},
   "outputs": [
    {
     "name": "stdout",
     "output_type": "stream",
     "text": [
      "tensor([0.4350, 0.0275, 0.5375])\n",
      "tensor(1.)\n",
      "tensor([0.4675, 0.0275, 0.5050])\n",
      "tensor(1.)\n"
     ]
    }
   ],
   "source": [
    "time_index = 1\n",
    "\n",
    "hist0 = F.one_hot(paths0[:,time_index],N).sum(axis=0)\n",
    "hist0 = hist0/paths0.shape[0]\n",
    "\n",
    "hist1 = F.one_hot(paths1[:,time_index],N).sum(axis=0)\n",
    "hist1 = hist1/paths1.shape[0]\n",
    "\n",
    "print(hist0)\n",
    "print(hist0.sum())\n",
    "print(hist1)\n",
    "print(hist1.sum())"
   ]
  },
  {
   "cell_type": "code",
   "execution_count": 454,
   "metadata": {},
   "outputs": [
    {
     "data": {
      "image/png": "[encoded data removed]",
      "text/plain": [
       "<Figure size 1200x300 with 2 Axes>"
      ]
     },
     "metadata": {},
     "output_type": "display_data"
    }
   ],
   "source": [
    "fig, axs = plt.subplots(nrows=1,ncols=2,figsize=(12, 3))\n",
    "\n",
    "stationary_0_ = stationary_0.squeeze().detach().numpy()\n",
    "stationary_1_ = stationary_1.squeeze().detach().numpy()\n",
    "\n",
    "axs[0].bar(range(len(hist0)), hist0, color='blue',alpha=0.3,label=\"sim\")\n",
    "axs[0].bar(range(len( stationary_0_)), stationary_0_, color='green',alpha=0.3,label=\"exp\")\n",
    "axs[0].set_ylim(0,1)\n",
    "axs[0].legend(loc=\"best\")\n",
    "\n",
    "axs[1].bar(range(len(hist1)), hist1, color='red',alpha=0.3,label=\"sim\")\n",
    "axs[1].bar(range(len( stationary_1_)), stationary_1_,color='green',alpha=0.3,label=\"exp\")\n",
    "axs[1].set_ylim(0,1)\n",
    "axs[1].legend(loc=\"best\")\n",
    "plt.show()"
   ]
  },
  {
   "cell_type": "code",
   "execution_count": 458,
   "metadata": {},
   "outputs": [
    {
     "data": {
      "text/plain": [
       "tensor([[-0.3252,  0.3152,  0.0100],\n",
       "        [ 0.0100, -0.0200,  0.0100],\n",
       "        [ 0.0100,  3.2367, -3.2467]])"
      ]
     },
     "execution_count": 458,
     "metadata": {},
     "output_type": "execute_result"
    }
   ],
   "source": [
    "Q0"
   ]
  },
  {
   "cell_type": "code",
   "execution_count": 372,
   "metadata": {},
   "outputs": [
    {
     "data": {
      "text/plain": [
       "tensor([0.0275, 0.9675, 0.0050])"
      ]
     },
     "execution_count": 372,
     "metadata": {},
     "output_type": "execute_result"
    }
   ],
   "source": [
    "hist0"
   ]
  },
  {
   "cell_type": "code",
   "execution_count": 366,
   "metadata": {},
   "outputs": [
    {
     "data": {
      "text/plain": [
       "[0, 1, 2]"
      ]
     },
     "execution_count": 366,
     "metadata": {},
     "output_type": "execute_result"
    }
   ],
   "source": [
    "list(range(len(hist1)))"
   ]
  },
  {
   "cell_type": "code",
   "execution_count": 363,
   "metadata": {},
   "outputs": [
    {
     "data": {
      "text/plain": [
       "tensor([[0.0298],\n",
       "        [0.9671],\n",
       "        [0.0031]])"
      ]
     },
     "execution_count": 363,
     "metadata": {},
     "output_type": "execute_result"
    }
   ],
   "source": [
    "stationary_0"
   ]
  },
  {
   "cell_type": "code",
   "execution_count": 364,
   "metadata": {},
   "outputs": [
    {
     "data": {
      "text/plain": [
       "tensor([[0.0031],\n",
       "        [0.9671],\n",
       "        [0.0298]])"
      ]
     },
     "execution_count": 364,
     "metadata": {},
     "output_type": "execute_result"
    }
   ],
   "source": [
    "stationary_1"
   ]
  },
  {
   "cell_type": "code",
   "execution_count": 151,
   "metadata": {},
   "outputs": [
    {
     "name": "stderr",
     "output_type": "stream",
     "text": [
      "C:\\Users\\cesar\\AppData\\Local\\Temp\\ipykernel_7588\\786166944.py:56: DeprecationWarning: Starting with ImageIO v3 the behavior of this function will switch to that of iio.v3.imread. To keep the current behavior (and make this warning disappear) use `import imageio.v2 as imageio` or call `imageio.v2.imread` directly.\n",
      "  image = imageio.imread(filename)\n"
     ]
    }
   ],
   "source": [
    "create_gif_histograms(histograms_on_time_0,histograms_on_time_1)"
   ]
  },
  {
   "cell_type": "code",
   "execution_count": null,
   "metadata": {},
   "outputs": [
    {
     "name": "stdout",
     "output_type": "stream",
     "text": [
      "tensor([0.0000, 0.2767, 0.5267, 0.0000, 0.1967])\n",
      "tensor([0.0067, 0.3300, 0.2000, 0.0933, 0.3700])\n"
     ]
    }
   ],
   "source": [
    "print(histograms_on_time_0[-1])\n",
    "print(histograms_on_time_1[-1])"
   ]
  },
  {
   "cell_type": "code",
   "execution_count": null,
   "metadata": {},
   "outputs": [
    {
     "name": "stdout",
     "output_type": "stream",
     "text": [
      "tensor([0.2133, 0.0633, 0.2133, 0.2667, 0.2433])\n",
      "tensor([0.2333, 0.1267, 0.0467, 0.2700, 0.3233])\n"
     ]
    }
   ],
   "source": [
    "print(histograms_on_time_0[0])\n",
    "print(histograms_on_time_1[0])"
   ]
  },
  {
   "cell_type": "markdown",
   "metadata": {},
   "source": [
    "# OPTIMAL TRANSPORT"
   ]
  },
  {
   "cell_type": "code",
   "execution_count": null,
   "metadata": {},
   "outputs": [],
   "source": [
    "import numpy as np\n",
    "import matplotlib.pyplot as plt\n",
    "import ot  # Import Python Optimal Transport library"
   ]
  },
  {
   "cell_type": "code",
   "execution_count": null,
   "metadata": {},
   "outputs": [],
   "source": [
    "def solve_regularized_transport(histogram_a,histogram_b):\n",
    "    # Setting up the distributions\n",
    "    # Uniform distribution of 10 points from 0 to 1\n",
    "    n_points = histogram_a.shape[0]\n",
    "\n",
    "    # Generate positions for each point in the distributions\n",
    "    x = np.linspace(0, 1, n_points).reshape(-1, 1)  # Positions for a\n",
    "    y = np.linspace(0, 1, n_points).reshape(-1, 1)  # Positions for b\n",
    "\n",
    "    # Cost matrix: Euclidean distance\n",
    "    C = ot.dist(x, y)\n",
    "    C = C / C.max()  # Normalize cost for stability\n",
    "\n",
    "    # Regularization parameter\n",
    "    lambda_reg = 0.1  # Small lambda means more regularization\n",
    "\n",
    "    # Solve the regularized optimal transport problem using Sinkhorn algorithm\n",
    "    P = ot.sinkhorn(histogram_a, histogram_b, C, lambda_reg,numItermax=1000)\n",
    "\n",
    "    # Compute the actual transport distance\n",
    "    transport_distance = np.sum(P * C)  # Dot product of P and C\n",
    "    \n",
    "    return C,P,transport_distance"
   ]
  },
  {
   "cell_type": "code",
   "execution_count": null,
   "metadata": {},
   "outputs": [],
   "source": [
    "def get_trasport_over_time(histograms_on_time_0,histograms_on_time_1):\n",
    "    number_of_time_steps = histograms_on_time_0.shape[0]\n",
    "    transport_cost_over_time = torch.zeros(number_of_time_steps)\n",
    "\n",
    "    for time_index in range(number_of_time_steps):\n",
    "        histogram_a = histograms_on_time_0[time_index].numpy()\n",
    "        histogram_b = histograms_on_time_1[time_index].numpy()\n",
    "        C,P,transport_distance = solve_regularized_transport(histogram_a,histogram_b)\n",
    "        transport_cost_over_time[time_index] = transport_distance\n",
    "\n",
    "    return transport_cost_over_time"
   ]
  },
  {
   "cell_type": "markdown",
   "metadata": {},
   "source": []
  },
  {
   "cell_type": "code",
   "execution_count": null,
   "metadata": {},
   "outputs": [
    {
     "name": "stdout",
     "output_type": "stream",
     "text": [
      "Tau: 0.0\n"
     ]
    },
    {
     "name": "stderr",
     "output_type": "stream",
     "text": [
      "c:\\Users\\cesar\\anaconda4\\envs\\rate_matching\\lib\\site-packages\\ot\\bregman\\_sinkhorn.py:499: RuntimeWarning: overflow encountered in divide\n",
      "  u = 1. / nx.dot(Kp, v)\n",
      "c:\\Users\\cesar\\anaconda4\\envs\\rate_matching\\lib\\site-packages\\ot\\bregman\\_sinkhorn.py:506: UserWarning: Warning: numerical errors at iteration 124\n",
      "  warnings.warn('Warning: numerical errors at iteration %d' % ii)\n"
     ]
    },
    {
     "name": "stdout",
     "output_type": "stream",
     "text": [
      "tensor(13.7929)\n",
      "Tau: 0.1111111111111111\n",
      "tensor(13.8747)\n",
      "Tau: 0.2222222222222222\n",
      "tensor(13.6804)\n",
      "Tau: 0.3333333333333333\n",
      "tensor(13.9385)\n",
      "Tau: 0.4444444444444444\n",
      "tensor(13.9176)\n",
      "Tau: 0.5555555555555556\n",
      "tensor(13.7662)\n",
      "Tau: 0.6666666666666666\n",
      "tensor(13.8569)\n",
      "Tau: 0.7777777777777777\n",
      "tensor(13.6817)\n",
      "Tau: 0.8888888888888888\n",
      "tensor(14.0167)\n",
      "Tau: 1.0\n",
      "tensor(13.8706)\n"
     ]
    }
   ],
   "source": [
    "d_param = DirichletPriorOnRatesParam(concentration=0.01)\n",
    "Q0 = generate_transition_rate_matrix(d_param)\n",
    "Q1 = generate_transition_rate_matrix(d_param)\n",
    "X0 = torch.randint(1,d_param.num_states,(300,))\n",
    "TAU = np.linspace(0.,1.,10)\n",
    "\n",
    "time_grid = torch.arange(0,101,1,dtype=float)\n",
    "paths0,times0 = gillespie(X0,Q0,number_of_times=100)\n",
    "paths0_grid,arrivals0 = states_at_grid(paths1.unsqueeze(-1), times0, time_grid)\n",
    "paths0_grid = paths0_grid.squeeze()\n",
    "histograms_on_time_0 = count_values_along_time(paths0_grid, d_param.num_states)\n",
    "number_of_time_steps = histograms_on_time_0.shape[0]\n",
    "\n",
    "for tau in TAU:\n",
    "    print(f\"Tau: {tau}\")\n",
    "    Q_tau = interpolation_tau*Q0 + (1.-interpolation_tau)*Q1\n",
    "    paths1,times1 = gillespie(X0,Q_tau,number_of_times=100)\n",
    "\n",
    "    # set everything in a grid\n",
    "    paths1_grid,arrivals1 = states_at_grid(paths1.unsqueeze(-1), times0, time_grid)\n",
    "    paths1_grid = paths1_grid.squeeze()\n",
    "\n",
    "    histograms_on_time_1 = count_values_along_time(paths1_grid, d_param.num_states)\n",
    "    histograms_on_time_1 = histograms_on_time_1/paths1_grid.shape[0]\n",
    "\n",
    "    transport_over_time = get_trasport_over_time(histograms_on_time_0,histograms_on_time_1)\n",
    "    print(transport_over_time.mean())"
   ]
  },
  {
   "cell_type": "markdown",
   "metadata": {},
   "source": []
  },
  {
   "cell_type": "code",
   "execution_count": null,
   "metadata": {},
   "outputs": [
    {
     "data": {
      "image/png": "[encoded data removed]",
      "text/plain": [
       "<Figure size 1200x500 with 2 Axes>"
      ]
     },
     "metadata": {},
     "output_type": "display_data"
    }
   ],
   "source": [
    "# Plot the results\n",
    "fig, ax = plt.subplots(1, 2, figsize=(12, 5))\n",
    "\n",
    "# Plot cost matrix\n",
    "ax[0].imshow(C, interpolation='nearest')\n",
    "ax[0].set_title('Cost matrix $C$')\n",
    "ax[0].set_xlabel('Distribution $b$')\n",
    "ax[0].set_ylabel('Distribution $a$')\n",
    "\n",
    "# Plot optimal transport matrix\n",
    "ax[1].imshow(P, interpolation='nearest')\n",
    "ax[1].set_title('Optimal transport matrix $P$')\n",
    "ax[1].set_xlabel('Distribution $b$')\n",
    "ax[1].set_ylabel('Distribution $a$')\n",
    "\n",
    "plt.tight_layout()\n",
    "plt.show()"
   ]
  },
  {
   "cell_type": "code",
   "execution_count": null,
   "metadata": {},
   "outputs": [],
   "source": []
  }
 ],
 "metadata": {
  "kernelspec": {
   "display_name": "rate_matching",
   "language": "python",
   "name": "python3"
  },
  "language_info": {
   "codemirror_mode": {
    "name": "ipython",
    "version": 3
   },
   "file_extension": ".py",
   "mimetype": "text/x-python",
   "name": "python",
   "nbconvert_exporter": "python",
   "pygments_lexer": "ipython3",
   "version": "3.10.9"
  }
 },
 "nbformat": 4,
 "nbformat_minor": 2
}

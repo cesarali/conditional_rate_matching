{
 "cells": [
  {
   "cell_type": "markdown",
   "metadata": {},
   "source": [
    "# Simulate MJP"
   ]
  },
  {
   "cell_type": "code",
   "execution_count": 130,
   "metadata": {},
   "outputs": [],
   "source": [
    "import os\n",
    "import sys\n",
    "import torch\n",
    "import numpy as np\n",
    "import pandas as pd\n",
    "\n",
    "import torch\n",
    "from tqdm import tqdm\n",
    "from typing import Tuple,List\n",
    "\n",
    "import os\n",
    "import imageio\n",
    "from IPython.display import Image\n",
    "import numpy as np\n",
    "\n",
    "from dataclasses import dataclass\n",
    "from matplotlib import pyplot as plt\n",
    "\n",
    "from torch.distributions import (\n",
    "    Exponential,\n",
    "    Categorical, \n",
    "    Dirichlet\n",
    ")"
   ]
  },
  {
   "cell_type": "markdown",
   "metadata": {},
   "source": [
    "# Utils"
   ]
  },
  {
   "cell_type": "code",
   "execution_count": 131,
   "metadata": {},
   "outputs": [],
   "source": [
    "def create_gif_histograms(histograms0,histograms1=None,filenapath='histogram_animation.gif',duration=1.):\n",
    "    \"\"\"\n",
    "    List of histograms\n",
    "\n",
    "    \"\"\"\n",
    "    # Generate the frames for the GIF\n",
    "\n",
    "    if histograms1 is not None:\n",
    "        assert histograms1.shape[1] == histograms0.shape[1]\n",
    "    filenames = []\n",
    "    for i, hist in enumerate(histograms0):\n",
    "        plt.figure(figsize=(8, 6))\n",
    "        plt.bar(range(len(hist)), hist, color='blue',alpha=0.3)\n",
    "        if histograms1 is not None:\n",
    "            hist1 = histograms1[i]\n",
    "            plt.bar(range(len(hist1)), hist1, color='red',alpha=0.3)\n",
    "\n",
    "        plt.title(f'Normalized Histogram - Frame {i+1}')\n",
    "        plt.ylim(0, 1)  # Ensure consistent scale across all frames\n",
    "\n",
    "        # Save each frame to a file\n",
    "        filename = f'hist_frame_{i}.png'\n",
    "        plt.savefig(filename)\n",
    "        plt.close()\n",
    "        filenames.append(filename)\n",
    "\n",
    "    # Create a GIF from the frames\n",
    "    with imageio.get_writer(filenapath, mode='I', duration=duration) as writer:\n",
    "        for filename in filenames:\n",
    "            image = imageio.imread(filename)\n",
    "            writer.append_data(image)\n",
    "\n",
    "    # Optionally clean up the individual frame files\n",
    "    for filename in filenames:\n",
    "        os.remove(filename)\n",
    "\n",
    "    # Display the GIF in the Jupyter Notebook\n",
    "    Image(filename=filenapath)"
   ]
  },
  {
   "cell_type": "code",
   "execution_count": 132,
   "metadata": {},
   "outputs": [],
   "source": [
    "def states_at_grid(paths_batch, times, time_grid):\n",
    "    \"\"\"\n",
    "    For a simulation of states and times, for each value of the time grid,\n",
    "    assigns the state with the rightmost time to the grid time.\n",
    "\n",
    "    :param times: torch.Tensor(batch_size,number_of_timesteps)\n",
    "    :param paths_batch torch.Tensor(batch_size,number_of_timesteps,number_of_spins):\n",
    "    :param time_grid: torch.Tensor(number_of_timesteps)\n",
    "    :return:\n",
    "    \"\"\"\n",
    "    if len(times.shape) == 3:\n",
    "        times = times.squeeze()\n",
    "\n",
    "    assert torch.all(times[:, 0] == 0.)\n",
    "    assert time_grid[0] == 0.\n",
    "    assert paths_batch.shape[:-1] == times.shape\n",
    "\n",
    "    batch_size = paths_batch.shape[0]\n",
    "    tau = time_grid[1]\n",
    "    time_grid_ = time_grid + tau # arrival is to the left of the box\n",
    "\n",
    "    x = time_grid_[None, None, :] - times[:, :, None]\n",
    "    times_not_allowed = times[:, :, None] > time_grid_[None, None, :]\n",
    "    x[times_not_allowed] = torch.inf\n",
    "    min_indices = torch.argmin(x, axis=1)\n",
    "\n",
    "    arrivals = times[torch.arange(batch_size)[:, None], min_indices]\n",
    "    states_at_arrival = paths_batch[torch.arange(batch_size)[:, None], min_indices, :]\n",
    "\n",
    "    return states_at_arrival,arrivals"
   ]
  },
  {
   "cell_type": "code",
   "execution_count": 133,
   "metadata": {},
   "outputs": [],
   "source": [
    "def choose_new_states(new_states_available,which_state_to_take):\n",
    "    \"\"\"\n",
    "    selects from available according to which_state_to_take \n",
    "\n",
    "    parameters\n",
    "    ----------\n",
    "    new_states_available: (number_of_paths,dimension,number_of_new_possible)\n",
    "    which_state_to_take :(number_of_paths) \\in [0,number_of_new_possible]\n",
    "\n",
    "    returns\n",
    "    -------\n",
    "    new_states: (number_of_paths,dimension)\n",
    "    \"\"\"\n",
    "    # Assuming N, D, and number_of_states are defined\n",
    "    N = new_states_available.size(0)  # example value\n",
    "    D = new_states_available.size(1)   # example value\n",
    "    # To use selected_index to index X, we need to unsqueeze it to make it broadcastable\n",
    "    which_state_to_take = which_state_to_take.unsqueeze(-1).expand(N, D)  # Shape (N, D)\n",
    "    # Now, gather the elements. We want to gather along the last dimension\n",
    "    new_states = torch.gather(new_states_available, 2, which_state_to_take.unsqueeze(2)).squeeze(2)  # Use unsqueeze to match the gather requirement and squeeze to drop the extra dimension\n",
    "    \n",
    "    return new_states"
   ]
  },
  {
   "cell_type": "code",
   "execution_count": 134,
   "metadata": {},
   "outputs": [],
   "source": [
    "def count_values_along_time(paths, num_states):\n",
    "    \"\"\"\n",
    "    Count each integer's occurrences at each timestep along the second dimension of a tensor.\n",
    "\n",
    "    Parameters:\n",
    "        paths (torch.Tensor): A 2D tensor of shape (N, T) containing integer values.\n",
    "        num_states (int): The number of distinct states (integer values).\n",
    "\n",
    "    Returns:\n",
    "        torch.Tensor: A 2D tensor of shape (T, num_states) where each row gives the counts\n",
    "                      of each state at that timestep.\n",
    "    \"\"\"\n",
    "    N, T = paths.shape\n",
    "    counts = torch.zeros((T, num_states), dtype=torch.long)\n",
    "\n",
    "    # Process each timestep\n",
    "    for t in range(T):\n",
    "        # Extract the data at timestep t\n",
    "        timestep_data = paths[:, t]\n",
    "        # Count occurrences of each state at this timestep\n",
    "        for state in range(num_states):\n",
    "            counts[t, state] = torch.sum(timestep_data == state)\n",
    "\n",
    "    return counts"
   ]
  },
  {
   "cell_type": "code",
   "execution_count": 6,
   "metadata": {},
   "outputs": [],
   "source": [
    "@dataclass\n",
    "class EigenResult:\n",
    "    eigenvalue_closest_to_zero: complex\n",
    "    eigenvector_closest_to_zero: torch.Tensor\n",
    "    second_smallest_eigenvalue: complex\n",
    "\n",
    "def eigen_decomposition_near_zero(matrix:torch.Tensor)->EigenResult:\n",
    "    \"\"\"\n",
    "    Perform eigen decomposition on the matrix and return the eigenvalue and eigenvector\n",
    "    closest to zero and the second smallest eigenvalue according to the real part.\n",
    "\n",
    "    Parameters:\n",
    "    matrix (torch.Tensor): The square matrix to decompose.\n",
    "\n",
    "    Returns:\n",
    "    EigenResult: A dataclass containing the closest eigenvalue and eigenvector to zero,\n",
    "                 and the second smallest eigenvalue.\n",
    "    \"\"\"\n",
    "    assert matrix.size(0) == matrix.size(1), \"Matrix must be square for eigen decomposition.\"\n",
    "\n",
    "    # Compute eigenvalues and eigenvectors\n",
    "    eigenvalues, eigenvectors = torch.linalg.eig(matrix)\n",
    "    \n",
    "    # Calculate the index of the eigenvalue closest to zero\n",
    "    min_index = torch.argmin(torch.abs(eigenvalues))\n",
    "    eigenvalue_closest_to_zero = eigenvalues[min_index]\n",
    "    eigenvector_closest_to_zero = eigenvectors[:, min_index]\n",
    "\n",
    "    # Find the second smallest eigenvalue according to the real part\n",
    "    sorted_indices = torch.argsort(eigenvalues.real)\n",
    "    second_smallest_eigenvalue = eigenvalues[sorted_indices[1]]  # second smallest\n",
    "\n",
    "    return EigenResult(\n",
    "        eigenvalue_closest_to_zero=eigenvalue_closest_to_zero,\n",
    "        eigenvector_closest_to_zero=eigenvector_closest_to_zero,\n",
    "        second_smallest_eigenvalue=second_smallest_eigenvalue\n",
    "    )\n"
   ]
  },
  {
   "cell_type": "code",
   "execution_count": 7,
   "metadata": {},
   "outputs": [],
   "source": [
    "def sample_gamma_matrix_with_diagonal(shape, rate, N):\n",
    "    \"\"\"\n",
    "    Sample entries of a matrix from a gamma distribution in PyTorch, setting\n",
    "    the diagonal elements to be the negative sum of the other elements in their rows.\n",
    "\n",
    "    Parameters:\n",
    "    shape (float): The shape parameter (α) of the gamma distribution.\n",
    "    rate (float): The rate parameter (β) of the gamma distribution.\n",
    "    N (tuple of int): The dimensions of the output matrix.\n",
    "\n",
    "    Returns:\n",
    "    torch.Tensor: A matrix of samples from the specified gamma distribution, with adjusted diagonals.\n",
    "    \"\"\"\n",
    "    \n",
    "    # Sample the matrix\n",
    "    gamma_dist = torch.distributions.Gamma(shape, rate)\n",
    "    matrix = gamma_dist.sample((N,N))\n",
    "    \n",
    "    order_of_magnitude = 10**torch.randint(-3,3,(N,N)).float()\n",
    "    matrix = order_of_magnitude*matrix\n",
    "\n",
    "    # Set the diagonal elements to the specified values\n",
    "    diagonal = torch.diagonal(matrix)\n",
    "    diagonal.copy_(torch.zeros((N,)))\n",
    "    # Compute the sum of all elements excluding the diagonal\n",
    "    row_sums = matrix.sum(dim=1)  # Sum each row\n",
    "    diagonal.copy_(-row_sums)\n",
    "    return matrix"
   ]
  },
  {
   "cell_type": "code",
   "execution_count": 159,
   "metadata": {},
   "outputs": [],
   "source": [
    "import torch\n",
    "from torch import nn\n",
    "import torch.optim as optim\n",
    "\n",
    "class TrainableQ(nn.Module):\n",
    "    def __init__(self, size, rate):\n",
    "        super(TrainableQ, self).__init__()\n",
    "        self.size = size\n",
    "        self.rate = rate\n",
    "        \n",
    "        # Compute indices for off-diagonal elements\n",
    "        rows, cols = torch.triu_indices(size, size, offset=1)\n",
    "        indexes = torch.arange(0,size,1)\n",
    "\n",
    "        self.register_buffer('row_indices', rows)\n",
    "        self.register_buffer('col_indices', cols)\n",
    "        self.register_buffer('indexes',indexes)\n",
    "        \n",
    "        # Initialize off-diagonal elements as trainable parameters from an exponential distribution\n",
    "        initial_values = torch.distributions.Exponential(rate).sample((rows.size(0) * 2,))\n",
    "        self.off_diagonal_elements = nn.Parameter(initial_values)\n",
    "\n",
    "    def forward(self):\n",
    "        # Initialize a zero matrix\n",
    "        matrix = torch.zeros(self.size, self.size, device=self.off_diagonal_elements.device)\n",
    "        \n",
    "        # Apply relu to ensure off-diagonal elements are positive\n",
    "        positive_off_diagonals = torch.relu(self.off_diagonal_elements) + 1e-2\n",
    "\n",
    "        # Fill the off-diagonal elements\n",
    "        matrix[self.row_indices, self.col_indices] = positive_off_diagonals[:self.row_indices.size(0)]\n",
    "        matrix[self.col_indices, self.row_indices] = positive_off_diagonals[self.row_indices.size(0):]\n",
    "        \n",
    "        # Fill the diagonal\n",
    "        matrix[self.indexes, self.indexes] = -matrix.sum(axis=1)\n",
    "        return matrix\n",
    "\n",
    "def obtain_Q(pi_0,lambda_ = 1.):\n",
    "    pi_0 = pi_0.squeeze()\n",
    "    N = pi_0.shape[0]\n",
    "    pi_0 = pi_0.unsqueeze(0)\n",
    "\n",
    "    Q =  TrainableQ(N,lambda_)\n",
    "    # Setup optimizer\n",
    "    optimizer = optim.Adam(Q.parameters(), lr=0.05)\n",
    "    zeros = torch.zeros(N)  # Target is a zero vector\n",
    "    # Training loop\n",
    "    num_epochs = 3000\n",
    "    for epoch in range(num_epochs):\n",
    "        optimizer.zero_grad()\n",
    "        \n",
    "        # Forward pass\n",
    "        matrix = Q()\n",
    "        output = torch.matmul(pi_0,matrix)\n",
    "        \n",
    "        # Compute loss (MSE Loss)\n",
    "        loss = torch.nn.functional.mse_loss(output, zeros)\n",
    "        \n",
    "        # Backward pass and optimize\n",
    "        loss.backward()\n",
    "        optimizer.step()\n",
    "        \n",
    "        #if epoch % 100 == 0:\n",
    "        #    print(f'Epoch {epoch}, Loss: {loss.item()}')\n",
    "\n",
    "    return Q().detach()"
   ]
  },
  {
   "cell_type": "markdown",
   "metadata": {},
   "source": [
    "# ANALYTICAL RATES"
   ]
  },
  {
   "cell_type": "code",
   "execution_count": 160,
   "metadata": {},
   "outputs": [
    {
     "name": "stdout",
     "output_type": "stream",
     "text": [
      "tensor([0., 0., 0.])\n",
      "tensor(0.0014+0.j)\n",
      "tensor([-0.8431+0.j, -0.3803+0.j, -0.3803+0.j])\n",
      "tensor([-0.8431+0.j, -0.3803+0.j, -0.3803+0.j])\n"
     ]
    }
   ],
   "source": [
    "shape_parameter = 10.0\n",
    "rate_parameter = 1.\n",
    "N = 3\n",
    "matrix0 = torch.Tensor([[9.,0.1,0.1],\n",
    "                       [1.,9.,100000.],\n",
    "                       [0.001,1.,9.]])\n",
    "\n",
    "matrix1 = torch.Tensor([[9.,0.1,0.1],\n",
    "                       [1.,9.,100000.],\n",
    "                       [0.001,1.,9.]])\n",
    "\n",
    "\"\"\"\n",
    "matrix0 = torch.ones((N,N))\n",
    "matrix1 = torch.ones((N,N)) \n",
    "matrix0[1,2] = 10000.\n",
    "matrix0[2,1] = .0001\n",
    "matrix1[2,1] = 100.\n",
    "\"\"\"\n",
    "\n",
    "N = matrix0.shape[0]\n",
    "\n",
    "matrix0[range(N),range(N)] = torch.zeros((N,))\n",
    "matrix1[range(N),range(N)] = torch.zeros((N,))\n",
    "matrix0[range(N),range(N)] = -matrix0.sum(axis=1)\n",
    "matrix1[range(N),range(N)] = -matrix1.sum(axis=1)\n",
    "\n",
    "eigen_decomposition0 = eigen_decomposition_near_zero(matrix0)\n",
    "eigen_decomposition1 = eigen_decomposition_near_zero(matrix1)\n",
    "print(matrix0.sum(axis=1))\n",
    "print(eigen_decomposition0.eigenvalue_closest_to_zero)\n",
    "print(eigen_decomposition0.eigenvector_closest_to_zero)\n",
    "print(eigen_decomposition1.eigenvector_closest_to_zero)"
   ]
  },
  {
   "cell_type": "code",
   "execution_count": 161,
   "metadata": {},
   "outputs": [],
   "source": [
    "complex_tipe = eigen_decomposition0.eigenvector_closest_to_zero.dtype"
   ]
  },
  {
   "cell_type": "markdown",
   "metadata": {},
   "source": [
    "### Know Stationarity"
   ]
  },
  {
   "cell_type": "markdown",
   "metadata": {},
   "source": [
    "\\begin{equation}\n",
    "q_f = \\frac{\\hat{q}_r\\cdot(\\mathcal{1}\\pi_r-\\hat{\\pi}_r)}{\\pi_f - \\pi_r}\n",
    "\\end{equation}"
   ]
  },
  {
   "cell_type": "markdown",
   "metadata": {},
   "source": [
    "### Dirichlet Rate"
   ]
  },
  {
   "cell_type": "code",
   "execution_count": null,
   "metadata": {},
   "outputs": [],
   "source": [
    "@dataclass\n",
    "class DirichletPriorOnRatesParam:\n",
    "    concentration:float = 0.01\n",
    "    num_states:int = 5\n",
    "\n",
    "def generate_transition_rate_matrix(parameters:DirichletPriorOnRatesParam):\n",
    "    \"\"\"\n",
    "    Generate a transition rate matrix for a Markov jump process.\n",
    "    \n",
    "    Parameters:\n",
    "        num_states (int): Number of states in the Markov process.\n",
    "        concentration (float or list): Concentration parameter(s) for the Dirichlet distribution. \n",
    "                                      Higher values lead to more uniform distributions.\n",
    "\n",
    "    Returns:\n",
    "        torch.Tensor: A transition rate matrix of shape (num_states, num_states).\n",
    "    \"\"\"\n",
    "    num_states = parameters.num_states\n",
    "    concentration = parameters.concentration\n",
    "\n",
    "    # Initialize a tensor to store the transition rate matrix\n",
    "    rate_matrix = torch.zeros(num_states, num_states)\n",
    "\n",
    "    # Generate rows from Dirichlet distributions\n",
    "    for i in range(num_states):\n",
    "        # Create concentration parameters for the Dirichlet distribution\n",
    "        # Each row should have num_states - 1 positive entries (excluding the diagonal)\n",
    "        if isinstance(concentration, float):\n",
    "            alpha = torch.full((num_states - 1,), concentration)\n",
    "        else:\n",
    "            alpha = torch.tensor(concentration[i])\n",
    "        \n",
    "        # Exclude diagonal element by creating a temporary row and then inserting\n",
    "        temp_row = Dirichlet(alpha).sample()\n",
    "        rate_matrix[i, :i] = temp_row[:i]\n",
    "        rate_matrix[i, i+1:] = temp_row[i:]\n",
    "\n",
    "        # Set the diagonal element such that the sum of the row is zero\n",
    "        rate_matrix[i, i] = -torch.sum(rate_matrix[i])\n",
    "\n",
    "    return rate_matrix"
   ]
  },
  {
   "cell_type": "markdown",
   "metadata": {},
   "source": [
    "### Lotka Volterra"
   ]
  },
  {
   "cell_type": "code",
   "execution_count": 251,
   "metadata": {},
   "outputs": [],
   "source": [
    "@dataclass\n",
    "class LotkaVolterraParameters:\n",
    "    alpha:float = 0.0005\n",
    "    beta:float = 0.0001\n",
    "    delta:float = 0.0001\n",
    "    gamma:float = 0.0005\n",
    "\n",
    "def lotka_volterra_rate(XY0,parameters:LotkaVolterraParameters):\n",
    "    \"\"\"\n",
    "    parameters\n",
    "    ----------\n",
    "    X: torch.Tensor(number_of_paths,2) \n",
    "\n",
    "    returns\n",
    "    -------\n",
    "    new_states: torch.Tensor(number_of_paths,2,4)\n",
    "    rates: torch.Tensor(number_of_paths,4) \n",
    "    \"\"\"\n",
    "    number_of_paths = XY0.size(0)\n",
    "    #where_empty_population = torch.where(XY0 == 0)\n",
    "    #XY0[where_empty_population] = 1e-6\n",
    "    \n",
    "    # new states available in next step\n",
    "    new_states_mask = torch.Tensor([[1.,0],\n",
    "                                    [-1.,0],\n",
    "                                    [0.,1.],\n",
    "                                    [0.,-1.]])\n",
    "\n",
    "    mask_per_path = new_states_mask[None,:].repeat((number_of_paths,1,1))\n",
    "    mask_per_path = mask_per_path.permute((0,2,1))\n",
    "\n",
    "    #rates for new states available in next step\n",
    "    X_up = parameters.alpha*XY0[:,0]\n",
    "    X_down = parameters.beta*XY0[:,0]*XY0[:,1]\n",
    "\n",
    "    Y_up = parameters.delta*XY0[:,0]*XY0[:,1]\n",
    "    Y_down = parameters.gamma*XY0[:,1]\n",
    "\n",
    "    rates = torch.cat([X_up[:,None],X_down[:,None],Y_up[:,None],Y_down[:,None]],dim=-1)\n",
    "    #rates[][where_empty_population]= 0.001\n",
    "\n",
    "    return mask_per_path,rates"
   ]
  },
  {
   "cell_type": "markdown",
   "metadata": {},
   "source": []
  },
  {
   "cell_type": "markdown",
   "metadata": {},
   "source": [
    "### Repressilator"
   ]
  },
  {
   "cell_type": "code",
   "execution_count": 252,
   "metadata": {},
   "outputs": [],
   "source": [
    "@dataclass\n",
    "class RepressilatorParameters:\n",
    "    # Parameter values\n",
    "    kmu:float = 0.5\n",
    "    kmo:float = 5e-4\n",
    "    kp:float = 0.167\n",
    "    gamma_m:float = 0.005776\n",
    "    gamma_p:float = 0.001155\n",
    "    kr:float = 1.0\n",
    "    ku1:float = 224.0\n",
    "    ku2:float = 9.0\n",
    "\n",
    "def repressilator_mask():\n",
    "    repressilator_update = np.array([\n",
    "    # 0   1   2   3   4   5   6   7   8\n",
    "    [ 1,  0,  0,  0,  0,  0,  0,  0,  0], # 0\n",
    "    [ 0,  0,  1,  0,  0,  0,  0,  0,  0], # 1\n",
    "    [ 0,  0,  0,  0,  1,  0,  0,  0,  0], # 2\n",
    "    [ 0,  1,  0,  0,  0,  0,  0,  0,  0], # 3\n",
    "    [ 0,  0,  0,  1,  0,  0,  0,  0,  0], # 4\n",
    "    [ 0,  0,  0,  0,  0,  1,  0,  0,  0], # 5\n",
    "    [-1,  0,  0,  0,  0,  0,  0,  0,  0], # 6\n",
    "    [ 0,  0, -1,  0,  0,  0,  0,  0,  0], # 7\n",
    "    [ 0,  0,  0,  0, -1,  0,  0,  0,  0], # 8\n",
    "    [ 0, -1,  0,  0,  0,  0,  0,  0,  0], # 9\n",
    "    [ 0,  0,  0, -1,  0,  0,  0,  0,  0], # 10\n",
    "    [ 0,  0,  0,  0,  0, -1,  0,  0,  0], # 11\n",
    "    [ 0,  0,  0,  0,  0,  0, -1,  0,  0], # 12\n",
    "    [ 0,  0,  0,  0,  0,  0,  0, -1,  0], # 13\n",
    "    [ 0,  0,  0,  0,  0,  0,  0,  0, -1], # 14\n",
    "    [ 0,  0,  0,  0,  0, -1,  0,  0,  1], # 15\n",
    "    [ 0, -1,  0,  0,  0,  0,  1,  0,  0], # 16\n",
    "    [ 0,  0,  0, -1,  0,  0,  0,  1,  0], # 17\n",
    "    [ 0,  0,  0,  0,  0,  1,  0,  0, -1], # 18\n",
    "    [ 0,  1,  0,  0,  0,  0, -1,  0,  0], # 19\n",
    "    [ 0,  0,  0,  1,  0,  0,  0, -1,  0], # 20\n",
    "    ], dtype=float)\n",
    "    return torch.Tensor(repressilator_update)\n",
    "\n",
    "def repressilator_rate(population,params:RepressilatorParameters):\n",
    "    number_of_paths = population.size(0)\n",
    "    new_states_mask = repressilator_mask()\n",
    "    mask_per_path = new_states_mask[None,:].repeat((number_of_paths,1,1))\n",
    "    mask_per_path = mask_per_path.permute((0,2,1))\n",
    "\n",
    "    # Extract each component from the population tensor\n",
    "    m1, p1, m2, p2, m3, p3, n1, n2, n3 = population[:, 0], population[:, 1], population[:, 2], population[:, 3], population[:, 4], population[:, 5], population[:, 6], population[:, 7], population[:, 8]\n",
    "    \n",
    "    # Initialize propensities tensor\n",
    "    propensities = torch.zeros(population.shape[0], 21)\n",
    "    \n",
    "    # Update propensities based on model logic\n",
    "    propensities[:, 0] = torch.where(n3 == 0, params.kmu, params.kmo)\n",
    "    propensities[:, 1] = torch.where(n1 == 0, params.kmu, params.kmo)\n",
    "    propensities[:, 2] = torch.where(n2 == 0, params.kmu, params.kmo)\n",
    "    propensities[:, 3] = params.kp * m1\n",
    "    propensities[:, 4] = params.kp * m2\n",
    "    propensities[:, 5] = params.kp * m3\n",
    "    propensities[:, 6] = params.gamma_m * m1\n",
    "    propensities[:, 7] = params.gamma_m * m2\n",
    "    propensities[:, 8] = params.gamma_m * m3\n",
    "    propensities[:, 9] = params.gamma_p * p1\n",
    "    propensities[:, 10] = params.gamma_p * p2\n",
    "    propensities[:, 11] = params.gamma_p * p3\n",
    "    propensities[:, 12] = params.gamma_p * n1\n",
    "    propensities[:, 13] = params.gamma_p * n2\n",
    "    propensities[:, 14] = params.gamma_p * n3\n",
    "    propensities[:, 15] = params.kr * p3 * (n3 < 2)\n",
    "    propensities[:, 16] = params.kr * p1 * (n1 < 2)\n",
    "    propensities[:, 17] = params.kr * p2 * (n2 < 2)\n",
    "    propensities[:, 18] = params.ku1 * (n3 == 1) + 2 * params.ku2 * (n3 == 2)\n",
    "    propensities[:, 19] = params.ku1 * (n1 == 1) + 2 * params.ku2 * (n1 == 2)\n",
    "    propensities[:, 20] = params.ku1 * (n2 == 1) + 2 * params.ku2 * (n2 == 2)\n",
    "    \n",
    "    return mask_per_path,propensities"
   ]
  },
  {
   "cell_type": "markdown",
   "metadata": {},
   "source": [
    "# SOLVERS"
   ]
  },
  {
   "cell_type": "markdown",
   "metadata": {},
   "source": [
    "## Gillespie\n"
   ]
  },
  {
   "cell_type": "code",
   "execution_count": 147,
   "metadata": {},
   "outputs": [],
   "source": [
    "def gillespie_mask(X0,rate_function,number_of_times=100)->Tuple[torch.Tensor,torch.Tensor]:\n",
    "    \"\"\"\n",
    "    This gillespie simulation scheme works for unbounded states space of the type encountered\n",
    "    in birth-death processes, it expects a rate_function which  outputs a mask per possible transition,\n",
    "    i.e. once a trnasition is desided the mask corresponding to this transition is obtained and applied \n",
    "    to the state.\n",
    "\n",
    "    # http://be150.caltech.edu/2019/handouts/12_stochastic_simulation_all_code.html\n",
    "\n",
    "    parameters\n",
    "    ----------\n",
    "\n",
    "    X0: initial conditions\n",
    "    rate_function: function -> new_states_available,rates\n",
    "\n",
    "    returns\n",
    "    -------\n",
    "    paths,times\n",
    "    \"\"\"    \n",
    "    batch_size = X0.shape[0]\n",
    "\n",
    "    # Initialize process\n",
    "    times = torch.full((batch_size, 1), 0.)\n",
    "    paths = X0.unsqueeze(1)\n",
    "\n",
    "    for time_index in range(number_of_times):\n",
    "        X = paths[:,-1,:]\n",
    "        current_time = times[:,-1]\n",
    "        mask_per_path,rates = rate_function(X, current_time)\n",
    "\n",
    "        # Time to next reactions\n",
    "        rates_sum = torch.sum(rates, axis=1)\n",
    "\n",
    "        # corrects rate in case 0 probabilities occur\n",
    "        where_no_events = torch.where(rates_sum == 0.)\n",
    "        rates[where_no_events] = 1.\n",
    "        rates_sum = torch.sum(rates, axis=1)\n",
    "        transition_probabilities = rates/rates_sum[:,None]\n",
    "\n",
    "        time_between_events = Exponential(rates_sum).sample()\n",
    "        new_times = current_time + time_between_events\n",
    "\n",
    "        # selects next state\n",
    "        which_state_to_take = Categorical(transition_probabilities).sample()\n",
    "        mask_to_apply = choose_new_states(mask_per_path,which_state_to_take)\n",
    "        new_states = X.clone() + mask_to_apply\n",
    "\n",
    "        #makes sure that at no probabilities stays the same\n",
    "        new_states[where_no_events] = X[where_no_events]\n",
    "\n",
    "        #update paths and times\n",
    "        paths = torch.concatenate([paths,\n",
    "                                 new_states.unsqueeze(1)], dim=1)\n",
    "\n",
    "        times = torch.concatenate([times,\n",
    "                                   new_times.unsqueeze(1)],dim=1)\n",
    "    \n",
    "    return paths,times"
   ]
  },
  {
   "cell_type": "code",
   "execution_count": 148,
   "metadata": {},
   "outputs": [],
   "source": [
    "def gillespie(X0,Q,number_of_times=100)->Tuple[torch.Tensor,torch.Tensor]:\n",
    "    \"\"\"\n",
    "    # http://be150.caltech.edu/2019/handouts/12_stochastic_simulation_all_code.html\n",
    "\n",
    "    parameters\n",
    "    ----------\n",
    "\n",
    "    X0: initial conditions\n",
    "    q_rate_function: function -> new_states_available,rates\n",
    "\n",
    "    returns\n",
    "    -------\n",
    "    paths,times\n",
    "    \"\"\"\n",
    "    num_states = Q.size(0)\n",
    "    batch_size = X0.shape[0]\n",
    "\n",
    "    rates_from_Q  = lambda X,Q : Q[X]\n",
    "    Q_r = Q.clone()\n",
    "    Q_r[range(num_states),range(num_states)] = 0\n",
    "\n",
    "    # Initialize process\n",
    "    times = torch.full((batch_size, 1), 0.)\n",
    "    paths = X0.unsqueeze(1)\n",
    "\n",
    "    for time_index in range(number_of_times):\n",
    "        X = paths[:,-1]\n",
    "        current_time = times[:,-1]\n",
    "\n",
    "        # rates and probabilities\n",
    "        rates = rates_from_Q(X, Q_r)\n",
    "        rates_sum = -Q[X,X].squeeze() #diagonal sum to 0\n",
    "        transition_probabilities = rates/rates_sum[:,None]\n",
    "\n",
    "        #times\n",
    "        time_between_events = Exponential(rates_sum).sample()\n",
    "        new_times = current_time + time_between_events\n",
    "\n",
    "        # selects next state\n",
    "        new_states = Categorical(transition_probabilities).sample()\n",
    "\n",
    "        #update paths and times\n",
    "        paths = torch.concatenate([paths,\n",
    "                                   new_states.unsqueeze(1)], dim=1)\n",
    "\n",
    "        times = torch.concatenate([times,\n",
    "                                   new_times.unsqueeze(1)],dim=1)\n",
    "    \n",
    "    return paths,times"
   ]
  },
  {
   "cell_type": "markdown",
   "metadata": {},
   "source": [
    "# Simulate Q"
   ]
  },
  {
   "cell_type": "code",
   "execution_count": 165,
   "metadata": {},
   "outputs": [
    {
     "data": {
      "image/png": "[encoded data removed]",
      "text/plain": [
       "<Figure size 1200x300 with 2 Axes>"
      ]
     },
     "metadata": {},
     "output_type": "display_data"
    }
   ],
   "source": [
    "N = 3\n",
    "alpha = 0.5\n",
    "dirichlet_alpha = torch.full((N,),alpha)\n",
    "stationary_0 = Dirichlet(dirichlet_alpha).sample((1,)).T\n",
    "stationary_1 = Dirichlet(dirichlet_alpha).sample((1,)).T\n",
    "\n",
    "fig, axs = plt.subplots(nrows=1,ncols=2,figsize=(12, 3))\n",
    "\n",
    "stationary_0_ = stationary_0.squeeze().detach().numpy()\n",
    "stationary_1_ = stationary_1.squeeze().detach().numpy()\n",
    "\n",
    "axs[0].bar(range(len( stationary_0_)), stationary_0_, color='red',alpha=0.3,label=\"exp\")\n",
    "axs[0].set_ylim(0,1)\n",
    "axs[0].legend(loc=\"best\")\n",
    "\n",
    "axs[1].bar(range(len( stationary_1_)), stationary_1_,color='red',alpha=0.3,label=\"exp\")\n",
    "axs[1].set_ylim(0,1)\n",
    "axs[1].legend(loc=\"best\")\n",
    "plt.show()"
   ]
  },
  {
   "cell_type": "code",
   "execution_count": 141,
   "metadata": {},
   "outputs": [
    {
     "data": {
      "text/plain": [
       "tensor([[0.6114],\n",
       "        [0.3018],\n",
       "        [0.0868]])"
      ]
     },
     "execution_count": 141,
     "metadata": {},
     "output_type": "execute_result"
    }
   ],
   "source": [
    "stationary_0"
   ]
  },
  {
   "cell_type": "code",
   "execution_count": 166,
   "metadata": {},
   "outputs": [
    {
     "name": "stderr",
     "output_type": "stream",
     "text": [
      "C:\\Users\\cesar\\AppData\\Local\\Temp\\ipykernel_2516\\1577559833.py:57: UserWarning: Using a target size (torch.Size([3])) that is different to the input size (torch.Size([1, 3])). This will likely lead to incorrect results due to broadcasting. Please ensure they have the same size.\n",
      "  loss = torch.nn.functional.mse_loss(output, zeros)\n"
     ]
    },
    {
     "name": "stdout",
     "output_type": "stream",
     "text": [
      "tensor([[-1.6564e-08, -1.6605e-08,  3.6809e-08]])\n",
      "tensor([[2.6142e-09, 1.0548e-09, 1.6497e-09]])\n"
     ]
    }
   ],
   "source": [
    "Q0 = obtain_Q(stationary_0.T,lambda_ = 1.)\n",
    "Q1 = obtain_Q(stationary_1.T,lambda_ = 1.)\n",
    "\n",
    "print(torch.matmul(stationary_0.T,Q0))\n",
    "print(torch.matmul(stationary_1.T,Q1))"
   ]
  },
  {
   "cell_type": "code",
   "execution_count": 174,
   "metadata": {},
   "outputs": [
    {
     "name": "stdout",
     "output_type": "stream",
     "text": [
      "tensor([0.0866, 4.3028, 3.6399]) tensor([2.7676, 2.8909, 0.3705])\n"
     ]
    }
   ],
   "source": [
    "R0 = Q0.clone()\n",
    "R0[range(N),range(N)] = torch.zeros(N,)\n",
    "R1 = Q1.clone()\n",
    "R1[range(N),range(N)] = torch.zeros(N,)\n",
    "\n",
    "print(R0.sum(axis=1),R1.sum(axis=1))\n"
   ]
  },
  {
   "cell_type": "code",
   "execution_count": 129,
   "metadata": {},
   "outputs": [],
   "source": [
    "number_of_paths = 300 \n",
    "number_of_times = 50\n",
    "N = Q0.shape[0]\n",
    "rescale = 10.\n",
    "\n",
    "pi0_prior = Dirichlet(torch.full((N,),100.))\n",
    "pi_0 = pi0_prior.sample((1,)).squeeze()\n",
    "Q0,Q1 = Q0*rescale,Q1*rescale\n",
    "\n",
    "X0 = Categorical(torch.Tensor(pi_0)).sample((number_of_paths,))"
   ]
  },
  {
   "cell_type": "code",
   "execution_count": 128,
   "metadata": {},
   "outputs": [],
   "source": [
    "paths0,times0 = gillespie(X0,Q0,number_of_times=number_of_times)\n",
    "paths1,times1 = gillespie(X0,Q1,number_of_times=number_of_times)\n",
    "\n",
    "# set everything in a grid\n",
    "time_grid = torch.arange(0,number_of_times,1,dtype=float)\n",
    "paths0_grid,arrivals0 = states_at_grid(paths0.unsqueeze(-1), times0, time_grid)\n",
    "paths1_grid,arrivals1 = states_at_grid(paths1.unsqueeze(-1), times0, time_grid)\n",
    "\n",
    "paths0_grid = paths0_grid.squeeze()\n",
    "paths1_grid = paths1_grid.squeeze()\n",
    "\n",
    "histograms_on_time_0 = count_values_along_time(paths0_grid, N)\n",
    "histograms_on_time_1 = count_values_along_time(paths1_grid, N)\n",
    "\n",
    "histograms_on_time_0 = histograms_on_time_0/paths0_grid.shape[0]\n",
    "histograms_on_time_1 = histograms_on_time_1/paths1_grid.shape[0]\n",
    "\n",
    "hist0 = histograms_on_time_0[-1]\n",
    "hist1 = histograms_on_time_1[-1]"
   ]
  },
  {
   "cell_type": "code",
   "execution_count": 118,
   "metadata": {},
   "outputs": [
    {
     "data": {
      "image/png": "[encoded data removed]",
      "text/plain": [
       "<Figure size 1200x300 with 2 Axes>"
      ]
     },
     "metadata": {},
     "output_type": "display_data"
    }
   ],
   "source": [
    "fig, axs = plt.subplots(nrows=1,ncols=2,figsize=(12, 3))\n",
    "\n",
    "stationary_0_ = stationary_0.squeeze().detach().numpy()\n",
    "stationary_1_ = stationary_1.squeeze().detach().numpy()\n",
    "\n",
    "axs[0].bar(range(len(hist0)), hist0, color='blue',alpha=0.3,label=\"sim\")\n",
    "axs[0].bar(range(len( stationary_0_)), stationary_0_, color='green',alpha=0.3,label=\"exp\")\n",
    "axs[0].set_ylim(0,1)\n",
    "axs[0].legend(loc=\"best\")\n",
    "\n",
    "axs[1].bar(range(len(hist1)), hist1, color='red',alpha=0.3,label=\"sim\")\n",
    "axs[1].bar(range(len( stationary_1_)), stationary_1_,color='green',alpha=0.3,label=\"exp\")\n",
    "axs[1].set_ylim(0,1)\n",
    "axs[1].legend(loc=\"best\")\n",
    "plt.show()"
   ]
  },
  {
   "cell_type": "code",
   "execution_count": 119,
   "metadata": {},
   "outputs": [
    {
     "data": {
      "text/plain": [
       "tensor([[-0.0020,  0.0010,  0.0010],\n",
       "        [ 0.0050, -0.0102,  0.0052],\n",
       "        [ 0.0010,  0.0010, -0.0020]])"
      ]
     },
     "execution_count": 119,
     "metadata": {},
     "output_type": "execute_result"
    }
   ],
   "source": [
    "Q0"
   ]
  },
  {
   "cell_type": "code",
   "execution_count": 120,
   "metadata": {},
   "outputs": [
    {
     "data": {
      "text/plain": [
       "tensor([[-0.0020,  0.0010,  0.0010],\n",
       "        [ 0.0010, -0.3872,  0.3862],\n",
       "        [ 0.0010,  0.0010, -0.0020]])"
      ]
     },
     "execution_count": 120,
     "metadata": {},
     "output_type": "execute_result"
    }
   ],
   "source": [
    "Q1"
   ]
  },
  {
   "cell_type": "code",
   "execution_count": 101,
   "metadata": {},
   "outputs": [
    {
     "name": "stderr",
     "output_type": "stream",
     "text": [
      "C:\\Users\\cesar\\AppData\\Local\\Temp\\ipykernel_2516\\157615253.py:30: DeprecationWarning: Starting with ImageIO v3 the behavior of this function will switch to that of iio.v3.imread. To keep the current behavior (and make this warning disappear) use `import imageio.v2 as imageio` or call `imageio.v2.imread` directly.\n",
      "  image = imageio.imread(filename)\n"
     ]
    }
   ],
   "source": [
    "create_gif_histograms(histograms_on_time_0,histograms_on_time_1)"
   ]
  },
  {
   "cell_type": "code",
   "execution_count": null,
   "metadata": {},
   "outputs": [
    {
     "name": "stdout",
     "output_type": "stream",
     "text": [
      "tensor([0.0000, 0.2767, 0.5267, 0.0000, 0.1967])\n",
      "tensor([0.0067, 0.3300, 0.2000, 0.0933, 0.3700])\n"
     ]
    }
   ],
   "source": [
    "print(histograms_on_time_0[-1])\n",
    "print(histograms_on_time_1[-1])"
   ]
  },
  {
   "cell_type": "code",
   "execution_count": null,
   "metadata": {},
   "outputs": [
    {
     "name": "stdout",
     "output_type": "stream",
     "text": [
      "tensor([0.2133, 0.0633, 0.2133, 0.2667, 0.2433])\n",
      "tensor([0.2333, 0.1267, 0.0467, 0.2700, 0.3233])\n"
     ]
    }
   ],
   "source": [
    "print(histograms_on_time_0[0])\n",
    "print(histograms_on_time_1[0])"
   ]
  },
  {
   "cell_type": "markdown",
   "metadata": {},
   "source": [
    "# OPTIMAL TRANSPORT"
   ]
  },
  {
   "cell_type": "code",
   "execution_count": null,
   "metadata": {},
   "outputs": [],
   "source": [
    "import numpy as np\n",
    "import matplotlib.pyplot as plt\n",
    "import ot  # Import Python Optimal Transport library"
   ]
  },
  {
   "cell_type": "code",
   "execution_count": null,
   "metadata": {},
   "outputs": [],
   "source": [
    "def solve_regularized_transport(histogram_a,histogram_b):\n",
    "    # Setting up the distributions\n",
    "    # Uniform distribution of 10 points from 0 to 1\n",
    "    n_points = histogram_a.shape[0]\n",
    "\n",
    "    # Generate positions for each point in the distributions\n",
    "    x = np.linspace(0, 1, n_points).reshape(-1, 1)  # Positions for a\n",
    "    y = np.linspace(0, 1, n_points).reshape(-1, 1)  # Positions for b\n",
    "\n",
    "    # Cost matrix: Euclidean distance\n",
    "    C = ot.dist(x, y)\n",
    "    C = C / C.max()  # Normalize cost for stability\n",
    "\n",
    "    # Regularization parameter\n",
    "    lambda_reg = 0.1  # Small lambda means more regularization\n",
    "\n",
    "    # Solve the regularized optimal transport problem using Sinkhorn algorithm\n",
    "    P = ot.sinkhorn(histogram_a, histogram_b, C, lambda_reg,numItermax=1000)\n",
    "\n",
    "    # Compute the actual transport distance\n",
    "    transport_distance = np.sum(P * C)  # Dot product of P and C\n",
    "    \n",
    "    return C,P,transport_distance"
   ]
  },
  {
   "cell_type": "code",
   "execution_count": null,
   "metadata": {},
   "outputs": [],
   "source": [
    "def get_trasport_over_time(histograms_on_time_0,histograms_on_time_1):\n",
    "    number_of_time_steps = histograms_on_time_0.shape[0]\n",
    "    transport_cost_over_time = torch.zeros(number_of_time_steps)\n",
    "\n",
    "    for time_index in range(number_of_time_steps):\n",
    "        histogram_a = histograms_on_time_0[time_index].numpy()\n",
    "        histogram_b = histograms_on_time_1[time_index].numpy()\n",
    "        C,P,transport_distance = solve_regularized_transport(histogram_a,histogram_b)\n",
    "        transport_cost_over_time[time_index] = transport_distance\n",
    "\n",
    "    return transport_cost_over_time"
   ]
  },
  {
   "cell_type": "markdown",
   "metadata": {},
   "source": []
  },
  {
   "cell_type": "code",
   "execution_count": null,
   "metadata": {},
   "outputs": [
    {
     "name": "stdout",
     "output_type": "stream",
     "text": [
      "Tau: 0.0\n"
     ]
    },
    {
     "name": "stderr",
     "output_type": "stream",
     "text": [
      "c:\\Users\\cesar\\anaconda4\\envs\\rate_matching\\lib\\site-packages\\ot\\bregman\\_sinkhorn.py:499: RuntimeWarning: overflow encountered in divide\n",
      "  u = 1. / nx.dot(Kp, v)\n",
      "c:\\Users\\cesar\\anaconda4\\envs\\rate_matching\\lib\\site-packages\\ot\\bregman\\_sinkhorn.py:506: UserWarning: Warning: numerical errors at iteration 124\n",
      "  warnings.warn('Warning: numerical errors at iteration %d' % ii)\n"
     ]
    },
    {
     "name": "stdout",
     "output_type": "stream",
     "text": [
      "tensor(13.7929)\n",
      "Tau: 0.1111111111111111\n",
      "tensor(13.8747)\n",
      "Tau: 0.2222222222222222\n",
      "tensor(13.6804)\n",
      "Tau: 0.3333333333333333\n",
      "tensor(13.9385)\n",
      "Tau: 0.4444444444444444\n",
      "tensor(13.9176)\n",
      "Tau: 0.5555555555555556\n",
      "tensor(13.7662)\n",
      "Tau: 0.6666666666666666\n",
      "tensor(13.8569)\n",
      "Tau: 0.7777777777777777\n",
      "tensor(13.6817)\n",
      "Tau: 0.8888888888888888\n",
      "tensor(14.0167)\n",
      "Tau: 1.0\n",
      "tensor(13.8706)\n"
     ]
    }
   ],
   "source": [
    "d_param = DirichletPriorOnRatesParam(concentration=0.01)\n",
    "Q0 = generate_transition_rate_matrix(d_param)\n",
    "Q1 = generate_transition_rate_matrix(d_param)\n",
    "X0 = torch.randint(1,d_param.num_states,(300,))\n",
    "TAU = np.linspace(0.,1.,10)\n",
    "\n",
    "time_grid = torch.arange(0,101,1,dtype=float)\n",
    "paths0,times0 = gillespie(X0,Q0,number_of_times=100)\n",
    "paths0_grid,arrivals0 = states_at_grid(paths1.unsqueeze(-1), times0, time_grid)\n",
    "paths0_grid = paths0_grid.squeeze()\n",
    "histograms_on_time_0 = count_values_along_time(paths0_grid, d_param.num_states)\n",
    "number_of_time_steps = histograms_on_time_0.shape[0]\n",
    "\n",
    "for tau in TAU:\n",
    "    print(f\"Tau: {tau}\")\n",
    "    Q_tau = interpolation_tau*Q0 + (1.-interpolation_tau)*Q1\n",
    "    paths1,times1 = gillespie(X0,Q_tau,number_of_times=100)\n",
    "\n",
    "    # set everything in a grid\n",
    "    paths1_grid,arrivals1 = states_at_grid(paths1.unsqueeze(-1), times0, time_grid)\n",
    "    paths1_grid = paths1_grid.squeeze()\n",
    "\n",
    "    histograms_on_time_1 = count_values_along_time(paths1_grid, d_param.num_states)\n",
    "    histograms_on_time_1 = histograms_on_time_1/paths1_grid.shape[0]\n",
    "\n",
    "    transport_over_time = get_trasport_over_time(histograms_on_time_0,histograms_on_time_1)\n",
    "    print(transport_over_time.mean())"
   ]
  },
  {
   "cell_type": "markdown",
   "metadata": {},
   "source": []
  },
  {
   "cell_type": "code",
   "execution_count": null,
   "metadata": {},
   "outputs": [
    {
     "data": {
      "image/png": "[encoded data removed]",
      "text/plain": [
       "<Figure size 1200x500 with 2 Axes>"
      ]
     },
     "metadata": {},
     "output_type": "display_data"
    }
   ],
   "source": [
    "# Plot the results\n",
    "fig, ax = plt.subplots(1, 2, figsize=(12, 5))\n",
    "\n",
    "# Plot cost matrix\n",
    "ax[0].imshow(C, interpolation='nearest')\n",
    "ax[0].set_title('Cost matrix $C$')\n",
    "ax[0].set_xlabel('Distribution $b$')\n",
    "ax[0].set_ylabel('Distribution $a$')\n",
    "\n",
    "# Plot optimal transport matrix\n",
    "ax[1].imshow(P, interpolation='nearest')\n",
    "ax[1].set_title('Optimal transport matrix $P$')\n",
    "ax[1].set_xlabel('Distribution $b$')\n",
    "ax[1].set_ylabel('Distribution $a$')\n",
    "\n",
    "plt.tight_layout()\n",
    "plt.show()"
   ]
  },
  {
   "cell_type": "code",
   "execution_count": null,
   "metadata": {},
   "outputs": [],
   "source": []
  }
 ],
 "metadata": {
  "kernelspec": {
   "display_name": "rate_matching",
   "language": "python",
   "name": "python3"
  },
  "language_info": {
   "codemirror_mode": {
    "name": "ipython",
    "version": 3
   },
   "file_extension": ".py",
   "mimetype": "text/x-python",
   "name": "python",
   "nbconvert_exporter": "python",
   "pygments_lexer": "ipython3",
   "version": "3.10.9"
  }
 },
 "nbformat": 4,
 "nbformat_minor": 2
}

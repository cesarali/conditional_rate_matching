{
 "cells": [
  {
   "cell_type": "code",
   "execution_count": 1,
   "metadata": {},
   "outputs": [],
   "source": [
    "import os\n",
    "import sys\n",
    "\n",
    "import numpy as np \n",
    "from matplotlib import pyplot as plt"
   ]
  },
  {
   "cell_type": "markdown",
   "metadata": {},
   "source": [
    "# Binary Trees"
   ]
  },
  {
   "cell_type": "code",
   "execution_count": 6,
   "metadata": {},
   "outputs": [],
   "source": [
    "class TreeNode:\n",
    "    def __init__(self, key):\n",
    "        self.left = None\n",
    "        self.right = None\n",
    "        self.val = key\n",
    "\n",
    "class BinaryTree:\n",
    "    def __init__(self):\n",
    "        self.root = None\n",
    "\n",
    "    def insert(self, key):\n",
    "        if self.root is None:\n",
    "            self.root = TreeNode(key)\n",
    "        else:\n",
    "            self._insert(self.root, key)\n",
    "\n",
    "    def _insert(self, node, key):\n",
    "        if key < node.val:\n",
    "            if node.left is None:\n",
    "                node.left = TreeNode(key)\n",
    "            else:\n",
    "                self._insert(node.left, key)\n",
    "        else:\n",
    "            if node.right is None:\n",
    "                node.right = TreeNode(key)\n",
    "            else:\n",
    "                self._insert(node.right, key)\n",
    "\n",
    "    def search(self, key):\n",
    "        return self._search(self.root, key)\n",
    "\n",
    "    def _search(self, node, key):\n",
    "        if node is None:\n",
    "            return False\n",
    "        elif node.val == key:\n",
    "            return True\n",
    "        elif key < node.val:\n",
    "            return self._search(node.left, key)\n",
    "        else:\n",
    "            return self._search(node.right, key)\n",
    "\n",
    "    def inorder_traversal(self, node):\n",
    "        result = []\n",
    "        if node:\n",
    "            result = self.inorder_traversal(node.left)\n",
    "            result.append(node.val)\n",
    "            result += self.inorder_traversal(node.right)\n",
    "        return result"
   ]
  },
  {
   "cell_type": "code",
   "execution_count": 7,
   "metadata": {},
   "outputs": [
    {
     "name": "stdout",
     "output_type": "stream",
     "text": [
      "Search for 4: True\n",
      "Inorder Traversal: [1, 2, 3, 4]\n"
     ]
    }
   ],
   "source": [
    "# Example usage\n",
    "bt = BinaryTree()\n",
    "bt.insert(3)\n",
    "bt.insert(1)\n",
    "bt.insert(4)\n",
    "bt.insert(2)\n",
    "print(\"Search for 4:\", bt.search(4))\n",
    "print(\"Inorder Traversal:\", bt.inorder_traversal(bt.root))"
   ]
  },
  {
   "cell_type": "markdown",
   "metadata": {},
   "source": [
    "# Sorting"
   ]
  },
  {
   "cell_type": "code",
   "execution_count": 3,
   "metadata": {},
   "outputs": [],
   "source": [
    "def merge_sort(arr):\n",
    "    if len(arr) > 1:\n",
    "        mid = len(arr) // 2  # Finding the mid of the array\n",
    "        L = arr[:mid]  # Dividing the elements into 2 halves\n",
    "        R = arr[mid:]\n",
    "\n",
    "        merge_sort(L)  # Sorting the first half\n",
    "        merge_sort(R)  # Sorting the second half\n",
    "\n",
    "        i = j = k = 0\n",
    "\n",
    "        # Copy data to temp arrays L[] and R[]\n",
    "        while i < len(L) and j < len(R):\n",
    "            if L[i] < R[j]:\n",
    "                arr[k] = L[i]\n",
    "                i += 1\n",
    "            else:\n",
    "                arr[k] = R[j]\n",
    "                j += 1\n",
    "            k += 1\n",
    "\n",
    "        # Checking if any element was left\n",
    "        while i < len(L):\n",
    "            arr[k] = L[i]\n",
    "            i += 1\n",
    "            k += 1\n",
    "\n",
    "        while j < len(R):\n",
    "            arr[k] = R[j]\n",
    "            j += 1\n",
    "            k += 1\n",
    "\n",
    "    return arr"
   ]
  },
  {
   "cell_type": "code",
   "execution_count": 4,
   "metadata": {},
   "outputs": [
    {
     "name": "stdout",
     "output_type": "stream",
     "text": [
      "Sorted Array (Merge Sort): [3, 9, 10, 27, 38, 43, 82]\n"
     ]
    }
   ],
   "source": [
    "# Example usage\n",
    "sample_array = [38, 27, 43, 3, 9, 82, 10]\n",
    "sorted_array = merge_sort(sample_array)\n",
    "print(\"Sorted Array (Merge Sort):\", sorted_array)\n"
   ]
  },
  {
   "cell_type": "code",
   "execution_count": null,
   "metadata": {},
   "outputs": [],
   "source": [
    "def quick_sort(arr):\n",
    "    if len(arr) <= 1:\n",
    "        return arr\n",
    "    else:\n",
    "        pivot = arr[len(arr) // 2]\n",
    "        left = [x for x in arr if x < pivot]\n",
    "        middle = [x for x in arr if x == pivot]\n",
    "        right = [x for x in arr if x > pivot]\n",
    "        return quick_sort(left) + middle + quick_sort(right)"
   ]
  },
  {
   "cell_type": "code",
   "execution_count": null,
   "metadata": {},
   "outputs": [],
   "source": [
    "# Example usage\n",
    "sample_array = [34, 7, 23, 32, 5, 62, 78]\n",
    "sorted_array = quick_sort(sample_array)\n",
    "print(\"Sorted Array (Quick Sort):\", sorted_array)"
   ]
  },
  {
   "cell_type": "markdown",
   "metadata": {},
   "source": [
    "# Linked List"
   ]
  },
  {
   "cell_type": "code",
   "execution_count": 5,
   "metadata": {},
   "outputs": [],
   "source": [
    "class Node:\n",
    "    def __init__(self, value):\n",
    "        self.value = value\n",
    "        self.next = None\n",
    "\n",
    "class LinkedList:\n",
    "    def __init__(self):\n",
    "        self.head = None\n",
    "\n",
    "    def append(self, value):\n",
    "        \"\"\" Append a new element to the end of the list. \"\"\"\n",
    "        if not self.head:\n",
    "            self.head = Node(value)\n",
    "        else:\n",
    "            current = self.head\n",
    "            while current.next:\n",
    "                current = current.next\n",
    "            current.next = Node(value)\n",
    "\n",
    "    def display(self):\n",
    "        \"\"\" Display all the elements of the list. \"\"\"\n",
    "        elements = []\n",
    "        current = self.head\n",
    "        while current:\n",
    "            elements.append(current.value)\n",
    "            current = current.next\n",
    "        return elements\n",
    "\n",
    "    def reverse(self):\n",
    "        \"\"\" Reverse the linked list. \"\"\"\n",
    "        previous = None\n",
    "        current = self.head\n",
    "        while current:\n",
    "            next_node = current.next\n",
    "            current.next = previous\n",
    "            previous = current\n",
    "            current = next_node\n",
    "        self.head = previous"
   ]
  },
  {
   "cell_type": "code",
   "execution_count": null,
   "metadata": {},
   "outputs": [],
   "source": [
    "# Example usage\n",
    "ll = LinkedList()\n",
    "ll.append(1)\n",
    "ll.append(2)\n",
    "ll.append(3)\n",
    "print(\"Original Linked List:\", ll.display())\n",
    "\n",
    "ll.reverse()\n",
    "print(\"Reversed Linked List:\", ll.display())"
   ]
  },
  {
   "cell_type": "code",
   "execution_count": null,
   "metadata": {},
   "outputs": [],
   "source": []
  },
  {
   "cell_type": "markdown",
   "metadata": {},
   "source": [
    "# Read Data"
   ]
  },
  {
   "cell_type": "code",
   "execution_count": 8,
   "metadata": {},
   "outputs": [],
   "source": [
    "def parse_data(file_path):\n",
    "    with open(file_path, 'r') as file:\n",
    "        data = file.read()\n",
    "    # Further processing based on file format\n",
    "    return data\n",
    "# Example usage could be to open and read a CSV or a JSON file.\n"
   ]
  },
  {
   "cell_type": "code",
   "execution_count": null,
   "metadata": {},
   "outputs": [],
   "source": [
    "import numpy as np\n",
    "\n",
    "def normalize_data(data):\n",
    "    normalized = (data - np.min(data)) / (np.max(data) - np.min(data))\n",
    "    return normalized\n",
    "\n",
    "# Example usage with a NumPy array\n"
   ]
  },
  {
   "cell_type": "code",
   "execution_count": null,
   "metadata": {},
   "outputs": [],
   "source": [
    "def generate_synthetic_data(num_samples, num_features):\n",
    "    return np.random.randn(num_samples, num_features)\n",
    "\n",
    "# Example usage to generate synthetic data for testing\n"
   ]
  },
  {
   "cell_type": "markdown",
   "metadata": {},
   "source": [
    "# NN"
   ]
  },
  {
   "cell_type": "code",
   "execution_count": null,
   "metadata": {},
   "outputs": [],
   "source": [
    "import torch\n",
    "import torch.nn as nn\n",
    "\n",
    "class SimpleNN(nn.Module):\n",
    "    def __init__(self):\n",
    "        super(SimpleNN, self).__init__()\n",
    "        self.layer1 = nn.Linear(10, 5)\n",
    "        self.relu = nn.ReLU()\n",
    "        self.layer2 = nn.Linear(5, 1)\n",
    "\n",
    "    def forward(self, x):\n",
    "        x = self.layer1(x)\n",
    "        x = self.relu(x)\n",
    "        x = self.layer2(x)\n",
    "        return x\n",
    "\n",
    "# Example usage to create and apply a model\n"
   ]
  },
  {
   "cell_type": "markdown",
   "metadata": {},
   "source": [
    "# Synthetic Data"
   ]
  },
  {
   "cell_type": "code",
   "execution_count": 10,
   "metadata": {},
   "outputs": [
    {
     "name": "stdout",
     "output_type": "stream",
     "text": [
      "Sample Normal Distribution Data: [-0.46428644 -0.94887717  1.31825815]\n",
      "Sample Uniform Distribution Data: [3.68094358 1.55527881 9.15211358]\n",
      "Sample Binomial Distribution Data: [6 6 2]\n",
      "Sample Poisson Distribution Data: [4 0 5]\n"
     ]
    }
   ],
   "source": [
    "import numpy as np\n",
    "\n",
    "def generate_synthetic_data(num_samples, distribution='normal', **kwargs):\n",
    "    \"\"\"\n",
    "    Generate synthetic data based on specified distribution.\n",
    "    \n",
    "    Parameters:\n",
    "    num_samples (int): Number of samples to generate.\n",
    "    distribution (str): Type of distribution ('normal', 'uniform', 'binomial', 'poisson').\n",
    "    **kwargs: Additional keyword arguments for distribution functions.\n",
    "\n",
    "    Returns:\n",
    "    np.array: Array of synthetic data samples.\n",
    "    \"\"\"\n",
    "    if distribution == 'normal':\n",
    "        mean = kwargs.get('mean', 0)  # Default mean is 0\n",
    "        std = kwargs.get('std', 1)    # Default standard deviation is 1\n",
    "        return np.random.normal(mean, std, num_samples)\n",
    "    elif distribution == 'uniform':\n",
    "        low = kwargs.get('low', 0)    # Default lower bound is 0\n",
    "        high = kwargs.get('high', 1)  # Default upper bound is 1\n",
    "        return np.random.uniform(low, high, num_samples)\n",
    "    elif distribution == 'binomial':\n",
    "        n = kwargs.get('n', 10)       # Default number of trials\n",
    "        p = kwargs.get('p', 0.5)      # Default probability of success\n",
    "        return np.random.binomial(n, p, num_samples)\n",
    "    elif distribution == 'poisson':\n",
    "        lam = kwargs.get('lam', 1)    # Default lambda is 1\n",
    "        return np.random.poisson(lam, num_samples)\n",
    "    else:\n",
    "        raise ValueError(\"Unsupported distribution type. Choose from 'normal', 'uniform', 'binomial', 'poisson'.\")\n",
    "\n",
    "# Example usage\n",
    "normal_data = generate_synthetic_data(3, 'normal', mean=0, std=1)\n",
    "uniform_data = generate_synthetic_data(3, 'uniform', low=0, high=10)\n",
    "binomial_data = generate_synthetic_data(3, 'binomial', n=10, p=0.5)\n",
    "poisson_data = generate_synthetic_data(3, 'poisson', lam=3)\n",
    "\n",
    "print(\"Sample Normal Distribution Data:\", normal_data[:10])\n",
    "print(\"Sample Uniform Distribution Data:\", uniform_data[:10])\n",
    "print(\"Sample Binomial Distribution Data:\", binomial_data[:10])\n",
    "print(\"Sample Poisson Distribution Data:\", poisson_data[:10])\n"
   ]
  },
  {
   "cell_type": "markdown",
   "metadata": {},
   "source": [
    "# Numpy"
   ]
  },
  {
   "cell_type": "code",
   "execution_count": null,
   "metadata": {},
   "outputs": [],
   "source": [
    "import numpy as np\n",
    "\n",
    "# Create and reshape array\n",
    "arr = np.array([1, 2, 3, 4, 5])\n",
    "reshaped_arr = arr.reshape((1, 5))\n",
    "\n",
    "# Broadcasting and element-wise multiplication\n",
    "broadcasted_arr = arr + 5\n",
    "elementwise_product = arr * broadcasted_arr\n",
    "\n",
    "# Statistical analysis\n",
    "mean_val = np.mean(arr)\n",
    "std_dev = np.std(arr)\n",
    "\n",
    "# Matrix operations\n",
    "a = np.array([[1, 2], [3, 4]])\n",
    "b = np.array([[2, 0], [1, 2]])\n",
    "matrix_product = np.dot(a, b)\n",
    "\n",
    "# Handling missing values and sorting\n",
    "arr_with_nan = np.array([1, 2, np.nan, 4, 5])\n",
    "filled_arr = np.nan_to_num(arr_with_nan, nan=0)\n",
    "sorted_arr = np.sort(filled_arr)\n",
    "\n",
    "print(\"Reshaped Array:\", reshaped_arr)\n",
    "print(\"Broadcasted Array:\", broadcasted_arr)\n",
    "print(\"Element-wise Product:\", elementwise_product)\n",
    "print(\"Mean:\", mean_val, \"Standard Deviation:\", std_dev)\n",
    "print(\"Matrix Product:\\n\", matrix_product)\n",
    "print(\"Filled Array:\", filled_arr)\n",
    "print(\"Sorted Array:\", sorted_arr)\n"
   ]
  },
  {
   "cell_type": "code",
   "execution_count": 11,
   "metadata": {},
   "outputs": [
    {
     "name": "stdout",
     "output_type": "stream",
     "text": [
      "Gathered Elements: [4 3 6]\n",
      "Filtered Elements (b > 5): [8 9 6]\n",
      "Concatenated Array: [4 3 5 7 6 8 2 5 1 8 9 6]\n",
      "Vertically Stacked Array:\n",
      " [[4 3 5 7 6 8]\n",
      " [2 5 1 8 9 6]]\n",
      "Fancy Indexed Elements: [5 7 8]\n"
     ]
    }
   ],
   "source": [
    "import numpy as np\n",
    "\n",
    "# Create arrays\n",
    "a = np.array([4, 3, 5, 7, 6, 8])\n",
    "b = np.array([2, 5, 1, 8, 9, 6])\n",
    "\n",
    "# Gather elements\n",
    "indices = [0, 1, 4]\n",
    "gathered_elements = np.take(a, indices)\n",
    "\n",
    "# Filter using Boolean indexing\n",
    "filtered_b = b[b > 5]\n",
    "\n",
    "# Concatenate and stack arrays\n",
    "c = np.concatenate((a, b))\n",
    "v_stack = np.vstack((a, b))\n",
    "\n",
    "# Use fancy indexing\n",
    "fancy_elements = a[[2, 3, 5]]\n",
    "\n",
    "# Display results\n",
    "print(\"Gathered Elements:\", gathered_elements)\n",
    "print(\"Filtered Elements (b > 5):\", filtered_b)\n",
    "print(\"Concatenated Array:\", c)\n",
    "print(\"Vertically Stacked Array:\\n\", v_stack)\n",
    "print(\"Fancy Indexed Elements:\", fancy_elements)\n"
   ]
  },
  {
   "cell_type": "code",
   "execution_count": null,
   "metadata": {},
   "outputs": [],
   "source": []
  },
  {
   "cell_type": "code",
   "execution_count": null,
   "metadata": {},
   "outputs": [],
   "source": []
  }
 ],
 "metadata": {
  "kernelspec": {
   "display_name": "rate_matching",
   "language": "python",
   "name": "python3"
  },
  "language_info": {
   "codemirror_mode": {
    "name": "ipython",
    "version": 3
   },
   "file_extension": ".py",
   "mimetype": "text/x-python",
   "name": "python",
   "nbconvert_exporter": "python",
   "pygments_lexer": "ipython3",
   "version": "3.10.9"
  }
 },
 "nbformat": 4,
 "nbformat_minor": 2
}

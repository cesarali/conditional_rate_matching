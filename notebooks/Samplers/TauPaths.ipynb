{
 "cells": [
  {
   "cell_type": "code",
   "execution_count": 1,
   "id": "eef7e3bb",
   "metadata": {},
   "outputs": [],
   "source": [
    "import os\n",
    "import sys\n",
    "import torch\n",
    "\n",
    "from conditional_rate_matching.configs.config_crm import NistConfig\n",
    "\n",
    "from conditional_rate_matching.data.dataloaders_utils import get_dataloaders\n",
    "\n",
    "from conditional_rate_matching.utils.plots.images_plots import plot_sample\n",
    "from conditional_rate_matching.models.generative_models.crm import constant_rate\n",
    "from conditional_rate_matching.models.generative_models.crm import conditional_transition_rate\n",
    "\n",
    "from conditional_rate_matching.models.pipelines.samplers import TauLeaping\n",
    "from conditional_rate_matching.models.pipelines.samplers_utils import paths_iterators"
   ]
  },
  {
   "cell_type": "code",
   "execution_count": 2,
   "id": "b9431de4",
   "metadata": {},
   "outputs": [],
   "source": [
    "# config = Config()\n",
    "config = NistConfig()\n",
    "config.batch_size = 64\n",
    "\n",
    "# =====================================================\n",
    "# DATA STUFF\n",
    "# =====================================================\n",
    "dataloader_0,dataloader_1 = get_dataloaders(config)\n",
    "\n",
    "databatch_0,databatch_1 = next(zip(dataloader_0,dataloader_1).__iter__())\n",
    "x_0 = databatch_0[0]\n",
    "x_1 = databatch_1[0]\n",
    "\n",
    "#rate_model = lambda x, t: constant_rate(config, x, t)\n",
    "rate_model = lambda x, t: conditional_transition_rate(config, x, x_1, t)\n",
    "#x_f,x_hist,x0_hist,ts = TauLeaping(config, rate_model, x_0, forward=True,return_path=True)\n",
    "\n",
    "#plot_sample(x_0)"
   ]
  },
  {
   "cell_type": "code",
   "execution_count": 3,
   "id": "4e626d7d",
   "metadata": {},
   "outputs": [
    {
     "name": "stderr",
     "output_type": "stream",
     "text": [
      "20it [00:00, 137.12it/s]"
     ]
    },
    {
     "name": "stdout",
     "output_type": "stream",
     "text": [
      "torch.Size([64, 10, 784])\n"
     ]
    },
    {
     "name": "stderr",
     "output_type": "stream",
     "text": [
      "\n"
     ]
    }
   ],
   "source": [
    "for x_path,ts in paths_iterators(config,dataloader_0,rate_model,train=True):\n",
    "    print(x_path.shape)\n",
    "    break"
   ]
  },
  {
   "cell_type": "code",
   "execution_count": 4,
   "id": "cdfcd057",
   "metadata": {},
   "outputs": [],
   "source": [
    "\n"
   ]
  },
  {
   "cell_type": "code",
   "execution_count": 9,
   "id": "5de3870a",
   "metadata": {},
   "outputs": [
    {
     "data": {
      "text/plain": [
       "torch.Size([64, 21])"
      ]
     },
     "execution_count": 9,
     "metadata": {},
     "output_type": "execute_result"
    }
   ],
   "source": [
    ".shape"
   ]
  },
  {
   "cell_type": "code",
   "execution_count": null,
   "id": "44fdc4c7",
   "metadata": {},
   "outputs": [],
   "source": []
  }
 ],
 "metadata": {
  "kernelspec": {
   "display_name": "Python 3 (ipykernel)",
   "language": "python",
   "name": "python3"
  },
  "language_info": {
   "codemirror_mode": {
    "name": "ipython",
    "version": 3
   },
   "file_extension": ".py",
   "mimetype": "text/x-python",
   "name": "python",
   "nbconvert_exporter": "python",
   "pygments_lexer": "ipython3",
   "version": "3.10.9"
  }
 },
 "nbformat": 4,
 "nbformat_minor": 5
}

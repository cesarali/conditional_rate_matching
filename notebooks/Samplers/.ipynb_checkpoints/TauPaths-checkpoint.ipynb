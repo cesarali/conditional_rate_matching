{
 "cells": [
  {
   "cell_type": "code",
   "execution_count": 3,
   "id": "eef7e3bb",
   "metadata": {},
   "outputs": [],
   "source": [
    "import os\n",
    "import sys\n",
    "import torch\n",
    "\n",
    "from conditional_rate_matching.configs.config_crm import NistConfig\n",
    "\n",
    "from conditional_rate_matching.data.dataloaders_utils import get_dataloaders\n",
    "\n",
    "from conditional_rate_matching.utils.plots.images_plots import plot_sample\n",
    "from conditional_rate_matching.models.generative_models.crm import constant_rate\n",
    "from conditional_rate_matching.models.generative_models.crm import conditional_transition_rate\n",
    "\n",
    "from conditional_rate_matching"
   ]
  },
  {
   "cell_type": "code",
   "execution_count": 4,
   "id": "b9431de4",
   "metadata": {},
   "outputs": [
    {
     "ename": "NameError",
     "evalue": "name 'TauLeaping' is not defined",
     "output_type": "error",
     "traceback": [
      "\u001b[1;31m---------------------------------------------------------------------------\u001b[0m",
      "\u001b[1;31mNameError\u001b[0m                                 Traceback (most recent call last)",
      "Cell \u001b[1;32mIn[4], line 17\u001b[0m\n\u001b[0;32m     15\u001b[0m \u001b[38;5;66;03m#rate_model = lambda x, t: constant_rate(config, x, t)\u001b[39;00m\n\u001b[0;32m     16\u001b[0m rate_model \u001b[38;5;241m=\u001b[39m \u001b[38;5;28;01mlambda\u001b[39;00m x, t: conditional_transition_rate(config, x, x_1, t)\n\u001b[1;32m---> 17\u001b[0m x_f, x_hist, x0_hist \u001b[38;5;241m=\u001b[39m \u001b[43mTauLeaping\u001b[49m(config, rate_model, x_0, forward\u001b[38;5;241m=\u001b[39m\u001b[38;5;28;01mTrue\u001b[39;00m)\n\u001b[0;32m     19\u001b[0m \u001b[38;5;66;03m#plot_sample(x_0)\u001b[39;00m\n",
      "\u001b[1;31mNameError\u001b[0m: name 'TauLeaping' is not defined"
     ]
    }
   ],
   "source": [
    "# config = Config()\n",
    "config = NistConfig()\n",
    "config.batch_size = 64\n",
    "\n",
    "# =====================================================\n",
    "# DATA STUFF\n",
    "# =====================================================\n",
    "dataloader_0,dataloader_1 = get_dataloaders(config)\n",
    "\n",
    "\n",
    "databatch_0,databatch_1 = next(zip(dataloader_0,dataloader_1).__iter__())\n",
    "x_0 = databatch_0[0]\n",
    "x_1 = databatch_1[0]\n",
    "\n",
    "#rate_model = lambda x, t: constant_rate(config, x, t)\n",
    "rate_model = lambda x, t: conditional_transition_rate(config, x, x_1, t)\n",
    "x_f, x_hist, x0_hist = TauLeaping(config, rate_model, x_0, forward=True)\n",
    "\n",
    "#plot_sample(x_0)\n"
   ]
  },
  {
   "cell_type": "code",
   "execution_count": null,
   "id": "4e626d7d",
   "metadata": {},
   "outputs": [],
   "source": [
    "plot_sample(x_f)"
   ]
  },
  {
   "cell_type": "code",
   "execution_count": null,
   "id": "cdfcd057",
   "metadata": {},
   "outputs": [],
   "source": []
  },
  {
   "cell_type": "code",
   "execution_count": null,
   "id": "5de3870a",
   "metadata": {},
   "outputs": [],
   "source": []
  },
  {
   "cell_type": "code",
   "execution_count": null,
   "id": "44fdc4c7",
   "metadata": {},
   "outputs": [],
   "source": []
  }
 ],
 "metadata": {
  "kernelspec": {
   "display_name": "Python 3 (ipykernel)",
   "language": "python",
   "name": "python3"
  },
  "language_info": {
   "codemirror_mode": {
    "name": "ipython",
    "version": 3
   },
   "file_extension": ".py",
   "mimetype": "text/x-python",
   "name": "python",
   "nbconvert_exporter": "python",
   "pygments_lexer": "ipython3",
   "version": "3.10.9"
  }
 },
 "nbformat": 4,
 "nbformat_minor": 5
}
